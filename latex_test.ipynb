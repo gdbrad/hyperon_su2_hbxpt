{
 "cells": [
  {
   "cell_type": "code",
   "execution_count": 1,
   "metadata": {},
   "outputs": [],
   "source": [
    "import parse_latex as parse\n",
    "import re\n"
   ]
  },
  {
   "cell_type": "code",
   "execution_count": 2,
   "metadata": {},
   "outputs": [
    {
     "name": "stdout",
     "output_type": "stream",
     "text": [
      "[]\n"
     ]
    },
    {
     "ename": "IndexError",
     "evalue": "list index out of range",
     "output_type": "error",
     "traceback": [
      "\u001b[0;31m---------------------------------------------------------------------------\u001b[0m",
      "\u001b[0;31mIndexError\u001b[0m                                Traceback (most recent call last)",
      "Cell \u001b[0;32mIn[2], line 54\u001b[0m\n\u001b[1;32m     51\u001b[0m             data\u001b[39m.\u001b[39msetdefault(name, [])\u001b[39m.\u001b[39mappend(value)\n\u001b[1;32m     53\u001b[0m     \u001b[39mreturn\u001b[39;00m data\n\u001b[0;32m---> 54\u001b[0m parse_latex_table(\u001b[39m'\u001b[39;49m\u001b[39mamy_fits.tex\u001b[39;49m\u001b[39m'\u001b[39;49m)\n",
      "Cell \u001b[0;32mIn[2], line 35\u001b[0m, in \u001b[0;36mparse_latex_table\u001b[0;34m(file_path)\u001b[0m\n\u001b[1;32m     32\u001b[0m data \u001b[39m=\u001b[39m {}\n\u001b[1;32m     34\u001b[0m \u001b[39m# iterate over the rows in the table body\u001b[39;00m\n\u001b[0;32m---> 35\u001b[0m \u001b[39mfor\u001b[39;00m row \u001b[39min\u001b[39;00m table_body[\u001b[39m0\u001b[39;49m]\u001b[39m.\u001b[39mstrip()\u001b[39m.\u001b[39msplit(\u001b[39m'\u001b[39m\u001b[39m\\n\u001b[39;00m\u001b[39m'\u001b[39m):\n\u001b[1;32m     36\u001b[0m     \u001b[39m# remove any unwanted characters from the row\u001b[39;00m\n\u001b[1;32m     37\u001b[0m     row \u001b[39m=\u001b[39m re\u001b[39m.\u001b[39msub(\u001b[39mr\u001b[39m\u001b[39m'\u001b[39m\u001b[39m(\u001b[39m\u001b[39m\\\u001b[39m\u001b[39m$|\u001b[39m\u001b[39m\\\u001b[39m\u001b[39m{\u001b[39m\u001b[39m|\u001b[39m\u001b[39m\\\u001b[39m\u001b[39m}|\u001b[39m\u001b[39m\\\u001b[39m\u001b[39m(|\u001b[39m\u001b[39m\\\u001b[39m\u001b[39m))\u001b[39m\u001b[39m'\u001b[39m, \u001b[39m'\u001b[39m\u001b[39m'\u001b[39m, row)\n\u001b[1;32m     39\u001b[0m     \u001b[39m# split the row into cells\u001b[39;00m\n",
      "\u001b[0;31mIndexError\u001b[0m: list index out of range"
     ]
    }
   ],
   "source": [
    "import re\n",
    "import pandas as pd\n",
    "from tabulate import tabulate\n",
    "from fpdf import FPDF\n",
    "\n",
    "# Define a regular expression pattern to extract the e0 values\n",
    "pattern = r'\\d+\\.\\d+'  # assumes e0 values are decimal numbers\n",
    "\n",
    "# Read the LaTeX table from a file\n",
    "with open('table.tex', 'r') as f:\n",
    "    table_tex = f.read()\n",
    "\n",
    "# Extract the e0 values from the table\n",
    "e0_values = []\n",
    "for line in table_tex.split('\\n'):\n",
    "    if '_{E0}' in line:\n",
    "        match = re.search(pattern, line)\n",
    "        if match:\n",
    "            e0_values.append(float(match.group()))\n",
    "\n",
    "# Create a new table with the e0 values\n",
    "baryons = ['proton', 'neutron', 'lambda', 'sigma', 'xi', 'omega']\n",
    "ensembles = ['A15', 'B25', 'C35']\n",
    "data = []\n",
    "for baryon in baryons:\n",
    "    row = [baryon]\n",
    "    for ensemble in ensembles:\n",
    "        e0 = e0_values.pop(0)\n",
    "        row.append(e0)\n",
    "    data.append(row)\n",
    "\n",
    "# Convert the table to a pandas DataFrame and format it\n",
    "df = pd.DataFrame(data, columns=['Baryon'] + ensembles)\n",
    "df.set_index('Baryon', inplace=True)\n",
    "table_str = tabulate(df, headers='keys', tablefmt='pipe')\n",
    "\n",
    "# Create a PDF document and add the table to it\n",
    "pdf = FPDF()\n",
    "pdf.add_page()\n",
    "pdf.set_font('Arial', 'B', 16)\n",
    "pdf.cell(0, 10, 'e0 Values', 0, 1)\n",
    "pdf.cell(0, 10, ' ', 0, 1)\n",
    "pdf.set_font('Arial', '', 12)\n",
    "pdf.multi_cell(0, 10, table_str, 0, 1)\n",
    "pdf.output('e0_values.pdf')\n"
   ]
  },
  {
   "cell_type": "code",
   "execution_count": null,
   "metadata": {},
   "outputs": [
    {
     "name": "stdout",
     "output_type": "stream",
     "text": [
      "None\n",
      "None\n",
      "None\n",
      "None\n",
      "None\n",
      "None\n",
      "None\n",
      "None\n",
      "None\n",
      "None\n",
      "None\n",
      "None\n",
      "None\n",
      "None\n",
      "None\n",
      "None\n",
      "None\n",
      "None\n",
      "None\n",
      "None\n",
      "None\n",
      "None\n",
      "None\n",
      "None\n",
      "None\n",
      "None\n",
      "None\n",
      "None\n",
      "None\n",
      "None\n",
      "None\n",
      "None\n",
      "None\n",
      "None\n",
      "None\n",
      "None\n",
      "None\n",
      "None\n",
      "None\n",
      "None\n",
      "None\n",
      "None\n",
      "None\n",
      "None\n",
      "None\n",
      "None\n",
      "None\n",
      "None\n",
      "None\n",
      "None\n",
      "None\n",
      "None\n",
      "None\n",
      "None\n",
      "None\n",
      "None\n",
      "None\n",
      "None\n",
      "None\n",
      "None\n",
      "None\n",
      "None\n",
      "None\n",
      "None\n",
      "None\n",
      "None\n",
      "None\n",
      "None\n",
      "None\n",
      "None\n",
      "None\n"
     ]
    },
    {
     "data": {
      "text/plain": [
       "{}"
      ]
     },
     "execution_count": 3,
     "metadata": {},
     "output_type": "execute_result"
    }
   ],
   "source": [
    "import re\n",
    "\n",
    "# Define the regular expression pattern to match the table rows\n",
    "row_pattern = re.compile(r'^[a-zA-Z0-9\\-\\s&]+&\\s*(?P<E0>[0-9\\.]+)\\s*\\\\\\\\$')\n",
    "\n",
    "# Define the dictionary to hold the E0 values\n",
    "e0_dict = {}\n",
    "\n",
    "# Open the file and read its contents\n",
    "with open('amy_fits.tex', 'r') as f:\n",
    "    contents = f.read()\n",
    "\n",
    "    # Split the contents into lines and iterate over them\n",
    "    for line in contents.split('\\n'):\n",
    "        # Use the row pattern to match each row\n",
    "        match = row_pattern.match(line)\n",
    "        print(match)\n",
    "\n",
    "        if match:\n",
    "            # If the row matches, extract the E0 value and the baryon name\n",
    "            e0_value = float(match.group('N_E0'))\n",
    "            baryon_name = line.split('&')[0].strip()\n",
    "\n",
    "            # If the baryon name is already in the dictionary, append the E0 value\n",
    "            if baryon_name in e0_dict:\n",
    "                e0_dict[baryon_name].append(e0_value)\n",
    "            # If the baryon name is not yet in the dictionary, create a new list with the E0 value\n",
    "            else:\n",
    "                e0_dict[baryon_name] = [e0_value]\n",
    "\n",
    "e0_dict\n"
   ]
  },
  {
   "cell_type": "code",
   "execution_count": null,
   "metadata": {},
   "outputs": [
    {
     "data": {
      "text/plain": [
       "{}"
      ]
     },
     "execution_count": 4,
     "metadata": {},
     "output_type": "execute_result"
    }
   ],
   "source": [
    "parse.extract_data_('/home/gmoney/lqcd/hyperon-xpt-master/amy_fits.tex')\n"
   ]
  }
 ],
 "metadata": {
  "kernelspec": {
   "display_name": "Python 3",
   "language": "python",
   "name": "python3"
  },
  "language_info": {
   "codemirror_mode": {
    "name": "ipython",
    "version": 3
   },
   "file_extension": ".py",
   "mimetype": "text/x-python",
   "name": "python",
   "nbconvert_exporter": "python",
   "pygments_lexer": "ipython3",
   "version": "3.10.9"
  },
  "orig_nbformat": 4
 },
 "nbformat": 4,
 "nbformat_minor": 2
}

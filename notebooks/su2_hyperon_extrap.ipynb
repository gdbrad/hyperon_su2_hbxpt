{
 "cells": [
  {
   "cell_type": "code",
   "execution_count": 1,
   "metadata": {
    "tags": []
   },
   "outputs": [
    {
     "name": "stdout",
     "output_type": "stream",
     "text": [
      "/home/gmoney/lqcd/hyperon-xpt-master\n"
     ]
    }
   ],
   "source": [
    "import os\n",
    "import sys\n",
    "from pathlib import Path\n",
    "import warnings\n",
    "import matplotlib\n",
    "from matplotlib.backends.backend_pdf import PdfPages\n",
    "import matplotlib.pyplot as plt\n",
    "import yaml\n",
    "import importlib\n",
    "import numpy as np\n",
    "import gvar as gv\n",
    "import platform\n",
    "import pprint\n",
    "# import lsqfitics\n",
    "cwd = Path(os.getcwd())\n",
    "# Assuming your notebook is in the project root, set the project root as cwd\n",
    "project_root = cwd.parent\n",
    "print(project_root)\n",
    "# If your notebook is in a subdirectory of the project root, you can modify the path accordingly:\n",
    "# project_root = cwd.parent  # Go up one directory level\n",
    "# project_root = cwd.parent.parent  # Go up two directory levels\n",
    "# Add the project root directory to sys.path\n",
    "sys.path.insert(0, str(project_root))\n",
    "# sys.path.append('../')\n",
    "\n",
    "# local imports \n",
    "import xpt.fit_analysis as xfa\n",
    "import xpt.priors as priors\n",
    "import xpt.i_o as i_o\n",
    "import xpt.fit_routine as fit\n",
    "import xpt.plots as plots\n",
    "warnings.simplefilter(action=\"default\")\n",
    "warnings.filterwarnings('ignore')\n",
    "# Define paths and other variables\n",
    "if platform.system() == 'Darwin':\n",
    "    base_dir = '/Users/grantdb/lqcd'\n",
    "else:\n",
    "    base_dir = '/home/gmoney/lqcd'\n",
    "\n",
    "data_dir = os.path.join(base_dir, \"data\")\n",
    "hyperon_data_file = os.path.join(data_dir,\"hyperon_data.h5\")\n"
   ]
  },
  {
   "cell_type": "code",
   "execution_count": 2,
   "metadata": {},
   "outputs": [
    {
     "data": {
      "text/plain": [
       "<module 'xpt.priors' from '/home/gmoney/lqcd/hyperon-xpt-master/xpt/priors.py'>"
      ]
     },
     "execution_count": 2,
     "metadata": {},
     "output_type": "execute_result"
    }
   ],
   "source": [
    "from importlib import reload\n",
    "reload(xfa)\n",
    "reload(i_o)\n",
    "reload(fit)\n",
    "reload(priors)"
   ]
  },
  {
   "cell_type": "code",
   "execution_count": 3,
   "metadata": {},
   "outputs": [],
   "source": [
    "# gv.load('../scale_setting.p')\n",
    "with open('../xpt/models.yaml', 'r') as f:\n",
    "    models = yaml.load(f, Loader=yaml.FullLoader)\n",
    "xi_models = models['models']['xi_system']\n",
    "lam_sigma_models = models['models']['lam_sigma_system']"
   ]
  },
  {
   "attachments": {},
   "cell_type": "markdown",
   "metadata": {},
   "source": [
    "### perform hbxpt mass extrapolations using physical mass of hyperons in mev with scale setting parameterization ###"
   ]
  },
  {
   "cell_type": "code",
   "execution_count": 4,
   "metadata": {},
   "outputs": [],
   "source": [
    "\n",
    "prior = priors.get_prior(units='mev')\n",
    "prior_fpi = priors.get_prior(units='lam_chi')\n",
    "input_output = i_o.InputOutput(project_path=data_dir)\n",
    "data, ensembles = input_output.get_data(units='phys')\n",
    "data_units_fpi,ensembles = input_output.get_data(units='fpi')\n",
    "new_prior = input_output.make_prior(data=data,prior=prior)\n",
    "new_prior_fpi = input_output.make_prior(data=data_units_fpi,prior=prior_fpi)\n",
    "phys_point_data = input_output.get_data_phys_point()"
   ]
  },
  {
   "cell_type": "code",
   "execution_count": 5,
   "metadata": {},
   "outputs": [
    {
     "data": {
      "text/plain": [
       "{'m_lambda': array([1255(12), 1062(26), 1142(11), 1229(10), 1260(10), 1304(11),\n",
       "        1090(11), 1123.8(9.5), 1187.4(9.1), 1213.6(9.9), 1252.6(9.7),\n",
       "        1065(10), 1103.0(7.9), 1162.8(8.9), 1156.7(8.7), 1180.1(8.9),\n",
       "        1228.1(8.7)], dtype=object),\n",
       " 'm_sigma': array([1311(13), 1201(10), 1215(13), 1291(11), 1312(12), 1347(12),\n",
       "        1186.3(9.6), 1208.7(9.2), 1248.0(9.6), 1275.2(9.7), 1298(10),\n",
       "        1206(10), 1194.5(8.9), 1236.8(8.3), 1229.1(9.2), 1237.6(9.5),\n",
       "        1280.5(9.0)], dtype=object),\n",
       " 'm_sigma_st': array([1504(28), 1423(23), 1461(23), 1541(26), 1573(22), 1601(17),\n",
       "        1462(14), 1480(12), 1507(17), 1536(16), 1558(17), 1485(13),\n",
       "        1447(23), 1499(10), 1499(11), 1490(21), 1537(13)], dtype=object),\n",
       " 'm_xi_st': array([1643(18), 1527(16), 1563(19), 1620(21), 1631(27), 1671(15),\n",
       "        1535(13), 1555(12), 1581(13), 1599(14), 1622(13), 1528(11),\n",
       "        1518(13), 1557(10), 1554(11), 1555(13), 1584(13)], dtype=object),\n",
       " 'm_xi': array([1410(13), 1282(12), 1318(11), 1370(11), 1388(11), 1411(12),\n",
       "        1271.5(9.6), 1283(10), 1318.6(9.9), 1336(10), 1358(10),\n",
       "        1258.0(8.6), 1257.6(8.5), 1294.3(8.7), 1288.1(9.1), 1302.1(9.7),\n",
       "        1327.5(9.8)], dtype=object),\n",
       " 'm_pi': array([327.6(2.9), 134.5(1.1), 221.4(1.8), 318.4(2.6), 357.1(2.9),\n",
       "        409.4(3.3), 132.3(1.0), 219.3(1.6), 308.1(2.3), 349.5(2.6),\n",
       "        397.9(2.9), 134.67(90), 216.7(1.5), 309.9(2.1), 306.8(2.1),\n",
       "        347.8(2.3), 397.3(2.7)], dtype=object),\n",
       " 'm_k': array([561.8(5.0), 493.9(4.0), 517.0(4.2), 544.9(4.4), 558.3(4.5),\n",
       "        576.9(4.6), 493.9(3.6), 507.4(3.7), 529.9(3.9), 545.1(4.0),\n",
       "        561.3(4.1), 508.0(3.4), 507.3(3.4), 530.6(3.5), 529.5(3.5),\n",
       "        543.1(3.6), 560.5(3.7)], dtype=object),\n",
       " 'lam_chi': array([1320(12), 1158.7(9.7), 1213(10), 1294(11), 1323(11), 1374(11),\n",
       "        1169.7(8.8), 1210.1(9.2), 1263.9(9.5), 1294.2(9.9), 1333(10),\n",
       "        1175.2(8.0), 1199.6(8.1), 1243.8(8.4), 1251.5(8.6), 1266.0(8.6),\n",
       "        1305.8(8.9)], dtype=object),\n",
       " 'eps2_a': array([0.029618(41), 0.065325(70), 0.066506(83), 0.06877(16), 0.06998(19),\n",
       "        0.07160(20), 0.123786(95), 0.12594(12), 0.13008(23), 0.13214(20),\n",
       "        0.13446(16), 0.19514(12), 0.19737(28), 0.20368(32), 0.20416(25),\n",
       "        0.20706(48), 0.21168(56)], dtype=object),\n",
       " 'eps_pi': array([[0.24820680766453668, 0.2482580381033764, 0.24826553033429197,\n",
       "         ..., 0.24758575089167772, 0.24888398801004644,\n",
       "         0.24795419339193084],\n",
       "        [0.11604011500325578, 0.11567294076889688, 0.11628552547784306,\n",
       "         ..., 0.115861403953277, 0.11685861596497457, 0.11620135805745026],\n",
       "        [0.18247727130686484, 0.18202447377616723, 0.18231036658134278,\n",
       "         ..., 0.1825350696085911, 0.18205521239697536,\n",
       "         0.18179125845664937],\n",
       "        ...,\n",
       "        [0.24511895837994918, 0.24560435905960495, 0.2455820581607022,\n",
       "         ..., 0.2453493949246786, 0.24552166298812858,\n",
       "         0.24481781002970215],\n",
       "        [0.27468470913320464, 0.27281064365995555, 0.2739236850829086,\n",
       "         ..., 0.274170900817119, 0.2731966188745801, 0.27390496131926223],\n",
       "        [0.304283351627936, 0.3019595619376279, 0.3037105571838117, ...,\n",
       "         0.30364534797823706, 0.3036586478567581, 0.3032803275677038]],\n",
       "       dtype=object)}"
      ]
     },
     "execution_count": 5,
     "metadata": {},
     "output_type": "execute_result"
    }
   ],
   "source": [
    "data"
   ]
  },
  {
   "attachments": {},
   "cell_type": "markdown",
   "metadata": {},
   "source": [
    "## Xi, Xi* system in physical units with scale setting ## "
   ]
  },
  {
   "cell_type": "code",
   "execution_count": 6,
   "metadata": {},
   "outputs": [],
   "source": [
    "\n",
    "\n",
    "\n",
    "# # Create a figure with two subplots (one for each baryon 'xi' and 'xi_st')\n",
    "# fig, axes = plt.subplots(nrows=1, ncols=2, figsize=(12, 6))\n",
    "# axes[0].set_title(\"xi\")\n",
    "# axes[1].set_title(\"xi_st\")\n",
    "\n",
    "for mdl_key in xi_models:\n",
    "    model_info = xi_models[mdl_key]\n",
    "    extrap_analysis = xfa.Xpt_Fit_Analysis(verbose=True, phys_point_data=phys_point_data,\n",
    "                                data=data, model_info=model_info, prior=new_prior,project_path=data_dir)\n",
    "extrap_analysis.plot_model_mass_comparison(models=xi_models)\n",
    "    # Get the extrapolated masses and chi^2 value for the current model\n",
    "extrap_analysis.plot_params(xparam='mpi_sq',observable='xi',show_plot=True)\n",
    "    # extrap_analysis.plot_params(xparam='eps2_a',observables=['xi','xi_st'],show_plot=True,eps=False)\n",
    "# extrap_analysis.plot_params_fit(param='a',observable='xi',eps=False)\n",
    "# extrap_analysis.plot_params_fit(param='epi',observable='xi')\n",
    "\n",
    "'''model average with lsqfitics'''\n",
    "# y_fit_ = extrap_analysis.extrapolation()\n",
    "# print(y_fit_)\n",
    "\n",
    "\n",
    "\n",
    "\n",
    "\n"
   ]
  },
  {
   "attachments": {},
   "cell_type": "markdown",
   "metadata": {},
   "source": [
    "## Xi, Xi* system in fpi units without scale setting ## \n"
   ]
  },
  {
   "cell_type": "code",
   "execution_count": null,
   "metadata": {},
   "outputs": [],
   "source": [
    "model_info_fpi = xi_models['xi:xi_st:d_n2lo:l_n2lo:x_n2lo:fpi']\n",
    "# fpi units # \n",
    "xi_fit_fpi = fit.FitRoutine(prior=prior_fpi,data=data_units_fpi, project_path=data_dir,model_info=model_info_fpi,\n",
    "                    phys_point_data=phys_point_data, emp_bayes=None,empbayes_grouping=None)\n",
    "# print(xi_fit_fpi)\n",
    "# print(xi_fit_fpi.extrapolation(observables=['sigma_pi','mass'],data=phys_point_data))\n",
    "extrap_analysis_fpi = xfa.Xpt_Fit_Analysis(verbose=False, phys_point_data=phys_point_data,\n",
    "                                data=data_units_fpi, model_info=model_info_fpi, prior=new_prior_fpi,project_path=data_dir)\n",
    "print(extrap_analysis_fpi)\n",
    "\n"
   ]
  },
  {
   "attachments": {},
   "cell_type": "markdown",
   "metadata": {},
   "source": [
    "### Lambda, Sigma, Sigma_star SU(2) hbxpt extrapolation\n"
   ]
  },
  {
   "cell_type": "code",
   "execution_count": null,
   "metadata": {},
   "outputs": [],
   "source": [
    "model_info_lam = lam_sigma_models['lam:sigma:sigma_st:l_n2lo:d_n2lo:x_n2lo:phys']\n",
    "lam_fit = fit.FitRoutine(prior=prior,data=data, project_path=data_dir,model_info=model_info_lam,\n",
    "                    phys_point_data=phys_point_data, emp_bayes=None,empbayes_grouping=None)\n",
    "\n",
    "# print(lam_fit)\n",
    "# print(lam_fit.extrapolation(observables=['sigma_pi','mass'],data=phys_point_data))"
   ]
  },
  {
   "cell_type": "code",
   "execution_count": null,
   "metadata": {},
   "outputs": [],
   "source": [
    "reload(i_o)\n",
    "xi_out = xi_fit.fit\n",
    "m_pi = phys_point_data['m_pi']\n",
    "lam_chi = phys_point_data['lam_chi']\n",
    "m_proton = xi_out.p['m_{xi,0}']\n",
    "e_pi = m_pi / lam_chi\n",
    "# sigma = m_pi**2 *gv.deriv(m_proton, e_pi**2)\n",
    "# print(sigma)\n",
    "l3 = gv.gvar('3.53(26)')\n",
    "l4 = gv.gvar('4.73(10)')\n",
    "term_0 = lam_chi * e_pi/2 * m_proton\n",
    "term_1 = lam_chi * e_pi/2 * m_proton * e_pi**2*(5/2 - l3/2 - 2*l4 )\n",
    "term_2 = e_pi**2 * m_proton*(l4-1)\n",
    "sigma = term_0 + term_1 + term_2\n",
    "print(term_0,term_1,term_2,sigma)\n",
    "# sigma_analytic = (e_pi/2 * (1 + e_pi**2*(5/2 - l3/2 - 2*l4 )) *m_proton_deriv) * lam_chi\n",
    "print('sigma w/ gv.deriv:',sigma)\n",
    "print('sigma analytic:',sigma_analytic)\n"
   ]
  },
  {
   "attachments": {},
   "cell_type": "markdown",
   "metadata": {},
   "source": []
  },
  {
   "cell_type": "code",
   "execution_count": null,
   "metadata": {},
   "outputs": [],
   "source": [
    "\n",
    "importlib.reload(xfa)\n",
    "importlib.reload(fit)\n",
    "importlib.reload(i_o)\n",
    "\n",
    "def perform_fit_and_plot(model_type,mdl_key):\n",
    "    mdl_info = model_type[mdl_key]\n",
    "    extrap_analysis = xfa.Xpt_Fit_Analysis(verbose=False, phys_point_data=phys_point_data,\n",
    "                                data=data, model_info=mdl_info, prior=new_prior,project_path=data_dir)\n",
    "    fit_out = extrap_analysis.fit\n",
    "    for part in mdl_info['particles']:\n",
    "        extrap_analysis.plot_params(observable=part,xparam='eps2_a',show_plot=True)\n",
    "        print(f\"Model: {mdl_key}\")\n",
    "        # print(fit_out)\n",
    "\n",
    "    # print(extrap_analysis)\n",
    "\n",
    "        # return fit_out\n",
    "\n",
    "with open('../xpt/models.yaml', 'r') as f:\n",
    "    models = yaml.load(f, Loader=yaml.FullLoader)\n",
    "xi_models = models['models']['xi_system']\n",
    "for mdl_key in xi_models:\n",
    "    # mdl_info = xi_models[mdl_key]\n",
    "    try:\n",
    "        perform_fit_and_plot(xi_models,mdl_key)\n",
    "    except Exception as e:\n",
    "        print(f\"Error encountered for Model: {mdl_key}\")\n",
    "        print(f\"Error details: {e}\")\n",
    "        continue\n",
    "    \n"
   ]
  },
  {
   "cell_type": "code",
   "execution_count": null,
   "metadata": {},
   "outputs": [],
   "source": [
    "from scipy.interpolate import interp1d\n",
    "importlib.reload(xfa)\n",
    "\n",
    "def perform_fit_and_plot(model_type,mdl_key):\n",
    "    mdl_info = model_type[mdl_key]\n",
    "    extrap_analysis = xfa.fit_analysis(verbose=False, phys_point_data=phys_point_data,\n",
    "                                data=data, model_info=mdl_info, prior=new_prior)\n",
    "    fit_out = extrap_analysis.fit\n",
    "    print(fit_out)\n",
    "    print(f\"Model: {mdl_key}\")\n",
    "    print(extrap_analysis)\n",
    "\n",
    "    # x_data = [gv.mean(x) for x in extrap_analysis.fit.p['eps2_a']]\n",
    "    # for part in mdl_info['particles']:\n",
    "    #     y_data = [gv.mean(y) for y in extrap_analysis.fit.y[part]]\n",
    "\n",
    "    # y_fit = interp1d(x_data, y_data, kind='cubic', fill_value='extrapolate')\n",
    "\n",
    "    # x_fit = np.linspace(-0.1, 0.1, 100)\n",
    "    # y_fit_vals = [y_fit(x) for x in x_fit]\n",
    "\n",
    "    # plt.plot(x_fit, y_fit_vals, label=f\"{mdl_key}\")\n",
    "    # plt.fill_between(x_fit, [y - gv.sdev(y) for y in y_fit_vals], [y + gv.sdev(y) for y in y_fit_vals], alpha=0.5)\n",
    "\n",
    "    # plt.axvline(0, ls='--', color='black', label='phys. point')\n",
    "    # y_phys = np.mean([gv.gvar(g) for g in ['1314.86(20)', '1321.71(07)']])\n",
    "    \n",
    "    # plt.plot(0, gv.mean(y_phys), marker='o', mec='w', zorder=0.2, color='black')\n",
    "\n",
    "    # plt.xlabel(\"$\\epsilon_a^2$\")\n",
    "    # plt.ylabel(\"$m_\\Xi(MeV)$\")\n",
    "    # plt.legend()\n",
    "    # plt.grid()\n",
    "    # plt.show()\n",
    "    return fit_out\n"
   ]
  },
  {
   "cell_type": "code",
   "execution_count": null,
   "metadata": {},
   "outputs": [],
   "source": []
  },
  {
   "cell_type": "code",
   "execution_count": null,
   "metadata": {},
   "outputs": [],
   "source": [
    "with open('../xpt/models.yaml', 'r') as f:\n",
    "    models = yaml.load(f, Loader=yaml.FullLoader)\n",
    "lam_sig_models = models['models']['lam_sigma_system']\n",
    "for mdl_key in lam_sig_models:\n",
    "    try:\n",
    "        perform_fit_and_plot(lam_sig_models,mdl_key)\n",
    "    except Exception as e:\n",
    "        print(f\"Error encountered for Model: {mdl_key}\")\n",
    "        print(f\"Error details: {e}\")\n",
    "        continue\n",
    "    "
   ]
  },
  {
   "cell_type": "code",
   "execution_count": null,
   "metadata": {},
   "outputs": [],
   "source": [
    "lam_sig_models = models['models']['lam_sigma_system']\n",
    "model_info = lam_sig_models['lam:sigma:sigma_st:l_lo:d_n2lo:s_lo']\n",
    "my_fit = fit.FitRoutine(phys_point_data=phys_point_data,emp_bayes=None,empbayes_grouping=None,\n",
    "                                data=data,model_info=model_info,prior=new_prior)\n",
    "lam_sigma_sys_out = my_fit.fit\n",
    "plot_params(fit=lam_sigma_sys_out,yparam='lambda')"
   ]
  },
  {
   "cell_type": "code",
   "execution_count": null,
   "metadata": {},
   "outputs": [],
   "source": []
  },
  {
   "cell_type": "code",
   "execution_count": null,
   "metadata": {},
   "outputs": [],
   "source": [
    "lam_sigma_fit = perform_fit_and_plot(model_type=mod)\n",
    "plot_params()"
   ]
  },
  {
   "attachments": {},
   "cell_type": "markdown",
   "metadata": {},
   "source": []
  },
  {
   "attachments": {},
   "cell_type": "markdown",
   "metadata": {},
   "source": [
    "### Lambda, Sigma, Sigma_star SU(2) hbxpt extrapolation"
   ]
  },
  {
   "cell_type": "code",
   "execution_count": null,
   "metadata": {},
   "outputs": [],
   "source": [
    "with open('../xpt/models.yaml', 'r') as f:\n",
    "    models = yaml.load(f, Loader=yaml.FullLoader)\n",
    "lam_sig_models = models['models']['lam_sigma_system']\n",
    "for mdl_key in lam_sig_models:\n",
    "    perform_fit_and_plot(lam_sig_models,mdl_key)"
   ]
  }
 ],
 "metadata": {
  "kernelspec": {
   "display_name": "Python 3 (ipykernel)",
   "language": "python",
   "name": "python3"
  },
  "language_info": {
   "codemirror_mode": {
    "name": "ipython",
    "version": 3
   },
   "file_extension": ".py",
   "mimetype": "text/x-python",
   "name": "python",
   "nbconvert_exporter": "python",
   "pygments_lexer": "ipython3",
   "version": "3.11.3"
  },
  "vscode": {
   "interpreter": {
    "hash": "aee8b7b246df8f9039afb4144a1f6fd8d2ca17a180786b69acc140d282b71a49"
   }
  }
 },
 "nbformat": 4,
 "nbformat_minor": 2
}

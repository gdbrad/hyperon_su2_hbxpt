{
 "cells": [
  {
   "cell_type": "code",
   "execution_count": 1,
   "metadata": {
    "tags": []
   },
   "outputs": [
    {
     "name": "stdout",
     "output_type": "stream",
     "text": [
      "/home/gmoney/lqcd/hyperon-xpt-master\n"
     ]
    }
   ],
   "source": [
    "import os\n",
    "import sys\n",
    "from pathlib import Path\n",
    "# Get the current working directory\n",
    "cwd = Path(os.getcwd())\n",
    "# Assuming your notebook is in the project root, set the project root as cwd\n",
    "project_root = cwd.parent\n",
    "print(project_root)\n",
    "\n",
    "# If your notebook is in a subdirectory of the project root, you can modify the path accordingly:\n",
    "# project_root = cwd.parent  # Go up one directory level\n",
    "# project_root = cwd.parent.parent  # Go up two directory levels\n",
    "# Add the project root directory to sys.path\n",
    "sys.path.insert(0, str(project_root))\n",
    "# sys.path.append('../')\n",
    "\n",
    "import xpt.fit_analysis as xfa\n",
    "import warnings\n",
    "import corr_fitter.bs_utils as bs\n",
    "import corr_fitter.bs_analysis as bs_analysis\n",
    "import corr_fitter.load_data_priors as ld\n",
    "import corr_fitter.corr_fit_analysis as fa\n",
    "import xpt.priors as priors\n",
    "import xpt.i_o as i_o\n",
    "import xpt.fit_routine as fit\n",
    "import xpt.plots as plots\n",
    "from matplotlib.backends.backend_pdf import PdfPages\n",
    "import matplotlib\n",
    "import tqdm\n",
    "import h5py as h5\n",
    "import yaml\n",
    "import io\n",
    "import lsqfit\n",
    "import importlib\n",
    "import numpy as np\n",
    "import gvar as gv\n",
    "import pandas as pd\n",
    "# from h5glance import H5Glance\n",
    "\n",
    "\n",
    "warnings.simplefilter(action=\"default\")\n",
    "warnings.filterwarnings('ignore')\n"
   ]
  },
  {
   "cell_type": "code",
   "execution_count": 2,
   "metadata": {},
   "outputs": [
    {
     "data": {
      "text/plain": [
       "<module 'xpt.priors' from '/home/gmoney/lqcd/hyperon-xpt-master/xpt/priors.py'>"
      ]
     },
     "execution_count": 2,
     "metadata": {},
     "output_type": "execute_result"
    }
   ],
   "source": [
    "from importlib import reload\n",
    "from tabulate import tabulate\n",
    "importlib.reload(xfa)\n",
    "importlib.reload(i_o)\n",
    "importlib.reload(fit)\n",
    "importlib.reload(priors)"
   ]
  },
  {
   "cell_type": "code",
   "execution_count": 3,
   "metadata": {},
   "outputs": [],
   "source": [
    "# Define paths and other variables\n",
    "base_dir = \"/home/gmoney/lqcd/hyperon-xpt-master\"\n",
    "input_dir = os.path.join(base_dir, \"tests/input_files\")\n",
    "data_dir = os.path.join(base_dir, \"data\")\n",
    "fit_results_dir = os.path.join(base_dir, \"fit_results\")\n",
    "data_file = os.path.join(data_dir, \"c51_2pt_octet_decuplet.h5\")\n",
    "hyperon_data_file = os.path.join(data_dir,\"hyperon_data.h5\")\n",
    "bs_data_file = os.path.join(data_dir, \"hyperon_bs_data.h5\")\n",
    "model_type = \"all\"\n",
    "t_plot_min = 0\n",
    "t_plot_max = 40\n",
    "bs_N = 100\n",
    "bs_seed = \"seed\""
   ]
  },
  {
   "cell_type": "code",
   "execution_count": 4,
   "metadata": {},
   "outputs": [
    {
     "name": "stdout",
     "output_type": "stream",
     "text": [
      "['a06m310L', 'a09m135', 'a09m350', 'a09m400', 'a12m130', 'a12m220L', 'a12m220S', 'a12m310', 'a12m350', 'a12m400', 'a15m220', 'a15m310']\n"
     ]
    },
    {
     "ename": "KeyError",
     "evalue": "'m_lambda'",
     "output_type": "error",
     "traceback": [
      "\u001b[0;31m---------------------------------------------------------------------------\u001b[0m",
      "\u001b[0;31mKeyError\u001b[0m                                  Traceback (most recent call last)",
      "Cell \u001b[0;32mIn[4], line 3\u001b[0m\n\u001b[1;32m      1\u001b[0m importlib\u001b[39m.\u001b[39mreload(i_o)\n\u001b[1;32m      2\u001b[0m input_output \u001b[39m=\u001b[39m i_o\u001b[39m.\u001b[39mInputOutput()\n\u001b[0;32m----> 3\u001b[0m data \u001b[39m=\u001b[39m input_output\u001b[39m.\u001b[39;49mget_data()\n\u001b[1;32m      4\u001b[0m \u001b[39mprint\u001b[39m(data)\n\u001b[1;32m      5\u001b[0m scale_setting_data \u001b[39m=\u001b[39m input_output\u001b[39m.\u001b[39mget_scale_setting_data()\n",
      "File \u001b[0;32m~/lqcd/hyperon-xpt-master/xpt/i_o.py:147\u001b[0m, in \u001b[0;36mInputOutput.get_data\u001b[0;34m(self, scheme, units)\u001b[0m\n\u001b[1;32m    145\u001b[0m gv_data[ens] \u001b[39m=\u001b[39m {}\n\u001b[1;32m    146\u001b[0m \u001b[39mfor\u001b[39;00m obs \u001b[39min\u001b[39;00m dim1_obs:\n\u001b[0;32m--> 147\u001b[0m     gv_data[ens][obs] \u001b[39m=\u001b[39m bs_data[ens][obs] \u001b[39m-\u001b[39m np\u001b[39m.\u001b[39mmean(bs_data[ens][obs]) \u001b[39m+\u001b[39m bs_data[ens][obs][\u001b[39m0\u001b[39m]\n\u001b[1;32m    149\u001b[0m gv_data[ens] \u001b[39m=\u001b[39m gv\u001b[39m.\u001b[39mdataset\u001b[39m.\u001b[39mavg_data(gv_data[ens], bstrap\u001b[39m=\u001b[39m\u001b[39mTrue\u001b[39;00m) \n\u001b[1;32m    150\u001b[0m \u001b[39m# for obs in dim1_obs:\u001b[39;00m\n\u001b[1;32m    151\u001b[0m \u001b[39m#     gv_data[ens][obs] = gv_data[ens][obs] *bs_data[ens]['units_MeV']\u001b[39;00m\n",
      "\u001b[0;31mKeyError\u001b[0m: 'm_lambda'"
     ]
    }
   ],
   "source": [
    "importlib.reload(i_o)\n",
    "input_output = i_o.InputOutput()\n",
    "data = input_output.get_data()\n",
    "print(data)\n",
    "scale_setting_data = input_output.get_scale_setting_data()\n",
    "# print(scale_setting_data)\n",
    "# hyperon_data = ld.get_hyperon_posterior(bs_data=scale_setting_data)\n",
    "\n",
    "# data,ensembles = input_output.get_data(scheme='w0_imp',units='Fpi')\n",
    "# data_div, ensembles = input_output.get_data(scheme='w0_imp',units='Fpi')\n",
    "# prior = input_output.make_prior(data,priors)\n",
    "# phys_point_data = input_output.get_data_phys_point()\n"
   ]
  },
  {
   "cell_type": "code",
   "execution_count": 5,
   "metadata": {},
   "outputs": [
    {
     "name": "stdout",
     "output_type": "stream",
     "text": [
      "{'m_lambda': array([0.95044(11), 0.952345(59), 0.948499(74), 0.66708(10), 0.928243(97),\n",
      "       0.94445(10), 0.939460(65), 0.937488(91), 0.939525(63),\n",
      "       0.919493(55), 0.934448(82)], dtype=object), 'm_sigma': array([0.99307(12), 0.991715(86), 0.980024(75), 0.725263(55),\n",
      "       0.998798(70), 1.008179(97), 0.987352(70), 0.985272(69),\n",
      "       0.973498(66), 0.995677(75), 0.994471(39)], dtype=object), 'm_sigma_st': array([1.13706(43), 1.18745(29), 1.16491(17), 0.89358(12), 1.223188(94),\n",
      "       1.23284(14), 1.19129(23), 1.18605(19), 1.16723(21), 1.20257(41),\n",
      "       1.205044(54)], dtype=object), 'm_xi_st': array([1.24413(20), 1.22834(47), 1.21621(11), 0.938567(83), 1.285457(79),\n",
      "       1.29674(10), 1.25032(13), 1.23455(15), 1.21659(11), 1.26483(15),\n",
      "       1.251981(44)], dtype=object), 'm_xi': array([1.068067(91), 1.049121(58), 1.027223(53), 0.777457(34),\n",
      "       1.059837(88), 1.072528(88), 1.043192(60), 1.031971(74),\n",
      "       1.018479(57), 1.048338(39), 1.040688(37)], dtype=object), 'm_omega': array([0.509710(84), 0.75639(11), 0.770106(48), 0.983820(53),\n",
      "       0.899638(87), 0.996849(37), 1.011950(59), 1.017549(55),\n",
      "       1.022031(54), 1.206113(73), 1.231411(22)], dtype=object), 'm_pi': array([0.0945854(14), 0.1581922(28), 0.1811418(31), 0.0816960(26),\n",
      "       0.135341(15), 0.1358605(54), 0.1885898(37), 0.2138026(36),\n",
      "       0.2433417(35), 0.1650425(51), 0.2364751(59)], dtype=object), 'm_k': array([0.1620110(19), 0.2470128(27), 0.2551880(28), 0.3023198(23),\n",
      "       0.308958(18), 0.3109142(56), 0.3243105(39), 0.3325678(37),\n",
      "       0.3432167(35), 0.3867190(42), 0.4046765(49)], dtype=object), 'lam_chi': array([0.380683(23), 0.585379(23), 0.607780(21), 0.715254(31),\n",
      "       0.739872(38), 0.734487(51), 0.772872(31), 0.791408(41),\n",
      "       0.815181(32), 0.914902(23), 0.948530(28)], dtype=object), 'eps2_a': array([0.029618(41), 0.06998(19), 0.07160(20), 0.123786(95), 0.12594(12),\n",
      "       0.12631(28), 0.13008(23), 0.13214(20), 0.13446(16), 0.19737(28),\n",
      "       0.20368(32)], dtype=object)}\n"
     ]
    },
    {
     "ename": "TypeError",
     "evalue": "FitRoutine.__init__() missing 1 required positional argument: 'phys_point_data'",
     "output_type": "error",
     "traceback": [
      "\u001b[0;31m---------------------------------------------------------------------------\u001b[0m",
      "\u001b[0;31mTypeError\u001b[0m                                 Traceback (most recent call last)",
      "Cell \u001b[0;32mIn[5], line 15\u001b[0m\n\u001b[1;32m     13\u001b[0m results \u001b[39m=\u001b[39m []\n\u001b[1;32m     14\u001b[0m \u001b[39m# for key, item in xi_models.items():\u001b[39;00m\n\u001b[0;32m---> 15\u001b[0m model_fit \u001b[39m=\u001b[39m fit\u001b[39m.\u001b[39;49mFitRoutine(\n\u001b[1;32m     16\u001b[0m data\u001b[39m=\u001b[39;49mdata, prior\u001b[39m=\u001b[39;49mnew_prior, emp_bayes\u001b[39m=\u001b[39;49m\u001b[39mFalse\u001b[39;49;00m, empbayes_grouping\u001b[39m=\u001b[39;49m\u001b[39mNone\u001b[39;49;00m,\n\u001b[1;32m     17\u001b[0m model_info\u001b[39m=\u001b[39;49mxi_models[\u001b[39m'\u001b[39;49m\u001b[39mxi:xi_st:s_n2lo:d_n2lo:x_n2lo:l_n2lo:w0imp:fv:xpt\u001b[39;49m\u001b[39m'\u001b[39;49m])\n\u001b[1;32m     18\u001b[0m my_fit \u001b[39m=\u001b[39m model_fit\u001b[39m.\u001b[39mfit\n\u001b[1;32m     19\u001b[0m \u001b[39mprint\u001b[39m(my_fit)\n",
      "\u001b[0;31mTypeError\u001b[0m: FitRoutine.__init__() missing 1 required positional argument: 'phys_point_data'"
     ]
    }
   ],
   "source": [
    "\n",
    "new_prior = priors.get_prior(units='lam_chi')\n",
    "data, ens = input_output.get_data(units='lam_chi')\n",
    "print(data)\n",
    "# new_prior = input_output.make_prior(data,prior)\n",
    "phys_point_data = input_output.get_data_phys_point()\n",
    "\n",
    "# initialize xpt models\n",
    "with open('../xpt/models.yaml', 'r') as f:\n",
    "    models = yaml.load(f, Loader=yaml.FullLoader)\n",
    "\n",
    "xi_models = models['models']['xi_system']\n",
    "\n",
    "results = []\n",
    "# for key, item in xi_models.items():\n",
    "model_fit = fit.FitRoutine(\n",
    "data=data, prior=new_prior, emp_bayes=False, empbayes_grouping=None,\n",
    "model_info=xi_models['xi:xi_st:s_n2lo:d_n2lo:x_n2lo:l_n2lo:w0imp:fv:xpt'])\n",
    "my_fit = model_fit.fit\n",
    "print(my_fit)\n",
    "if my_fit is None:\n",
    "    print(f\"Skipping model {key} due to fit error.\")\n",
    "\n",
    "    # # Append results to list\n",
    "    # try:\n",
    "    #     result = {'Model': key, 'Chi2': my_fit_recalibrated.chi2, 'q': my_fit_recalibrated.Q}\n",
    "    #     if 'm_{xi,0}' in my_fit_recalibrated.p:\n",
    "    #         result['xi'] = my_fit_recalibrated.p['m_{xi,0}']\n",
    "    #     if 'm_{xi_st,0}' in my_fit_recalibrated.p:\n",
    "    #         result['xi_st'] = my_fit_recalibrated.p['m_{xi_st,0}']\n",
    "    #     results.append(result)\n",
    "    # except KeyError as e:\n",
    "    #     print(f\"KeyError encountered for model {key}: {e}\")\n",
    "    #     continue\n",
    "\n",
    "# # create dataframe from results list and print it\n",
    "# results_df = pd.DataFrame(results)\n",
    "# print(tabulate(results_df, headers='keys', tablefmt='psql'))\n",
    "\n",
    "# # plot results\n",
    "# fig, ax = plt.subplots()\n",
    "# ax.scatter(results_df['q'], results_df['Chi2'], marker='o')\n",
    "# ax.set_xlabel('q')\n",
    "# ax.set_ylabel('Chi2')\n",
    "# ax.set_title('xi system')\n",
    "# for i, txt in enumerate(results_df['Model']):\n",
    "#     ax.annotate(txt, (results_df['q'][i], results_df['Chi2'][i]))\n",
    "# plt.show()\n"
   ]
  },
  {
   "attachments": {},
   "cell_type": "markdown",
   "metadata": {},
   "source": [
    "## Xi, Xi* system SU(2) HBXPT extrapolation ##"
   ]
  },
  {
   "cell_type": "code",
   "execution_count": null,
   "metadata": {},
   "outputs": [
    {
     "name": "stdout",
     "output_type": "stream",
     "text": [
      "1.6094379124341003\n"
     ]
    },
    {
     "ename": "TypeError",
     "evalue": "FitRoutine.__init__() missing 1 required positional argument: 'phys_point_data'",
     "output_type": "error",
     "traceback": [
      "\u001b[0;31m---------------------------------------------------------------------------\u001b[0m",
      "\u001b[0;31mTypeError\u001b[0m                                 Traceback (most recent call last)",
      "Cell \u001b[0;32mIn[13], line 5\u001b[0m\n\u001b[1;32m      3\u001b[0m importlib\u001b[39m.\u001b[39mreload(priors)\n\u001b[1;32m      4\u001b[0m \u001b[39mprint\u001b[39m(np\u001b[39m.\u001b[39mlog(\u001b[39m5\u001b[39m))\n\u001b[0;32m----> 5\u001b[0m emp_fit \u001b[39m=\u001b[39m fit\u001b[39m.\u001b[39;49mFitRoutine(empbayes_grouping\u001b[39m=\u001b[39;49m\u001b[39m'\u001b[39;49m\u001b[39mdisc_only\u001b[39;49m\u001b[39m'\u001b[39;49m,emp_bayes\u001b[39m=\u001b[39;49m\u001b[39mTrue\u001b[39;49;00m,\n\u001b[1;32m      6\u001b[0m data\u001b[39m=\u001b[39;49mdata, prior\u001b[39m=\u001b[39;49mnew_prior, model_info\u001b[39m=\u001b[39;49mxi_models[\u001b[39m'\u001b[39;49m\u001b[39mxi:xi_st:s_n2lo:d_n2lo:x_n2lo:l_n2lo:w0imp:fv:xpt\u001b[39;49m\u001b[39m'\u001b[39;49m])\n\u001b[1;32m      7\u001b[0m \u001b[39m# emp = emp_fit._make_empbayes_fit()\u001b[39;00m\n\u001b[1;32m      8\u001b[0m \u001b[39m# print(emp)/\u001b[39;00m\n",
      "\u001b[0;31mTypeError\u001b[0m: FitRoutine.__init__() missing 1 required positional argument: 'phys_point_data'"
     ]
    }
   ],
   "source": [
    "# empirical bayes prior study \n",
    "importlib.reload(fit)\n",
    "importlib.reload(priors)\n",
    "print(np.log(5))\n",
    "emp_fit = fit.FitRoutine(empbayes_grouping='disc_only',emp_bayes=True,\n",
    "data=data, prior=new_prior, model_info=xi_models['xi:xi_st:s_n2lo:d_n2lo:x_n2lo:l_n2lo:w0imp:fv:xpt'])\n",
    "# emp = emp_fit._make_empbayes_fit()\n",
    "# print(emp)/"
   ]
  },
  {
   "cell_type": "code",
   "execution_count": 7,
   "metadata": {},
   "outputs": [
    {
     "name": "stdout",
     "output_type": "stream",
     "text": [
      "{'m_{xi,0}': 1.0(1.0), 'm_{xi_st,0}': 1.0(1.0), 'm_{lambda,0}': 1.0(1.0), 'm_{sigma,0}': 1.0(1.0), 'm_{sigma_st,0}': 1.0(1.0), 'm_{omega,0}': 1.0(1.0), 's_{xi}': 0(10), 's_{xi,bar}': 0(10), 's_{lambda}': 0.0(5.0), 's_{sigma,bar}': 0.0(5.0), 's_{sigma}': 0.0(5.0), 's_{omega,bar}': 0.0(5.0), 'g_{xi,xi}': 0.3(3.0), 'g_{xi_st,xi}': 0.7(3.0), 'g_{xi_st,xi_st}': -0.5(3.0), 'g_{lambda,sigma}': 0.0(5.0), 'g_{lambda,sigma_st}': 0.0(5.0), 'g_{sigma,sigma}': 0.0(5.0), 'g_{sigma_st,sigma}': 0.0(5.0), 'g_{sigma_st,sigma_st}': 0.0(5.0), 'a_{xi,4}': 0.0(5.0), 'a_{xi_st,4}': 0.0(5.0), 'b_{xi,4}': 0.0(5.0), 'b_{xi_st,4}': 0.0(5.0), 'a_{sigma,4}': 0.0(5.0), 'a_{sigma_st,4}': 0.0(5.0), 'b_{sigma,4}': 0.0(5.0), 'b_{sigma_st,4}': 0.0(5.0), 'a_{lambda,4}': 0.0(5.0), 'b_{lambda,4}': 0.0(5.0), 'a_{omega,4}': 0.0(5.0), 'b_{omega,4}': 0.0(5.0), 'a_{omega,6}': 0.0(5.0), 'b_{omega,6}': 0.0(5.0), 'd_{xi,a}': 0(10), 'd_{xi_st,a}': 0(10), 'd_{xi,s}': 0(10), 'd_{xi_st,s}': 0(10), 'd_{lambda,s}': 0(10), 'd_{lambda,a}': 0(10), 'd_{sigma_st,a}': 0(10), 'd_{sigma_st,s}': 0(10), 'd_{sigma,s}': 0(10), 'd_{sigma,a}': 0(10), 'd_{omega,s}': 0(10), 'd_{omega,a}': 0(10), 'd_{xi,aa}': 0(10), 'd_{xi,al}': 0(10), 'd_{xi,as}': 0(10), 'd_{xi,ls}': 0(10), 'd_{xi,ss}': 0(10), 'd_{xi_st,aa}': 0(10), 'd_{xi_st,al}': 0(10), 'd_{xi_st,as}': 0(10), 'd_{xi_st,ls}': 0(10), 'd_{xi_st,ss}': 0(10), 'd_{lambda,aa}': 0(10), 'd_{lambda,al}': 0(10), 'd_{lambda,as}': 0(10), 'd_{lambda,ls}': 0(10), 'd_{lambda,ss}': 0(10), 'd_{sigma,aa}': 0(10), 'd_{sigma,al}': 0(10), 'd_{sigma,as}': 0(10), 'd_{sigma,ls}': 0(10), 'd_{sigma,ss}': 0(10), 'd_{sigma_st,aa}': 0(10), 'd_{sigma_st,al}': 0(10), 'd_{sigma_st,as}': 0(10), 'd_{sigma_st,ls}': 0(10), 'd_{sigma_st,ss}': 0(10), 'd_{omega,aa}': 0(10), 'd_{omega,al}': 0(10), 'd_{omega,as}': 0(10), 'd_{omega,ls}': 0(10), 'd_{omega,ss}': 0(10)}\n"
     ]
    },
    {
     "ename": "ZeroDivisionError",
     "evalue": "float division",
     "output_type": "error",
     "traceback": [
      "\u001b[0;31m---------------------------------------------------------------------------\u001b[0m",
      "\u001b[0;31mZeroDivisionError\u001b[0m                         Traceback (most recent call last)",
      "Cell \u001b[0;32mIn[7], line 9\u001b[0m\n\u001b[1;32m      5\u001b[0m \u001b[39m# for key, item in xi_models.items():\u001b[39;00m\n\u001b[1;32m      6\u001b[0m model_fit \u001b[39m=\u001b[39m fit\u001b[39m.\u001b[39mFitRoutine(phys_point_data\u001b[39m=\u001b[39mphys_point_data,\n\u001b[1;32m      7\u001b[0m data\u001b[39m=\u001b[39mdata, prior\u001b[39m=\u001b[39mnew_prior, emp_bayes\u001b[39m=\u001b[39m\u001b[39mFalse\u001b[39;00m, empbayes_grouping\u001b[39m=\u001b[39m\u001b[39mNone\u001b[39;00m,\n\u001b[1;32m      8\u001b[0m model_info\u001b[39m=\u001b[39mlam_sigma_models[\u001b[39m'\u001b[39m\u001b[39mlam:sigma:sigma_st:s_n2lo:d_n2lo:x_n2lo:l_n2lo\u001b[39m\u001b[39m'\u001b[39m])\n\u001b[0;32m----> 9\u001b[0m my_fit \u001b[39m=\u001b[39m model_fit\u001b[39m.\u001b[39;49mfit\n\u001b[1;32m     10\u001b[0m \u001b[39mprint\u001b[39m(my_fit)\n",
      "File \u001b[0;32m~/lqcd/hyperon-xpt-master/xpt/fit_routine.py:72\u001b[0m, in \u001b[0;36mFitRoutine.fit\u001b[0;34m(self)\u001b[0m\n\u001b[1;32m     70\u001b[0m     data \u001b[39m=\u001b[39m \u001b[39mself\u001b[39m\u001b[39m.\u001b[39mdata\n\u001b[1;32m     71\u001b[0m     fitter \u001b[39m=\u001b[39m lsqfit\u001b[39m.\u001b[39mMultiFitter(models\u001b[39m=\u001b[39mmodels)\n\u001b[0;32m---> 72\u001b[0m     fit \u001b[39m=\u001b[39m fitter\u001b[39m.\u001b[39;49mlsqfit(data\u001b[39m=\u001b[39;49mdata, prior\u001b[39m=\u001b[39;49mprior, fast\u001b[39m=\u001b[39;49m\u001b[39mFalse\u001b[39;49;00m, mopt\u001b[39m=\u001b[39;49m\u001b[39mFalse\u001b[39;49;00m)\n\u001b[1;32m     73\u001b[0m     \u001b[39mself\u001b[39m\u001b[39m.\u001b[39m_fit \u001b[39m=\u001b[39m fit\n\u001b[1;32m     75\u001b[0m \u001b[39mreturn\u001b[39;00m \u001b[39mself\u001b[39m\u001b[39m.\u001b[39m_fit\n",
      "File \u001b[0;32m~/.local/lib/python3.10/site-packages/lsqfit/_extras.py:1158\u001b[0m, in \u001b[0;36mMultiFitter.lsqfit\u001b[0;34m(self, data, pdata, prior, p0, chained, **kargs)\u001b[0m\n\u001b[1;32m   1156\u001b[0m \u001b[39m# build prior, data and function\u001b[39;00m\n\u001b[1;32m   1157\u001b[0m fitprior \u001b[39m=\u001b[39m \u001b[39mself\u001b[39m\u001b[39m.\u001b[39mbuildprior(prior\u001b[39m=\u001b[39mprior, mopt\u001b[39m=\u001b[39m\u001b[39mself\u001b[39m\u001b[39m.\u001b[39mmopt)\n\u001b[0;32m-> 1158\u001b[0m fitdata \u001b[39m=\u001b[39m \u001b[39mself\u001b[39;49m\u001b[39m.\u001b[39;49mbuilddata(\n\u001b[1;32m   1159\u001b[0m     mopt\u001b[39m=\u001b[39;49m\u001b[39mself\u001b[39;49m\u001b[39m.\u001b[39;49mmopt, data\u001b[39m=\u001b[39;49mdata, pdata\u001b[39m=\u001b[39;49mpdata, prior\u001b[39m=\u001b[39;49mprior\n\u001b[1;32m   1160\u001b[0m     )\n\u001b[1;32m   1161\u001b[0m fitfcn \u001b[39m=\u001b[39m \u001b[39mself\u001b[39m\u001b[39m.\u001b[39mbuildfitfcn()\n\u001b[1;32m   1163\u001b[0m \u001b[39m# build name\u001b[39;00m\n",
      "File \u001b[0;32m~/.local/lib/python3.10/site-packages/lsqfit/_extras.py:1042\u001b[0m, in \u001b[0;36mMultiFitter.builddata\u001b[0;34m(self, mopt, data, pdata, prior)\u001b[0m\n\u001b[1;32m   1040\u001b[0m fitfcn \u001b[39m=\u001b[39m \u001b[39mself\u001b[39m\u001b[39m.\u001b[39mbuildfitfcn()\n\u001b[1;32m   1041\u001b[0m p_all \u001b[39m=\u001b[39m \u001b[39mself\u001b[39m\u001b[39m.\u001b[39mbuildprior(prior\u001b[39m=\u001b[39mprior, mopt\u001b[39m=\u001b[39m\u001b[39mNone\u001b[39;00m)\n\u001b[0;32m-> 1042\u001b[0m f_all \u001b[39m=\u001b[39m fitfcn(p_all)\n\u001b[1;32m   1044\u001b[0m \u001b[39m# fcn with part we want to keep\u001b[39;00m\n\u001b[1;32m   1045\u001b[0m p_trunc \u001b[39m=\u001b[39m \u001b[39mself\u001b[39m\u001b[39m.\u001b[39mbuildprior(prior\u001b[39m=\u001b[39mprior, mopt\u001b[39m=\u001b[39mmopt)\n",
      "File \u001b[0;32m~/.local/lib/python3.10/site-packages/lsqfit/_extras.py:1819\u001b[0m, in \u001b[0;36m_multifitfcn.__call__\u001b[0;34m(self, p)\u001b[0m\n\u001b[1;32m   1816\u001b[0m ans \u001b[39m=\u001b[39m gvar\u001b[39m.\u001b[39mBufferDict()\n\u001b[1;32m   1817\u001b[0m \u001b[39mfor\u001b[39;00m m \u001b[39min\u001b[39;00m \u001b[39mself\u001b[39m\u001b[39m.\u001b[39mflatmodels:\n\u001b[1;32m   1818\u001b[0m     ans[m\u001b[39m.\u001b[39mdatatag] \u001b[39m=\u001b[39m (\n\u001b[0;32m-> 1819\u001b[0m         m\u001b[39m.\u001b[39;49mfitfcn(p) \u001b[39mif\u001b[39;00m m\u001b[39m.\u001b[39mncg \u001b[39m<\u001b[39m\u001b[39m=\u001b[39m \u001b[39m1\u001b[39m \u001b[39melse\u001b[39;00m\n\u001b[1;32m   1820\u001b[0m         MultiFitter\u001b[39m.\u001b[39mcoarse_grain(m\u001b[39m.\u001b[39mfitfcn(p), m\u001b[39m.\u001b[39mncg)\n\u001b[1;32m   1821\u001b[0m         )\n\u001b[1;32m   1822\u001b[0m \u001b[39mreturn\u001b[39;00m ans\n",
      "File \u001b[0;32m~/lqcd/hyperon-xpt-master/xpt/fit_routine.py:662\u001b[0m, in \u001b[0;36mLambda.fitfcn\u001b[0;34m(self, p, data)\u001b[0m\n\u001b[1;32m    660\u001b[0m output \u001b[39m=\u001b[39m p[\u001b[39m'\u001b[39m\u001b[39mm_\u001b[39m\u001b[39m{\u001b[39m\u001b[39mlambda,0}\u001b[39m\u001b[39m'\u001b[39m]\n\u001b[1;32m    661\u001b[0m output \u001b[39m+\u001b[39m\u001b[39m=\u001b[39m \u001b[39mself\u001b[39m\u001b[39m.\u001b[39mfitfcn_lo_ct(p, xdata)\n\u001b[0;32m--> 662\u001b[0m output \u001b[39m+\u001b[39m\u001b[39m=\u001b[39m \u001b[39mself\u001b[39;49m\u001b[39m.\u001b[39;49mfitfcn_nlo_xpt(p, xdata)\n\u001b[1;32m    663\u001b[0m output \u001b[39m+\u001b[39m\u001b[39m=\u001b[39m \u001b[39mself\u001b[39m\u001b[39m.\u001b[39mfitfcn_n2lo_ct(p, xdata)\n\u001b[1;32m    664\u001b[0m output \u001b[39m+\u001b[39m\u001b[39m=\u001b[39m \u001b[39mself\u001b[39m\u001b[39m.\u001b[39mfitfcn_n2lo_xpt(p, xdata)\n",
      "File \u001b[0;32m~/lqcd/hyperon-xpt-master/xpt/fit_routine.py:685\u001b[0m, in \u001b[0;36mLambda.fitfcn_nlo_xpt\u001b[0;34m(self, p, xdata)\u001b[0m\n\u001b[1;32m    683\u001b[0m \u001b[39mdef\u001b[39;00m \u001b[39mfitfcn_nlo_xpt\u001b[39m(\u001b[39mself\u001b[39m, p, xdata):\n\u001b[1;32m    684\u001b[0m     \u001b[39mif\u001b[39;00m \u001b[39mself\u001b[39m\u001b[39m.\u001b[39mmodel_info[\u001b[39m'\u001b[39m\u001b[39mxpt\u001b[39m\u001b[39m'\u001b[39m] \u001b[39mis\u001b[39;00m \u001b[39mTrue\u001b[39;00m:\n\u001b[0;32m--> 685\u001b[0m         output \u001b[39m=\u001b[39m (xdata[\u001b[39m'\u001b[39m\u001b[39mlam_chi\u001b[39m\u001b[39m'\u001b[39m] \u001b[39m*\u001b[39m (\u001b[39m-\u001b[39m\u001b[39m1\u001b[39m\u001b[39m/\u001b[39m\u001b[39m2\u001b[39m) \u001b[39m*\u001b[39m p[\u001b[39m'\u001b[39m\u001b[39mg_\u001b[39m\u001b[39m{\u001b[39m\u001b[39mlambda,sigma}\u001b[39m\u001b[39m'\u001b[39m]\u001b[39m*\u001b[39m\u001b[39m*\u001b[39m\u001b[39m2\u001b[39m \u001b[39m*\u001b[39m naf\u001b[39m.\u001b[39;49mfcn_F(xdata[\u001b[39m'\u001b[39;49m\u001b[39meps_pi\u001b[39;49m\u001b[39m'\u001b[39;49m], xdata[\u001b[39m'\u001b[39;49m\u001b[39meps_sigma\u001b[39;49m\u001b[39m'\u001b[39;49m])\n\u001b[1;32m    686\u001b[0m                   \u001b[39m-\u001b[39m (\u001b[39m2\u001b[39m \u001b[39m*\u001b[39m p[\u001b[39m'\u001b[39m\u001b[39mg_\u001b[39m\u001b[39m{\u001b[39m\u001b[39mlambda,sigma_st}\u001b[39m\u001b[39m'\u001b[39m]\u001b[39m*\u001b[39m\u001b[39m*\u001b[39m\u001b[39m2\u001b[39m \u001b[39m*\u001b[39m xdata[\u001b[39m'\u001b[39m\u001b[39mlam_chi\u001b[39m\u001b[39m'\u001b[39m] \u001b[39m*\u001b[39m naf\u001b[39m.\u001b[39mfcn_F(xdata[\u001b[39m'\u001b[39m\u001b[39meps_pi\u001b[39m\u001b[39m'\u001b[39m], xdata[\u001b[39m'\u001b[39m\u001b[39meps_sigma_st\u001b[39m\u001b[39m'\u001b[39m])))\n\u001b[1;32m    687\u001b[0m         \u001b[39mreturn\u001b[39;00m output\n\u001b[1;32m    688\u001b[0m     \u001b[39mif\u001b[39;00m \u001b[39mself\u001b[39m\u001b[39m.\u001b[39mmodel_info[\u001b[39m'\u001b[39m\u001b[39mxpt\u001b[39m\u001b[39m'\u001b[39m] \u001b[39mis\u001b[39;00m \u001b[39mFalse\u001b[39;00m:\n",
      "File \u001b[0;32m~/lqcd/hyperon-xpt-master/xpt/non_analytic_functions.py:76\u001b[0m, in \u001b[0;36mfcn_F\u001b[0;34m(eps_pi, eps_delta)\u001b[0m\n\u001b[1;32m     74\u001b[0m \u001b[39mdef\u001b[39;00m \u001b[39mfcn_F\u001b[39m(eps_pi, eps_delta):\n\u001b[1;32m     75\u001b[0m     output \u001b[39m=\u001b[39m (\n\u001b[0;32m---> 76\u001b[0m         \u001b[39m-\u001b[39m eps_delta \u001b[39m*\u001b[39m(eps_delta\u001b[39m*\u001b[39m\u001b[39m*\u001b[39m\u001b[39m2\u001b[39m \u001b[39m-\u001b[39m eps_pi\u001b[39m*\u001b[39m\u001b[39m*\u001b[39m\u001b[39m2\u001b[39m) \u001b[39m*\u001b[39mfcn_R((eps_pi\u001b[39m/\u001b[39;49meps_delta)\u001b[39m*\u001b[39m\u001b[39m*\u001b[39m\u001b[39m2\u001b[39m)\n\u001b[1;32m     77\u001b[0m         \u001b[39m-\u001b[39m (\u001b[39m3\u001b[39m\u001b[39m/\u001b[39m\u001b[39m2\u001b[39m) \u001b[39m*\u001b[39meps_pi\u001b[39m*\u001b[39m\u001b[39m*\u001b[39m\u001b[39m2\u001b[39m \u001b[39m*\u001b[39meps_delta \u001b[39m*\u001b[39mnp\u001b[39m.\u001b[39mlog(eps_pi\u001b[39m*\u001b[39m\u001b[39m*\u001b[39m\u001b[39m2\u001b[39m)\n\u001b[1;32m     78\u001b[0m         \u001b[39m-\u001b[39m eps_delta\u001b[39m*\u001b[39m\u001b[39m*\u001b[39m\u001b[39m3\u001b[39m \u001b[39m*\u001b[39mnp\u001b[39m.\u001b[39mlog(\u001b[39m4\u001b[39m \u001b[39m*\u001b[39m(eps_delta\u001b[39m/\u001b[39meps_pi)\u001b[39m*\u001b[39m\u001b[39m*\u001b[39m\u001b[39m2\u001b[39m)\n\u001b[1;32m     79\u001b[0m     )\n\u001b[1;32m     80\u001b[0m     \u001b[39mreturn\u001b[39;00m output\n",
      "File \u001b[0;32m_gvarcore.pyx:279\u001b[0m, in \u001b[0;36mgvar._gvarcore.GVar.__truediv__\u001b[0;34m()\u001b[0m\n",
      "\u001b[0;31mZeroDivisionError\u001b[0m: float division"
     ]
    }
   ],
   "source": [
    "lam_sigma_models = models['models']['lam_sigma_system']\n",
    "# importlib.reload(priors)\n",
    "new_prior = priors.get_prior(units='lam_chi')\n",
    "print(new_prior)\n",
    "# for key, item in xi_models.items():\n",
    "model_fit = fit.FitRoutine(phys_point_data=phys_point_data,\n",
    "data=data, prior=new_prior, emp_bayes=False, empbayes_grouping=None,\n",
    "model_info=lam_sigma_models['lam:sigma:sigma_st:s_n2lo:d_n2lo:x_n2lo:l_n2lo'])\n",
    "my_fit = model_fit.fit\n",
    "print(my_fit)"
   ]
  },
  {
   "cell_type": "code",
   "execution_count": null,
   "metadata": {},
   "outputs": [
    {
     "ename": "KeyError",
     "evalue": "'undefined key: xi'",
     "output_type": "error",
     "traceback": [
      "\u001b[0;31m---------------------------------------------------------------------------\u001b[0m",
      "\u001b[0;31mKeyError\u001b[0m                                  Traceback (most recent call last)",
      "Cell \u001b[0;32mIn[8], line 3\u001b[0m\n\u001b[1;32m      1\u001b[0m \u001b[39mimport\u001b[39;00m \u001b[39mxpt\u001b[39;00m\u001b[39m.\u001b[39;00m\u001b[39mplots\u001b[39;00m \u001b[39mas\u001b[39;00m \u001b[39mplots\u001b[39;00m\n\u001b[1;32m      2\u001b[0m importlib\u001b[39m.\u001b[39mreload(plots)\n\u001b[0;32m----> 3\u001b[0m plots\u001b[39m.\u001b[39;49mplot_fit(ens\u001b[39m=\u001b[39;49mens,fit_out\u001b[39m=\u001b[39;49mmy_fit,xparam\u001b[39m=\u001b[39;49m\u001b[39m'\u001b[39;49m\u001b[39mxi\u001b[39;49m\u001b[39m'\u001b[39;49m,)\n",
      "File \u001b[0;32m~/lqcd/hyperon-xpt-master/xpt/plots.py:36\u001b[0m, in \u001b[0;36mplot_fit\u001b[0;34m(ens, fit_out, xparam, yparam)\u001b[0m\n\u001b[1;32m     33\u001b[0m     label \u001b[39m=\u001b[39m \u001b[39m'\u001b[39m\u001b[39m$\u001b[39m\u001b[39m\\\u001b[39m\u001b[39mepsilon_p$\u001b[39m\u001b[39m'\u001b[39m\n\u001b[1;32m     35\u001b[0m \u001b[39melif\u001b[39;00m param \u001b[39min\u001b[39;00m [\u001b[39m'\u001b[39m\u001b[39msigma\u001b[39m\u001b[39m'\u001b[39m,\u001b[39m'\u001b[39m\u001b[39msigma_st\u001b[39m\u001b[39m'\u001b[39m,\u001b[39m'\u001b[39m\u001b[39mxi\u001b[39m\u001b[39m'\u001b[39m,\u001b[39m'\u001b[39m\u001b[39mxi_st\u001b[39m\u001b[39m'\u001b[39m,\u001b[39m'\u001b[39m\u001b[39mlam\u001b[39m\u001b[39m'\u001b[39m]:\n\u001b[0;32m---> 36\u001b[0m     value \u001b[39m=\u001b[39m fit_out\u001b[39m.\u001b[39;49my[param][i]\n\u001b[1;32m     37\u001b[0m     label \u001b[39m=\u001b[39m \u001b[39m'\u001b[39m\u001b[39m$\u001b[39m\u001b[39m\\\u001b[39m\u001b[39mepsilon_\u001b[39m\u001b[39m\\\u001b[39m\u001b[39mpi$\u001b[39m\u001b[39m'\u001b[39m\n\u001b[1;32m     39\u001b[0m \u001b[39melif\u001b[39;00m param \u001b[39min\u001b[39;00m [\u001b[39m'\u001b[39m\u001b[39msigma\u001b[39m\u001b[39m'\u001b[39m,\u001b[39m'\u001b[39m\u001b[39msigma_st\u001b[39m\u001b[39m'\u001b[39m,\u001b[39m'\u001b[39m\u001b[39mxi\u001b[39m\u001b[39m'\u001b[39m,\u001b[39m'\u001b[39m\u001b[39mxi_st\u001b[39m\u001b[39m'\u001b[39m,\u001b[39m'\u001b[39m\u001b[39mlam\u001b[39m\u001b[39m'\u001b[39m]:\n",
      "File \u001b[0;32m_bufferdict.pyx:352\u001b[0m, in \u001b[0;36mgvar._bufferdict.BufferDict.__getitem__\u001b[0;34m()\u001b[0m\n",
      "\u001b[0;31mKeyError\u001b[0m: 'undefined key: xi'"
     ]
    }
   ],
   "source": [
    "\n",
    "import xpt.plots as plots\n",
    "importlib.reload(plots)\n",
    "plots.plot_fit(ens=ens,fit_out=my_fit,xparam='xi',)"
   ]
  },
  {
   "cell_type": "code",
   "execution_count": null,
   "metadata": {},
   "outputs": [
    {
     "ename": "SyntaxError",
     "evalue": "unterminated string literal (detected at line 1) (346027678.py, line 1)",
     "output_type": "error",
     "traceback": [
      "\u001b[0;36m  Cell \u001b[0;32mIn[12], line 1\u001b[0;36m\u001b[0m\n\u001b[0;31m    ['fit_div_lam = fit.fit_routine(prior=prior, data=data_div, model_info=model_info_div_lam)\u001b[0m\n\u001b[0m     ^\u001b[0m\n\u001b[0;31mSyntaxError\u001b[0m\u001b[0;31m:\u001b[0m unterminated string literal (detected at line 1)\n"
     ]
    }
   ],
   "source": [
    "['fit_div_lam = fit.fit_routine(prior=prior, data=data_div, model_info=model_info_div_lam)\n",
    "fit_div_lam_out = fit_div_lam.fit\n",
    "print(fit_div_lam_out)\n"
   ]
  },
  {
   "cell_type": "code",
   "execution_count": null,
   "metadata": {},
   "outputs": [
    {
     "name": "stdout",
     "output_type": "stream",
     "text": [
      "{\n",
      "    'proton':\n",
      "    array([1121(10), 958.4(7.7), 984.4(7.9), 1110.7(8.9), 1158.1(9.3),\n",
      "           1211.3(9.7), 934.1(6.8), 998.3(7.3), 1074.4(7.8), 1124.0(8.2),\n",
      "           1168.4(8.5), 950.8(6.3), 993.1(6.6), 1078.1(7.2), 1057.1(7.0),\n",
      "           1092.9(7.3), 1158.1(7.7)], dtype=object),\n",
      "}\n"
     ]
    }
   ],
   "source": [
    "fit_sigma = fit.fit_routine(prior=prior, data=data,\n",
    "                            model_info=model_info_sigma)\n",
    "fit_sigma_out = fit_sigma.fit\n",
    "print(fit_sigma_out.y)\n"
   ]
  },
  {
   "cell_type": "code",
   "execution_count": null,
   "metadata": {},
   "outputs": [
    {
     "name": "stdout",
     "output_type": "stream",
     "text": [
      "Least Square Fit:\n",
      "  chi2/dof [dof] = 1.3 [17]    Q = 0.17    logGBF = -85.26\n",
      "\n",
      "Parameters:\n",
      "     m_{proton,0}        902 (10)      [     900 (400) ]  \n",
      "     b_{proton,2}     -6e-13 +- 5      [     0.0 (5.0) ]  \n",
      "     b_{proton,4}     -4e-12 +- 5      [     0.0 (5.0) ]  \n",
      "     b_{proton,6}       0.4 (5.0)      [     0.0 (5.0) ]  \n",
      "     d_{proton,a}     -4e-13 +- 5      [     0.0 (5.0) ]  \n",
      "    d_{proton,aa}      2e-12 +- 5      [     0.0 (5.0) ]  \n",
      "    d_{proton,al}     -2e-12 +- 5      [     0.0 (5.0) ]  \n",
      "   d_{proton,all}      -1.4 (4.9)      [     0.0 (5.0) ]  \n",
      "   d_{proton,aal}       0.2 (1.0)      [     0.0 (5.0) ]  \n",
      "     d_{proton,s}      -0.75 (74)      [     0.0 (5.0) ]  \n",
      "    d_{proton,as}       8.7 (2.1)      [     0.0 (5.0) ]  *\n",
      "    d_{proton,ls}      -2.5 (4.8)      [     0.0 (5.0) ]  \n",
      "    d_{proton,ss}       2.8 (4.4)      [     0.0 (5.0) ]  \n",
      "g_{proton,proton}     0.02 (4.99)      [     1.3 (5.0) ]  \n",
      " g_{proton,delta}      -1.13 (41)      [     0.9 (5.0) ]  \n",
      "      m_{delta,0}      1827 (253)      [   1232 (1000) ]  \n",
      "     a_{proton,4}     -2e-12 +- 5      [     0.0 (5.0) ]  \n",
      "     g_{proton,4}       5.8 (4.5)      [     0.0 (5.0) ]  *\n",
      "            m_k 0     558.6 (2.8)      [   561.9 (5.0) ]  \n",
      "                1     486.9 (2.9)      [   493.9 (4.0) ]  *\n",
      "                2     527.7 (2.2)      [   516.9 (4.1) ]  **\n",
      "                3     542.2 (2.0)      [   544.9 (4.4) ]  \n",
      "                4     554.0 (2.0)      [   558.2 (4.5) ]  \n",
      "                5     574.7 (3.1)      [   576.9 (4.6) ]  \n",
      "                6     496.8 (2.7)      [   494.1 (3.6) ]  \n",
      "                7     507.0 (1.9)      [   507.3 (3.7) ]  \n",
      "                8     533.2 (1.6)      [   530.1 (3.9) ]  \n",
      "                9     544.8 (1.6)      [   544.7 (4.0) ]  \n",
      "               10     564.2 (2.4)      [   561.6 (4.1) ]  \n",
      "               11     508.8 (3.1)      [   508.1 (3.4) ]  \n",
      "               12     504.2 (2.2)      [   507.3 (3.4) ]  \n",
      "               13     527.6 (2.1)      [   530.4 (3.5) ]  \n",
      "               14     529.8 (1.9)      [   529.8 (3.5) ]  \n",
      "               15     547.2 (1.9)      [   542.4 (3.6) ]  *\n",
      "               16     558.5 (2.7)      [   560.2 (3.7) ]  \n",
      "           m_pi 0     326.0 (1.7)      [   327.9 (2.9) ]  \n",
      "                1     132.49 (78)      [   134.4 (1.1) ]  *\n",
      "                2     225.88 (96)      [   221.3 (1.8) ]  **\n",
      "                3     316.5 (1.2)      [   318.1 (2.6) ]  \n",
      "                4     354.1 (1.3)      [   356.8 (2.9) ]  \n",
      "                5     407.9 (2.2)      [   409.5 (3.3) ]  \n",
      "                6     133.62 (73)      [   132.89 (97) ]  \n",
      "                7     219.05 (81)      [   219.2 (1.6) ]  \n",
      "                8     310.40 (96)      [   308.6 (2.3) ]  \n",
      "                9     350.0 (1.0)      [   349.9 (2.6) ]  \n",
      "               10     400.0 (1.7)      [   398.2 (2.9) ]  \n",
      "               11     135.14 (82)      [   134.95 (90) ]  \n",
      "               12     215.44 (95)      [   216.8 (1.4) ]  \n",
      "               13     307.8 (1.2)      [   309.4 (2.1) ]  \n",
      "               14     307.0 (1.1)      [   306.9 (2.0) ]  \n",
      "               15     350.2 (1.2)      [   347.1 (2.3) ]  *\n",
      "               16     395.9 (1.9)      [   397.0 (2.6) ]  \n",
      "        lam_chi 0    1315.3 (6.7)      [     1323 (12) ]  \n",
      "                1    1142.0 (6.7)      [  1158.5 (9.3) ]  *\n",
      "                2    1242.2 (5.3)      [  1216.9 (9.8) ]  **\n",
      "                3    1286.8 (4.7)      [     1293 (10) ]  \n",
      "                4    1314.5 (4.8)      [     1325 (11) ]  \n",
      "                5    1368.7 (7.4)      [     1374 (11) ]  \n",
      "                6    1178.0 (6.4)      [  1171.6 (8.5) ]  \n",
      "                7    1207.9 (4.5)      [  1208.5 (8.8) ]  \n",
      "                8    1268.9 (3.9)      [  1261.5 (9.2) ]  \n",
      "                9    1294.9 (3.8)      [  1294.5 (9.4) ]  \n",
      "               10    1341.5 (5.8)      [  1335.5 (9.7) ]  \n",
      "               11    1176.5 (7.2)      [  1174.9 (7.8) ]  \n",
      "               12    1191.6 (5.3)      [  1199.0 (8.0) ]  \n",
      "               13    1233.9 (4.9)      [  1240.5 (8.2) ]  \n",
      "               14    1251.3 (4.5)      [  1251.3 (8.3) ]  \n",
      "               15    1278.3 (4.5)      [  1267.0 (8.4) ]  *\n",
      "               16    1304.0 (6.2)      [  1307.8 (8.7) ]  \n",
      "         eps2_a 0   0.029618 (41)      [ 0.029618 (41) ]  \n",
      "                1   0.065325 (70)      [ 0.065325 (70) ]  \n",
      "                2   0.066506 (83)      [ 0.066506 (83) ]  \n",
      "                3    0.06877 (16)      [  0.06877 (16) ]  \n",
      "                4    0.06998 (19)      [  0.06998 (19) ]  \n",
      "                5    0.07160 (20)      [  0.07160 (20) ]  \n",
      "                6   0.123786 (95)      [ 0.123786 (95) ]  \n",
      "                7    0.12594 (12)      [  0.12594 (12) ]  \n",
      "                8    0.13009 (23)      [  0.13008 (23) ]  \n",
      "                9    0.13214 (20)      [  0.13214 (20) ]  \n",
      "               10    0.13446 (16)      [  0.13446 (16) ]  \n",
      "               11    0.19514 (12)      [  0.19514 (12) ]  \n",
      "               12    0.19737 (28)      [  0.19737 (28) ]  \n",
      "               13    0.20367 (32)      [  0.20368 (32) ]  \n",
      "               14    0.20416 (25)      [  0.20416 (25) ]  \n",
      "               15    0.20707 (48)      [  0.20706 (48) ]  \n",
      "               16    0.21167 (56)      [  0.21168 (56) ]  \n",
      "\n",
      "Fit:\n",
      "         key          y[key]       f(p)[key]\n",
      "--------------------------------------------\n",
      "    proton 0       1121 (10)    1114.9 (5.7)  \n",
      "           1     958.4 (7.7)     944.8 (5.6)  *\n",
      "           2     984.4 (7.9)    1004.9 (4.3)  **\n",
      "           3    1110.7 (8.9)    1105.3 (4.0)  \n",
      "           4    1158.1 (9.3)    1149.3 (4.2)  \n",
      "           5    1211.3 (9.7)    1206.8 (6.5)  \n",
      "           6     934.1 (6.8)     939.2 (5.1)  \n",
      "           7     998.3 (7.3)     997.8 (3.7)  \n",
      "           8    1074.4 (7.8)    1080.6 (3.3)  \n",
      "           9    1124.0 (8.2)    1124.3 (3.3)  \n",
      "          10    1168.4 (8.5)    1173.7 (5.1)  \n",
      "          11     950.8 (6.3)     952.1 (5.8)  \n",
      "          12     993.1 (6.6)     987.1 (4.4)  \n",
      "          13    1078.1 (7.2)    1072.3 (4.2)  \n",
      "          14    1057.1 (7.0)    1057.1 (3.8)  \n",
      "          15    1092.9 (7.3)    1102.6 (3.9)  *\n",
      "          16    1158.1 (7.7)    1154.7 (5.5)  \n",
      "\n",
      "Settings:\n",
      "  svdcut/n = 1e-12/0    tol = (1e-08,1e-10,1e-10)    (itns/time = 1000*/2.7)\n",
      "  fitter = scipy_least_squares    method = trf\n",
      "\n"
     ]
    }
   ],
   "source": [
    "fit_test = fit.fit_routine(prior=prior, data=data, model_info=model_info)\n",
    "fit_out = fit_test.fit\n",
    "print(fit_out.format(maxline=True))\n"
   ]
  },
  {
   "cell_type": "code",
   "execution_count": null,
   "metadata": {
    "tags": []
   },
   "outputs": [
    {
     "name": "stdout",
     "output_type": "stream",
     "text": [
      "{'proton': 944.0(7.1)}\n"
     ]
    }
   ],
   "source": [
    "from importlib import reload\n",
    "reload(fa)\n",
    "fit_analysis = fa.fit_analysis(\n",
    "    phys_point_data=phys_point_data, data=data, model_info=model_info, prior=prior)\n",
    "fit_analysis_sigma = fa.fit_analysis(\n",
    "    phys_point_data=phys_point_data, data=data, model_info=model_info_sigma, prior=prior)\n",
    "extrap_mass = fit_analysis.extrapolated_mass\n",
    "extrap_mass_deriv = fit_analysis_sigma.extrapolated_mass\n",
    "m_proton = extrap_mass['proton']\n",
    "m_proton_deriv = extrap_mass_deriv['proton']\n"
   ]
  },
  {
   "cell_type": "code",
   "execution_count": null,
   "metadata": {},
   "outputs": [
    {
     "name": "stdout",
     "output_type": "stream",
     "text": [
      "sigma w/ gv.deriv: 53.12(24)\n",
      "sigma analytic: 48.53(38)\n"
     ]
    }
   ],
   "source": [
    "reload(io)\n",
    "m_pi = phys_point_data['m_pi']\n",
    "lam_chi = phys_point_data['lam_chi']\n",
    "e_pi = m_pi / lam_chi\n",
    "sigma = m_pi**2 * gv.deriv(m_proton, m_pi**2)\n",
    "l3 = gv.gvar('3.53(26)')\n",
    "l4 = gv.gvar('4.73(10)')\n",
    "sigma_analytic = e_pi/2 * (1 + e_pi**2*(5/2 - l3/2 - 2*l4)) * m_proton_deriv\n",
    "print('sigma w/ gv.deriv:', sigma)\n",
    "print('sigma analytic:', sigma_analytic)\n"
   ]
  },
  {
   "cell_type": "code",
   "execution_count": null,
   "metadata": {},
   "outputs": [
    {
     "ename": "KeyError",
     "evalue": "'m_{proton,0}'",
     "output_type": "error",
     "traceback": [
      "\u001b[0;31m---------------------------------------------------------------------------\u001b[0m",
      "\u001b[0;31mKeyError\u001b[0m                                  Traceback (most recent call last)",
      "Cell \u001b[0;32mIn[15], line 1\u001b[0m\n\u001b[0;32m----> 1\u001b[0m \u001b[38;5;28mprint\u001b[39m(\u001b[43mfit_analysis\u001b[49m\u001b[38;5;241;43m.\u001b[39;49m\u001b[43merror_budget\u001b[49m)\n",
      "File \u001b[0;32m~/lqcd/hyperon-xpt-master/xpt/fit_analysis.py:76\u001b[0m, in \u001b[0;36mfit_analysis.error_budget\u001b[0;34m(self)\u001b[0m\n\u001b[1;32m     73\u001b[0m output \u001b[39m=\u001b[39m \u001b[39m'\u001b[39m\u001b[39m'\u001b[39m\n\u001b[1;32m     75\u001b[0m output \u001b[39m+\u001b[39m\u001b[39m=\u001b[39m \u001b[39m'\u001b[39m\u001b[39m\\n\u001b[39;00m\u001b[39m'\u001b[39m\n\u001b[0;32m---> 76\u001b[0m output \u001b[39m+\u001b[39m\u001b[39m=\u001b[39m \u001b[39mstr\u001b[39m(\u001b[39mself\u001b[39;49m\u001b[39m.\u001b[39;49m_get_error_budget(particle\u001b[39m=\u001b[39;49m\u001b[39m'\u001b[39;49m\u001b[39mproton\u001b[39;49m\u001b[39m'\u001b[39;49m))\n\u001b[1;32m     77\u001b[0m \u001b[39mreturn\u001b[39;00m output\n",
      "File \u001b[0;32m~/lqcd/hyperon-xpt-master/xpt/fit_analysis.py:130\u001b[0m, in \u001b[0;36mfit_analysis._get_error_budget\u001b[0;34m(self, **kwargs)\u001b[0m\n\u001b[1;32m    125\u001b[0m \u001b[39m# if verbose:\u001b[39;00m\n\u001b[1;32m    126\u001b[0m \u001b[39m#     if output is None:\u001b[39;00m\n\u001b[1;32m    127\u001b[0m \u001b[39m#         output = ''\u001b[39;00m\n\u001b[1;32m    129\u001b[0m result \u001b[39m=\u001b[39m {}\n\u001b[0;32m--> 130\u001b[0m result[\u001b[39m'\u001b[39m\u001b[39mdisc\u001b[39m\u001b[39m'\u001b[39m] \u001b[39m=\u001b[39m mdls\u001b[39m.\u001b[39;49mfit\u001b[39m.\u001b[39mp\u001b[39m.\u001b[39mpartialsdev(\n\u001b[1;32m    131\u001b[0m     [\u001b[39mself\u001b[39m\u001b[39m.\u001b[39mprior[key] \u001b[39mfor\u001b[39;00m key \u001b[39min\u001b[39;00m disc_keys \u001b[39mif\u001b[39;00m key \u001b[39min\u001b[39;00m \u001b[39mself\u001b[39m\u001b[39m.\u001b[39mprior]\n\u001b[1;32m    132\u001b[0m )\n\u001b[1;32m    133\u001b[0m result[\u001b[39m'\u001b[39m\u001b[39mchiral\u001b[39m\u001b[39m'\u001b[39m] \u001b[39m=\u001b[39m mdls\u001b[39m.\u001b[39mfit\u001b[39m.\u001b[39mp\u001b[39m.\u001b[39mpartialsdev(\n\u001b[1;32m    134\u001b[0m     [\u001b[39mself\u001b[39m\u001b[39m.\u001b[39mprior[key] \u001b[39mfor\u001b[39;00m key \u001b[39min\u001b[39;00m chiral_keys \u001b[39mif\u001b[39;00m key \u001b[39min\u001b[39;00m \u001b[39mself\u001b[39m\u001b[39m.\u001b[39mprior]\n\u001b[1;32m    135\u001b[0m )\n\u001b[1;32m    136\u001b[0m result[\u001b[39m'\u001b[39m\u001b[39mstrange\u001b[39m\u001b[39m'\u001b[39m] \u001b[39m=\u001b[39m mdls\u001b[39m.\u001b[39mfit\u001b[39m.\u001b[39mp\u001b[39m.\u001b[39mpartialsdev(\n\u001b[1;32m    137\u001b[0m     [\u001b[39mself\u001b[39m\u001b[39m.\u001b[39mprior[key] \u001b[39mfor\u001b[39;00m key \u001b[39min\u001b[39;00m strange_keys \u001b[39mif\u001b[39;00m key \u001b[39min\u001b[39;00m \u001b[39mself\u001b[39m\u001b[39m.\u001b[39mprior]\n\u001b[1;32m    138\u001b[0m )\n",
      "File \u001b[0;32m~/lqcd/hyperon-xpt-master/xpt/fit_routine.py:34\u001b[0m, in \u001b[0;36mfit_routine.fit\u001b[0;34m(self)\u001b[0m\n\u001b[1;32m     32\u001b[0m \u001b[39mif\u001b[39;00m \u001b[39mself\u001b[39m\u001b[39m.\u001b[39m_fit \u001b[39mis\u001b[39;00m \u001b[39mNone\u001b[39;00m:\n\u001b[1;32m     33\u001b[0m     models \u001b[39m=\u001b[39m \u001b[39mself\u001b[39m\u001b[39m.\u001b[39m_make_models()\n\u001b[0;32m---> 34\u001b[0m     prior \u001b[39m=\u001b[39m \u001b[39mself\u001b[39;49m\u001b[39m.\u001b[39;49m_make_prior()\n\u001b[1;32m     35\u001b[0m     data \u001b[39m=\u001b[39m \u001b[39mself\u001b[39m\u001b[39m.\u001b[39my\n\u001b[1;32m     37\u001b[0m     fitter \u001b[39m=\u001b[39m lsqfit\u001b[39m.\u001b[39mMultiFitter(models\u001b[39m=\u001b[39mmodels)\n",
      "File \u001b[0;32m~/lqcd/hyperon-xpt-master/xpt/fit_routine.py:197\u001b[0m, in \u001b[0;36mfit_routine._make_prior\u001b[0;34m(self, data)\u001b[0m\n\u001b[1;32m    195\u001b[0m             keys\u001b[39m.\u001b[39mextend(\u001b[39mself\u001b[39m\u001b[39m.\u001b[39m_get_prior_keys(particle\u001b[39m=\u001b[39mp, order\u001b[39m=\u001b[39mo, lec_type \u001b[39m=\u001b[39m l))\n\u001b[1;32m    196\u001b[0m \u001b[39mfor\u001b[39;00m key \u001b[39min\u001b[39;00m keys:\n\u001b[0;32m--> 197\u001b[0m     new_prior[key] \u001b[39m=\u001b[39m prior[key]\n\u001b[1;32m    199\u001b[0m \u001b[39mif\u001b[39;00m \u001b[39mself\u001b[39m\u001b[39m.\u001b[39mmodel_info[\u001b[39m'\u001b[39m\u001b[39morder_strange\u001b[39m\u001b[39m'\u001b[39m] \u001b[39mis\u001b[39;00m \u001b[39mnot\u001b[39;00m \u001b[39mNone\u001b[39;00m:\n\u001b[1;32m    200\u001b[0m     new_prior[\u001b[39m'\u001b[39m\u001b[39mm_k\u001b[39m\u001b[39m'\u001b[39m] \u001b[39m=\u001b[39m data[\u001b[39m'\u001b[39m\u001b[39mm_k\u001b[39m\u001b[39m'\u001b[39m]\n",
      "\u001b[0;31mKeyError\u001b[0m: 'm_{proton,0}'"
     ]
    }
   ],
   "source": [
    "print(fit_analysis.error_budget)\n"
   ]
  }
 ],
 "metadata": {
  "kernelspec": {
   "display_name": "Python 3.10.10 64-bit",
   "language": "python",
   "name": "python3"
  },
  "language_info": {
   "codemirror_mode": {
    "name": "ipython",
    "version": 3
   },
   "file_extension": ".py",
   "mimetype": "text/x-python",
   "name": "python",
   "nbconvert_exporter": "python",
   "pygments_lexer": "ipython3",
   "version": "3.10.9"
  },
  "orig_nbformat": 2,
  "vscode": {
   "interpreter": {
    "hash": "aee8b7b246df8f9039afb4144a1f6fd8d2ca17a180786b69acc140d282b71a49"
   }
  }
 },
 "nbformat": 4,
 "nbformat_minor": 2
}

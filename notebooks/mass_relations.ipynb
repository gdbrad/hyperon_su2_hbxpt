{
 "metadata": {
  "language_info": {
   "codemirror_mode": {
    "name": "ipython",
    "version": 3
   },
   "file_extension": ".py",
   "mimetype": "text/x-python",
   "name": "python",
   "nbconvert_exporter": "python",
   "pygments_lexer": "ipython3",
   "version": 3
  },
  "orig_nbformat": 2
 },
 "nbformat": 4,
 "nbformat_minor": 2,
 "cells": [
  {
   "cell_type": "code",
   "execution_count": null,
   "metadata": {},
   "outputs": [],
   "source": [
    "import mass_relations as mass \n",
    "reload(mass)\n",
    "\n",
    "hyp_mass = mass.Mass_Combinations(lam= p['m_{lambda,0}'], sigma=p['m_{sigma,0}'], xi=p['m_{xi,0}'], delta=p['m_{xi_st,0}'], sigma_st=p['m_{sigma_st,0}'], xi_st=p['m_{xi_st,0}'], omega= p['m_{omega,0}'],p=prior )\n",
    "#print(mass.m2, mass.m2_c)\n",
    "print(hyp_mass.eps)\n",
    "print('Label  Mass_combo')\n",
    "for label, mass_combs in hyp_mass.M.items():\n",
    "    print('{}    {}'.format(label, mass_combs))\n",
    "\n",
    "print('c  Value')\n",
    "for c, valuee in hyp_mass.c.items():\n",
    "    print('{}    {}'.format(c, valuee))\n",
    "\n",
    "\n",
    "print('R  Value')\n",
    "for r, value in hyp_mass.R.items():\n",
    "    print('{}    {}'.format(r, value))\n",
    "\n",
    "print(mass.plot_baryon_mass_mpi)"
   ]
  },
  {
   "cell_type": "code",
   "execution_count": null,
   "metadata": {},
   "outputs": [],
   "source": [
    "pdg = {}\n",
    "pdg['lambda'] = input_output.get_data_phys_point(param='m_lambda')#gv.gvar(1115.683,0.006)\n",
    "pdg['sigma'] = input_output.get_data_phys_point(param='m_sigma')#Gv.gvar(1192.642, 0.024)\n",
    "pdg['sigma_st'] = input_output.get_data_phys_point(param='m_sigma_st')#gv.gvar(1382.80,0.35)$\\mathcal{L} = \\frac{\\sigma_N}{4\\pi F}8(4B^2\\hat{m}^2) [\\bar{p}p + \\bar{n}n] $\n",
    "\n",
    "pdg['xi'] = input_output.get_data_phys_point(param='m_xi_st') #gv.gvar(1314.86,0.20)\n",
    "pdg['xi_st'] = input_output.get_data_phys_point(param='m_xi_st')\n",
    "pdg['delta'] = gv.gvar(1115.683,0.006)\n",
    "pdg['omega'] = input_output.get_data_phys_point(param='m_omega')"
   ]
  },
  {
   "cell_type": "code",
   "execution_count": null,
   "metadata": {},
   "outputs": [],
   "source": [
    "# using pdg masses #\n",
    "mass_pdg = mass.Mass_Combinations(lam= pdg['lambda'], sigma=pdg['sigma'], xi=pdg['xi'], delta=pdg['delta'], sigma_st=pdg['sigma_st'], xi_st=pdg['xi_st'],p=p )\n",
    "#print(mass_pdg)\n",
    "print('Label  Mass_combo')\n",
    "for label, mass_combs in mass_pdg.M.items():\n",
    "    print('{}    {}'.format(label, mass_combs))"
   ]
  }
 ]
}
{
 "cells": [
  {
   "cell_type": "code",
   "execution_count": 1,
   "metadata": {
    "tags": []
   },
   "outputs": [],
   "source": [
    "import numpy as np\n",
    "import gvar as gv\n",
    "import sys\n",
    "sys.path.append('../')\n",
    "#from h5glance import H5Glance \n",
    "import os\n",
    "import lsqfit\n",
    "import io\n",
    "import yaml\n",
    "import warnings  \n",
    "warnings.simplefilter(action=\"default\")"
   ]
  },
  {
   "cell_type": "code",
   "execution_count": 2,
   "metadata": {},
   "outputs": [],
   "source": [
    "os.chdir('../../hyperon-xpt-master/xpt')"
   ]
  },
  {
   "cell_type": "code",
   "execution_count": 3,
   "metadata": {},
   "outputs": [
    {
     "output_type": "stream",
     "name": "stderr",
     "text": [
      "/Users/grantdb/anaconda/lib/python3.6/importlib/_bootstrap.py:205: ImportWarning: can't resolve package from __spec__ or __package__, falling back on __name__ and __path__\n  return f(*args, **kwds)\n"
     ]
    }
   ],
   "source": [
    "import fit_analysis as fa \n",
    "import fit_routine as fit\n",
    "import i_o\n",
    "import priors"
   ]
  },
  {
   "cell_type": "code",
   "execution_count": 4,
   "metadata": {},
   "outputs": [],
   "source": [
    "import tests\n",
    "import importlib\n",
    "importlib.reload(tests)\n",
    "importlib.reload(fit)\n",
    "verbose_fitfcn = tests.VerboseFitfcn(force_gvars=True)\n",
    "#print(verbose_fitfcn)"
   ]
  },
  {
   "cell_type": "code",
   "execution_count": 17,
   "metadata": {
    "tags": []
   },
   "outputs": [
    {
     "output_type": "execute_result",
     "data": {
      "text/plain": [
       "<module 'fit_routine' from '/Users/grantdb/hyperon-xpt-master/xpt/fit_routine.py'>"
      ]
     },
     "metadata": {},
     "execution_count": 17
    }
   ],
   "source": [
    "from importlib import reload\n",
    "reload(i_o)\n",
    "#reload(fa)\n",
    "reload(fit)"
   ]
  },
  {
   "cell_type": "code",
   "execution_count": 6,
   "metadata": {},
   "outputs": [],
   "source": [
    "file = '../data/hyperon_data.h5'\n",
    "#H5Glance(file)\n",
    "#file2 = '../data/input_data.h5'\n",
    "#H5Glance(file2)\n",
    "#file2 = '~/Documents/hyperon_ga/hyper_spec_axial.h5'"
   ]
  },
  {
   "cell_type": "code",
   "execution_count": 7,
   "metadata": {},
   "outputs": [],
   "source": [
    "# a_fm = gv.load('a_fm_results.p')\n",
    "# a_fm_out = gv.evalcorr([v for k,v in a_fm.items()])\n",
    "# #print(a_fm_out)"
   ]
  },
  {
   "cell_type": "code",
   "execution_count": 8,
   "metadata": {},
   "outputs": [],
   "source": [
    "# w0_a = gv.load('w0_a_results.p')\n",
    "# w0_a_out = gv.evalcorr([v for k,v in w0_a.items()])\n",
    "# print(w0_a_out)"
   ]
  },
  {
   "cell_type": "code",
   "execution_count": 9,
   "metadata": {
    "tags": []
   },
   "outputs": [],
   "source": [
    "from priors import prior\n",
    "prior = prior\n",
    "#print(prior)"
   ]
  },
  {
   "cell_type": "code",
   "execution_count": 10,
   "metadata": {},
   "outputs": [],
   "source": [
    "f = open('models.yaml', 'r')\n",
    "models = yaml.load(f)\n",
    "    #print(keys)\n",
    "model_info = {}\n",
    "for item in models.values():\n",
    "        model_info = item['xi:xi_st:s_n2lo:d_n2lo:x_n2lo']\n",
    "#print(model_info)"
   ]
  },
  {
   "cell_type": "code",
   "execution_count": 11,
   "metadata": {},
   "outputs": [
    {
     "output_type": "stream",
     "name": "stderr",
     "text": [
      "/Users/grantdb/hyperon-xpt-master/xpt/i_o.py:106: UserWarning: sample sizes differ for different entries: 5000 5001\n  gv_data[ens] = gv.dataset.avg_data(gv_data[ens], bstrap=True)\n"
     ]
    }
   ],
   "source": [
    "input_output = i_o.InputOutput()\n",
    "data,ensembles = input_output.get_data(scheme='w0_imp')\n",
    "prior = input_output.make_prior(data,prior)\n",
    "phys_point_data = input_output.get_data_phys_point()"
   ]
  },
  {
   "cell_type": "code",
   "execution_count": 12,
   "metadata": {},
   "outputs": [],
   "source": [
    " fit_test = fit.fit_routine(prior=prior, data=data, model_info=model_info)"
   ]
  },
  {
   "cell_type": "code",
   "execution_count": 13,
   "metadata": {},
   "outputs": [
    {
     "output_type": "stream",
     "name": "stdout",
     "text": [
      "Least Square Fit:\n  chi2/dof [dof] = 0.51 [34]    Q = 0.99    logGBF = -151.63\n\nParameters:\n             m_{xi,0}       1317 (21)      [   1000 (1000) ]  \n          m_{xi_st,0}       1540 (28)      [   1300 (1000) ]  \n         m_{lambda,0}     1000 (1000)      [   1000 (1000) ]  \n          m_{sigma,0}     1200 (1000)      [   1200 (1000) ]  \n       m_{sigma_st,0}     1400 (1000)      [   1400 (1000) ]  \n          m_{omega,0}     1650 (1000)      [   1650 (1000) ]  \n               s_{xi}       2.0 (1.2)      [     0.0 (5.0) ]  \n           s_{xi,bar}       1.5 (1.2)      [     0.0 (5.0) ]  \n           s_{lambda}     -2e-16 +- 5      [     0.0 (5.0) ]  \n        s_{sigma,bar}      6e-17 +- 5      [     0.0 (5.0) ]  \n            s_{sigma}      3e-16 +- 5      [     0.0 (5.0) ]  \n        s_{omega,bar}     -4e-16 +- 5      [     0.0 (5.0) ]  \n            g_{xi,xi}       0.1 (2.9)      [     0.3 (3.0) ]  \n         g_{xi_st,xi}       0.7 (1.4)      [     0.7 (3.0) ]  \n      g_{xi_st,xi_st}      -0.6 (1.7)      [    -0.5 (3.0) ]  \n     g_{lambda,sigma}      3e-15 +- 5      [     0.0 (5.0) ]  \n  g_{lambda,sigma_st}     -8e-16 +- 5      [     0.0 (5.0) ]  \n      g_{sigma,sigma}      2e-16 +- 5      [     0.0 (5.0) ]  \n   g_{sigma_st,sigma}      3e-16 +- 5      [     0.0 (5.0) ]  \ng_{sigma_st,sigma_st}      1e-15 +- 5      [     0.0 (5.0) ]  \n             a_{xi,4}      -0.7 (4.5)      [     0.0 (5.0) ]  \n          a_{xi_st,4}       0.3 (4.7)      [     0.0 (5.0) ]  \n             b_{xi,4}      -0.6 (4.7)      [     0.0 (5.0) ]  \n          b_{xi_st,4}       0.2 (4.8)      [     0.0 (5.0) ]  \n          a_{sigma,4}     -6e-17 +- 5      [     0.0 (5.0) ]  \n       a_{sigma_st,4}     -2e-15 +- 5      [     0.0 (5.0) ]  \n          b_{sigma,4}      1e-17 +- 5      [     0.0 (5.0) ]  \n       b_{sigma_st,4}     -2e-16 +- 5      [     0.0 (5.0) ]  \n         a_{lambda,4}     -1e-15 +- 5      [     0.0 (5.0) ]  \n         b_{lambda,4}      2e-15 +- 5      [     0.0 (5.0) ]  \n          a_{omega,4}      8e-16 +- 5      [     0.0 (5.0) ]  \n          b_{omega,4}     -6e-17 +- 5      [     0.0 (5.0) ]  \n          a_{omega,6}      2e-15 +- 5      [     0.0 (5.0) ]  \n          b_{omega,6}     -4e-17 +- 5      [     0.0 (5.0) ]  \n          t_{omega,A}     -2e-16 +- 2      [     0.0 (2.0) ]  \n             d_{xi,a}      -0.52 (15)      [     0.0 (1.0) ]  \n          d_{xi_st,a}      -0.09 (18)      [     0.0 (1.0) ]  \n             d_{xi,s}       0.42 (40)      [     0.0 (1.0) ]  \n          d_{xi_st,s}       0.08 (43)      [     0.0 (1.0) ]  \n         d_{lambda,s}      3e-16 +- 1      [     0.0 (1.0) ]  \n         d_{lambda,a}     -1e-17 +- 1      [     0.0 (1.0) ]  \n       d_{sigma_st,a}     -3e-17 +- 1      [     0.0 (1.0) ]  \n       d_{sigma_st,s}      5e-17 +- 1      [     0.0 (1.0) ]  \n          d_{sigma,s}     -6e-17 +- 1      [     0.0 (1.0) ]  \n          d_{sigma,a}      1e-17 +- 1      [     0.0 (1.0) ]  \n          d_{omega,s}      1e-17 +- 1      [     0.0 (1.0) ]  \n          d_{omega,a}      5e-17 +- 1      [     0.0 (1.0) ]  \n            d_{xi,aa}       0.70 (59)      [     0.0 (1.0) ]  \n            d_{xi,al}      -0.78 (82)      [     0.0 (1.0) ]  \n            d_{xi,as}       0.78 (80)      [     0.0 (1.0) ]  \n            d_{xi,ls}       0.05 (99)      [     0.0 (1.0) ]  \n            d_{xi,ss}      -0.10 (97)      [     0.0 (1.0) ]  \n         d_{xi_st,aa}      -0.38 (66)      [     0.0 (1.0) ]  \n         d_{xi_st,al}      -0.82 (84)      [     0.0 (1.0) ]  \n         d_{xi_st,as}       1.01 (83)      [     0.0 (1.0) ]  *\n         d_{xi_st,ls}      -0.07 (99)      [     0.0 (1.0) ]  \n         d_{xi_st,ss}       0.22 (97)      [     0.0 (1.0) ]  \n        d_{lambda,aa}      5e-17 +- 1      [     0.0 (1.0) ]  \n        d_{lambda,al}     -8e-17 +- 1      [     0.0 (1.0) ]  \n        d_{lambda,as}      2e-16 +- 1      [     0.0 (1.0) ]  \n        d_{lambda,ls}     -1e-17 +- 1      [     0.0 (1.0) ]  \n        d_{lambda,ss}     -5e-17 +- 1      [     0.0 (1.0) ]  \n         d_{sigma,aa}      2e-17 +- 1      [     0.0 (1.0) ]  \n         d_{sigma,al}      3e-18 +- 1      [     0.0 (1.0) ]  \n         d_{sigma,as}     -3e-17 +- 1      [     0.0 (1.0) ]  \n         d_{sigma,ls}     -1e-16 +- 1      [     0.0 (1.0) ]  \n         d_{sigma,ss}      6e-17 +- 1      [     0.0 (1.0) ]  \n      d_{sigma_st,aa}     -7e-18 +- 1      [     0.0 (1.0) ]  \n      d_{sigma_st,al}     -2e-17 +- 1      [     0.0 (1.0) ]  \n      d_{sigma_st,as}     -3e-17 +- 1      [     0.0 (1.0) ]  \n      d_{sigma_st,ls}     -6e-17 +- 1      [     0.0 (1.0) ]  \n      d_{sigma_st,ss}     -4e-17 +- 1      [     0.0 (1.0) ]  \n         d_{omega,aa}      9e-17 +- 1      [     0.0 (1.0) ]  \n         d_{omega,al}     -1e-16 +- 1      [     0.0 (1.0) ]  \n         d_{omega,as}      2e-16 +- 1      [     0.0 (1.0) ]  \n         d_{omega,ls}      3e-16 +- 1      [     0.0 (1.0) ]  \n         d_{omega,ss}      3e-16 +- 1      [     0.0 (1.0) ]  \n               m_pi 0     325.6 (2.0)      [   327.9 (2.9) ]  \n                    1     136.10 (78)      [   134.4 (1.1) ]  *\n                    2     222.6 (1.1)      [   221.3 (1.8) ]  \n                    3     316.6 (1.3)      [   318.1 (2.6) ]  \n                    4     355.3 (1.5)      [   356.8 (2.9) ]  \n                    5     408.1 (2.2)      [   409.5 (3.3) ]  \n                    6     132.35 (70)      [   132.9 (1.0) ]  \n                    7     219.27 (90)      [   219.2 (1.6) ]  \n                    8     309.1 (1.2)      [   308.6 (2.3) ]  \n                    9     350.8 (1.3)      [   349.9 (2.6) ]  \n                   10     398.9 (1.8)      [   398.2 (2.9) ]  \n                   11     134.07 (76)      [   134.96 (90) ]  \n                   12     216.86 (94)      [   216.8 (1.5) ]  \n                   13     309.3 (1.2)      [   309.5 (2.1) ]  \n                   14     306.6 (1.2)      [   307.0 (2.1) ]  \n                   15     348.9 (1.5)      [   347.1 (2.3) ]  \n                   16     397.2 (2.1)      [   397.0 (2.7) ]  \n                m_k 0     557.9 (3.4)      [   561.9 (5.0) ]  \n                    1     500.1 (2.8)      [   493.9 (4.0) ]  *\n                    2     520.0 (2.5)      [   517.0 (4.2) ]  \n                    3     542.3 (2.1)      [   544.9 (4.4) ]  \n                    4     555.9 (2.2)      [   558.2 (4.5) ]  \n                    5     575.0 (3.0)      [   576.9 (4.6) ]  \n                    6     492.0 (2.4)      [   494.1 (3.6) ]  \n                    7     507.5 (2.0)      [   507.3 (3.7) ]  \n                    8     531.0 (2.0)      [   530.1 (3.9) ]  \n                    9     546.0 (2.0)      [   544.7 (4.0) ]  \n                   10     562.7 (2.6)      [   561.6 (4.1) ]  \n                   11     504.8 (2.9)      [   508.1 (3.4) ]  \n                   12     507.5 (2.1)      [   507.3 (3.4) ]  \n                   13     530.1 (1.9)      [   530.5 (3.5) ]  \n                   14     529.2 (2.1)      [   529.8 (3.5) ]  \n                   15     545.1 (2.3)      [   542.4 (3.6) ]  \n                   16     560.4 (3.0)      [   560.2 (3.7) ]  \n            lam_chi 0    1313.3 (8.4)      [     1323 (12) ]  \n                    1    1173.5 (7.0)      [  1158.4 (9.7) ]  *\n                    2    1224.3 (6.0)      [     1217 (10) ]  \n                    3    1286.8 (5.1)      [     1293 (11) ]  \n                    4    1318.7 (5.4)      [     1325 (11) ]  \n                    5    1369.4 (7.3)      [     1374 (11) ]  \n                    6    1166.2 (6.0)      [  1171.6 (8.8) ]  \n                    7    1209.8 (5.2)      [  1208.7 (9.2) ]  \n                    8    1263.5 (4.9)      [  1261.5 (9.5) ]  \n                    9    1297.7 (5.1)      [  1294.5 (9.9) ]  \n                   10    1338.1 (6.4)      [     1336 (10) ]  \n                   11    1167.1 (6.8)      [  1174.9 (8.0) ]  \n                   12    1199.4 (5.0)      [  1199.0 (8.1) ]  \n                   13    1240.0 (4.5)      [  1240.7 (8.4) ]  \n                   14    1249.8 (5.1)      [  1251.3 (8.6) ]  \n                   15    1273.5 (5.4)      [  1267.0 (8.6) ]  \n                   16    1308.4 (7.1)      [  1307.9 (8.9) ]  \n             eps2_a 0   0.029617 (41)      [ 0.029618 (41) ]  \n                    1   0.065325 (70)      [ 0.065325 (70) ]  \n                    2   0.066506 (83)      [ 0.066506 (83) ]  \n                    3    0.06877 (16)      [  0.06877 (16) ]  \n                    4    0.06998 (19)      [  0.06998 (19) ]  \n                    5    0.07160 (20)      [  0.07160 (20) ]  \n                    6   0.123785 (95)      [ 0.123786 (95) ]  \n                    7    0.12594 (12)      [  0.12594 (12) ]  \n                    8    0.13008 (23)      [  0.13008 (23) ]  \n                    9    0.13214 (20)      [  0.13214 (20) ]  \n                   10    0.13446 (16)      [  0.13446 (16) ]  \n                   11    0.19514 (12)      [  0.19514 (12) ]  \n                   12    0.19737 (28)      [  0.19737 (28) ]  \n                   13    0.20368 (32)      [  0.20368 (32) ]  \n                   14    0.20416 (25)      [  0.20416 (25) ]  \n                   15    0.20707 (48)      [  0.20706 (48) ]  \n                   16    0.21168 (56)      [  0.21168 (56) ]  \n            m_delta 0       1349 (53)      [     1352 (57) ]  \n                    1       1399 (15)      [     1382 (17) ]  \n                    2       1361 (62)      [     1346 (66) ]  \n                    3       1463 (63)      [     1464 (69) ]  \n                    4       1490 (16)      [     1497 (19) ]  \n                    5       1550 (10)      [     1556 (14) ]  \n                    6       1364 (20)      [     1370 (21) ]  \n                    7    1400.2 (6.7)      [     1402 (11) ]  \n                    8       1453 (24)      [     1441 (30) ]  \n                    9       1464 (20)      [     1459 (23) ]  \n                   10       1502 (11)      [     1498 (15) ]  \n                   11       1440 (18)      [     1450 (19) ]  \n                   12       1404 (12)      [     1404 (14) ]  \n                   13    1438.2 (5.5)      [  1439.2 (9.9) ]  \n                   14    1439.4 (7.3)      [     1442 (11) ]  \n                   15       1432 (30)      [     1414 (34) ]  \n                   16       1489 (11)      [     1488 (13) ]  \n\nSettings:\n  svdcut/n = 1e-12/0    tol = (1e-08*,1e-10,1e-10)    (itns/time = 28/2.2)\n\n"
     ]
    }
   ],
   "source": [
    "print(fit_test.fit)"
   ]
  },
  {
   "cell_type": "code",
   "execution_count": 14,
   "metadata": {},
   "outputs": [
    {
     "output_type": "stream",
     "name": "stdout",
     "text": [
      "Least Square Fit:\n  chi2/dof [dof] = 0.93 [2]    Q = 0.39    logGBF = -10.467\n\nParameters:\n             m_{xi,0}          1303 (18)        [    1317 (21) ]  \n          m_{xi_st,0}          1512 (18)        [    1540 (28) ]  *\n         m_{lambda,0}        1000 (1000)        [  1000 (1000) ]  \n          m_{sigma,0}        1200 (1000)        [  1200 (1000) ]  \n       m_{sigma_st,0}        1400 (1000)        [  1400 (1000) ]  \n          m_{omega,0}        1650 (1000)        [  1650 (1000) ]  \n               s_{xi}          2.6 (1.1)        [    2.0 (1.2) ]  \n           s_{xi,bar}          2.44 (99)        [    1.5 (1.2) ]  \n           s_{lambda}         8e-17 +- 5        [  -2e-16 +- 5 ]  \n        s_{sigma,bar}        -1e-16 +- 5        [   6e-17 +- 5 ]  \n            s_{sigma}        -1e-14 +- 5        [   3e-16 +- 5 ]  \n        s_{omega,bar}        -2e-15 +- 5        [  -4e-16 +- 5 ]  \n            g_{xi,xi}          1.45 (59)        [    0.1 (2.9) ]  \n         g_{xi_st,xi}          0.9 (1.3)        [    0.7 (1.4) ]  \n      g_{xi_st,xi_st}         -2.2 (1.0)        [   -0.6 (1.7) ]  \n     g_{lambda,sigma}         9e-15 +- 5        [   3e-15 +- 5 ]  \n  g_{lambda,sigma_st}         9e-16 +- 5        [  -8e-16 +- 5 ]  \n      g_{sigma,sigma}         5e-15 +- 5        [   2e-16 +- 5 ]  \n   g_{sigma_st,sigma}         4e-15 +- 5        [   3e-16 +- 5 ]  \ng_{sigma_st,sigma_st}         5e-15 +- 5        [   1e-15 +- 5 ]  \n             a_{xi,4}         -1.5 (4.4)        [   -0.7 (4.5) ]  \n          a_{xi_st,4}         -2.1 (4.2)        [    0.3 (4.7) ]  \n             b_{xi,4}       -0.04 (4.72)        [   -0.6 (4.7) ]  \n          b_{xi_st,4}          1.8 (4.6)        [    0.2 (4.8) ]  \n          a_{sigma,4}        -1e-14 +- 5        [  -6e-17 +- 5 ]  \n       a_{sigma_st,4}         5e-15 +- 5        [  -2e-15 +- 5 ]  \n          b_{sigma,4}        -1e-16 +- 5        [   1e-17 +- 5 ]  \n       b_{sigma_st,4}        -4e-16 +- 5        [  -2e-16 +- 5 ]  \n         a_{lambda,4}         1e-13 +- 5        [  -1e-15 +- 5 ]  \n         b_{lambda,4}         1e-14 +- 5        [   2e-15 +- 5 ]  \n          a_{omega,4}         7e-14 +- 5        [   8e-16 +- 5 ]  \n          b_{omega,4}        -1e-13 +- 5        [  -6e-17 +- 5 ]  \n          a_{omega,6}        -2e-15 +- 5        [   2e-15 +- 5 ]  \n          b_{omega,6}         3e-15 +- 5        [  -4e-17 +- 5 ]  \n          t_{omega,A}        -6e-15 +- 2        [  -2e-16 +- 2 ]  \n             d_{xi,a}         -0.45 (14)        [   -0.52 (15) ]  \n          d_{xi_st,a}          0.05 (14)        [   -0.09 (18) ]  \n             d_{xi,s}          0.49 (39)        [    0.42 (40) ]  \n          d_{xi_st,s}          0.19 (42)        [    0.08 (43) ]  \n         d_{lambda,s}         2e-17 +- 1        [   3e-16 +- 1 ]  \n         d_{lambda,a}         9e-18 +- 1        [  -1e-17 +- 1 ]  \n       d_{sigma_st,a}         6e-16 +- 1        [  -3e-17 +- 1 ]  \n       d_{sigma_st,s}         1e-15 +- 1        [   5e-17 +- 1 ]  \n          d_{sigma,s}         3e-15 +- 1        [  -6e-17 +- 1 ]  \n          d_{sigma,a}         4e-16 +- 1        [   1e-17 +- 1 ]  \n          d_{omega,s}        -2e-16 +- 1        [   1e-17 +- 1 ]  \n          d_{omega,a}         3e-16 +- 1        [   5e-17 +- 1 ]  \n            d_{xi,aa}          0.45 (56)        [    0.70 (59) ]  \n            d_{xi,al}         -0.86 (82)        [   -0.78 (82) ]  \n            d_{xi,as}          0.89 (80)        [    0.78 (80) ]  \n            d_{xi,ls}          0.03 (99)        [    0.05 (99) ]  \n            d_{xi,ss}         -0.07 (97)        [   -0.10 (97) ]  \n         d_{xi_st,aa}         -0.82 (57)        [   -0.38 (66) ]  \n         d_{xi_st,al}         -0.96 (84)        [   -0.82 (84) ]  \n         d_{xi_st,as}          1.17 (82)        [    1.01 (83) ]  \n         d_{xi_st,ls}         -0.12 (99)        [   -0.07 (99) ]  \n         d_{xi_st,ss}          0.25 (97)        [    0.22 (97) ]  \n        d_{lambda,aa}        -8e-16 +- 1        [   5e-17 +- 1 ]  \n        d_{lambda,al}        -9e-17 +- 1        [  -8e-17 +- 1 ]  \n        d_{lambda,as}         5e-17 +- 1        [   2e-16 +- 1 ]  \n        d_{lambda,ls}        -2e-18 +- 1        [  -1e-17 +- 1 ]  \n        d_{lambda,ss}         8e-17 +- 1        [  -5e-17 +- 1 ]  \n         d_{sigma,aa}        -3e-16 +- 1        [   2e-17 +- 1 ]  \n         d_{sigma,al}        -2e-16 +- 1        [   3e-18 +- 1 ]  \n         d_{sigma,as}         8e-16 +- 1        [  -3e-17 +- 1 ]  \n         d_{sigma,ls}         4e-16 +- 1        [  -1e-16 +- 1 ]  \n         d_{sigma,ss}         6e-16 +- 1        [   6e-17 +- 1 ]  \n      d_{sigma_st,aa}         1e-16 +- 1        [  -7e-18 +- 1 ]  \n      d_{sigma_st,al}        -8e-17 +- 1        [  -2e-17 +- 1 ]  \n      d_{sigma_st,as}        -4e-16 +- 1        [  -3e-17 +- 1 ]  \n      d_{sigma_st,ls}        -4e-16 +- 1        [  -6e-17 +- 1 ]  \n      d_{sigma_st,ss}         5e-16 +- 1        [  -4e-17 +- 1 ]  \n         d_{omega,aa}         4e-16 +- 1        [   9e-17 +- 1 ]  \n         d_{omega,al}         3e-16 +- 1        [  -1e-16 +- 1 ]  \n         d_{omega,as}         1e-16 +- 1        [   2e-16 +- 1 ]  \n         d_{omega,ls}         8e-16 +- 1        [   3e-16 +- 1 ]  \n         d_{omega,ss}         2e-16 +- 1        [   3e-16 +- 1 ]  \n                 m_pi        134.80 (30)        [  134.80 (30) ]  \n                  m_k        494.20 (30)        [  494.20 (30) ]  \n              lam_chi       1157.5 (7.2)        [ 1157.0 (7.2) ]  \n               eps2_a   1e-11 +- 2.4e-06        [ 0.0(2.4)e-06 ]  \n            m_delta 0          1343 (53)        [    1349 (53) ]  \n                    1          1395 (15)        [    1399 (15) ]  \n                    2          1359 (62)        [    1361 (62) ]  \n                    3          1462 (63)        [    1463 (63) ]  \n                    4          1490 (16)        [    1490 (16) ]  \n                    5       1547.8 (9.9)        [    1550 (10) ]  \n                    6          1361 (20)        [    1364 (20) ]  \n                    7       1400.6 (6.7)        [ 1400.2 (6.7) ]  \n                    8          1456 (24)        [    1453 (24) ]  \n                    9          1467 (20)        [    1464 (20) ]  \n                   10          1502 (11)        [    1502 (11) ]  \n                   11          1440 (18)        [    1440 (18) ]  \n                   12          1405 (12)        [    1404 (12) ]  \n                   13       1440.0 (5.3)        [ 1438.2 (5.5) ]  \n                   14       1440.1 (7.3)        [ 1439.4 (7.3) ]  \n                   15          1433 (30)        [    1432 (30) ]  \n                   16          1487 (11)        [    1489 (11) ]  \n\nSettings:\n  svdcut/n = 1e-12/1    tol = (1e-08*,1e-10,1e-10)    (itns/time = 35/0.6)\n\n"
     ]
    }
   ],
   "source": [
    "p = input_output.get_posterior(fit_test=fit_test,prior=prior,param=None)\n",
    "fit_post = fit.fit_routine(prior=p, data=phys_point_data,model_info=model_info)\n",
    "print(fit_post.fit)\n",
    "#print(p)"
   ]
  },
  {
   "cell_type": "code",
   "execution_count": 15,
   "metadata": {},
   "outputs": [
    {
     "output_type": "stream",
     "name": "stdout",
     "text": [
      "[1.1893(67)e-07 1.6830(84)e-07 1.4738(57)e-07 1.1706(39)e-07 1.0504(44)e-07\n 8.750(32)e-08 1.6501(66)e-07 1.4330(65)e-07 1.1673(47)e-07 1.0396(52)e-07\n 8.794(34)e-08 1.7386(55)e-07 1.4632(40)e-07 1.2060(38)e-07 1.1911(46)e-07\n 1.0822(35)e-07 9.128(34)e-08]\nLabel  Mass_combo\nM_1    228(79)\nM_2    46(16)\nM_3    -1.1(1.6)\nM_4    -0.03(32)\nM_5    0.09(95)\nM_6    0.1(1.1)\nM_7    0.02(22)\nM_8    0.003(32)\nM_A    -0.002(141)\nM_B    -0.0007(125)\nM_C    -0.0002(87)\nM_D    -0.002(16)\nc  Value\nc^{1,0}_0    0.43(15)\nc^{1,0}_2    -0.114(40)\nc^{8,0}_1    [-27136(38391) -19176(27130) -21898(30980) -27571(39006) -30725(43469)\n -36884(52181) -19559(27671) -22522(31864) -27649(39116) -31044(43919)\n -36698(51919) -18563(26263) -22057(31205) -26762(37862) -27097(38335)\n -29824(42193) -35358(50023)]\nc^{8,0}_2    [10011(92107) 7074(65090) 8078(74328) 10171(93582) 11335(104290)\n 13607(125193) 7215(66387) 8309(76447) 10200(93848) 11452(105371)\n 13538(124564) 6848(63010) 8137(74866) 9873(90838) 9996(91974)\n 11002(101231) 13044(120014)]\nc^{8,0}_3    [12542(138179) 8863(97647) 10121(111507) 12743(140392) 14201(156456)\n 17047(187815) 9040(99594) 10410(114686) 12779(140791) 14348(158077)\n 16961(186871) 8580(94527) 10194(112315) 12369(136275) 12524(137979)\n 13784(151866) 16342(180046)]\nc^{27,0}_2    [2(19)e+09 9(93)e+08 1(12)e+09 2(19)e+09 2(24)e+09 3(34)e+09 10(97)e+08\n 1(13)e+09 2(19)e+09 2(24)e+09 3(34)e+09 9(87)e+08 1(12)e+09 2(18)e+09\n 2(19)e+09 2(23)e+09 3(32)e+09]\nc^{27,0}_3    [-2(22)e+09 -1(11)e+09 -1(15)e+09 -2(23)e+09 -3(29)e+09 -4(41)e+09\n -1(12)e+09 -2(15)e+09 -2(23)e+09 -3(29)e+09 -4(41)e+09 -1(10)e+09\n -1(15)e+09 -2(22)e+09 -2(22)e+09 -3(27)e+09 -4(38)e+09]\nc^{64,0}_3    [1(11)e+15 4(38)e+14 6(57)e+14 1(11)e+15 2(16)e+15 3(27)e+15 4(41)e+14\n 6(62)e+14 1(11)e+15 2(16)e+15 3(27)e+15 3(35)e+14 6(58)e+14 1(10)e+15\n 1(11)e+15 1(14)e+15 2(24)e+15]\nR  Value\nR_1    152(53)\nR_2    -30(11)\nR_3    -0.50(70)\nR_3_eps    [-4.2(5.9)e+06 -3.0(4.2)e+06 -3.4(4.8)e+06 -4.2(6.0)e+06 -4.7(6.7)e+06\n -5.7(8.0)e+06 -3.0(4.3)e+06 -3.5(4.9)e+06 -4.3(6.0)e+06 -4.8(6.8)e+06\n -5.6(8.0)e+06 -2.9(4.0)e+06 -3.4(4.8)e+06 -4.1(5.8)e+06 -4.2(5.9)e+06\n -4.6(6.5)e+06 -5.4(7.7)e+06]\nR_4    -0.005(46)\nR_4_eps    [-41711(383779) -29476(271206) -33660(309701) -42379(389926) -47228(434541)\n -56695(521639) -30064(276613) -34620(318530) -42499(391033) -47718(439045)\n -56409(519015) -28534(262540) -33904(311943) -41136(378491) -41651(383224)\n -45843(421794) -54349(500060)]\nR_5    0.1(1.6)\nR_5_eps    [1(14)e+06 886298(9764742) 1(11)e+06 1(14)e+06 1(16)e+06 2(19)e+06\n 903967(9959415) 1(11)e+06 1(14)e+06 1(16)e+06 2(19)e+06 857976(9452709)\n 1(11)e+06 1(14)e+06 1(14)e+06 1(15)e+06 2(18)e+06]\nR_6    0.04(42)\nR_6_eps2    [3(29)e+12 1(15)e+12 2(19)e+12 3(30)e+12 4(38)e+12 5(54)e+12 2(15)e+12\n 2(20)e+12 3(30)e+12 4(38)e+12 5(54)e+12 1(14)e+12 2(19)e+12 3(29)e+12\n 3(29)e+12 4(35)e+12 5(50)e+12]\nR_7    -0.02(17)\nR_7_eps2    [-1(12)e+12 -6(59)e+11 -8(76)e+11 -1(12)e+12 -1(15)e+12 -2(22)e+12\n -6(61)e+11 -8(81)e+11 -1(12)e+12 -2(15)e+12 -2(21)e+12 -5(55)e+11\n -8(78)e+11 -1(11)e+12 -1(12)e+12 -1(14)e+12 -2(20)e+12]\nR_8    0.006(62)\nR_8_eps3    [4(37)e+18 1(13)e+18 2(19)e+18 4(38)e+18 5(53)e+18 9(92)e+18 1(14)e+18\n 2(21)e+18 4(39)e+18 5(55)e+18 9(91)e+18 1(12)e+18 2(20)e+18 3(35)e+18\n 4(36)e+18 5(49)e+18 8(81)e+18]\nR_A    -0.0006(354)\nR_B    -0.0002(37)\nR_C    -0.00005(289)\nR_D    -0.0004(40)\n"
     ]
    },
    {
     "output_type": "error",
     "ename": "AttributeError",
     "evalue": "module 'mass_relations' has no attribute 'plot_baryon_mass_mpi'",
     "traceback": [
      "\u001b[0;31m---------------------------------------------------------------------------\u001b[0m",
      "\u001b[0;31mAttributeError\u001b[0m                            Traceback (most recent call last)",
      "\u001b[0;32m<ipython-input-15-af5539b283b8>\u001b[0m in \u001b[0;36m<module>\u001b[0;34m()\u001b[0m\n\u001b[1;32m     18\u001b[0m     \u001b[0mprint\u001b[0m\u001b[0;34m(\u001b[0m\u001b[0;34m'{}    {}'\u001b[0m\u001b[0;34m.\u001b[0m\u001b[0mformat\u001b[0m\u001b[0;34m(\u001b[0m\u001b[0mr\u001b[0m\u001b[0;34m,\u001b[0m \u001b[0mvalue\u001b[0m\u001b[0;34m)\u001b[0m\u001b[0;34m)\u001b[0m\u001b[0;34m\u001b[0m\u001b[0m\n\u001b[1;32m     19\u001b[0m \u001b[0;34m\u001b[0m\u001b[0m\n\u001b[0;32m---> 20\u001b[0;31m \u001b[0mprint\u001b[0m\u001b[0;34m(\u001b[0m\u001b[0mmass\u001b[0m\u001b[0;34m.\u001b[0m\u001b[0mplot_baryon_mass_mpi\u001b[0m\u001b[0;34m)\u001b[0m\u001b[0;34m\u001b[0m\u001b[0m\n\u001b[0m",
      "\u001b[0;31mAttributeError\u001b[0m: module 'mass_relations' has no attribute 'plot_baryon_mass_mpi'"
     ]
    }
   ],
   "source": [
    "import mass_relations as mass \n",
    "reload(mass)\n",
    "\n",
    "hyp_mass = mass.Mass_Combinations(lam= p['m_{lambda,0}'], sigma=p['m_{sigma,0}'], xi=p['m_{xi,0}'], delta=p['m_{xi_st,0}'], sigma_st=p['m_{sigma_st,0}'], xi_st=p['m_{xi_st,0}'], omega= p['m_{omega,0}'],p=prior )\n",
    "#print(mass.m2, mass.m2_c)\n",
    "print(hyp_mass.eps)\n",
    "print('Label  Mass_combo')\n",
    "for label, mass_combs in hyp_mass.M.items():\n",
    "    print('{}    {}'.format(label, mass_combs))\n",
    "\n",
    "print('c  Value')\n",
    "for c, valuee in hyp_mass.c.items():\n",
    "    print('{}    {}'.format(c, valuee))\n",
    "\n",
    "\n",
    "print('R  Value')\n",
    "for r, value in hyp_mass.R.items():\n",
    "    print('{}    {}'.format(r, value))\n",
    "\n",
    "print(mass.plot_baryon_mass_mpi)"
   ]
  },
  {
   "cell_type": "code",
   "execution_count": 20,
   "metadata": {},
   "outputs": [],
   "source": [
    "pdg = {}\n",
    "pdg['lambda'] = input_output.get_data_phys_point(param='m_lambda')#gv.gvar(1115.683,0.006)\n",
    "pdg['sigma'] = input_output.get_data_phys_point(param='m_sigma')#Gv.gvar(1192.642, 0.024)\n",
    "pdg['sigma_st'] = input_output.get_data_phys_point(param='m_sigma_st')#gv.gvar(1382.80,0.35)\n",
    "pdg['xi'] = input_output.get_data_phys_point(param='m_xi_st') #gv.gvar(1314.86,0.20)\n",
    "pdg['xi_st'] = input_output.get_data_phys_point(param='m_xi_st')\n",
    "pdg['delta'] = gv.gvar(1115.683,0.006)\n",
    "pdg['omega'] = input_output.get_data_phys_point(param='m_omega')"
   ]
  },
  {
   "cell_type": "code",
   "execution_count": 21,
   "metadata": {},
   "outputs": [
    {
     "output_type": "stream",
     "name": "stdout",
     "text": [
      "Label  Mass_combo\nM_1    194.096(17)\nM_2    38.8191(34)\nM_3    -4.29587(68)\nM_4    -0.092944(35)\nM_5    0.48740(27)\nM_6    -0.51503(24)\nM_7    -0.103007(48)\nM_8    0.015605(16)\nM_A    0.019141(62)\nM_B    -0.0053808(26)\nM_C    -0.0008227(21)\nM_D    -0.0078026(78)\n"
     ]
    }
   ],
   "source": [
    "# using pdg masses #\n",
    "mass_pdg = mass.Mass_Combinations(lam= pdg['lambda'], sigma=pdg['sigma'], xi=pdg['xi'], delta=pdg['delta'], sigma_st=pdg['sigma_st'], xi_st=pdg['xi_st'],p=p )\n",
    "#print(mass_pdg)\n",
    "print('Label  Mass_combo')\n",
    "for label, mass_combs in mass_pdg.M.items():\n",
    "    print('{}    {}'.format(label, mass_combs))"
   ]
  },
  {
   "cell_type": "code",
   "execution_count": 41,
   "metadata": {
    "tags": []
   },
   "outputs": [
    {
     "output_type": "stream",
     "name": "stderr",
     "text": [
      "/Users/grantdb/hyperon-xpt-master/xpt/fit_analysis.py:556: DeprecationWarning: invalid escape sequence \\p\n",
      "  label = '$m_\\pi$'\n",
      "dict_values([1000(1000), 1200(1000), 1400(1000), 1000(1000), 1300(1000), 0.0(1.0), 0.0(1.0), 0.0(1.0), 0.0(1.0), 0.0(1.0), 0.0(1.0), 0.0(1.0), 0.0(1.0), 0.0(1.0), 0.0(1.0), 0.0(1.0), 0.0(1.0), 0.0(1.0), 0.0(1.0), 0.0(1.0), 0.0(5.0), 0.0(5.0), 0.0(5.0), 0.0(5.0), 0.0(5.0), 0.0(5.0), 0.0(5.0), 0.0(5.0), 0.0(5.0), 0.0(5.0), 0.3(3.0), 0.7(3.0), -0.5(3.0), 0.0(5.0), 0.0(5.0), 0.0(5.0), 0.0(5.0), 0.0(5.0), 0.0(5.0), 0.0(5.0), 0.0(5.0), 0.0(5.0), 0.0(5.0), 0.0(1.0), 0.0(1.0), 0.0(1.0), 0.0(1.0), 0.0(1.0), 0.0(1.0), 0.0(1.0), 0.0(1.0), 0.0(1.0), 0.0(1.0), 0.0(1.0), 0.0(1.0), 0.0(1.0), 0.0(1.0), 0.0(1.0), 0.0(1.0), 0.0(1.0), 0.0(1.0), 0.0(1.0), 0.0(1.0), 0(0), 0(0), 0(0), inf(0), 197.327(0), 1157.0(7.2), 134.80(30), 494.20(30), 1115.6830(60), 1193.154(27), 1384.57(39), 1318.28(11), 1533.40(34), 1672(29), array([561.9(5.0), 493.9(4.0), 517.0(4.2), 544.9(4.4), 558.2(4.5),\n",
      "       576.9(4.6), 494.1(3.6), 507.3(3.7), 530.1(3.9), 544.7(4.0),\n",
      "       561.6(4.1), 508.1(3.4), 507.3(3.4), 530.5(3.5), 529.8(3.5),\n",
      "       542.4(3.6), 560.2(3.7)], dtype=object)])\n",
      "Partial % Errors:\n",
      "                              xi     xi_st\n",
      "------------------------------------------\n",
      "         m_{lambda,0}:      0.00      0.00\n",
      "          m_{sigma,0}:      0.00      0.00\n",
      "       m_{sigma_st,0}:      0.00      0.00\n",
      "             m_{xi,0}:      0.02      0.01\n",
      "          m_{xi_st,0}:      0.02      0.03\n",
      "         d_{lambda,a}:      0.00      0.00\n",
      "          d_{sigma,a}:      0.00      0.00\n",
      "       d_{sigma_st,a}:      0.00      0.00\n",
      "             d_{xi,a}:      0.14      0.09\n",
      "          d_{xi_st,a}:      0.10      0.19\n",
      "        d_{lambda,aa}:      0.00      0.00\n",
      "        d_{lambda,al}:      0.00      0.00\n",
      "         d_{sigma,aa}:      0.00      0.00\n",
      "         d_{sigma,al}:      0.00      0.00\n",
      "      d_{sigma_st,aa}:      0.00      0.00\n",
      "      d_{sigma_st,al}:      0.00      0.00\n",
      "            d_{xi,aa}:      0.44      0.28\n",
      "            d_{xi,al}:      0.18      0.11\n",
      "         d_{xi_st,aa}:      0.29      0.57\n",
      "         d_{xi_st,al}:      0.11      0.24\n",
      "           s_{lambda}:      0.00      0.00\n",
      "            s_{sigma}:      0.00      0.00\n",
      "        s_{sigma,bar}:      0.00      0.00\n",
      "               s_{xi}:      0.06      0.05\n",
      "           s_{xi,bar}:      0.05      0.08\n",
      "     g_{lambda,sigma}:      0.00      0.00\n",
      "  g_{lambda,sigma_st}:      0.00      0.00\n",
      "      g_{sigma,sigma}:      0.00      0.00\n",
      "   g_{sigma_st,sigma}:      0.00      0.00\n",
      "g_{sigma_st,sigma_st}:      0.00      0.00\n",
      "            g_{xi,xi}:      0.05      0.01\n",
      "         g_{xi_st,xi}:      0.00      0.04\n",
      "      g_{xi_st,xi_st}:      0.04      0.08\n",
      "         b_{lambda,4}:      0.00      0.00\n",
      "          b_{sigma,4}:      0.00      0.00\n",
      "       b_{sigma_st,4}:      0.00      0.00\n",
      "             b_{xi,4}:      0.03      0.01\n",
      "          b_{xi_st,4}:      0.02      0.02\n",
      "         a_{lambda,4}:      0.00      0.00\n",
      "          a_{sigma,4}:      0.00      0.00\n",
      "       a_{sigma_st,4}:      0.00      0.00\n",
      "             a_{xi,4}:      0.09      0.02\n",
      "          a_{xi_st,4}:      0.02      0.04\n",
      "         d_{lambda,s}:      0.00      0.00\n",
      "          d_{sigma,s}:      0.00      0.00\n",
      "       d_{sigma_st,s}:      0.00      0.00\n",
      "             d_{xi,s}:      0.05      0.01\n",
      "          d_{xi_st,s}:      0.02      0.02\n",
      "        d_{lambda,as}:      0.00      0.00\n",
      "        d_{lambda,ls}:      0.00      0.00\n",
      "        d_{lambda,ss}:      0.00      0.00\n",
      "         d_{sigma,as}:      0.00      0.00\n",
      "         d_{sigma,ls}:      0.00      0.00\n",
      "         d_{sigma,ss}:      0.00      0.00\n",
      "      d_{sigma_st,as}:      0.00      0.00\n",
      "      d_{sigma_st,ls}:      0.00      0.00\n",
      "      d_{sigma_st,ss}:      0.00      0.00\n",
      "            d_{xi,as}:      0.20      0.14\n",
      "            d_{xi,ls}:      0.06      0.02\n",
      "            d_{xi,ss}:      0.11      0.04\n",
      "         d_{xi_st,as}:      0.14      0.27\n",
      "         d_{xi_st,ls}:      0.01      0.05\n",
      "         d_{xi_st,ss}:      0.04      0.09\n",
      "               eps2_a:      0.00      0.00\n",
      "                    a:      0.00      0.00\n",
      "              alpha_s:      0.00      0.00\n",
      "                    L:      0.00      0.00\n",
      "                hbarc:      0.00      0.00\n",
      "              lam_chi:      0.19      0.04\n",
      "                 m_pi:      0.01      0.01\n",
      "                  m_k:      0.02      0.00\n",
      "             m_lambda:      0.00      0.00\n",
      "              m_sigma:      0.00      0.00\n",
      "           m_sigma_st:      0.00      0.00\n",
      "                 m_xi:      0.00      0.00\n",
      "              m_xi_st:      0.00      0.00\n",
      "              m_omega:      0.00      0.00\n",
      "             x [stat]:      0.86      0.99\n",
      "------------------------------------------\n",
      "                total:      1.11      1.27\n",
      "\n",
      "{'disc': -0.0, 'pp': -0.0, 'stat': -0.0}\n",
      "None\n"
     ]
    }
   ],
   "source": [
    "from importlib import reload\n",
    "reload(fa)\n",
    "fit_analysis = fa.fit_analysis(phys_point_data=phys_point_data, data=data,model_info=model_info, prior=prior)\n",
    "hi = fit_analysis.error_budget\n",
    "print(hi)"
   ]
  },
  {
   "cell_type": "code",
   "execution_count": 29,
   "metadata": {},
   "outputs": [
    {
     "output_type": "stream",
     "name": "stdout",
     "text": [
      "dict_keys(['m_{lambda,0}', 'm_{sigma,0}', 'm_{sigma_st,0}', 'm_{xi,0}', 'm_{xi_st,0}', 'd_{lambda,a}', 'd_{sigma,a}', 'd_{sigma_st,a}', 'd_{xi,a}', 'd_{xi_st,a}', 'd_{lambda,aa}', 'd_{lambda,al}', 'd_{sigma,aa}', 'd_{sigma,al}', 'd_{sigma_st,aa}', 'd_{sigma_st,al}', 'd_{xi,aa}', 'd_{xi,al}', 'd_{xi_st,aa}', 'd_{xi_st,al}', 's_{lambda}', 's_{sigma}', 's_{sigma,bar}', 's_{xi}', 's_{xi,bar}', 'g_{lambda,sigma}', 'g_{lambda,sigma_st}', 'g_{sigma,sigma}', 'g_{sigma_st,sigma}', 'g_{sigma_st,sigma_st}', 'g_{xi,xi}', 'g_{xi_st,xi}', 'g_{xi_st,xi_st}', 'b_{lambda,4}', 'b_{sigma,4}', 'b_{sigma_st,4}', 'b_{xi,4}', 'b_{xi_st,4}', 'a_{lambda,4}', 'a_{sigma,4}', 'a_{sigma_st,4}', 'a_{xi,4}', 'a_{xi_st,4}', 'd_{lambda,s}', 'd_{sigma,s}', 'd_{sigma_st,s}', 'd_{xi,s}', 'd_{xi_st,s}', 'd_{lambda,as}', 'd_{lambda,ls}', 'd_{lambda,ss}', 'd_{sigma,as}', 'd_{sigma,ls}', 'd_{sigma,ss}', 'd_{sigma_st,as}', 'd_{sigma_st,ls}', 'd_{sigma_st,ss}', 'd_{xi,as}', 'd_{xi,ls}', 'd_{xi,ss}', 'd_{xi_st,as}', 'd_{xi_st,ls}', 'd_{xi_st,ss}', 'eps2_a', 'a', 'alpha_s', 'L', 'hbarc', 'lam_chi', 'm_pi', 'm_k', 'm_lambda', 'm_sigma', 'm_sigma_st', 'm_xi', 'm_xi_st', 'm_omega', 'x [stat]'])\nPartial % Errors:\n                              xi     xi_st\n------------------------------------------\n         m_{lambda,0}:      0.00      0.00\n          m_{sigma,0}:      0.00      0.00\n       m_{sigma_st,0}:      0.00      0.00\n             m_{xi,0}:      0.02      0.01\n          m_{xi_st,0}:      0.02      0.03\n         d_{lambda,a}:      0.00      0.00\n          d_{sigma,a}:      0.00      0.00\n       d_{sigma_st,a}:      0.00      0.00\n             d_{xi,a}:      0.14      0.09\n          d_{xi_st,a}:      0.10      0.19\n        d_{lambda,aa}:      0.00      0.00\n        d_{lambda,al}:      0.00      0.00\n         d_{sigma,aa}:      0.00      0.00\n         d_{sigma,al}:      0.00      0.00\n      d_{sigma_st,aa}:      0.00      0.00\n      d_{sigma_st,al}:      0.00      0.00\n            d_{xi,aa}:      0.44      0.28\n            d_{xi,al}:      0.18      0.11\n         d_{xi_st,aa}:      0.29      0.57\n         d_{xi_st,al}:      0.11      0.24\n           s_{lambda}:      0.00      0.00\n            s_{sigma}:      0.00      0.00\n        s_{sigma,bar}:      0.00      0.00\n               s_{xi}:      0.06      0.05\n           s_{xi,bar}:      0.05      0.08\n     g_{lambda,sigma}:      0.00      0.00\n  g_{lambda,sigma_st}:      0.00      0.00\n      g_{sigma,sigma}:      0.00      0.00\n   g_{sigma_st,sigma}:      0.00      0.00\ng_{sigma_st,sigma_st}:      0.00      0.00\n            g_{xi,xi}:      0.05      0.01\n         g_{xi_st,xi}:      0.00      0.04\n      g_{xi_st,xi_st}:      0.04      0.08\n         b_{lambda,4}:      0.00      0.00\n          b_{sigma,4}:      0.00      0.00\n       b_{sigma_st,4}:      0.00      0.00\n             b_{xi,4}:      0.03      0.01\n          b_{xi_st,4}:      0.02      0.02\n         a_{lambda,4}:      0.00      0.00\n          a_{sigma,4}:      0.00      0.00\n       a_{sigma_st,4}:      0.00      0.00\n             a_{xi,4}:      0.09      0.02\n          a_{xi_st,4}:      0.02      0.04\n         d_{lambda,s}:      0.00      0.00\n          d_{sigma,s}:      0.00      0.00\n       d_{sigma_st,s}:      0.00      0.00\n             d_{xi,s}:      0.05      0.01\n          d_{xi_st,s}:      0.02      0.02\n        d_{lambda,as}:      0.00      0.00\n        d_{lambda,ls}:      0.00      0.00\n        d_{lambda,ss}:      0.00      0.00\n         d_{sigma,as}:      0.00      0.00\n         d_{sigma,ls}:      0.00      0.00\n         d_{sigma,ss}:      0.00      0.00\n      d_{sigma_st,as}:      0.00      0.00\n      d_{sigma_st,ls}:      0.00      0.00\n      d_{sigma_st,ss}:      0.00      0.00\n            d_{xi,as}:      0.20      0.14\n            d_{xi,ls}:      0.06      0.02\n            d_{xi,ss}:      0.11      0.04\n         d_{xi_st,as}:      0.14      0.27\n         d_{xi_st,ls}:      0.01      0.05\n         d_{xi_st,ss}:      0.04      0.09\n               eps2_a:      0.00      0.00\n                    a:      0.00      0.00\n              alpha_s:      0.00      0.00\n                    L:      0.00      0.00\n                hbarc:      0.00      0.00\n              lam_chi:      0.19      0.04\n                 m_pi:      0.01      0.01\n                  m_k:      0.02      0.00\n             m_lambda:      0.00      0.00\n              m_sigma:      0.00      0.00\n           m_sigma_st:      0.00      0.00\n                 m_xi:      0.00      0.00\n              m_xi_st:      0.00      0.00\n              m_omega:      0.00      0.00\n             x [stat]:      0.86      0.99\n------------------------------------------\n                total:      1.11      1.27\n\nNone\n"
     ]
    }
   ],
   "source": [
    "hi = fit_analysis.error_budget\n",
    "print(hi)"
   ]
  },
  {
   "cell_type": "code",
   "execution_count": 59,
   "metadata": {},
   "outputs": [
    {
     "output_type": "execute_result",
     "data": {
      "text/plain": [
       "[('disc',\n",
       "  'Partial % Errors:\\n                              particle\\n--------------------------------------\\n        m_{lambda,0} [disc]:      0.00\\n         m_{sigma,0} [disc]:      0.00\\n      m_{sigma_st,0} [disc]:      0.00\\n            m_{xi,0} [disc]:      0.02\\n         m_{xi_st,0} [disc]:      0.02\\n        d_{lambda,a} [disc]:      0.00\\n         d_{sigma,a} [disc]:      0.00\\n      d_{sigma_st,a} [disc]:      0.00\\n            d_{xi,a} [disc]:      0.14\\n         d_{xi_st,a} [disc]:      0.10\\n       d_{lambda,aa} [disc]:      0.00\\n       d_{lambda,al} [disc]:      0.00\\n        d_{sigma,aa} [disc]:      0.00\\n        d_{sigma,al} [disc]:      0.00\\n     d_{sigma_st,aa} [disc]:      0.00\\n     d_{sigma_st,al} [disc]:      0.00\\n           d_{xi,aa} [disc]:      0.44\\n           d_{xi,al} [disc]:      0.18\\n        d_{xi_st,aa} [disc]:      0.29\\n        d_{xi_st,al} [disc]:      0.11\\n           s_{lambda} [xpt]:      0.00\\n            s_{sigma} [xpt]:      0.00\\n        s_{sigma,bar} [xpt]:      0.00\\n               s_{xi} [xpt]:      0.06\\n           s_{xi,bar} [xpt]:      0.05\\n     g_{lambda,sigma} [xpt]:      0.00\\n  g_{lambda,sigma_st} [xpt]:      0.00\\n      g_{sigma,sigma} [xpt]:      0.00\\n   g_{sigma_st,sigma} [xpt]:      0.00\\ng_{sigma_st,sigma_st} [xpt]:      0.00\\n            g_{xi,xi} [xpt]:      0.05\\n         g_{xi_st,xi} [xpt]:      0.00\\n      g_{xi_st,xi_st} [xpt]:      0.04\\n         b_{lambda,4} [xpt]:      0.00\\n          b_{sigma,4} [xpt]:      0.00\\n       b_{sigma_st,4} [xpt]:      0.00\\n             b_{xi,4} [xpt]:      0.03\\n          b_{xi_st,4} [xpt]:      0.02\\n         a_{lambda,4} [xpt]:      0.00\\n          a_{sigma,4} [xpt]:      0.00\\n       a_{sigma_st,4} [xpt]:      0.00\\n             a_{xi,4} [xpt]:      0.09\\n          a_{xi_st,4} [xpt]:      0.02\\n      d_{lambda,s}[strange]:      0.00\\n       d_{sigma,s}[strange]:      0.00\\n    d_{sigma_st,s}[strange]:      0.00\\n          d_{xi,s}[strange]:      0.05\\n       d_{xi_st,s}[strange]:      0.02\\n     d_{lambda,as}[strange]:      0.00\\n     d_{lambda,ls}[strange]:      0.00\\n     d_{lambda,ss}[strange]:      0.00\\n      d_{sigma,as}[strange]:      0.00\\n      d_{sigma,ls}[strange]:      0.00\\n      d_{sigma,ss}[strange]:      0.00\\n   d_{sigma_st,as}[strange]:      0.00\\n   d_{sigma_st,ls}[strange]:      0.00\\n   d_{sigma_st,ss}[strange]:      0.00\\n         d_{xi,as}[strange]:      0.20\\n         d_{xi,ls}[strange]:      0.06\\n         d_{xi,ss}[strange]:      0.11\\n      d_{xi_st,as}[strange]:      0.14\\n      d_{xi_st,ls}[strange]:      0.01\\n      d_{xi_st,ss}[strange]:      0.04\\n                eps2_a [pp]:      0.00\\n                     a [pp]:      0.00\\n               alpha_s [pp]:      0.00\\n                     L [pp]:      0.00\\n                 hbarc [pp]:      0.00\\n                  m_pi [pp]:      0.01\\n                   m_k [pp]:      0.02\\n              m_lambda [pp]:      0.00\\n               m_sigma [pp]:      0.00\\n            m_sigma_st [pp]:      0.00\\n                  m_xi [pp]:      0.00\\n               m_xi_st [pp]:      0.00\\n               m_omega [pp]:      0.00\\n                   x [stat]:      0.86\\n--------------------------------------\\n                      total:      1.11\\n')]"
      ]
     },
     "metadata": {},
     "execution_count": 59
    }
   ],
   "source": [
    "sorted(hi.items())"
   ]
  },
  {
   "cell_type": "code",
   "execution_count": null,
   "metadata": {},
   "outputs": [],
   "source": [
    "for j, ens_j in enumerate(fit_analysis.ensembles):\n",
    "    print(j,ens_j)"
   ]
  },
  {
   "cell_type": "code",
   "execution_count": null,
   "metadata": {},
   "outputs": [],
   "source": [
    "print(fit_analysis.fitfcn(p=p,data=phys_point_data,particle=None))"
   ]
  },
  {
   "cell_type": "code",
   "execution_count": 19,
   "metadata": {},
   "outputs": [
    {
     "output_type": "stream",
     "name": "stdout",
     "text": [
      "{'m_{xi,0}': 1320(18), 'm_{xi_st,0}': 1552(24), 'm_{lambda,0}': 1108(20), 'm_{sigma,0}': 1204(17), 'm_{sigma_st,0}': 1457(28), 's_{xi}': 1.6(1.0), 's_{xi,bar}': 1.1(1.1), 's_{lambda}': 2.09(85), 's_{sigma,bar}': 0.13(98), 's_{sigma}': 2.01(91), 'g_{xi,xi}': 0.09(2.87), 'g_{xi_st,xi}': 0.6(1.5), 'g_{xi_st,xi_st}': -0.5(2.0), 'g_{lambda,sigma}': 8e-18 +- 5, 'g_{lambda,sigma_st}': 0.66(61), 'g_{sigma,sigma}': -2e-16 +- 5, 'g_{sigma_st,sigma}': 0.7(1.5), 'g_{sigma_st,sigma_st}': 0.0004 +- 5, 'a_{xi,4}': -0.9(4.2), 'a_{xi_st,4}': 0.4(4.5), 'b_{xi,4}': -0.7(4.6), 'b_{xi_st,4}': 0.9(4.6), 'a_{sigma,4}': -0.8(4.3), 'a_{sigma_st,4}': -2.1(3.8), 'b_{sigma,4}': 0.1(4.6), 'b_{sigma_st,4}': 0.7(4.4), 'a_{lambda,4}': -0.6(4.1), 'b_{lambda,4}': 0.6(4.4), 'd_{xi,a}': -0.45(13), 'd_{xi_st,a}': -0.10(16), 'd_{xi,s}': 0.43(34), 'd_{xi_st,s}': 0.01(37), 'd_{lambda,s}': -0.25(42), 'd_{lambda,a}': -0.44(16), 'd_{sigma_st,a}': 0.07(21), 'd_{sigma_st,s}': -0.18(43), 'd_{sigma,s}': 0.67(39), 'd_{sigma,a}': -0.23(15), 'd_{xi,aa}': 0.24(48), 'd_{xi,al}': -0.09(78), 'd_{xi,as}': 0.05(75), 'd_{xi,ls}': -0.01(99), 'd_{xi,ss}': 0.008(943), 'd_{xi_st,aa}': -0.57(55), 'd_{xi_st,al}': -0.14(79), 'd_{xi_st,as}': 0.37(78), 'd_{xi_st,ls}': 0.10(99), 'd_{xi_st,ss}': -0.18(94), 'd_{lambda,aa}': 0.41(58), 'd_{lambda,al}': -0.34(87), 'd_{lambda,as}': 0.51(84), 'd_{lambda,ls}': 0.1(1.0), 'd_{lambda,ss}': -0.24(98), 'd_{sigma,aa}': 0.01(55), 'd_{sigma,al}': -0.76(81), 'd_{sigma,as}': 0.76(79), 'd_{sigma,ls}': -0.18(99), 'd_{sigma,ss}': 0.40(97), 'd_{sigma_st,aa}': -0.34(71), 'd_{sigma_st,al}': -0.97(85), 'd_{sigma_st,as}': 0.92(84), 'd_{sigma_st,ls}': -0.21(99), 'd_{sigma_st,ss}': 0.43(97), 'm_pi': array([136.01(74), 222.8(1.1), 315.6(1.3), 353.6(1.5), 406.1(2.1),\n       132.76(67), 219.68(85), 309.4(1.1), 350.5(1.2), 399.3(1.7),\n       133.49(72), 216.58(90), 309.2(1.1), 306.8(1.2), 349.4(1.4),\n       397.7(2.0)], dtype=object), 'm_k': array([499.8(2.7), 520.5(2.5), 540.7(2.3), 553.2(2.3), 572.2(2.9),\n       493.5(2.3), 508.5(1.9), 531.4(1.9), 545.6(1.9), 563.2(2.4),\n       502.6(2.7), 506.8(2.0), 530.1(1.8), 529.6(2.0), 546.1(2.2),\n       561.1(2.8)], dtype=object), 'lam_chi': array([1171.9(6.6), 1225.5(6.1), 1282.5(5.4), 1312.8(5.7), 1362.6(7.1),\n       1170.5(5.7), 1211.8(4.9), 1265.8(4.6), 1295.3(4.5), 1339.1(6.0),\n       1161.9(6.4), 1197.9(4.9), 1239.5(4.3), 1250.0(4.9), 1276.6(5.1),\n       1310.1(6.6)], dtype=object), 'eps2_a': array([0.065325(70), 0.066506(83), 0.06877(16), 0.06998(19), 0.07160(20),\n       0.123785(95), 0.12594(12), 0.13008(23), 0.13214(20), 0.13446(16),\n       0.19514(12), 0.19737(28), 0.20367(32), 0.20417(25), 0.20707(48),\n       0.21169(56)], dtype=object), 'm_delta': array([1396(15), 1388(58), 1439(53), 1479(14), 1542.1(9.8), 1373(18),\n       1403.2(6.2), 1446(15), 1456(16), 1504(10), 1425(18), 1402(11),\n       1438.3(5.1), 1438.4(6.5), 1446(28), 1490(11)], dtype=object)}\n"
     ]
    }
   ],
   "source": [
    "print(fit_analysis.posterior)"
   ]
  },
  {
   "cell_type": "code",
   "execution_count": 20,
   "metadata": {},
   "outputs": [
    {
     "output_type": "stream",
     "name": "stdout",
     "text": [
      "{'a09m135': {'xi': 1304.9(7.1), 'xi_st': 1555.8(9.9), 'lambda': 1106.3(8.1), 'sigma': 1213.9(6.8), 'sigma_st': 1466(12)}, 'a09m220': {'xi': 1326.9(5.9), 'xi_st': 1579.6(8.4), 'lambda': 1152.9(5.9), 'sigma': 1239.4(5.8), 'sigma_st': 1486(10)}, 'a09m310': {'xi': 1359.2(5.3), 'xi_st': 1614.0(7.5), 'lambda': 1219.2(4.9), 'sigma': 1279.6(5.3), 'sigma_st': 1526.7(8.9)}, 'a09m350': {'xi': 1375.7(5.3), 'xi_st': 1630.4(7.5), 'lambda': 1248.3(5.0), 'sigma': 1301.4(5.4), 'sigma_st': 1548.7(8.8)}, 'a09m400': {'xi': 1398.9(7.0), 'xi_st': 1654.3(9.1), 'lambda': 1289.4(6.8), 'sigma': 1332.9(7.0), 'sigma_st': 1584(11)}, 'a12m130': {'xi': 1268.1(5.8), 'xi_st': 1535.7(7.5), 'lambda': 1082.9(6.5), 'sigma': 1188.9(5.8), 'sigma_st': 1465.6(8.0)}, 'a12m220L': {'xi': 1289.0(4.6), 'xi_st': 1557.8(5.7), 'lambda': 1128.4(4.4), 'sigma': 1211.3(4.4), 'sigma_st': 1481.9(5.8)}, 'a12m310': {'xi': 1321.9(4.2), 'xi_st': 1588.9(5.2), 'lambda': 1189.3(3.9), 'sigma': 1250.9(4.2), 'sigma_st': 1514.9(5.8)}, 'a12m350': {'xi': 1340.8(4.0), 'xi_st': 1606.0(5.0), 'lambda': 1220.1(3.7), 'sigma': 1275.0(4.0), 'sigma_st': 1536.0(5.8)}, 'a12m400': {'xi': 1362.5(5.6), 'xi_st': 1627.1(7.2), 'lambda': 1257.8(5.3), 'sigma': 1303.1(5.5), 'sigma_st': 1566.1(8.4)}, 'a15m135XL': {'xi': 1243.7(6.7), 'xi_st': 1507.1(8.6), 'lambda': 1055.3(7.9), 'sigma': 1186.7(7.8), 'sigma_st': 1459(10)}, 'a15m220': {'xi': 1256.0(4.8), 'xi_st': 1525.1(6.2), 'lambda': 1100.3(4.5), 'sigma': 1192.4(5.0), 'sigma_st': 1470.0(6.8)}, 'a15m310': {'xi': 1293.4(4.2), 'xi_st': 1556.0(5.1), 'lambda': 1162.8(4.2), 'sigma': 1235.8(4.1), 'sigma_st': 1498.0(5.1)}, 'a15m310L': {'xi': 1287.9(4.5), 'xi_st': 1553.2(5.5), 'lambda': 1159.8(4.2), 'sigma': 1227.9(4.6), 'sigma_st': 1496.7(5.7)}, 'a15m350': {'xi': 1309.8(4.4), 'xi_st': 1570.5(5.4), 'lambda': 1191.5(4.2), 'sigma': 1255.1(4.4), 'sigma_st': 1515.5(5.5)}, 'a15m400': {'xi': 1331.8(6.7), 'xi_st': 1590.1(8.6), 'lambda': 1229.8(6.1), 'sigma': 1282.0(6.3), 'sigma_st': 1542.1(8.9)}}\n"
     ]
    }
   ],
   "source": [
    "print(fit_analysis._extrapolate_to_ens(ens=None,phys_params=None))"
   ]
  },
  {
   "cell_type": "code",
   "execution_count": 24,
   "metadata": {},
   "outputs": [
    {
     "output_type": "stream",
     "name": "stdout",
     "text": [
      "{'xi': array([1282(12), 1318(11), 1370(11), 1388(11), 1411(12), 1271.5(9.6),\n       1283(10), 1318.6(9.9), 1336(10), 1358(10), 1258.0(8.6),\n       1257.6(8.5), 1294.3(8.7), 1288.1(9.1), 1302.1(9.7), 1327.5(9.8)],\n      dtype=object), 'xi_st': array([1527(16), 1563(19), 1620(21), 1631(27), 1671(15), 1535(13),\n       1555(12), 1581(13), 1599(14), 1622(13), 1528(11), 1518(13),\n       1557(10), 1554(11), 1555(13), 1584(13)], dtype=object), 'sigma': array([1201(10), 1215(13), 1291(11), 1312(12), 1347(12), 1186.3(9.6),\n       1208.7(9.2), 1248.0(9.6), 1275.2(9.7), 1298(10), 1206(10),\n       1194.5(8.9), 1236.8(8.3), 1229.1(9.2), 1237.6(9.5), 1280.5(9.0)],\n      dtype=object), 'sigma_st': array([1423(23), 1461(23), 1541(26), 1573(22), 1601(17), 1462(14),\n       1480(12), 1507(17), 1536(16), 1558(17), 1485(13), 1447(23),\n       1499(10), 1499(11), 1490(21), 1537(13)], dtype=object), 'lambda': array([1062(26), 1142(11), 1229(10), 1260(10), 1304(11), 1090(11),\n       1123.8(9.5), 1187.4(9.1), 1213.6(9.9), 1252.6(9.7), 1065(10),\n       1103.0(7.9), 1162.8(8.9), 1156.7(8.7), 1180.1(8.9), 1228.1(8.7)],\n      dtype=object)}\n"
     ]
    }
   ],
   "source": [
    "x = fit_analysis.fitter.y\n",
    "print(x)\n"
   ]
  }
 ],
 "metadata": {
  "language_info": {
   "codemirror_mode": {
    "name": "ipython",
    "version": 3
   },
   "file_extension": ".py",
   "mimetype": "text/x-python",
   "name": "python",
   "nbconvert_exporter": "python",
   "pygments_lexer": "ipython3",
   "version": "3.6.1-final"
  },
  "orig_nbformat": 2,
  "kernelspec": {
   "name": "python36164bitf8eb54e6300441459260c2a41aa11bd7",
   "display_name": "Python 3.6.1 64-bit"
  }
 },
 "nbformat": 4,
 "nbformat_minor": 2
}
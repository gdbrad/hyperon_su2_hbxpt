{
 "cells": [
  {
   "cell_type": "code",
   "execution_count": 1,
   "metadata": {
    "tags": []
   },
   "outputs": [
    {
     "ename": "ModuleNotFoundError",
     "evalue": "No module named 'numpy'",
     "output_type": "error",
     "traceback": [
      "\u001b[0;31m---------------------------------------------------------------------------\u001b[0m",
      "\u001b[0;31mModuleNotFoundError\u001b[0m                       Traceback (most recent call last)",
      "Cell \u001b[0;32mIn[1], line 2\u001b[0m\n\u001b[1;32m      1\u001b[0m \u001b[38;5;28;01mimport\u001b[39;00m \u001b[38;5;21;01mimportlib\u001b[39;00m\n\u001b[0;32m----> 2\u001b[0m \u001b[38;5;28;01mimport\u001b[39;00m \u001b[38;5;21;01mnumpy\u001b[39;00m \u001b[38;5;28;01mas\u001b[39;00m \u001b[38;5;21;01mnp\u001b[39;00m\n\u001b[1;32m      3\u001b[0m \u001b[38;5;28;01mimport\u001b[39;00m \u001b[38;5;21;01mgvar\u001b[39;00m \u001b[38;5;28;01mas\u001b[39;00m \u001b[38;5;21;01mgv\u001b[39;00m\n\u001b[1;32m      4\u001b[0m \u001b[38;5;28;01mimport\u001b[39;00m \u001b[38;5;21;01msys\u001b[39;00m\n",
      "\u001b[0;31mModuleNotFoundError\u001b[0m: No module named 'numpy'"
     ]
    }
   ],
   "source": [
    "import importlib\n",
    "import numpy as np\n",
    "import gvar as gv\n",
    "import sys\n",
    "sys.path.append('../')\n",
    "# from h5glance import H5Glance \n",
    "import os\n",
    "import lsqfit\n",
    "import io\n",
    "import yaml\n",
    "import warnings  \n",
    "warnings.simplefilter(action=\"default\")\n",
    "warnings.filterwarnings('ignore') "
   ]
  },
  {
   "cell_type": "code",
   "execution_count": null,
   "metadata": {},
   "outputs": [],
   "source": [
    "os.chdir('../../hyperon-xpt-master/xpt')"
   ]
  },
  {
   "cell_type": "code",
   "execution_count": null,
   "metadata": {},
   "outputs": [],
   "source": [
    "import fit_analysis as fa \n",
    "import fit_routine as fit\n",
    "import i_o\n",
    "import priors"
   ]
  },
  {
   "cell_type": "code",
   "execution_count": null,
   "metadata": {},
   "outputs": [],
   "source": [
    "import tests\n",
    "import importlib\n",
    "importlib.reload(tests)\n",
    "importlib.reload(fit)\n",
    "verbose_fitfcn = tests.VerboseFitfcn(force_gvars=True)\n",
    "#print(verbose_fitfcn)"
   ]
  },
  {
   "cell_type": "code",
   "execution_count": null,
   "metadata": {
    "tags": []
   },
   "outputs": [
    {
     "data": {
      "text/plain": [
       "<module 'fit_routine' from '/Users/grantdb/lqcd/hyperon-xpt-master/xpt/fit_routine.py'>"
      ]
     },
     "execution_count": 5,
     "metadata": {},
     "output_type": "execute_result"
    }
   ],
   "source": [
    "from importlib import reload\n",
    "reload(i_o)\n",
    "reload(fa)\n",
    "reload(fit)"
   ]
  },
  {
   "cell_type": "code",
   "execution_count": null,
   "metadata": {
    "tags": []
   },
   "outputs": [],
   "source": [
    "from priors import prior\n",
    "prior = prior\n",
    "#print(prior)"
   ]
  },
  {
   "cell_type": "code",
   "execution_count": null,
   "metadata": {},
   "outputs": [],
   "source": [
    "f = open('models.yaml', 'r')\n",
    "models = yaml.load(f,Loader=yaml.FullLoader)\n",
    "    #print(keys)\n",
    "model_info = {}\n",
    "for item in models.values():\n",
    "        model_info = item['proton:s_n2lo:d_n4lo:x_n2lo:l_n4lo:lc_f']\n",
    "        model_info_sigma = item['proton:s_n2lo:d_n4lo:x_n2lo:l_n4lo:lc_f:sigma_t']\n",
    "        model_info_div_lam = item['proton:s_n2lo:d_n4lo:x_n2lo:l_n4lo:lc_t']\n",
    "        \n",
    "#print(model_info)"
   ]
  },
  {
   "cell_type": "code",
   "execution_count": null,
   "metadata": {},
   "outputs": [],
   "source": [
    "input_output = i_o.InputOutput()\n",
    "data,ensembles = input_output.get_data(scheme='w0_imp',units='Fpi')\n",
    "data_div, ensembles = input_output.get_data(scheme='w0_imp',units='Fpi')\n",
    "prior = input_output.make_prior(data,prior)\n",
    "phys_point_data = input_output.get_data_phys_point()"
   ]
  },
  {
   "cell_type": "code",
   "execution_count": null,
   "metadata": {},
   "outputs": [
    {
     "data": {
      "text/plain": [
       "{'m_proton': array([1121(10), 958.4(7.7), 984.4(7.9), 1110.7(8.9), 1158.1(9.3),\n",
       "        1211.3(9.7), 934.1(6.8), 998.3(7.3), 1074.4(7.8), 1124.0(8.2),\n",
       "        1168.4(8.5), 950.8(6.3), 993.1(6.6), 1078.1(7.2), 1057.1(7.0),\n",
       "        1092.9(7.3), 1158.1(7.7)], dtype=object),\n",
       " 'm_delta': array([1347(12), 1382(11), 1327(11), 1439(12), 1496(12), 1556(12),\n",
       "        1369(10), 1402(10), 1437(10), 1457(11), 1498(11), 1450.9(9.6),\n",
       "        1403.2(9.3), 1439.1(9.6), 1441.6(9.6), 1408.8(9.4), 1487.6(9.9)],\n",
       "       dtype=object),\n",
       " 'm_lambda': array([1255(11), 1057.3(8.5), 1140.4(9.1), 1228.6(9.9), 1260(10),\n",
       "        1303(10), 1090.8(8.0), 1123.1(8.2), 1187.4(8.7), 1213.4(8.8),\n",
       "        1252.5(9.1), 1064.5(7.1), 1102.9(7.3), 1162.3(7.7), 1156.3(7.7),\n",
       "        1179.9(7.8), 1227.9(8.2)], dtype=object),\n",
       " 'm_sigma': array([1311(12), 1201.4(9.6), 1213.5(9.7), 1291(10), 1312(11), 1346(11),\n",
       "        1186.3(8.7), 1208.7(8.8), 1247.9(9.1), 1275.2(9.3), 1297.8(9.5),\n",
       "        1205.9(8.0), 1194.3(7.9), 1236.8(8.2), 1228.8(8.2), 1237.3(8.2),\n",
       "        1280.5(8.5)], dtype=object),\n",
       " 'm_sigma_st': array([1501(13), 1422(11), 1454(12), 1534(12), 1571(13), 1601(13),\n",
       "        1462(11), 1480(11), 1506(11), 1535(11), 1556(11), 1484.7(9.9),\n",
       "        1442.7(9.6), 1499(10), 1499(10), 1486.7(9.9), 1536(10)],\n",
       "       dtype=object),\n",
       " 'm_xi': array([1410(13), 1282(10), 1318(11), 1370(11), 1388(11), 1411(11),\n",
       "        1271.4(9.3), 1282.5(9.4), 1318.5(9.6), 1335.6(9.7), 1357.7(9.9),\n",
       "        1258.0(8.4), 1257.5(8.4), 1294.3(8.6), 1287.9(8.6), 1301.7(8.6),\n",
       "        1327.1(8.8)], dtype=object),\n",
       " 'm_xi_st': array([1642(15), 1526(12), 1560(13), 1616(13), 1625(13), 1671(13),\n",
       "        1535(11), 1555(11), 1580(12), 1598(12), 1622(12), 1527(10),\n",
       "        1517(10), 1557(10), 1554(10), 1554(10), 1583(11)], dtype=object),\n",
       " 'm_omega': array([1757(16), 1637(13), 1667(13), 1705(14), 1709(14), 1744(14),\n",
       "        1603(12), 1626(12), 1654(12), 1658(12), 1681(12), 1584(11),\n",
       "        1582(11), 1614(11), 1611(11), 1617(11), 1631(11)], dtype=object),\n",
       " 'm_pi': array([327.9(2.9), 134.4(1.1), 221.3(1.8), 318.1(2.6), 356.8(2.9),\n",
       "        409.5(3.3), 132.89(97), 219.2(1.6), 308.6(2.3), 349.9(2.6),\n",
       "        398.2(2.9), 134.95(90), 216.8(1.4), 309.4(2.1), 306.9(2.0),\n",
       "        347.1(2.3), 397.0(2.6)], dtype=object),\n",
       " 'm_k': array([561.9(5.0), 493.9(4.0), 516.9(4.1), 544.9(4.4), 558.2(4.5),\n",
       "        576.9(4.6), 494.1(3.6), 507.3(3.7), 530.1(3.9), 544.7(4.0),\n",
       "        561.6(4.1), 508.1(3.4), 507.3(3.4), 530.4(3.5), 529.8(3.5),\n",
       "        542.4(3.6), 560.2(3.7)], dtype=object),\n",
       " 'lam_chi': array([1323(12), 1158.5(9.3), 1216.9(9.8), 1293(10), 1325(11), 1374(11),\n",
       "        1171.6(8.5), 1208.5(8.8), 1261.5(9.2), 1294.5(9.4), 1335.5(9.7),\n",
       "        1174.9(7.8), 1199.0(8.0), 1240.5(8.2), 1251.3(8.3), 1267.0(8.4),\n",
       "        1307.8(8.7)], dtype=object),\n",
       " 'eps2_a': array([0.029618(41), 0.065325(70), 0.066506(83), 0.06877(16), 0.06998(19),\n",
       "        0.07160(20), 0.123786(95), 0.12594(12), 0.13008(23), 0.13214(20),\n",
       "        0.13446(16), 0.19514(12), 0.19737(28), 0.20368(32), 0.20416(25),\n",
       "        0.20706(48), 0.21168(56)], dtype=object)}"
      ]
     },
     "execution_count": 9,
     "metadata": {},
     "output_type": "execute_result"
    }
   ],
   "source": [
    "data"
   ]
  },
  {
   "cell_type": "code",
   "execution_count": null,
   "metadata": {},
   "outputs": [
    {
     "name": "stdout",
     "output_type": "stream",
     "text": [
      "Least Square Fit:\n",
      "  chi2/dof [dof] = 8 [17]    Q = 1.9e-20    logGBF = -130.6\n",
      "\n",
      "Parameters:\n",
      "     m_{proton,0}     890.4 (5.0)      [     900 (400) ]  \n",
      "     b_{proton,2}     -1e-12 +- 5      [     0.0 (5.0) ]  \n",
      "     b_{proton,4}      8e-12 +- 5      [     0.0 (5.0) ]  \n",
      "     b_{proton,6}   0.004 (5.000)      [     0.0 (5.0) ]  \n",
      "     d_{proton,a}      3e-13 +- 5      [     0.0 (5.0) ]  \n",
      "    d_{proton,aa}      7e-12 +- 5      [     0.0 (5.0) ]  \n",
      "    d_{proton,al}      2e-11 +- 5      [     0.0 (5.0) ]  \n",
      "   d_{proton,all}    -0.02 (5.00)      [     0.0 (5.0) ]  \n",
      "   d_{proton,aal}      -0.3 (5.0)      [     0.0 (5.0) ]  \n",
      "     d_{proton,s}    -0.09 (5.00)      [     0.0 (5.0) ]  \n",
      "    d_{proton,as}       0.2 (5.0)      [     0.0 (5.0) ]  \n",
      "    d_{proton,ls}    -0.03 (5.00)      [     0.0 (5.0) ]  \n",
      "    d_{proton,ss}     0.04 (5.00)      [     0.0 (5.0) ]  \n",
      "g_{proton,proton}       0.8 (5.0)      [     1.3 (5.0) ]  \n",
      " g_{proton,delta}     -14.1 (3.0)      [     0.9 (5.0) ]  **\n",
      "      m_{delta,0}      3907 (790)      [   1232 (1000) ]  **\n",
      "     a_{proton,4}      4e-12 +- 5      [     0.0 (5.0) ]  \n",
      "     g_{proton,4}       0.1 (5.0)      [     0.0 (5.0) ]  \n",
      "            m_k 0     543.9 (1.0)      [   561.9 (5.0) ]  ***\n",
      "                1     485.5 (1.7)      [   493.9 (4.0) ]  **\n",
      "                2     525.9 (1.2)      [   516.9 (4.1) ]  **\n",
      "                3     533.1 (1.0)      [   544.9 (4.4) ]  **\n",
      "                4     540.1 (1.2)      [   558.2 (4.5) ]  ****\n",
      "                5     552.6 (1.5)      [   576.9 (4.6) ]  *****\n",
      "                6     495.9 (1.8)      [   494.1 (3.6) ]  \n",
      "                7     510.3 (1.1)      [   507.3 (3.7) ]  \n",
      "                8     534.3 (1.0)      [   530.1 (3.9) ]  *\n",
      "                9     542.7 (1.2)      [   544.7 (4.0) ]  \n",
      "               10     556.5 (1.5)      [   561.6 (4.1) ]  *\n",
      "               11     502.1 (1.8)      [   508.1 (3.4) ]  *\n",
      "               12     512.9 (1.1)      [   507.3 (3.4) ]  *\n",
      "               13     538.2 (1.1)      [   530.4 (3.5) ]  **\n",
      "               14     542.2 (1.0)      [   529.8 (3.5) ]  ***\n",
      "               15     557.2 (1.2)      [   542.4 (3.6) ]  ****\n",
      "               16     565.3 (1.5)      [   560.2 (3.7) ]  *\n",
      "           m_pi 0     317.39 (60)      [   327.9 (2.9) ]  ***\n",
      "                1     132.10 (47)      [   134.4 (1.1) ]  **\n",
      "                2     225.14 (50)      [   221.3 (1.8) ]  **\n",
      "                3     311.18 (60)      [   318.1 (2.6) ]  **\n",
      "                4     345.25 (76)      [   356.8 (2.9) ]  ****\n",
      "                5     392.2 (1.0)      [   409.5 (3.3) ]  *****\n",
      "                6     133.37 (49)      [   132.89 (97) ]  \n",
      "                7     220.47 (47)      [   219.2 (1.6) ]  \n",
      "                8     311.04 (59)      [   308.6 (2.3) ]  *\n",
      "                9     348.63 (76)      [   349.9 (2.6) ]  \n",
      "               10     394.6 (1.0)      [   398.2 (2.9) ]  *\n",
      "               11     133.36 (48)      [   134.95 (90) ]  *\n",
      "               12     219.15 (47)      [   216.8 (1.4) ]  *\n",
      "               13     313.97 (62)      [   309.4 (2.1) ]  **\n",
      "               14     314.12 (59)      [   306.9 (2.0) ]  ***\n",
      "               15     356.56 (79)      [   347.1 (2.3) ]  ****\n",
      "               16     400.7 (1.1)      [   397.0 (2.6) ]  *\n",
      "        lam_chi 0    1280.8 (2.4)      [     1323 (12) ]  ***\n",
      "                1    1138.7 (4.0)      [  1158.5 (9.3) ]  **\n",
      "                2    1238.1 (2.7)      [  1216.9 (9.8) ]  **\n",
      "                3    1265.0 (2.4)      [     1293 (10) ]  **\n",
      "                4    1281.7 (2.8)      [     1325 (11) ]  ****\n",
      "                5    1315.9 (3.5)      [     1374 (11) ]  *****\n",
      "                6    1175.8 (4.4)      [  1171.6 (8.5) ]  \n",
      "                7    1215.7 (2.6)      [  1208.5 (8.8) ]  \n",
      "                8    1271.5 (2.4)      [  1261.5 (9.2) ]  *\n",
      "                9    1289.7 (2.8)      [  1294.5 (9.4) ]  \n",
      "               10    1323.4 (3.5)      [  1335.5 (9.7) ]  *\n",
      "               11    1161.1 (4.2)      [  1174.9 (7.8) ]  *\n",
      "               12    1212.1 (2.6)      [  1199.0 (8.0) ]  *\n",
      "               13    1258.6 (2.5)      [  1240.5 (8.2) ]  **\n",
      "               14    1280.5 (2.4)      [  1251.3 (8.3) ]  ***\n",
      "               15    1301.5 (2.9)      [  1267.0 (8.4) ]  ****\n",
      "               16    1319.9 (3.6)      [  1307.8 (8.7) ]  *\n",
      "         eps2_a 0   0.029618 (41)      [ 0.029618 (41) ]  \n",
      "                1   0.065325 (70)      [ 0.065325 (70) ]  \n",
      "                2   0.066506 (83)      [ 0.066506 (83) ]  \n",
      "                3    0.06877 (16)      [  0.06877 (16) ]  \n",
      "                4    0.06998 (19)      [  0.06998 (19) ]  \n",
      "                5    0.07160 (20)      [  0.07160 (20) ]  \n",
      "                6   0.123786 (95)      [ 0.123786 (95) ]  \n",
      "                7    0.12594 (12)      [  0.12594 (12) ]  \n",
      "                8    0.13008 (23)      [  0.13008 (23) ]  \n",
      "                9    0.13214 (20)      [  0.13214 (20) ]  \n",
      "               10    0.13446 (16)      [  0.13446 (16) ]  \n",
      "               11    0.19514 (12)      [  0.19514 (12) ]  \n",
      "               12    0.19737 (28)      [  0.19737 (28) ]  \n",
      "               13    0.20368 (32)      [  0.20368 (32) ]  \n",
      "               14    0.20416 (25)      [  0.20416 (25) ]  \n",
      "               15    0.20706 (48)      [  0.20706 (48) ]  \n",
      "               16    0.21168 (56)      [  0.21168 (56) ]  \n",
      "\n",
      "Settings:\n",
      "  svdcut/n = 1e-12/0    tol = (1e-08,1e-10,1e-10*)    (itns/time = 242/0.9)\n",
      "  fitter = scipy_least_squares    method = trf\n",
      "\n"
     ]
    }
   ],
   "source": [
    "fit_div_lam = fit.fit_routine(prior=prior, data=data_div, model_info=model_info_div_lam)\n",
    "fit_div_lam_out = fit_div_lam.fit\n",
    "print(fit_div_lam_out)\n"
   ]
  },
  {
   "cell_type": "code",
   "execution_count": null,
   "metadata": {},
   "outputs": [
    {
     "name": "stdout",
     "output_type": "stream",
     "text": [
      "{\n",
      "    'proton':\n",
      "    array([1121(10), 958.4(7.7), 984.4(7.9), 1110.7(8.9), 1158.1(9.3),\n",
      "           1211.3(9.7), 934.1(6.8), 998.3(7.3), 1074.4(7.8), 1124.0(8.2),\n",
      "           1168.4(8.5), 950.8(6.3), 993.1(6.6), 1078.1(7.2), 1057.1(7.0),\n",
      "           1092.9(7.3), 1158.1(7.7)], dtype=object),\n",
      "}\n"
     ]
    }
   ],
   "source": [
    "fit_sigma = fit.fit_routine(prior=prior, data=data, model_info=model_info_sigma)\n",
    "fit_sigma_out = fit_sigma.fit\n",
    "print(fit_sigma_out.y)"
   ]
  },
  {
   "cell_type": "code",
   "execution_count": null,
   "metadata": {},
   "outputs": [
    {
     "name": "stdout",
     "output_type": "stream",
     "text": [
      "Least Square Fit:\n",
      "  chi2/dof [dof] = 1.3 [17]    Q = 0.17    logGBF = -85.26\n",
      "\n",
      "Parameters:\n",
      "     m_{proton,0}        902 (10)      [     900 (400) ]  \n",
      "     b_{proton,2}     -6e-13 +- 5      [     0.0 (5.0) ]  \n",
      "     b_{proton,4}     -4e-12 +- 5      [     0.0 (5.0) ]  \n",
      "     b_{proton,6}       0.4 (5.0)      [     0.0 (5.0) ]  \n",
      "     d_{proton,a}     -4e-13 +- 5      [     0.0 (5.0) ]  \n",
      "    d_{proton,aa}      2e-12 +- 5      [     0.0 (5.0) ]  \n",
      "    d_{proton,al}     -2e-12 +- 5      [     0.0 (5.0) ]  \n",
      "   d_{proton,all}      -1.4 (4.9)      [     0.0 (5.0) ]  \n",
      "   d_{proton,aal}       0.2 (1.0)      [     0.0 (5.0) ]  \n",
      "     d_{proton,s}      -0.75 (74)      [     0.0 (5.0) ]  \n",
      "    d_{proton,as}       8.7 (2.1)      [     0.0 (5.0) ]  *\n",
      "    d_{proton,ls}      -2.5 (4.8)      [     0.0 (5.0) ]  \n",
      "    d_{proton,ss}       2.8 (4.4)      [     0.0 (5.0) ]  \n",
      "g_{proton,proton}     0.02 (4.99)      [     1.3 (5.0) ]  \n",
      " g_{proton,delta}      -1.13 (41)      [     0.9 (5.0) ]  \n",
      "      m_{delta,0}      1827 (253)      [   1232 (1000) ]  \n",
      "     a_{proton,4}     -2e-12 +- 5      [     0.0 (5.0) ]  \n",
      "     g_{proton,4}       5.8 (4.5)      [     0.0 (5.0) ]  *\n",
      "            m_k 0     558.6 (2.8)      [   561.9 (5.0) ]  \n",
      "                1     486.9 (2.9)      [   493.9 (4.0) ]  *\n",
      "                2     527.7 (2.2)      [   516.9 (4.1) ]  **\n",
      "                3     542.2 (2.0)      [   544.9 (4.4) ]  \n",
      "                4     554.0 (2.0)      [   558.2 (4.5) ]  \n",
      "                5     574.7 (3.1)      [   576.9 (4.6) ]  \n",
      "                6     496.8 (2.7)      [   494.1 (3.6) ]  \n",
      "                7     507.0 (1.9)      [   507.3 (3.7) ]  \n",
      "                8     533.2 (1.6)      [   530.1 (3.9) ]  \n",
      "                9     544.8 (1.6)      [   544.7 (4.0) ]  \n",
      "               10     564.2 (2.4)      [   561.6 (4.1) ]  \n",
      "               11     508.8 (3.1)      [   508.1 (3.4) ]  \n",
      "               12     504.2 (2.2)      [   507.3 (3.4) ]  \n",
      "               13     527.6 (2.1)      [   530.4 (3.5) ]  \n",
      "               14     529.8 (1.9)      [   529.8 (3.5) ]  \n",
      "               15     547.2 (1.9)      [   542.4 (3.6) ]  *\n",
      "               16     558.5 (2.7)      [   560.2 (3.7) ]  \n",
      "           m_pi 0     326.0 (1.7)      [   327.9 (2.9) ]  \n",
      "                1     132.49 (78)      [   134.4 (1.1) ]  *\n",
      "                2     225.88 (96)      [   221.3 (1.8) ]  **\n",
      "                3     316.5 (1.2)      [   318.1 (2.6) ]  \n",
      "                4     354.1 (1.3)      [   356.8 (2.9) ]  \n",
      "                5     407.9 (2.2)      [   409.5 (3.3) ]  \n",
      "                6     133.62 (73)      [   132.89 (97) ]  \n",
      "                7     219.05 (81)      [   219.2 (1.6) ]  \n",
      "                8     310.40 (96)      [   308.6 (2.3) ]  \n",
      "                9     350.0 (1.0)      [   349.9 (2.6) ]  \n",
      "               10     400.0 (1.7)      [   398.2 (2.9) ]  \n",
      "               11     135.14 (82)      [   134.95 (90) ]  \n",
      "               12     215.44 (95)      [   216.8 (1.4) ]  \n",
      "               13     307.8 (1.2)      [   309.4 (2.1) ]  \n",
      "               14     307.0 (1.1)      [   306.9 (2.0) ]  \n",
      "               15     350.2 (1.2)      [   347.1 (2.3) ]  *\n",
      "               16     395.9 (1.9)      [   397.0 (2.6) ]  \n",
      "        lam_chi 0    1315.3 (6.7)      [     1323 (12) ]  \n",
      "                1    1142.0 (6.7)      [  1158.5 (9.3) ]  *\n",
      "                2    1242.2 (5.3)      [  1216.9 (9.8) ]  **\n",
      "                3    1286.8 (4.7)      [     1293 (10) ]  \n",
      "                4    1314.5 (4.8)      [     1325 (11) ]  \n",
      "                5    1368.7 (7.4)      [     1374 (11) ]  \n",
      "                6    1178.0 (6.4)      [  1171.6 (8.5) ]  \n",
      "                7    1207.9 (4.5)      [  1208.5 (8.8) ]  \n",
      "                8    1268.9 (3.9)      [  1261.5 (9.2) ]  \n",
      "                9    1294.9 (3.8)      [  1294.5 (9.4) ]  \n",
      "               10    1341.5 (5.8)      [  1335.5 (9.7) ]  \n",
      "               11    1176.5 (7.2)      [  1174.9 (7.8) ]  \n",
      "               12    1191.6 (5.3)      [  1199.0 (8.0) ]  \n",
      "               13    1233.9 (4.9)      [  1240.5 (8.2) ]  \n",
      "               14    1251.3 (4.5)      [  1251.3 (8.3) ]  \n",
      "               15    1278.3 (4.5)      [  1267.0 (8.4) ]  *\n",
      "               16    1304.0 (6.2)      [  1307.8 (8.7) ]  \n",
      "         eps2_a 0   0.029618 (41)      [ 0.029618 (41) ]  \n",
      "                1   0.065325 (70)      [ 0.065325 (70) ]  \n",
      "                2   0.066506 (83)      [ 0.066506 (83) ]  \n",
      "                3    0.06877 (16)      [  0.06877 (16) ]  \n",
      "                4    0.06998 (19)      [  0.06998 (19) ]  \n",
      "                5    0.07160 (20)      [  0.07160 (20) ]  \n",
      "                6   0.123786 (95)      [ 0.123786 (95) ]  \n",
      "                7    0.12594 (12)      [  0.12594 (12) ]  \n",
      "                8    0.13009 (23)      [  0.13008 (23) ]  \n",
      "                9    0.13214 (20)      [  0.13214 (20) ]  \n",
      "               10    0.13446 (16)      [  0.13446 (16) ]  \n",
      "               11    0.19514 (12)      [  0.19514 (12) ]  \n",
      "               12    0.19737 (28)      [  0.19737 (28) ]  \n",
      "               13    0.20367 (32)      [  0.20368 (32) ]  \n",
      "               14    0.20416 (25)      [  0.20416 (25) ]  \n",
      "               15    0.20707 (48)      [  0.20706 (48) ]  \n",
      "               16    0.21167 (56)      [  0.21168 (56) ]  \n",
      "\n",
      "Fit:\n",
      "         key          y[key]       f(p)[key]\n",
      "--------------------------------------------\n",
      "    proton 0       1121 (10)    1114.9 (5.7)  \n",
      "           1     958.4 (7.7)     944.8 (5.6)  *\n",
      "           2     984.4 (7.9)    1004.9 (4.3)  **\n",
      "           3    1110.7 (8.9)    1105.3 (4.0)  \n",
      "           4    1158.1 (9.3)    1149.3 (4.2)  \n",
      "           5    1211.3 (9.7)    1206.8 (6.5)  \n",
      "           6     934.1 (6.8)     939.2 (5.1)  \n",
      "           7     998.3 (7.3)     997.8 (3.7)  \n",
      "           8    1074.4 (7.8)    1080.6 (3.3)  \n",
      "           9    1124.0 (8.2)    1124.3 (3.3)  \n",
      "          10    1168.4 (8.5)    1173.7 (5.1)  \n",
      "          11     950.8 (6.3)     952.1 (5.8)  \n",
      "          12     993.1 (6.6)     987.1 (4.4)  \n",
      "          13    1078.1 (7.2)    1072.3 (4.2)  \n",
      "          14    1057.1 (7.0)    1057.1 (3.8)  \n",
      "          15    1092.9 (7.3)    1102.6 (3.9)  *\n",
      "          16    1158.1 (7.7)    1154.7 (5.5)  \n",
      "\n",
      "Settings:\n",
      "  svdcut/n = 1e-12/0    tol = (1e-08,1e-10,1e-10)    (itns/time = 1000*/2.7)\n",
      "  fitter = scipy_least_squares    method = trf\n",
      "\n"
     ]
    }
   ],
   "source": [
    " fit_test = fit.fit_routine(prior=prior, data=data, model_info=model_info)\n",
    " fit_out = fit_test.fit\n",
    " print(fit_out.format(maxline=True))"
   ]
  },
  {
   "cell_type": "code",
   "execution_count": null,
   "metadata": {
    "tags": []
   },
   "outputs": [
    {
     "name": "stdout",
     "output_type": "stream",
     "text": [
      "{'proton': 944.0(7.1)}\n"
     ]
    }
   ],
   "source": [
    "from importlib import reload\n",
    "reload(fa)\n",
    "fit_analysis = fa.fit_analysis(phys_point_data=phys_point_data, data=data,model_info=model_info, prior=prior)\n",
    "fit_analysis_sigma = fa.fit_analysis(phys_point_data=phys_point_data, data=data,model_info=model_info_sigma, prior=prior)\n",
    "extrap_mass = fit_analysis.extrapolated_mass\n",
    "extrap_mass_deriv = fit_analysis_sigma.extrapolated_mass\n",
    "m_proton = extrap_mass['proton']\n",
    "m_proton_deriv =  extrap_mass_deriv['proton']"
   ]
  },
  {
   "cell_type": "code",
   "execution_count": null,
   "metadata": {},
   "outputs": [
    {
     "name": "stdout",
     "output_type": "stream",
     "text": [
      "sigma w/ gv.deriv: 53.12(24)\n",
      "sigma analytic: 48.53(38)\n"
     ]
    }
   ],
   "source": [
    "reload(io)\n",
    "m_pi = phys_point_data['m_pi']\n",
    "lam_chi = phys_point_data['lam_chi']\n",
    "e_pi = m_pi / lam_chi\n",
    "sigma = m_pi**2 *gv.deriv(m_proton, m_pi**2)\n",
    "l3 = gv.gvar('3.53(26)')\n",
    "l4 = gv.gvar('4.73(10)')\n",
    "sigma_analytic = e_pi/2 * (1 + e_pi**2*(5/2 - l3/2 - 2*l4 )) *m_proton_deriv\n",
    "print('sigma w/ gv.deriv:',sigma)\n",
    "print('sigma analytic:' ,sigma_analytic)\n"
   ]
  },
  {
   "cell_type": "code",
   "execution_count": null,
   "metadata": {},
   "outputs": [
    {
     "ename": "KeyError",
     "evalue": "'m_{proton,0}'",
     "output_type": "error",
     "traceback": [
      "\u001b[0;31m---------------------------------------------------------------------------\u001b[0m",
      "\u001b[0;31mKeyError\u001b[0m                                  Traceback (most recent call last)",
      "Cell \u001b[0;32mIn[15], line 1\u001b[0m\n\u001b[0;32m----> 1\u001b[0m \u001b[38;5;28mprint\u001b[39m(\u001b[43mfit_analysis\u001b[49m\u001b[38;5;241;43m.\u001b[39;49m\u001b[43merror_budget\u001b[49m)\n",
      "File \u001b[0;32m~/lqcd/hyperon-xpt-master/xpt/fit_analysis.py:76\u001b[0m, in \u001b[0;36mfit_analysis.error_budget\u001b[0;34m(self)\u001b[0m\n\u001b[1;32m     73\u001b[0m output \u001b[39m=\u001b[39m \u001b[39m'\u001b[39m\u001b[39m'\u001b[39m\n\u001b[1;32m     75\u001b[0m output \u001b[39m+\u001b[39m\u001b[39m=\u001b[39m \u001b[39m'\u001b[39m\u001b[39m\\n\u001b[39;00m\u001b[39m'\u001b[39m\n\u001b[0;32m---> 76\u001b[0m output \u001b[39m+\u001b[39m\u001b[39m=\u001b[39m \u001b[39mstr\u001b[39m(\u001b[39mself\u001b[39;49m\u001b[39m.\u001b[39;49m_get_error_budget(particle\u001b[39m=\u001b[39;49m\u001b[39m'\u001b[39;49m\u001b[39mproton\u001b[39;49m\u001b[39m'\u001b[39;49m))\n\u001b[1;32m     77\u001b[0m \u001b[39mreturn\u001b[39;00m output\n",
      "File \u001b[0;32m~/lqcd/hyperon-xpt-master/xpt/fit_analysis.py:130\u001b[0m, in \u001b[0;36mfit_analysis._get_error_budget\u001b[0;34m(self, **kwargs)\u001b[0m\n\u001b[1;32m    125\u001b[0m \u001b[39m# if verbose:\u001b[39;00m\n\u001b[1;32m    126\u001b[0m \u001b[39m#     if output is None:\u001b[39;00m\n\u001b[1;32m    127\u001b[0m \u001b[39m#         output = ''\u001b[39;00m\n\u001b[1;32m    129\u001b[0m result \u001b[39m=\u001b[39m {}\n\u001b[0;32m--> 130\u001b[0m result[\u001b[39m'\u001b[39m\u001b[39mdisc\u001b[39m\u001b[39m'\u001b[39m] \u001b[39m=\u001b[39m mdls\u001b[39m.\u001b[39;49mfit\u001b[39m.\u001b[39mp\u001b[39m.\u001b[39mpartialsdev(\n\u001b[1;32m    131\u001b[0m     [\u001b[39mself\u001b[39m\u001b[39m.\u001b[39mprior[key] \u001b[39mfor\u001b[39;00m key \u001b[39min\u001b[39;00m disc_keys \u001b[39mif\u001b[39;00m key \u001b[39min\u001b[39;00m \u001b[39mself\u001b[39m\u001b[39m.\u001b[39mprior]\n\u001b[1;32m    132\u001b[0m )\n\u001b[1;32m    133\u001b[0m result[\u001b[39m'\u001b[39m\u001b[39mchiral\u001b[39m\u001b[39m'\u001b[39m] \u001b[39m=\u001b[39m mdls\u001b[39m.\u001b[39mfit\u001b[39m.\u001b[39mp\u001b[39m.\u001b[39mpartialsdev(\n\u001b[1;32m    134\u001b[0m     [\u001b[39mself\u001b[39m\u001b[39m.\u001b[39mprior[key] \u001b[39mfor\u001b[39;00m key \u001b[39min\u001b[39;00m chiral_keys \u001b[39mif\u001b[39;00m key \u001b[39min\u001b[39;00m \u001b[39mself\u001b[39m\u001b[39m.\u001b[39mprior]\n\u001b[1;32m    135\u001b[0m )\n\u001b[1;32m    136\u001b[0m result[\u001b[39m'\u001b[39m\u001b[39mstrange\u001b[39m\u001b[39m'\u001b[39m] \u001b[39m=\u001b[39m mdls\u001b[39m.\u001b[39mfit\u001b[39m.\u001b[39mp\u001b[39m.\u001b[39mpartialsdev(\n\u001b[1;32m    137\u001b[0m     [\u001b[39mself\u001b[39m\u001b[39m.\u001b[39mprior[key] \u001b[39mfor\u001b[39;00m key \u001b[39min\u001b[39;00m strange_keys \u001b[39mif\u001b[39;00m key \u001b[39min\u001b[39;00m \u001b[39mself\u001b[39m\u001b[39m.\u001b[39mprior]\n\u001b[1;32m    138\u001b[0m )\n",
      "File \u001b[0;32m~/lqcd/hyperon-xpt-master/xpt/fit_routine.py:34\u001b[0m, in \u001b[0;36mfit_routine.fit\u001b[0;34m(self)\u001b[0m\n\u001b[1;32m     32\u001b[0m \u001b[39mif\u001b[39;00m \u001b[39mself\u001b[39m\u001b[39m.\u001b[39m_fit \u001b[39mis\u001b[39;00m \u001b[39mNone\u001b[39;00m:\n\u001b[1;32m     33\u001b[0m     models \u001b[39m=\u001b[39m \u001b[39mself\u001b[39m\u001b[39m.\u001b[39m_make_models()\n\u001b[0;32m---> 34\u001b[0m     prior \u001b[39m=\u001b[39m \u001b[39mself\u001b[39;49m\u001b[39m.\u001b[39;49m_make_prior()\n\u001b[1;32m     35\u001b[0m     data \u001b[39m=\u001b[39m \u001b[39mself\u001b[39m\u001b[39m.\u001b[39my\n\u001b[1;32m     37\u001b[0m     fitter \u001b[39m=\u001b[39m lsqfit\u001b[39m.\u001b[39mMultiFitter(models\u001b[39m=\u001b[39mmodels)\n",
      "File \u001b[0;32m~/lqcd/hyperon-xpt-master/xpt/fit_routine.py:197\u001b[0m, in \u001b[0;36mfit_routine._make_prior\u001b[0;34m(self, data)\u001b[0m\n\u001b[1;32m    195\u001b[0m             keys\u001b[39m.\u001b[39mextend(\u001b[39mself\u001b[39m\u001b[39m.\u001b[39m_get_prior_keys(particle\u001b[39m=\u001b[39mp, order\u001b[39m=\u001b[39mo, lec_type \u001b[39m=\u001b[39m l))\n\u001b[1;32m    196\u001b[0m \u001b[39mfor\u001b[39;00m key \u001b[39min\u001b[39;00m keys:\n\u001b[0;32m--> 197\u001b[0m     new_prior[key] \u001b[39m=\u001b[39m prior[key]\n\u001b[1;32m    199\u001b[0m \u001b[39mif\u001b[39;00m \u001b[39mself\u001b[39m\u001b[39m.\u001b[39mmodel_info[\u001b[39m'\u001b[39m\u001b[39morder_strange\u001b[39m\u001b[39m'\u001b[39m] \u001b[39mis\u001b[39;00m \u001b[39mnot\u001b[39;00m \u001b[39mNone\u001b[39;00m:\n\u001b[1;32m    200\u001b[0m     new_prior[\u001b[39m'\u001b[39m\u001b[39mm_k\u001b[39m\u001b[39m'\u001b[39m] \u001b[39m=\u001b[39m data[\u001b[39m'\u001b[39m\u001b[39mm_k\u001b[39m\u001b[39m'\u001b[39m]\n",
      "\u001b[0;31mKeyError\u001b[0m: 'm_{proton,0}'"
     ]
    }
   ],
   "source": [
    "print(fit_analysis.error_budget)"
   ]
  }
 ],
 "metadata": {
  "kernelspec": {
   "display_name": "Python 3.10.10 64-bit",
   "language": "python",
   "name": "python3"
  },
  "language_info": {
   "codemirror_mode": {
    "name": "ipython",
    "version": 3
   },
   "file_extension": ".py",
   "mimetype": "text/x-python",
   "name": "python",
   "nbconvert_exporter": "python",
   "pygments_lexer": "ipython3",
   "version": "3.10.10"
  },
  "orig_nbformat": 2,
  "vscode": {
   "interpreter": {
    "hash": "aee8b7b246df8f9039afb4144a1f6fd8d2ca17a180786b69acc140d282b71a49"
   }
  }
 },
 "nbformat": 4,
 "nbformat_minor": 2
}

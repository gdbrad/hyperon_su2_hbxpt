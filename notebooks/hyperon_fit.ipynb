{
 "cells": [
  {
   "cell_type": "code",
   "execution_count": 1,
   "metadata": {
    "tags": []
   },
   "outputs": [],
   "source": [
    "import numpy as np\n",
    "import gvar as gv\n",
    "import sys\n",
    "\n",
    "#import warnings  \n",
    "#warnings.simplefilter(action=\"default\")\n",
    "\n",
    "sys.path.append('../')\n",
    "\n",
    "from h5glance import H5Glance \n",
    "import os\n",
    "import lsqfit"
   ]
  },
  {
   "cell_type": "code",
   "execution_count": 2,
   "metadata": {},
   "outputs": [],
   "source": [
    "os.chdir('../../hyperon-xpt-master/xpt')"
   ]
  },
  {
   "cell_type": "code",
   "execution_count": 3,
   "metadata": {},
   "outputs": [],
   "source": [
    "import fit_analysis as fa \n",
    "import fit_routine as fit\n",
    "import i_o "
   ]
  },
  {
   "cell_type": "code",
   "execution_count": 4,
   "metadata": {
    "tags": []
   },
   "outputs": [
    {
     "output_type": "execute_result",
     "data": {
      "text/plain": [
       "<module 'fit_routine' from '/Users/grantdb/hyperon-xpt-master/xpt/fit_routine.py'>"
      ]
     },
     "metadata": {},
     "execution_count": 4
    }
   ],
   "source": [
    "from importlib import reload\n",
    "reload(i_o)\n",
    "reload(fa)\n",
    "reload(fit)"
   ]
  },
  {
   "cell_type": "code",
   "execution_count": 5,
   "metadata": {},
   "outputs": [],
   "source": [
    "file = '../data/hyperon_data.h5'\n",
    "#H5Glance(file)"
   ]
  },
  {
   "cell_type": "code",
   "execution_count": 6,
   "metadata": {},
   "outputs": [],
   "source": [
    "file2 = '../data/input_data.h5'\n",
    "#H5Glance(file2)"
   ]
  },
  {
   "cell_type": "code",
   "execution_count": 7,
   "metadata": {
    "tags": []
   },
   "outputs": [
    {
     "output_type": "stream",
     "name": "stderr",
     "text": [
      "/Users/grantdb/hyperon-xpt-master/xpt/i_o.py:101: UserWarning: sample sizes differ for different entries: 5000 5001\n",
      "  gv_data[ens] = gv.dataset.avg_data(gv_data[ens], bstrap=True)\n",
      "a09m135 1282(12)\n",
      "a09m220 1318(11)\n",
      "a09m310 1370(11)\n",
      "a09m350 1388(11)\n",
      "a09m400 1411(12)\n",
      "a12m130 1271.5(9.6)\n",
      "a12m220L 1283(10)\n",
      "a12m310 1318.6(9.9)\n",
      "a12m350 1336(10)\n",
      "a12m400 1358(10)\n",
      "a15m135XL 1258.0(8.6)\n",
      "a15m220 1257.6(8.5)\n",
      "a15m310 1294.3(8.7)\n",
      "a15m350 1302.1(9.7)\n",
      "a15m400 1327.5(9.8)\n"
     ]
    }
   ],
   "source": [
    "input_output = i_o.InputOutput()\n",
    "data,ensembles = input_output.get_data(scheme='w0_imp')\n",
    "\n",
    "for j,ens in enumerate(ensembles):\n",
    "    print(ens, data['m_xi'][j])"
   ]
  },
  {
   "cell_type": "code",
   "execution_count": 8,
   "metadata": {},
   "outputs": [],
   "source": [
    "prior = {}\n",
    "\n",
    "# not-even leading order \n",
    "prior['m_{xi,0}'] = gv.gvar(1000, 1000) # MeV\n",
    "prior['m_{xi_st,0}'] = gv.gvar(1100, 1000) # MeV\n",
    "prior['m_{lam,0}'] = gv.gvar(1200, 1000) \n",
    "prior['m_{sigma,0}'] = gv.gvar(1300, 1000) \n",
    "prior['m_{sigma_st,0}'] = gv.gvar(1400, 1000)\n",
    "\n",
    "\n",
    "# lo\n",
    "prior['s_{xi}'] = gv.gvar(0, 5)\n",
    "prior['s_{xi,bar}'] = gv.gvar(0, 5)\n",
    "prior['s_{lam}'] = gv.gvar(0, 5)\n",
    "prior['s_{sigma,bar}'] = gv.gvar(0, 5)\n",
    "prior['s_{sigma}'] = gv.gvar(0, 5)\n",
    "\n",
    "\n",
    "# nlo\n",
    "prior['g_{xi,xi}'] = gv.gvar(0.3, 3)\n",
    "prior['g_{xi_st,xi}'] = gv.gvar(0.7, 3)\n",
    "prior['g_{xi_st,xi_st}'] = gv.gvar(-.5, 3)\n",
    "prior['g_{lam,sigma}'] = gv.gvar(0, 5)\n",
    "prior['g_{lam,sigma_st}'] =gv.gvar(0, 5)\n",
    "prior['g_{sigma,sigma}'] = gv.gvar(0, 5)\n",
    "prior['g_{sigma_st,sigma}'] = gv.gvar(0, 5)\n",
    "prior['g_{sigma_st,sigma_st}']= gv.gvar(0, 5)\n",
    "\n",
    "\n",
    "# n2lo\n",
    "prior['a_{xi,4}'] = gv.gvar(0, 5)\n",
    "prior['a_{xi_st,4}'] = gv.gvar(0, 5)\n",
    "prior['b_{xi,4}'] = gv.gvar(0, 5)\n",
    "prior['b_{xi_st,4}'] = gv.gvar(0, 5)\n",
    "prior['a_{sigma,4}'] = gv.gvar(0, 5)\n",
    "prior['a_{sigma_st,4}'] = gv.gvar(0, 5)\n",
    "prior['b_{sigma,4}'] = gv.gvar(0, 5)\n",
    "prior['b_{sigma_st,4}'] = gv.gvar(0, 5)\n",
    "prior['a_{lam,4}'] = gv.gvar(0, 5)\n",
    "prior['b_{lam,4}'] = gv.gvar(0, 5)\n",
    "# note: no lo terms for taylor \n",
    "\n",
    "# latt/strange nlo\n",
    "prior['d_{xi,a}'] = gv.gvar(0, 1)\n",
    "prior['d_{xi_st,a}'] = gv.gvar(0, 1)\n",
    "prior['d_{xi,s}'] = gv.gvar(0, 1)\n",
    "prior['d_{xi_st,s}'] = gv.gvar(0, 1)  \n",
    "prior['d_{lam,s}'] = gv.gvar(0, 1)\n",
    "prior['d_{lam,a}'] = gv.gvar(0, 1)\n",
    "prior['d_{sigma_st,a}'] = gv.gvar(0, 1) \n",
    "prior['d_{sigma_st,s}'] = gv.gvar(0, 1)\n",
    "prior['d_{sigma,s}'] = gv.gvar(0, 1) \n",
    "prior['d_{sigma,a}'] = gv.gvar(0, 1)\n",
    "\n",
    "\n",
    "\n",
    "# latt n2lo\n",
    "prior['d_{xi,aa}'] = gv.gvar(0, 1)\n",
    "prior['d_{xi,al}'] = gv.gvar(0, 1)\n",
    "prior['d_{xi,as}'] = gv.gvar(0, 1)\n",
    "prior['d_{xi,ls}'] = gv.gvar(0, 1)\n",
    "prior['d_{xi,ss}'] = gv.gvar(0, 1)\n",
    "\n",
    "prior['d_{xi_st,aa}'] = gv.gvar(0, 1)\n",
    "prior['d_{xi_st,al}'] = gv.gvar(0, 1) \n",
    "prior['d_{xi_st,as}'] = gv.gvar(0, 1)\n",
    "prior['d_{xi_st,ls}'] = gv.gvar(0, 1) \n",
    "prior['d_{xi_st,ss}'] = gv.gvar(0, 1)\n",
    "\n",
    "prior['d_{lam,aa}'] = gv.gvar(0, 1)\n",
    "prior['d_{lam,al}'] = gv.gvar(0, 1)\n",
    "prior['d_{lam,as}'] = gv.gvar(0, 1)\n",
    "prior['d_{lam,ls}'] = gv.gvar(0, 1)\n",
    "prior['d_{lam,ss}'] = gv.gvar(0, 1)\n",
    "\n",
    "prior['d_{sigma,aa}'] = gv.gvar(0, 1)\n",
    "prior['d_{sigma,al}'] = gv.gvar(0, 1)\n",
    "prior['d_{sigma,as}'] = gv.gvar(0, 1)\n",
    "prior['d_{sigma,ls}'] = gv.gvar(0, 1)\n",
    "prior['d_{sigma,ss}'] = gv.gvar(0, 1)\n",
    "\n",
    "prior['d_{sigma_st,aa}'] = gv.gvar(0, 1)\n",
    "prior['d_{sigma_st,al}'] = gv.gvar(0, 1) \n",
    "prior['d_{sigma_st,as}'] = gv.gvar(0, 1)\n",
    "prior['d_{sigma_st,ls}'] = gv.gvar(0, 1) \n",
    "prior['d_{sigma_st,ss}'] = gv.gvar(0, 1)"
   ]
  },
  {
   "cell_type": "code",
   "execution_count": 9,
   "metadata": {},
   "outputs": [],
   "source": [
    "model_info = {}\n",
    "model_info['particles'] = ['xi', 'xi_st','sigma', 'sigma_st', 'lam']\n",
    "model_info['eps2a_defn'] = 'w0_imp'\n",
    "#model_info['name'] = 'test'\n",
    "model_info['order_chiral']  = 'n2lo'\n",
    "model_info['order_disc'] = 'n2lo'\n",
    "model_info['order_strange'] = 'n2lo'\n",
    "model_info['include_log'] = True\n",
    "model_info['xpt'] = True\n",
    "#model_info['full_formulae'] = True"
   ]
  },
  {
   "cell_type": "code",
   "execution_count": 10,
   "metadata": {},
   "outputs": [],
   "source": [
    "def _make_prior(data,prior):\n",
    "    \n",
    "    new_prior = {}\n",
    "    for key in prior:\n",
    "        new_prior[key] = prior[key]\n",
    "    for key in ['m_pi', 'm_k', 'lam_chi', 'a/w', 'm_delta']:\n",
    "        new_prior[key] = data[key]\n",
    "    return new_prior"
   ]
  },
  {
   "cell_type": "code",
   "execution_count": null,
   "metadata": {},
   "outputs": [],
   "source": []
  },
  {
   "cell_type": "code",
   "execution_count": 11,
   "metadata": {},
   "outputs": [],
   "source": [
    "\n",
    "data,ensembles = input_output.get_data(scheme='w0_imp')\n",
    "prior = _make_prior(data,prior)\n",
    "phys_point_data = input_output.get_phys_point_data()"
   ]
  },
  {
   "cell_type": "code",
   "execution_count": 12,
   "metadata": {},
   "outputs": [
    {
     "output_type": "execute_result",
     "data": {
      "text/plain": [
       "array([1382(17), 1346(66), 1464(69), 1497(19), 1556(14), 1370(21),\n",
       "       1402(11), 1441(30), 1459(23), 1498(15), 1450(19), 1404(14),\n",
       "       1439.2(9.9), 1414(34), 1488(13)], dtype=object)"
      ]
     },
     "metadata": {},
     "execution_count": 12
    }
   ],
   "source": [
    "prior['m_delta']"
   ]
  },
  {
   "cell_type": "code",
   "execution_count": 13,
   "metadata": {},
   "outputs": [
    {
     "output_type": "stream",
     "name": "stdout",
     "text": [
      "{'a/w': 0(0), 'a': 0(0), 'alpha_s': 0(0), 'L': inf(0), 'hbarc': 197.327(0), 'lam_chi': 1157.0(7.2), 'm_pi': 134.80(30), 'm_k': 494.20(30), 'm_xi': 1318.28(11), 'm_xi_st': 1533.40(34), 'm_lam': 1118.697(35), 'm_sigma': 1198.82(30), 'm_sigma_st': 1388.35(58)}\n"
     ]
    }
   ],
   "source": [
    "print(phys_point_data)"
   ]
  },
  {
   "cell_type": "code",
   "execution_count": 14,
   "metadata": {},
   "outputs": [
    {
     "output_type": "stream",
     "name": "stdout",
     "text": [
      "0.3513(44)\n"
     ]
    }
   ],
   "source": [
    "sf_phys = ((2*phys_point_data['m_k']**2- phys_point_data['m_pi']**2) / phys_point_data['lam_chi']**2)\n",
    "print(sf_phys)"
   ]
  },
  {
   "cell_type": "code",
   "execution_count": 15,
   "metadata": {},
   "outputs": [],
   "source": [
    "#run this until it works... \n",
    "fit_test = fit.fit_routine(prior=prior, data=data, model_info=model_info)"
   ]
  },
  {
   "cell_type": "code",
   "execution_count": 16,
   "metadata": {},
   "outputs": [
    {
     "output_type": "stream",
     "name": "stdout",
     "text": [
      "Least Square Fit:\n  chi2/dof [dof] = 0.87 [75]    Q = 0.78    logGBF = -347.05\n\nParameters:\n             m_{xi,0}          1337 (16)        [  1000 (1000) ]  \n          m_{xi_st,0}          1574 (22)        [  1100 (1000) ]  \n            m_{lam,0}          1100 (17)        [  1200 (1000) ]  \n          m_{sigma,0}          1229 (15)        [  1300 (1000) ]  \n       m_{sigma_st,0}          1510 (19)        [  1400 (1000) ]  \n               s_{xi}          0.90 (74)        [    0.0 (5.0) ]  \n           s_{xi,bar}        0.02 (5.00)        [    0.0 (5.0) ]  \n              s_{lam}          2.29 (74)        [    0.0 (5.0) ]  \n        s_{sigma,bar}          0.3 (1.9)        [    0.0 (5.0) ]  \n            s_{sigma}          0.74 (92)        [    0.0 (5.0) ]  \n            g_{xi,xi}         -0.62 (72)        [    0.3 (3.0) ]  \n         g_{xi_st,xi}          0.1 (2.8)        [    0.7 (3.0) ]  \n      g_{xi_st,xi_st}       -0.08 (2.79)        [   -0.5 (3.0) ]  \n        g_{lam,sigma}        0.05 (4.93)        [    0.0 (5.0) ]  \n     g_{lam,sigma_st}       -0.09 (2.24)        [    0.0 (5.0) ]  \n      g_{sigma,sigma}      0.002 (5.000)        [    0.0 (5.0) ]  \n   g_{sigma_st,sigma}          0.6 (2.4)        [    0.0 (5.0) ]  \ng_{sigma_st,sigma_st}        -2e-15 +- 5        [    0.0 (5.0) ]  \n             a_{xi,4}         -1.3 (4.7)        [    0.0 (5.0) ]  \n          a_{xi_st,4}          0.2 (3.6)        [    0.0 (5.0) ]  \n             b_{xi,4}        0.0022 (41)        [    0.0 (5.0) ]  \n          b_{xi_st,4}          0.7 (4.4)        [    0.0 (5.0) ]  \n          a_{sigma,4}         -2.7 (4.0)        [    0.0 (5.0) ]  \n       a_{sigma_st,4}         -2.2 (4.3)        [    0.0 (5.0) ]  \n          b_{sigma,4}        0.0003 (63)        [    0.0 (5.0) ]  \n       b_{sigma_st,4}          1.1 (4.8)        [    0.0 (5.0) ]  \n            a_{lam,4}          3.1 (4.4)        [    0.0 (5.0) ]  \n            b_{lam,4}        0.0018 (66)        [    0.0 (5.0) ]  \n             d_{xi,a}        -0.269 (64)        [    0.0 (1.0) ]  \n          d_{xi_st,a}         -0.20 (15)        [    0.0 (1.0) ]  \n             d_{xi,s}      0.006 (1.000)        [    0.0 (1.0) ]  \n          d_{xi_st,s}     -0.004 (1.000)        [    0.0 (1.0) ]  \n            d_{lam,s}     -0.006 (1.000)        [    0.0 (1.0) ]  \n            d_{lam,a}         -0.37 (14)        [    0.0 (1.0) ]  \n       d_{sigma_st,a}         6e-17 +- 1        [    0.0 (1.0) ]  \n       d_{sigma_st,s}         2e-16 +- 1        [    0.0 (1.0) ]  \n          d_{sigma,s}      0.005 (1.000)        [    0.0 (1.0) ]  \n          d_{sigma,a}         -0.39 (14)        [    0.0 (1.0) ]  \n            d_{xi,aa}          0.60 (46)        [    0.0 (1.0) ]  \n            d_{xi,al}         -0.06 (56)        [    0.0 (1.0) ]  \n            d_{xi,as}      0.002 (1.000)        [    0.0 (1.0) ]  \n            d_{xi,ls}        -8e-07 +- 1        [    0.0 (1.0) ]  \n            d_{xi,ss}      0.004 (1.000)        [    0.0 (1.0) ]  \n         d_{xi_st,aa}         -0.40 (52)        [    0.0 (1.0) ]  \n         d_{xi_st,al}         -0.29 (61)        [    0.0 (1.0) ]  \n         d_{xi_st,as}   -0.0007 (1.0000)        [    0.0 (1.0) ]  \n         d_{xi_st,ls}         1e-06 +- 1        [    0.0 (1.0) ]  \n         d_{xi_st,ss}     -0.003 (1.000)        [    0.0 (1.0) ]  \n           d_{lam,aa}          0.18 (50)        [    0.0 (1.0) ]  \n           d_{lam,al}         -0.76 (65)        [    0.0 (1.0) ]  \n           d_{lam,as}        0.01 (1.00)        [    0.0 (1.0) ]  \n           d_{lam,ls}        -9e-07 +- 1        [    0.0 (1.0) ]  \n           d_{lam,ss}     -0.004 (1.000)        [    0.0 (1.0) ]  \n         d_{sigma,aa}          0.75 (49)        [    0.0 (1.0) ]  \n         d_{sigma,al}         -1.26 (65)        [    0.0 (1.0) ]  *\n         d_{sigma,as}     -0.007 (1.000)        [    0.0 (1.0) ]  \n         d_{sigma,ls}        -4e-07 +- 1        [    0.0 (1.0) ]  \n         d_{sigma,ss}      0.004 (1.000)        [    0.0 (1.0) ]  \n      d_{sigma_st,aa}        -6e-17 +- 1        [    0.0 (1.0) ]  \n      d_{sigma_st,al}         1e-16 +- 1        [    0.0 (1.0) ]  \n      d_{sigma_st,as}        -1e-16 +- 1        [    0.0 (1.0) ]  \n      d_{sigma_st,ls}         5e-17 +- 1        [    0.0 (1.0) ]  \n      d_{sigma_st,ss}         5e-17 +- 1        [    0.0 (1.0) ]  \n               m_pi 0        135.99 (72)        [  134.4 (1.1) ]  *\n                    1        222.7 (1.0)        [  221.3 (1.8) ]  \n                    2        315.2 (1.3)        [  318.1 (2.6) ]  *\n                    3        353.3 (1.5)        [  356.8 (2.9) ]  *\n                    4        406.2 (2.1)        [  409.5 (3.3) ]  \n                    5        133.16 (64)        [  132.9 (1.0) ]  \n                    6        219.99 (78)        [  219.2 (1.6) ]  \n                    7        309.7 (1.1)        [  308.6 (2.3) ]  \n                    8        350.1 (1.2)        [  349.9 (2.6) ]  \n                    9        399.6 (1.7)        [  398.2 (2.9) ]  \n                   10        133.01 (64)        [  134.96 (90) ]  **\n                   11        216.98 (87)        [  216.8 (1.5) ]  \n                   12        308.6 (1.2)        [  309.5 (2.1) ]  \n                   13        349.3 (1.4)        [  347.1 (2.3) ]  \n                   14        398.2 (2.0)        [  397.0 (2.7) ]  \n                m_k 0        499.7 (2.6)        [  493.9 (4.0) ]  *\n                    1        520.2 (2.4)        [  517.0 (4.2) ]  \n                    2        539.9 (2.2)        [  544.9 (4.4) ]  *\n                    3        552.6 (2.2)        [  558.2 (4.5) ]  *\n                    4        572.3 (2.9)        [  576.9 (4.6) ]  \n                    5        495.0 (2.2)        [  494.1 (3.6) ]  \n                    6        509.2 (1.7)        [  507.3 (3.7) ]  \n                    7        531.9 (1.9)        [  530.1 (3.9) ]  \n                    8        545.0 (1.7)        [  544.7 (4.0) ]  \n                    9        563.6 (2.4)        [  561.6 (4.1) ]  \n                   10        500.8 (2.4)        [  508.1 (3.4) ]  **\n                   11        507.8 (2.0)        [  507.3 (3.4) ]  \n                   12        529.0 (2.0)        [  530.5 (3.5) ]  \n                   13        545.8 (2.2)        [  542.4 (3.6) ]  \n                   14        561.8 (2.8)        [  560.2 (3.7) ]  \n            lam_chi 0       1172.1 (6.7)        [ 1158.4 (9.7) ]  *\n                    1       1224.5 (6.0)        [    1217 (10) ]  \n                    2       1281.3 (5.5)        [    1293 (11) ]  *\n                    3       1311.1 (5.7)        [    1325 (11) ]  *\n                    4       1362.7 (7.1)        [    1374 (11) ]  \n                    5       1173.6 (5.6)        [ 1171.6 (8.8) ]  \n                    6       1213.2 (4.8)        [ 1208.7 (9.2) ]  \n                    7       1265.7 (4.8)        [ 1261.5 (9.5) ]  \n                    8       1295.1 (4.9)        [ 1294.5 (9.9) ]  \n                    9       1340.3 (6.0)        [    1336 (10) ]  \n                   10       1158.1 (5.8)        [ 1174.9 (8.0) ]  **\n                   11       1200.0 (4.8)        [ 1199.0 (8.1) ]  \n                   12       1237.3 (4.7)        [ 1240.7 (8.4) ]  \n                   13       1275.1 (5.3)        [ 1267.0 (8.6) ]  \n                   14       1311.8 (6.7)        [ 1307.9 (8.9) ]  \n                a/w 0       0.51050 (30)        [ 0.51050 (30) ]  \n                    1       0.51050 (30)        [ 0.51050 (30) ]  \n                    2       0.51050 (30)        [ 0.51050 (30) ]  \n                    3       0.51050 (30)        [ 0.51050 (30) ]  \n                    4       0.51050 (30)        [ 0.51050 (30) ]  \n                    5       0.70360 (50)        [ 0.70360 (50) ]  \n                    6       0.70360 (50)        [ 0.70360 (50) ]  \n                    7       0.70360 (50)        [ 0.70360 (50) ]  \n                    8       0.70361 (50)        [ 0.70360 (50) ]  \n                    9       0.70360 (50)        [ 0.70360 (50) ]  \n                   10       0.88040 (30)        [ 0.88040 (30) ]  \n                   11       0.88040 (30)        [ 0.88040 (30) ]  \n                   12       0.88040 (30)        [ 0.88040 (30) ]  \n                   13       0.88040 (30)        [ 0.88040 (30) ]  \n                   14       0.88040 (30)        [ 0.88040 (30) ]  \n            m_delta 0          1394 (14)        [    1382 (17) ]  \n                    1          1420 (56)        [    1346 (66) ]  *\n                    2          1466 (52)        [    1464 (69) ]  \n                    3          1481 (14)        [    1497 (19) ]  \n                    4       1543.0 (9.7)        [    1556 (14) ]  \n                    5          1376 (18)        [    1370 (21) ]  \n                    6       1404.4 (5.6)        [    1402 (11) ]  \n                    7          1440 (14)        [    1441 (30) ]  \n                    8          1452 (16)        [    1459 (23) ]  \n                    9          1504 (10)        [    1498 (15) ]  \n                   10          1419 (17)        [    1450 (19) ]  *\n                   11          1405 (11)        [    1404 (14) ]  \n                   12       1435.1 (5.6)        [ 1439.2 (9.9) ]  \n                   13          1443 (28)        [    1414 (34) ]  \n                   14          1491 (11)        [    1488 (13) ]  \n\nSettings:\n  svdcut/n = 1e-12/0    tol = (1e-08,1e-10,1e-10)    (itns/time = 1000*/17.6)\n  fitter = scipy_least_squares    method = trf\n\n"
     ]
    }
   ],
   "source": [
    "print(fit_test.fit)\n"
   ]
  },
  {
   "cell_type": "code",
   "execution_count": 17,
   "metadata": {},
   "outputs": [
    {
     "output_type": "stream",
     "name": "stdout",
     "text": [
      "m_{xi,0}\nm_{xi_st,0}\nm_{lam,0}\nm_{sigma,0}\nm_{sigma_st,0}\ns_{xi}\ns_{xi,bar}\ns_{lam}\ns_{sigma,bar}\ns_{sigma}\ng_{xi,xi}\ng_{xi_st,xi}\ng_{xi_st,xi_st}\ng_{lam,sigma}\ng_{lam,sigma_st}\ng_{sigma,sigma}\ng_{sigma_st,sigma}\ng_{sigma_st,sigma_st}\na_{xi,4}\na_{xi_st,4}\nb_{xi,4}\nb_{xi_st,4}\na_{sigma,4}\na_{sigma_st,4}\nb_{sigma,4}\nb_{sigma_st,4}\na_{lam,4}\nb_{lam,4}\nd_{xi,a}\nd_{xi_st,a}\nd_{xi,s}\nd_{xi_st,s}\nd_{lam,s}\nd_{lam,a}\nd_{sigma_st,a}\nd_{sigma_st,s}\nd_{sigma,s}\nd_{sigma,a}\nd_{xi,aa}\nd_{xi,al}\nd_{xi,as}\nd_{xi,ls}\nd_{xi,ss}\nd_{xi_st,aa}\nd_{xi_st,al}\nd_{xi_st,as}\nd_{xi_st,ls}\nd_{xi_st,ss}\nd_{lam,aa}\nd_{lam,al}\nd_{lam,as}\nd_{lam,ls}\nd_{lam,ss}\nd_{sigma,aa}\nd_{sigma,al}\nd_{sigma,as}\nd_{sigma,ls}\nd_{sigma,ss}\nd_{sigma_st,aa}\nd_{sigma_st,al}\nd_{sigma_st,as}\nd_{sigma_st,ls}\nd_{sigma_st,ss}\nm_pi\nm_k\nlam_chi\na/w\nm_delta\n"
     ]
    }
   ],
   "source": [
    "post = {}\n",
    "my_fit = fit_test.fit\n",
    "post = my_fit.p\n",
    "for key in post.keys():\n",
    "    print(key)\n",
    "#print(post.keys())"
   ]
  },
  {
   "cell_type": "code",
   "execution_count": 18,
   "metadata": {},
   "outputs": [],
   "source": [
    "my_fit = fit_test.fit\n",
    "post = my_fit.p\n",
    "fit_test = fit.fit_routine(prior=post, data=phys_point_data, model_info=model_info)\n"
   ]
  },
  {
   "cell_type": "code",
   "execution_count": 19,
   "metadata": {},
   "outputs": [
    {
     "output_type": "error",
     "ename": "AttributeError",
     "evalue": "can't set attribute",
     "traceback": [
      "\u001b[0;31m---------------------------------------------------------------------------\u001b[0m",
      "\u001b[0;31mAttributeError\u001b[0m                            Traceback (most recent call last)",
      "\u001b[0;32m<ipython-input-19-1dde22a469be>\u001b[0m in \u001b[0;36m<module>\u001b[0;34m\u001b[0m\n\u001b[1;32m      3\u001b[0m     \u001b[0mdata\u001b[0m\u001b[0;34m=\u001b[0m\u001b[0mdata\u001b[0m\u001b[0;34m,\u001b[0m\u001b[0;34m\u001b[0m\u001b[0;34m\u001b[0m\u001b[0m\n\u001b[1;32m      4\u001b[0m     \u001b[0mmodel_info\u001b[0m\u001b[0;34m=\u001b[0m\u001b[0mmodel_info\u001b[0m\u001b[0;34m,\u001b[0m\u001b[0;34m\u001b[0m\u001b[0;34m\u001b[0m\u001b[0m\n\u001b[0;32m----> 5\u001b[0;31m     prior=prior)\n\u001b[0m",
      "\u001b[0;32m~/hyperon-xpt-master/xpt/fit_analysis.py\u001b[0m in \u001b[0;36m__init__\u001b[0;34m(self, phys_point_data, data, model_info, prior)\u001b[0m\n\u001b[1;32m     47\u001b[0m         \u001b[0mself\u001b[0m\u001b[0;34m.\u001b[0m\u001b[0mmodel_info\u001b[0m \u001b[0;34m=\u001b[0m \u001b[0mmodel_info\u001b[0m\u001b[0;34m\u001b[0m\u001b[0;34m\u001b[0m\u001b[0m\n\u001b[1;32m     48\u001b[0m         \u001b[0mself\u001b[0m\u001b[0;34m.\u001b[0m\u001b[0mdata\u001b[0m \u001b[0;34m=\u001b[0m \u001b[0mdata\u001b[0m\u001b[0;34m\u001b[0m\u001b[0;34m\u001b[0m\u001b[0m\n\u001b[0;32m---> 49\u001b[0;31m         \u001b[0mself\u001b[0m\u001b[0;34m.\u001b[0m\u001b[0mfit\u001b[0m \u001b[0;34m=\u001b[0m \u001b[0mfit\u001b[0m\u001b[0;34m\u001b[0m\u001b[0;34m\u001b[0m\u001b[0m\n\u001b[0m\u001b[1;32m     50\u001b[0m         \u001b[0;31m#self.fitter = {} # fill fitter dict with models based on scheme, use 'wo_imp' for now\u001b[0m\u001b[0;34m\u001b[0m\u001b[0;34m\u001b[0m\u001b[0;34m\u001b[0m\u001b[0m\n\u001b[1;32m     51\u001b[0m         \u001b[0mself\u001b[0m\u001b[0;34m.\u001b[0m\u001b[0m_input_prior\u001b[0m \u001b[0;34m=\u001b[0m \u001b[0mprior\u001b[0m\u001b[0;34m\u001b[0m\u001b[0;34m\u001b[0m\u001b[0m\n",
      "\u001b[0;31mAttributeError\u001b[0m: can't set attribute"
     ]
    }
   ],
   "source": [
    "fit_analysis = fa.fit_analysis(\n",
    "    phys_point_data=phys_point_data, \n",
    "    data=data, \n",
    "    model_info=model_info,\n",
    "    prior=prior)"
   ]
  },
  {
   "cell_type": "code",
   "execution_count": 21,
   "metadata": {},
   "outputs": [
    {
     "output_type": "error",
     "ename": "TypeError",
     "evalue": "fitfcn() missing 1 required positional argument: 'self'",
     "traceback": [
      "\u001b[0;31m---------------------------------------------------------------------------\u001b[0m",
      "\u001b[0;31mTypeError\u001b[0m                                 Traceback (most recent call last)",
      "\u001b[0;32m<ipython-input-21-b5e37a158416>\u001b[0m in \u001b[0;36m<module>\u001b[0;34m\u001b[0m\n\u001b[0;32m----> 1\u001b[0;31m \u001b[0mprint\u001b[0m\u001b[0;34m(\u001b[0m\u001b[0mfa\u001b[0m\u001b[0;34m.\u001b[0m\u001b[0mfit_analysis\u001b[0m\u001b[0;34m.\u001b[0m\u001b[0mfitfcn\u001b[0m\u001b[0;34m(\u001b[0m\u001b[0mp\u001b[0m\u001b[0;34m=\u001b[0m\u001b[0mpost\u001b[0m\u001b[0;34m,\u001b[0m \u001b[0mdata\u001b[0m\u001b[0;34m=\u001b[0m\u001b[0mphys_point_data\u001b[0m\u001b[0;34m)\u001b[0m\u001b[0;34m)\u001b[0m\u001b[0;34m\u001b[0m\u001b[0;34m\u001b[0m\u001b[0m\n\u001b[0m",
      "\u001b[0;31mTypeError\u001b[0m: fitfcn() missing 1 required positional argument: 'self'"
     ]
    }
   ],
   "source": [
    "print(fa.fit_analysis.fitfcn(p=post, data=phys_point_data))"
   ]
  },
  {
   "cell_type": "code",
   "execution_count": null,
   "metadata": {},
   "outputs": [],
   "source": []
  }
 ],
 "metadata": {
  "language_info": {
   "codemirror_mode": {
    "name": "ipython",
    "version": 3
   },
   "file_extension": ".py",
   "mimetype": "text/x-python",
   "name": "python",
   "nbconvert_exporter": "python",
   "pygments_lexer": "ipython3",
   "version": "3.7.1-final"
  },
  "orig_nbformat": 2,
  "kernelspec": {
   "name": "python3",
   "display_name": "Python 3",
   "language": "python"
  }
 },
 "nbformat": 4,
 "nbformat_minor": 2
}
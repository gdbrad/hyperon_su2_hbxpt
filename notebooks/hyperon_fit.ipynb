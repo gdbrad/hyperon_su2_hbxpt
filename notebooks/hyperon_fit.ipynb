{
 "cells": [
  {
   "cell_type": "code",
   "execution_count": 1,
   "metadata": {
    "tags": []
   },
   "outputs": [],
   "source": [
    "import numpy as np\n",
    "import gvar as gv\n",
    "import sys\n",
    "sys.path.append('../')\n",
    "#from h5glance import H5Glance \n",
    "import os\n",
    "import lsqfit\n",
    "import io\n",
    "import yaml\n",
    "import warnings  \n",
    "warnings.simplefilter(action=\"default\")"
   ]
  },
  {
   "cell_type": "code",
   "execution_count": 2,
   "metadata": {},
   "outputs": [],
   "source": [
    "os.chdir('../../hyperon-xpt-master/xpt')"
   ]
  },
  {
   "cell_type": "code",
   "execution_count": 3,
   "metadata": {},
   "outputs": [
    {
     "output_type": "stream",
     "name": "stderr",
     "text": [
      "/Users/grantdb/anaconda3/lib/python3.7/importlib/_bootstrap.py:219: ImportWarning: can't resolve package from __spec__ or __package__, falling back on __name__ and __path__\n  return f(*args, **kwds)\n/Users/grantdb/anaconda3/lib/python3.7/importlib/_bootstrap.py:219: RuntimeWarning: numpy.ndarray size changed, may indicate binary incompatibility. Expected 88, got 80\n  return f(*args, **kwds)\n/Users/grantdb/anaconda3/lib/python3.7/site-packages/h5py/_hl/base.py:19: DeprecationWarning: Using or importing the ABCs from 'collections' instead of from 'collections.abc' is deprecated, and in 3.8 it will stop working\n  from collections import (Mapping, MutableMapping, KeysView,\n"
     ]
    }
   ],
   "source": [
    "import fit_analysis as fa \n",
    "import fit_routine as fit\n",
    "import i_o\n",
    "import priors"
   ]
  },
  {
   "cell_type": "code",
   "execution_count": 4,
   "metadata": {},
   "outputs": [
    {
     "output_type": "stream",
     "name": "stderr",
     "text": [
      "/Users/grantdb/anaconda3/lib/python3.7/site-packages/yaml/constructor.py:126: DeprecationWarning: Using or importing the ABCs from 'collections' instead of from 'collections.abc' is deprecated, and in 3.8 it will stop working\n  if not isinstance(key, collections.Hashable):\n"
     ]
    }
   ],
   "source": [
    "import tests\n",
    "import importlib\n",
    "importlib.reload(tests)\n",
    "importlib.reload(fit)\n",
    "verbose_fitfcn = tests.VerboseFitfcn(force_gvars=True)\n",
    "#print(verbose_fitfcn)"
   ]
  },
  {
   "cell_type": "code",
   "execution_count": 5,
   "metadata": {
    "tags": []
   },
   "outputs": [
    {
     "output_type": "execute_result",
     "data": {
      "text/plain": [
       "<module 'fit_routine' from '/Users/grantdb/LQCD/hyperon-xpt-master/xpt/fit_routine.py'>"
      ]
     },
     "metadata": {},
     "execution_count": 5
    }
   ],
   "source": [
    "from importlib import reload\n",
    "reload(i_o)\n",
    "reload(fa)\n",
    "reload(fit)"
   ]
  },
  {
   "cell_type": "code",
   "execution_count": 6,
   "metadata": {},
   "outputs": [],
   "source": [
    "file = '../data/hyperon_data.h5'\n",
    "#H5Glance(file)\n",
    "#file2 = '../data/input_data.h5'\n",
    "#H5Glance(file2)\n",
    "#file2 = '~/Documents/hyperon_ga/hyper_spec_axial.h5'"
   ]
  },
  {
   "cell_type": "code",
   "execution_count": 7,
   "metadata": {},
   "outputs": [],
   "source": [
    "# a_fm = gv.load('a_fm_results.p')\n",
    "# a_fm_out = gv.evalcorr([v for k,v in a_fm.items()])\n",
    "# #print(a_fm_out)"
   ]
  },
  {
   "cell_type": "code",
   "execution_count": 8,
   "metadata": {},
   "outputs": [],
   "source": [
    "# w0_a = gv.load('w0_a_results.p')\n",
    "# w0_a_out = gv.evalcorr([v for k,v in w0_a.items()])\n",
    "# print(w0_a_out)"
   ]
  },
  {
   "cell_type": "code",
   "execution_count": 9,
   "metadata": {
    "tags": []
   },
   "outputs": [],
   "source": [
    "from priors import prior\n",
    "prior = prior\n",
    "#print(prior)"
   ]
  },
  {
   "cell_type": "code",
   "execution_count": 10,
   "metadata": {},
   "outputs": [],
   "source": [
    "f = open('models.yaml', 'r')\n",
    "models = yaml.load(f)\n",
    "    #print(keys)\n",
    "model_info = {}\n",
    "for item in models.values():\n",
    "        model_info = item['proton:s_n2lo:d_n2lo:x_n2lo']\n",
    "#print(model_info)"
   ]
  },
  {
   "cell_type": "code",
   "execution_count": 11,
   "metadata": {},
   "outputs": [],
   "source": [
    "input_output = i_o.InputOutput()\n",
    "data,ensembles = input_output.get_data(scheme='w0_imp')\n",
    "prior = input_output.make_prior(data,prior)\n",
    "phys_point_data = input_output.get_data_phys_point()"
   ]
  },
  {
   "cell_type": "code",
   "execution_count": 12,
   "metadata": {},
   "outputs": [],
   "source": [
    " fit_test = fit.fit_routine(prior=prior, data=data, model_info=model_info)"
   ]
  },
  {
   "cell_type": "code",
   "execution_count": 13,
   "metadata": {},
   "outputs": [
    {
     "output_type": "stream",
     "name": "stderr",
     "text": [
      "/Users/grantdb/LQCD/hyperon-xpt-master/xpt/fit_routine.py:882: RuntimeWarning: invalid value encountered in log\n",
      "  + p['b_{proton,4}']*xdata['lam_chi']*xdata['eps_pi']**4)\n",
      "Least Square Fit:\n",
      "  chi2/dof [dof] = 7.5 [17]    Q = 4.3e-19    logGBF = -126.5\n",
      "\n",
      "Parameters:\n",
      "             m_{xi,0}     1000 (1000)      [   1000 (1000) ]  \n",
      "          m_{xi_st,0}     1300 (1000)      [   1300 (1000) ]  \n",
      "         m_{lambda,0}     1000 (1000)      [   1000 (1000) ]  \n",
      "          m_{sigma,0}     1200 (1000)      [   1200 (1000) ]  \n",
      "       m_{sigma_st,0}     1400 (1000)      [   1400 (1000) ]  \n",
      "          m_{omega,0}     1650 (1000)      [   1650 (1000) ]  \n",
      "         m_{proton,0}        910 (10)      [    938 (1000) ]  \n",
      "          m_{delta,0}      1229 (747)      [   1232 (1000) ]  \n",
      "               s_{xi}     0.01 (5.00)      [     0.0 (5.0) ]  \n",
      "           s_{xi,bar}     0.01 (5.00)      [     0.0 (5.0) ]  \n",
      "           s_{lambda}     0.01 (5.00)      [     0.0 (5.0) ]  \n",
      "        s_{sigma,bar}     0.01 (5.00)      [     0.0 (5.0) ]  \n",
      "            s_{sigma}     0.01 (5.00)      [     0.0 (5.0) ]  \n",
      "        s_{omega,bar}     0.01 (5.00)      [     0.0 (5.0) ]  \n",
      "            g_{xi,xi}       0.3 (3.0)      [     0.3 (3.0) ]  \n",
      "         g_{xi_st,xi}       0.7 (3.0)      [     0.7 (3.0) ]  \n",
      "      g_{xi_st,xi_st}      -0.5 (3.0)      [    -0.5 (3.0) ]  \n",
      "     g_{lambda,sigma}     0.01 (5.00)      [     0.0 (5.0) ]  \n",
      "  g_{lambda,sigma_st}     0.01 (5.00)      [     0.0 (5.0) ]  \n",
      "      g_{sigma,sigma}     0.01 (5.00)      [     0.0 (5.0) ]  \n",
      "   g_{sigma_st,sigma}     0.01 (5.00)      [     0.0 (5.0) ]  \n",
      "g_{sigma_st,sigma_st}     0.01 (5.00)      [     0.0 (5.0) ]  \n",
      "     g_{proton,delta}     -5e-11 +- 5      [     0.0 (5.0) ]  \n",
      "    g_{proton,proton}      2e-13 +- 5      [     0.0 (5.0) ]  \n",
      "      g_{delta,delta}     0.01 (5.00)      [     0.0 (5.0) ]  \n",
      "             a_{xi,4}     0.01 (5.00)      [     0.0 (5.0) ]  \n",
      "          a_{xi_st,4}     0.01 (5.00)      [     0.0 (5.0) ]  \n",
      "             b_{xi,4}     0.01 (5.00)      [     0.0 (5.0) ]  \n",
      "          b_{xi_st,4}     0.01 (5.00)      [     0.0 (5.0) ]  \n",
      "          a_{sigma,4}     0.01 (5.00)      [     0.0 (5.0) ]  \n",
      "       a_{sigma_st,4}     0.01 (5.00)      [     0.0 (5.0) ]  \n",
      "          b_{sigma,4}     0.01 (5.00)      [     0.0 (5.0) ]  \n",
      "       b_{sigma_st,4}     0.01 (5.00)      [     0.0 (5.0) ]  \n",
      "         a_{lambda,4}     0.01 (5.00)      [     0.0 (5.0) ]  \n",
      "         b_{lambda,4}     0.01 (5.00)      [     0.0 (5.0) ]  \n",
      "          a_{omega,4}     0.01 (5.00)      [     0.0 (5.0) ]  \n",
      "          b_{omega,4}     0.01 (5.00)      [     0.0 (5.0) ]  \n",
      "          a_{omega,6}     0.01 (5.00)      [     0.0 (5.0) ]  \n",
      "          b_{omega,6}     0.01 (5.00)      [     0.0 (5.0) ]  \n",
      "         a_{proton,4}      -0.8 (4.2)      [     0.0 (5.0) ]  \n",
      "         b_{proton,4}     0.05 (1.54)      [     0.0 (5.0) ]  \n",
      "         b_{proton,2}       2.20 (82)      [     0.0 (5.0) ]  \n",
      "          y_{delta,4}     0.01 (5.00)      [     0.0 (5.0) ]  \n",
      "         y_{proton,4}      -7.3 (4.9)      [     0.0 (5.0) ]  *\n",
      "          t_{omega,A}      4e-11 +- 2      [     0.0 (2.0) ]  \n",
      "             d_{xi,a}     -3e-14 +- 1      [     0.0 (1.0) ]  \n",
      "          d_{xi_st,a}      5e-14 +- 1      [     0.0 (1.0) ]  \n",
      "             d_{xi,s}     -3e-14 +- 1      [     0.0 (1.0) ]  \n",
      "          d_{xi_st,s}     -1e-13 +- 1      [     0.0 (1.0) ]  \n",
      "         d_{lambda,s}     -2e-14 +- 1      [     0.0 (1.0) ]  \n",
      "         d_{lambda,a}     -1e-13 +- 1      [     0.0 (1.0) ]  \n",
      "       d_{sigma_st,a}      2e-14 +- 1      [     0.0 (1.0) ]  \n",
      "       d_{sigma_st,s}     -2e-14 +- 1      [     0.0 (1.0) ]  \n",
      "          d_{sigma,s}      1e-13 +- 1      [     0.0 (1.0) ]  \n",
      "          d_{sigma,a}      6e-14 +- 1      [     0.0 (1.0) ]  \n",
      "          d_{omega,s}     -1e-13 +- 1      [     0.0 (1.0) ]  \n",
      "          d_{omega,a}      8e-14 +- 1      [     0.0 (1.0) ]  \n",
      "            d_{xi,aa}     -2e-14 +- 1      [     0.0 (1.0) ]  \n",
      "            d_{xi,al}      3e-14 +- 1      [     0.0 (1.0) ]  \n",
      "            d_{xi,as}      7e-14 +- 1      [     0.0 (1.0) ]  \n",
      "            d_{xi,ls}      8e-15 +- 1      [     0.0 (1.0) ]  \n",
      "            d_{xi,ss}     -5e-14 +- 1      [     0.0 (1.0) ]  \n",
      "         d_{xi_st,aa}      9e-14 +- 1      [     0.0 (1.0) ]  \n",
      "         d_{xi_st,al}      1e-13 +- 1      [     0.0 (1.0) ]  \n",
      "         d_{xi_st,as}      1e-14 +- 1      [     0.0 (1.0) ]  \n",
      "         d_{xi_st,ls}     -5e-14 +- 1      [     0.0 (1.0) ]  \n",
      "         d_{xi_st,ss}      4e-14 +- 1      [     0.0 (1.0) ]  \n",
      "        d_{lambda,aa}      6e-14 +- 1      [     0.0 (1.0) ]  \n",
      "        d_{lambda,al}      2e-14 +- 1      [     0.0 (1.0) ]  \n",
      "        d_{lambda,as}     -4e-14 +- 1      [     0.0 (1.0) ]  \n",
      "        d_{lambda,ls}     -3e-18 +- 1      [     0.0 (1.0) ]  \n",
      "        d_{lambda,ss}     -3e-14 +- 1      [     0.0 (1.0) ]  \n",
      "         d_{sigma,aa}      3e-14 +- 1      [     0.0 (1.0) ]  \n",
      "         d_{sigma,al}     -5e-14 +- 1      [     0.0 (1.0) ]  \n",
      "         d_{sigma,as}     -2e-14 +- 1      [     0.0 (1.0) ]  \n",
      "         d_{sigma,ls}     -3e-14 +- 1      [     0.0 (1.0) ]  \n",
      "         d_{sigma,ss}      2e-14 +- 1      [     0.0 (1.0) ]  \n",
      "      d_{sigma_st,aa}     -4e-14 +- 1      [     0.0 (1.0) ]  \n",
      "      d_{sigma_st,al}      1e-13 +- 1      [     0.0 (1.0) ]  \n",
      "      d_{sigma_st,as}      1e-14 +- 1      [     0.0 (1.0) ]  \n",
      "      d_{sigma_st,ls}     -7e-14 +- 1      [     0.0 (1.0) ]  \n",
      "      d_{sigma_st,ss}      9e-15 +- 1      [     0.0 (1.0) ]  \n",
      "         d_{omega,aa}     -4e-14 +- 1      [     0.0 (1.0) ]  \n",
      "         d_{omega,al}     -1e-13 +- 1      [     0.0 (1.0) ]  \n",
      "         d_{omega,as}     -2e-14 +- 1      [     0.0 (1.0) ]  \n",
      "         d_{omega,ls}      2e-13 +- 1      [     0.0 (1.0) ]  \n",
      "         d_{omega,ss}      3e-13 +- 1      [     0.0 (1.0) ]  \n",
      "               m_pi 0     318.11 (85)      [   327.9 (2.9) ]  ***\n",
      "                    1     132.43 (54)      [   134.4 (1.1) ]  *\n",
      "                    2     225.52 (82)      [   221.3 (1.8) ]  **\n",
      "                    3     309.64 (83)      [   318.1 (2.6) ]  ***\n",
      "                    4     344.0 (1.1)      [   356.8 (2.9) ]  ****\n",
      "                    5     395.8 (1.4)      [   409.5 (3.3) ]  ****\n",
      "                    6     134.34 (54)      [   132.89 (97) ]  *\n",
      "                    7     219.59 (71)      [   219.2 (1.6) ]  \n",
      "                    8     310.60 (81)      [   308.6 (2.3) ]  \n",
      "                    9     348.92 (94)      [   349.9 (2.6) ]  \n",
      "                   10     400.4 (1.6)      [   398.2 (2.9) ]  \n",
      "                   11     134.07 (54)      [   134.95 (90) ]  \n",
      "                   12     218.10 (70)      [   216.8 (1.4) ]  \n",
      "                   13     311.05 (95)      [   309.4 (2.1) ]  \n",
      "                   14     314.98 (87)      [   306.9 (2.0) ]  ***\n",
      "                   15     359.04 (90)      [   347.1 (2.3) ]  *****\n",
      "                   16     404.8 (1.8)      [   397.0 (2.6) ]  **\n",
      "                m_k 0     545.1 (1.5)      [   561.9 (5.0) ]  ***\n",
      "                    1     486.7 (2.0)      [   493.9 (4.0) ]  *\n",
      "                    2     526.8 (1.9)      [   516.9 (4.1) ]  **\n",
      "                    3     530.4 (1.4)      [   544.9 (4.4) ]  ***\n",
      "                    4     538.1 (1.7)      [   558.2 (4.5) ]  ****\n",
      "                    5     557.6 (2.0)      [   576.9 (4.6) ]  ****\n",
      "                    6     499.5 (2.0)      [   494.1 (3.6) ]  *\n",
      "                    7     508.3 (1.6)      [   507.3 (3.7) ]  \n",
      "                    8     533.5 (1.4)      [   530.1 (3.9) ]  \n",
      "                    9     543.1 (1.5)      [   544.7 (4.0) ]  \n",
      "                   10     564.8 (2.3)      [   561.6 (4.1) ]  \n",
      "                   11     504.8 (2.0)      [   508.1 (3.4) ]  \n",
      "                   12     510.4 (1.6)      [   507.3 (3.4) ]  \n",
      "                   13     533.2 (1.6)      [   530.4 (3.5) ]  \n",
      "                   14     543.7 (1.5)      [   529.8 (3.5) ]  ***\n",
      "                   15     561.1 (1.4)      [   542.4 (3.6) ]  *****\n",
      "                   16     571.1 (2.6)      [   560.2 (3.7) ]  **\n",
      "            lam_chi 0    1283.7 (3.4)      [     1323 (12) ]  ***\n",
      "                    1    1141.6 (4.6)      [  1158.5 (9.3) ]  *\n",
      "                    2    1240.2 (4.5)      [  1216.9 (9.8) ]  **\n",
      "                    3    1258.8 (3.4)      [     1293 (10) ]  ***\n",
      "                    4    1276.9 (4.1)      [     1325 (11) ]  ****\n",
      "                    5    1327.9 (4.8)      [     1374 (11) ]  ****\n",
      "                    6    1184.3 (4.8)      [  1171.6 (8.5) ]  *\n",
      "                    7    1210.8 (3.9)      [  1208.5 (8.8) ]  \n",
      "                    8    1269.7 (3.3)      [  1261.5 (9.2) ]  \n",
      "                    9    1290.8 (3.5)      [  1294.5 (9.4) ]  \n",
      "                   10    1343.1 (5.4)      [  1335.5 (9.7) ]  \n",
      "                   11    1167.2 (4.7)      [  1174.9 (7.8) ]  \n",
      "                   12    1206.3 (3.9)      [  1199.0 (8.0) ]  \n",
      "                   13    1246.9 (3.8)      [  1240.5 (8.2) ]  \n",
      "                   14    1284.0 (3.5)      [  1251.3 (8.3) ]  ***\n",
      "                   15    1310.6 (3.3)      [  1267.0 (8.4) ]  *****\n",
      "                   16    1333.3 (6.0)      [  1307.8 (8.7) ]  **\n",
      "             eps2_a 0   0.029618 (41)      [ 0.029618 (41) ]  \n",
      "                    1   0.065325 (70)      [ 0.065325 (70) ]  \n",
      "                    2   0.066506 (83)      [ 0.066506 (83) ]  \n",
      "                    3    0.06877 (16)      [  0.06877 (16) ]  \n",
      "                    4    0.06998 (19)      [  0.06998 (19) ]  \n",
      "                    5    0.07160 (20)      [  0.07160 (20) ]  \n",
      "                    6   0.123786 (95)      [ 0.123786 (95) ]  \n",
      "                    7    0.12594 (12)      [  0.12594 (12) ]  \n",
      "                    8    0.13008 (23)      [  0.13008 (23) ]  \n",
      "                    9    0.13214 (20)      [  0.13214 (20) ]  \n",
      "                   10    0.13446 (16)      [  0.13446 (16) ]  \n",
      "                   11    0.19514 (12)      [  0.19514 (12) ]  \n",
      "                   12    0.19737 (28)      [  0.19737 (28) ]  \n",
      "                   13    0.20368 (32)      [  0.20368 (32) ]  \n",
      "                   14    0.20416 (25)      [  0.20416 (25) ]  \n",
      "                   15    0.20706 (48)      [  0.20706 (48) ]  \n",
      "                   16    0.21168 (56)      [  0.21168 (56) ]  \n",
      "            m_delta 0    1306.6 (3.6)      [     1347 (12) ]  ***\n",
      "                    1    1361.6 (5.5)      [     1382 (11) ]  *\n",
      "                    2    1352.4 (5.0)      [     1327 (11) ]  **\n",
      "                    3    1400.9 (3.9)      [     1439 (12) ]  ***\n",
      "                    4    1441.9 (4.6)      [     1496 (12) ]  ****\n",
      "                    5    1503.8 (5.5)      [     1556 (12) ]  ****\n",
      "                    6    1383.5 (5.6)      [     1369 (10) ]  *\n",
      "                    7    1404.3 (4.5)      [     1402 (10) ]  \n",
      "                    8    1445.9 (3.8)      [     1437 (10) ]  \n",
      "                    9    1452.5 (3.9)      [     1457 (11) ]  \n",
      "                   10    1506.3 (6.1)      [     1498 (11) ]  \n",
      "                   11    1441.4 (5.8)      [  1450.9 (9.6) ]  \n",
      "                   12    1411.8 (4.5)      [  1403.2 (9.3) ]  \n",
      "                   13    1446.6 (4.4)      [  1439.1 (9.6) ]  \n",
      "                   14    1479.3 (4.1)      [  1441.6 (9.6) ]  ***\n",
      "                   15    1457.2 (3.7)      [  1408.8 (9.4) ]  *****\n",
      "                   16    1516.6 (6.8)      [  1487.6 (9.9) ]  **\n",
      "\n",
      "Settings:\n",
      "  svdcut/n = 1e-12/0    tol = (1e-08,1e-10,1e-10)    (itns/time = 1000*/6.4)\n",
      "  fitter = scipy_least_squares    method = trf\n",
      "\n"
     ]
    }
   ],
   "source": [
    "print(fit_test.fit)"
   ]
  },
  {
   "cell_type": "code",
   "execution_count": 14,
   "metadata": {},
   "outputs": [
    {
     "output_type": "stream",
     "name": "stderr",
     "text": [
      "/Users/grantdb/anaconda3/lib/python3.7/site-packages/lsqfit/__init__.py:912: DeprecationWarning: `np.float` is a deprecated alias for the builtin `float`. To silence this warning, use `float` by itself. Doing this will not modify any behavior and is safe. If you specifically wanted the numpy scalar type, use `np.float64` here.\nDeprecated in NumPy 1.20; for more details and guidance: https://numpy.org/devdocs/release/1.20.0-notes.html#deprecations\n  D[:, i] = chivw_i.mdotder(self.cov)\n/Users/grantdb/anaconda3/lib/python3.7/site-packages/lsqfit/__init__.py:1757: RuntimeWarning: divide by zero encountered in reciprocal\n  data, wgts=-1, eps=eps, svdcut=svdcut, noise=noise[0],\n/Users/grantdb/anaconda3/lib/python3.7/site-packages/lsqfit/_scipy.py:147: RuntimeWarning: invalid value encountered in multiply\n  return numpy.asarray(f(x), float)\n"
     ]
    },
    {
     "output_type": "error",
     "ename": "ValueError",
     "evalue": "Residuals are not finite in the initial point.",
     "traceback": [
      "\u001b[0;31m---------------------------------------------------------------------------\u001b[0m",
      "\u001b[0;31mValueError\u001b[0m                                Traceback (most recent call last)",
      "\u001b[0;32m<ipython-input-14-2bc76e7edb7d>\u001b[0m in \u001b[0;36m<module>\u001b[0;34m\u001b[0m\n\u001b[1;32m      1\u001b[0m \u001b[0mp\u001b[0m \u001b[0;34m=\u001b[0m \u001b[0minput_output\u001b[0m\u001b[0;34m.\u001b[0m\u001b[0mget_posterior\u001b[0m\u001b[0;34m(\u001b[0m\u001b[0mfit_test\u001b[0m\u001b[0;34m=\u001b[0m\u001b[0mfit_test\u001b[0m\u001b[0;34m,\u001b[0m\u001b[0mprior\u001b[0m\u001b[0;34m=\u001b[0m\u001b[0mprior\u001b[0m\u001b[0;34m,\u001b[0m\u001b[0mparam\u001b[0m\u001b[0;34m=\u001b[0m\u001b[0;32mNone\u001b[0m\u001b[0;34m)\u001b[0m\u001b[0;34m\u001b[0m\u001b[0;34m\u001b[0m\u001b[0m\n\u001b[1;32m      2\u001b[0m \u001b[0mfit_post\u001b[0m \u001b[0;34m=\u001b[0m \u001b[0mfit\u001b[0m\u001b[0;34m.\u001b[0m\u001b[0mfit_routine\u001b[0m\u001b[0;34m(\u001b[0m\u001b[0mprior\u001b[0m\u001b[0;34m=\u001b[0m\u001b[0mp\u001b[0m\u001b[0;34m,\u001b[0m \u001b[0mdata\u001b[0m\u001b[0;34m=\u001b[0m\u001b[0mphys_point_data\u001b[0m\u001b[0;34m,\u001b[0m\u001b[0mmodel_info\u001b[0m\u001b[0;34m=\u001b[0m\u001b[0mmodel_info\u001b[0m\u001b[0;34m)\u001b[0m\u001b[0;34m\u001b[0m\u001b[0;34m\u001b[0m\u001b[0m\n\u001b[0;32m----> 3\u001b[0;31m \u001b[0mprint\u001b[0m\u001b[0;34m(\u001b[0m\u001b[0mfit_post\u001b[0m\u001b[0;34m.\u001b[0m\u001b[0mfit\u001b[0m\u001b[0;34m)\u001b[0m\u001b[0;34m\u001b[0m\u001b[0;34m\u001b[0m\u001b[0m\n\u001b[0m\u001b[1;32m      4\u001b[0m \u001b[0;31m#print(p)\u001b[0m\u001b[0;34m\u001b[0m\u001b[0;34m\u001b[0m\u001b[0;34m\u001b[0m\u001b[0m\n",
      "\u001b[0;32m~/LQCD/hyperon-xpt-master/xpt/fit_routine.py\u001b[0m in \u001b[0;36mfit\u001b[0;34m(self)\u001b[0m\n\u001b[1;32m     36\u001b[0m \u001b[0;34m\u001b[0m\u001b[0m\n\u001b[1;32m     37\u001b[0m             \u001b[0mfitter\u001b[0m \u001b[0;34m=\u001b[0m \u001b[0mlsqfit\u001b[0m\u001b[0;34m.\u001b[0m\u001b[0mMultiFitter\u001b[0m\u001b[0;34m(\u001b[0m\u001b[0mmodels\u001b[0m\u001b[0;34m=\u001b[0m\u001b[0mmodels\u001b[0m\u001b[0;34m)\u001b[0m\u001b[0;34m\u001b[0m\u001b[0;34m\u001b[0m\u001b[0m\n\u001b[0;32m---> 38\u001b[0;31m             \u001b[0mfit\u001b[0m \u001b[0;34m=\u001b[0m \u001b[0mfitter\u001b[0m\u001b[0;34m.\u001b[0m\u001b[0mlsqfit\u001b[0m\u001b[0;34m(\u001b[0m\u001b[0mdata\u001b[0m\u001b[0;34m=\u001b[0m\u001b[0mdata\u001b[0m\u001b[0;34m,\u001b[0m \u001b[0mprior\u001b[0m\u001b[0;34m=\u001b[0m\u001b[0mprior\u001b[0m\u001b[0;34m,\u001b[0m \u001b[0mfast\u001b[0m\u001b[0;34m=\u001b[0m\u001b[0;32mFalse\u001b[0m\u001b[0;34m,\u001b[0m \u001b[0mmopt\u001b[0m\u001b[0;34m=\u001b[0m\u001b[0;32mFalse\u001b[0m\u001b[0;34m)\u001b[0m\u001b[0;34m\u001b[0m\u001b[0;34m\u001b[0m\u001b[0m\n\u001b[0m\u001b[1;32m     39\u001b[0m \u001b[0;34m\u001b[0m\u001b[0m\n\u001b[1;32m     40\u001b[0m             \u001b[0mself\u001b[0m\u001b[0;34m.\u001b[0m\u001b[0m_fit\u001b[0m \u001b[0;34m=\u001b[0m \u001b[0mfit\u001b[0m\u001b[0;34m\u001b[0m\u001b[0;34m\u001b[0m\u001b[0m\n",
      "\u001b[0;32m~/anaconda3/lib/python3.7/site-packages/lsqfit/_extras.py\u001b[0m in \u001b[0;36mlsqfit\u001b[0;34m(self, data, pdata, prior, p0, chained, **kargs)\u001b[0m\n\u001b[1;32m   1199\u001b[0m             \u001b[0mfname\u001b[0m\u001b[0;34m=\u001b[0m\u001b[0mfname\u001b[0m\u001b[0;34m,\u001b[0m \u001b[0mfitter_args_kargs\u001b[0m\u001b[0;34m=\u001b[0m\u001b[0mfitter_args_kargs\u001b[0m\u001b[0;34m,\u001b[0m\u001b[0;34m\u001b[0m\u001b[0;34m\u001b[0m\u001b[0m\n\u001b[1;32m   1200\u001b[0m             \u001b[0mdata\u001b[0m\u001b[0;34m=\u001b[0m\u001b[0mfitdata\u001b[0m\u001b[0;34m,\u001b[0m \u001b[0mprior\u001b[0m\u001b[0;34m=\u001b[0m\u001b[0mfitprior\u001b[0m\u001b[0;34m,\u001b[0m \u001b[0mfcn\u001b[0m\u001b[0;34m=\u001b[0m\u001b[0mfitfcn\u001b[0m\u001b[0;34m,\u001b[0m \u001b[0mp0\u001b[0m\u001b[0;34m=\u001b[0m\u001b[0m_p0\u001b[0m\u001b[0;34m,\u001b[0m\u001b[0;34m\u001b[0m\u001b[0;34m\u001b[0m\u001b[0m\n\u001b[0;32m-> 1201\u001b[0;31m             \u001b[0;34m**\u001b[0m\u001b[0mself\u001b[0m\u001b[0;34m.\u001b[0m\u001b[0mfitterargs\u001b[0m\u001b[0;34m\u001b[0m\u001b[0;34m\u001b[0m\u001b[0m\n\u001b[0m\u001b[1;32m   1202\u001b[0m             )\n\u001b[1;32m   1203\u001b[0m \u001b[0;34m\u001b[0m\u001b[0m\n",
      "\u001b[0;32m~/anaconda3/lib/python3.7/site-packages/lsqfit/_extras.py\u001b[0m in \u001b[0;36m__init__\u001b[0;34m(self, fname, fitter_args_kargs, *args, **kargs)\u001b[0m\n\u001b[1;32m    638\u001b[0m \u001b[0;32mclass\u001b[0m \u001b[0munchained_nonlinear_fit\u001b[0m\u001b[0;34m(\u001b[0m\u001b[0mlsqfit\u001b[0m\u001b[0;34m.\u001b[0m\u001b[0mnonlinear_fit\u001b[0m\u001b[0;34m)\u001b[0m\u001b[0;34m:\u001b[0m\u001b[0;34m\u001b[0m\u001b[0;34m\u001b[0m\u001b[0m\n\u001b[1;32m    639\u001b[0m     \u001b[0;32mdef\u001b[0m \u001b[0m__init__\u001b[0m\u001b[0;34m(\u001b[0m\u001b[0mself\u001b[0m\u001b[0;34m,\u001b[0m \u001b[0mfname\u001b[0m\u001b[0;34m,\u001b[0m \u001b[0mfitter_args_kargs\u001b[0m\u001b[0;34m,\u001b[0m \u001b[0;34m*\u001b[0m\u001b[0margs\u001b[0m\u001b[0;34m,\u001b[0m \u001b[0;34m**\u001b[0m\u001b[0mkargs\u001b[0m\u001b[0;34m)\u001b[0m\u001b[0;34m:\u001b[0m\u001b[0;34m\u001b[0m\u001b[0;34m\u001b[0m\u001b[0m\n\u001b[0;32m--> 640\u001b[0;31m         \u001b[0msuper\u001b[0m\u001b[0;34m(\u001b[0m\u001b[0munchained_nonlinear_fit\u001b[0m\u001b[0;34m,\u001b[0m \u001b[0mself\u001b[0m\u001b[0;34m)\u001b[0m\u001b[0;34m.\u001b[0m\u001b[0m__init__\u001b[0m\u001b[0;34m(\u001b[0m\u001b[0;34m*\u001b[0m\u001b[0margs\u001b[0m\u001b[0;34m,\u001b[0m \u001b[0;34m**\u001b[0m\u001b[0mkargs\u001b[0m\u001b[0;34m)\u001b[0m\u001b[0;34m\u001b[0m\u001b[0;34m\u001b[0m\u001b[0m\n\u001b[0m\u001b[1;32m    641\u001b[0m         \u001b[0mself\u001b[0m\u001b[0;34m.\u001b[0m\u001b[0mchained_fits\u001b[0m \u001b[0;34m=\u001b[0m \u001b[0mcollections\u001b[0m\u001b[0;34m.\u001b[0m\u001b[0mOrderedDict\u001b[0m\u001b[0;34m(\u001b[0m\u001b[0;34m[\u001b[0m\u001b[0;34m(\u001b[0m\u001b[0mfname\u001b[0m\u001b[0;34m,\u001b[0m \u001b[0mself\u001b[0m\u001b[0;34m)\u001b[0m\u001b[0;34m]\u001b[0m\u001b[0;34m)\u001b[0m\u001b[0;34m\u001b[0m\u001b[0;34m\u001b[0m\u001b[0m\n\u001b[1;32m    642\u001b[0m         \u001b[0mfitter_args_kargs\u001b[0m\u001b[0;34m[\u001b[0m\u001b[0;36m1\u001b[0m\u001b[0;34m]\u001b[0m\u001b[0;34m[\u001b[0m\u001b[0;34m'p0'\u001b[0m\u001b[0;34m]\u001b[0m \u001b[0;34m=\u001b[0m \u001b[0mself\u001b[0m\u001b[0;34m.\u001b[0m\u001b[0mpmean\u001b[0m\u001b[0;34m\u001b[0m\u001b[0;34m\u001b[0m\u001b[0m\n",
      "\u001b[0;32m~/anaconda3/lib/python3.7/site-packages/lsqfit/__init__.py\u001b[0m in \u001b[0;36m__init__\u001b[0;34m(self, data, fcn, prior, p0, eps, svdcut, debug, tol, maxit, udata, _fdata, noise, add_svdnoise, add_priornoise, linear, fitter, **fitterargs)\u001b[0m\n\u001b[1;32m    684\u001b[0m         \u001b[0;32melse\u001b[0m\u001b[0;34m:\u001b[0m\u001b[0;34m\u001b[0m\u001b[0;34m\u001b[0m\u001b[0m\n\u001b[1;32m    685\u001b[0m             fit = nonlinear_fit.FITTERS[self.fitter](\n\u001b[0;32m--> 686\u001b[0;31m                 \u001b[0mp0\u001b[0m\u001b[0;34m,\u001b[0m \u001b[0mnf\u001b[0m\u001b[0;34m,\u001b[0m \u001b[0mself\u001b[0m\u001b[0;34m.\u001b[0m\u001b[0m_chiv\u001b[0m\u001b[0;34m,\u001b[0m \u001b[0mtol\u001b[0m\u001b[0;34m=\u001b[0m\u001b[0mtol\u001b[0m\u001b[0;34m,\u001b[0m \u001b[0mmaxit\u001b[0m\u001b[0;34m=\u001b[0m\u001b[0mmaxit\u001b[0m\u001b[0;34m,\u001b[0m \u001b[0;34m**\u001b[0m\u001b[0mself\u001b[0m\u001b[0;34m.\u001b[0m\u001b[0mfitterargs\u001b[0m\u001b[0;34m\u001b[0m\u001b[0;34m\u001b[0m\u001b[0m\n\u001b[0m\u001b[1;32m    687\u001b[0m                 )\n\u001b[1;32m    688\u001b[0m         \u001b[0;32mif\u001b[0m \u001b[0mmaxit\u001b[0m \u001b[0;34m>\u001b[0m \u001b[0;36m0\u001b[0m\u001b[0;34m:\u001b[0m\u001b[0;34m\u001b[0m\u001b[0;34m\u001b[0m\u001b[0m\n",
      "\u001b[0;32m~/anaconda3/lib/python3.7/site-packages/lsqfit/_scipy.py\u001b[0m in \u001b[0;36m__init__\u001b[0;34m(self, x0, n, f, tol, maxit, **extra_args)\u001b[0m\n\u001b[1;32m    158\u001b[0m             \u001b[0mxtol\u001b[0m\u001b[0;34m=\u001b[0m\u001b[0mtol\u001b[0m\u001b[0;34m[\u001b[0m\u001b[0;36m0\u001b[0m\u001b[0;34m]\u001b[0m\u001b[0;34m,\u001b[0m \u001b[0mgtol\u001b[0m\u001b[0;34m=\u001b[0m\u001b[0mtol\u001b[0m\u001b[0;34m[\u001b[0m\u001b[0;36m1\u001b[0m\u001b[0;34m]\u001b[0m\u001b[0;34m,\u001b[0m \u001b[0mftol\u001b[0m\u001b[0;34m=\u001b[0m\u001b[0mtol\u001b[0m\u001b[0;34m[\u001b[0m\u001b[0;36m2\u001b[0m\u001b[0;34m]\u001b[0m\u001b[0;34m,\u001b[0m\u001b[0;34m\u001b[0m\u001b[0;34m\u001b[0m\u001b[0m\n\u001b[1;32m    159\u001b[0m             \u001b[0mmax_nfev\u001b[0m\u001b[0;34m=\u001b[0m\u001b[0mmaxit\u001b[0m\u001b[0;34m,\u001b[0m\u001b[0;34m\u001b[0m\u001b[0;34m\u001b[0m\u001b[0m\n\u001b[0;32m--> 160\u001b[0;31m             \u001b[0;34m**\u001b[0m\u001b[0mextra_args\u001b[0m\u001b[0;34m\u001b[0m\u001b[0;34m\u001b[0m\u001b[0m\n\u001b[0m\u001b[1;32m    161\u001b[0m             )\n\u001b[1;32m    162\u001b[0m         \u001b[0;32mif\u001b[0m \u001b[0mfit\u001b[0m\u001b[0;34m.\u001b[0m\u001b[0mstatus\u001b[0m \u001b[0;34m>\u001b[0m \u001b[0;36m4\u001b[0m\u001b[0;34m:\u001b[0m\u001b[0;34m\u001b[0m\u001b[0;34m\u001b[0m\u001b[0m\n",
      "\u001b[0;32m~/anaconda3/lib/python3.7/site-packages/scipy/optimize/_lsq/least_squares.py\u001b[0m in \u001b[0;36mleast_squares\u001b[0;34m(fun, x0, jac, bounds, method, ftol, xtol, gtol, x_scale, loss, f_scale, diff_step, tr_solver, tr_options, jac_sparsity, max_nfev, verbose, args, kwargs)\u001b[0m\n\u001b[1;32m    822\u001b[0m \u001b[0;34m\u001b[0m\u001b[0m\n\u001b[1;32m    823\u001b[0m     \u001b[0;32mif\u001b[0m \u001b[0;32mnot\u001b[0m \u001b[0mnp\u001b[0m\u001b[0;34m.\u001b[0m\u001b[0mall\u001b[0m\u001b[0;34m(\u001b[0m\u001b[0mnp\u001b[0m\u001b[0;34m.\u001b[0m\u001b[0misfinite\u001b[0m\u001b[0;34m(\u001b[0m\u001b[0mf0\u001b[0m\u001b[0;34m)\u001b[0m\u001b[0;34m)\u001b[0m\u001b[0;34m:\u001b[0m\u001b[0;34m\u001b[0m\u001b[0;34m\u001b[0m\u001b[0m\n\u001b[0;32m--> 824\u001b[0;31m         \u001b[0;32mraise\u001b[0m \u001b[0mValueError\u001b[0m\u001b[0;34m(\u001b[0m\u001b[0;34m\"Residuals are not finite in the initial point.\"\u001b[0m\u001b[0;34m)\u001b[0m\u001b[0;34m\u001b[0m\u001b[0;34m\u001b[0m\u001b[0m\n\u001b[0m\u001b[1;32m    825\u001b[0m \u001b[0;34m\u001b[0m\u001b[0m\n\u001b[1;32m    826\u001b[0m     \u001b[0mn\u001b[0m \u001b[0;34m=\u001b[0m \u001b[0mx0\u001b[0m\u001b[0;34m.\u001b[0m\u001b[0msize\u001b[0m\u001b[0;34m\u001b[0m\u001b[0;34m\u001b[0m\u001b[0m\n",
      "\u001b[0;31mValueError\u001b[0m: Residuals are not finite in the initial point."
     ]
    }
   ],
   "source": [
    "p = input_output.get_posterior(fit_test=fit_test,prior=prior,param=None)\n",
    "fit_post = fit.fit_routine(prior=p, data=phys_point_data,model_info=model_info)\n",
    "print(fit_post.fit)\n",
    "#print(p)"
   ]
  },
  {
   "cell_type": "code",
   "execution_count": 15,
   "metadata": {},
   "outputs": [
    {
     "output_type": "stream",
     "name": "stdout",
     "text": [
      "[1.1893(67)e-07 1.6830(84)e-07 1.4738(57)e-07 1.1706(39)e-07 1.0504(44)e-07\n 8.750(32)e-08 1.6501(66)e-07 1.4330(65)e-07 1.1673(47)e-07 1.0396(52)e-07\n 8.794(34)e-08 1.7386(55)e-07 1.4632(40)e-07 1.2060(38)e-07 1.1911(46)e-07\n 1.0822(35)e-07 9.128(34)e-08]\nLabel  Mass_combo\nM_1    228(79)\nM_2    46(16)\nM_3    -1.1(1.6)\nM_4    -0.03(32)\nM_5    0.09(95)\nM_6    0.1(1.1)\nM_7    0.02(22)\nM_8    0.003(32)\nM_A    -0.002(141)\nM_B    -0.0007(125)\nM_C    -0.0002(87)\nM_D    -0.002(16)\nc  Value\nc^{1,0}_0    0.43(15)\nc^{1,0}_2    -0.114(40)\nc^{8,0}_1    [-27136(38391) -19176(27130) -21898(30980) -27571(39006) -30725(43469)\n -36884(52181) -19559(27671) -22522(31864) -27649(39116) -31044(43919)\n -36698(51919) -18563(26263) -22057(31205) -26762(37862) -27097(38335)\n -29824(42193) -35358(50023)]\nc^{8,0}_2    [10011(92107) 7074(65090) 8078(74328) 10171(93582) 11335(104290)\n 13607(125193) 7215(66387) 8309(76447) 10200(93848) 11452(105371)\n 13538(124564) 6848(63010) 8137(74866) 9873(90838) 9996(91974)\n 11002(101231) 13044(120014)]\nc^{8,0}_3    [12542(138179) 8863(97647) 10121(111507) 12743(140392) 14201(156456)\n 17047(187815) 9040(99594) 10410(114686) 12779(140791) 14348(158077)\n 16961(186871) 8580(94527) 10194(112315) 12369(136275) 12524(137979)\n 13784(151866) 16342(180046)]\nc^{27,0}_2    [2(19)e+09 9(93)e+08 1(12)e+09 2(19)e+09 2(24)e+09 3(34)e+09 10(97)e+08\n 1(13)e+09 2(19)e+09 2(24)e+09 3(34)e+09 9(87)e+08 1(12)e+09 2(18)e+09\n 2(19)e+09 2(23)e+09 3(32)e+09]\nc^{27,0}_3    [-2(22)e+09 -1(11)e+09 -1(15)e+09 -2(23)e+09 -3(29)e+09 -4(41)e+09\n -1(12)e+09 -2(15)e+09 -2(23)e+09 -3(29)e+09 -4(41)e+09 -1(10)e+09\n -1(15)e+09 -2(22)e+09 -2(22)e+09 -3(27)e+09 -4(38)e+09]\nc^{64,0}_3    [1(11)e+15 4(38)e+14 6(57)e+14 1(11)e+15 2(16)e+15 3(27)e+15 4(41)e+14\n 6(62)e+14 1(11)e+15 2(16)e+15 3(27)e+15 3(35)e+14 6(58)e+14 1(10)e+15\n 1(11)e+15 1(14)e+15 2(24)e+15]\nR  Value\nR_1    152(53)\nR_2    -30(11)\nR_3    -0.50(70)\nR_3_eps    [-4.2(5.9)e+06 -3.0(4.2)e+06 -3.4(4.8)e+06 -4.2(6.0)e+06 -4.7(6.7)e+06\n -5.7(8.0)e+06 -3.0(4.3)e+06 -3.5(4.9)e+06 -4.3(6.0)e+06 -4.8(6.8)e+06\n -5.6(8.0)e+06 -2.9(4.0)e+06 -3.4(4.8)e+06 -4.1(5.8)e+06 -4.2(5.9)e+06\n -4.6(6.5)e+06 -5.4(7.7)e+06]\nR_4    -0.005(46)\nR_4_eps    [-41711(383779) -29476(271206) -33660(309701) -42379(389926) -47228(434541)\n -56695(521639) -30064(276613) -34620(318530) -42499(391033) -47718(439045)\n -56409(519015) -28534(262540) -33904(311943) -41136(378491) -41651(383224)\n -45843(421794) -54349(500060)]\nR_5    0.1(1.6)\nR_5_eps    [1(14)e+06 886298(9764742) 1(11)e+06 1(14)e+06 1(16)e+06 2(19)e+06\n 903967(9959415) 1(11)e+06 1(14)e+06 1(16)e+06 2(19)e+06 857976(9452709)\n 1(11)e+06 1(14)e+06 1(14)e+06 1(15)e+06 2(18)e+06]\nR_6    0.04(42)\nR_6_eps2    [3(29)e+12 1(15)e+12 2(19)e+12 3(30)e+12 4(38)e+12 5(54)e+12 2(15)e+12\n 2(20)e+12 3(30)e+12 4(38)e+12 5(54)e+12 1(14)e+12 2(19)e+12 3(29)e+12\n 3(29)e+12 4(35)e+12 5(50)e+12]\nR_7    -0.02(17)\nR_7_eps2    [-1(12)e+12 -6(59)e+11 -8(76)e+11 -1(12)e+12 -1(15)e+12 -2(22)e+12\n -6(61)e+11 -8(81)e+11 -1(12)e+12 -2(15)e+12 -2(21)e+12 -5(55)e+11\n -8(78)e+11 -1(11)e+12 -1(12)e+12 -1(14)e+12 -2(20)e+12]\nR_8    0.006(62)\nR_8_eps3    [4(37)e+18 1(13)e+18 2(19)e+18 4(38)e+18 5(53)e+18 9(92)e+18 1(14)e+18\n 2(21)e+18 4(39)e+18 5(55)e+18 9(91)e+18 1(12)e+18 2(20)e+18 3(35)e+18\n 4(36)e+18 5(49)e+18 8(81)e+18]\nR_A    -0.0006(354)\nR_B    -0.0002(37)\nR_C    -0.00005(289)\nR_D    -0.0004(40)\n"
     ]
    },
    {
     "output_type": "error",
     "ename": "AttributeError",
     "evalue": "module 'mass_relations' has no attribute 'plot_baryon_mass_mpi'",
     "traceback": [
      "\u001b[0;31m---------------------------------------------------------------------------\u001b[0m",
      "\u001b[0;31mAttributeError\u001b[0m                            Traceback (most recent call last)",
      "\u001b[0;32m<ipython-input-15-af5539b283b8>\u001b[0m in \u001b[0;36m<module>\u001b[0;34m()\u001b[0m\n\u001b[1;32m     18\u001b[0m     \u001b[0mprint\u001b[0m\u001b[0;34m(\u001b[0m\u001b[0;34m'{}    {}'\u001b[0m\u001b[0;34m.\u001b[0m\u001b[0mformat\u001b[0m\u001b[0;34m(\u001b[0m\u001b[0mr\u001b[0m\u001b[0;34m,\u001b[0m \u001b[0mvalue\u001b[0m\u001b[0;34m)\u001b[0m\u001b[0;34m)\u001b[0m\u001b[0;34m\u001b[0m\u001b[0m\n\u001b[1;32m     19\u001b[0m \u001b[0;34m\u001b[0m\u001b[0m\n\u001b[0;32m---> 20\u001b[0;31m \u001b[0mprint\u001b[0m\u001b[0;34m(\u001b[0m\u001b[0mmass\u001b[0m\u001b[0;34m.\u001b[0m\u001b[0mplot_baryon_mass_mpi\u001b[0m\u001b[0;34m)\u001b[0m\u001b[0;34m\u001b[0m\u001b[0m\n\u001b[0m",
      "\u001b[0;31mAttributeError\u001b[0m: module 'mass_relations' has no attribute 'plot_baryon_mass_mpi'"
     ]
    }
   ],
   "source": [
    "import mass_relations as mass \n",
    "reload(mass)\n",
    "\n",
    "hyp_mass = mass.Mass_Combinations(lam= p['m_{lambda,0}'], sigma=p['m_{sigma,0}'], xi=p['m_{xi,0}'], delta=p['m_{xi_st,0}'], sigma_st=p['m_{sigma_st,0}'], xi_st=p['m_{xi_st,0}'], omega= p['m_{omega,0}'],p=prior )\n",
    "#print(mass.m2, mass.m2_c)\n",
    "print(hyp_mass.eps)\n",
    "print('Label  Mass_combo')\n",
    "for label, mass_combs in hyp_mass.M.items():\n",
    "    print('{}    {}'.format(label, mass_combs))\n",
    "\n",
    "print('c  Value')\n",
    "for c, valuee in hyp_mass.c.items():\n",
    "    print('{}    {}'.format(c, valuee))\n",
    "\n",
    "\n",
    "print('R  Value')\n",
    "for r, value in hyp_mass.R.items():\n",
    "    print('{}    {}'.format(r, value))\n",
    "\n",
    "print(mass.plot_baryon_mass_mpi)"
   ]
  },
  {
   "cell_type": "code",
   "execution_count": 20,
   "metadata": {},
   "outputs": [],
   "source": [
    "pdg = {}\n",
    "pdg['lambda'] = input_output.get_data_phys_point(param='m_lambda')#gv.gvar(1115.683,0.006)\n",
    "pdg['sigma'] = input_output.get_data_phys_point(param='m_sigma')#Gv.gvar(1192.642, 0.024)\n",
    "pdg['sigma_st'] = input_output.get_data_phys_point(param='m_sigma_st')#gv.gvar(1382.80,0.35)\n",
    "pdg['xi'] = input_output.get_data_phys_point(param='m_xi_st') #gv.gvar(1314.86,0.20)\n",
    "pdg['xi_st'] = input_output.get_data_phys_point(param='m_xi_st')\n",
    "pdg['delta'] = gv.gvar(1115.683,0.006)\n",
    "pdg['omega'] = input_output.get_data_phys_point(param='m_omega')"
   ]
  },
  {
   "cell_type": "code",
   "execution_count": 21,
   "metadata": {},
   "outputs": [
    {
     "output_type": "stream",
     "name": "stdout",
     "text": [
      "Label  Mass_combo\nM_1    194.096(17)\nM_2    38.8191(34)\nM_3    -4.29587(68)\nM_4    -0.092944(35)\nM_5    0.48740(27)\nM_6    -0.51503(24)\nM_7    -0.103007(48)\nM_8    0.015605(16)\nM_A    0.019141(62)\nM_B    -0.0053808(26)\nM_C    -0.0008227(21)\nM_D    -0.0078026(78)\n"
     ]
    }
   ],
   "source": [
    "# using pdg masses #\n",
    "mass_pdg = mass.Mass_Combinations(lam= pdg['lambda'], sigma=pdg['sigma'], xi=pdg['xi'], delta=pdg['delta'], sigma_st=pdg['sigma_st'], xi_st=pdg['xi_st'],p=p )\n",
    "#print(mass_pdg)\n",
    "print('Label  Mass_combo')\n",
    "for label, mass_combs in mass_pdg.M.items():\n",
    "    print('{}    {}'.format(label, mass_combs))"
   ]
  },
  {
   "cell_type": "code",
   "execution_count": 15,
   "metadata": {
    "tags": []
   },
   "outputs": [
    {
     "output_type": "stream",
     "name": "stdout",
     "text": [
      "dict_values([1000(1000), 1200(1000), 1400(1000), 1000(1000), 1300(1000), 0.0(1.0), 0.0(1.0), 0.0(1.0), 0.0(1.0), 0.0(1.0), 0.0(1.0), 0.0(1.0), 0.0(1.0), 0.0(1.0), 0.0(1.0), 0.0(1.0), 0.0(1.0), 0.0(1.0), 0.0(1.0), 0.0(1.0), 0.0(5.0), 0.0(5.0), 0.0(5.0), 0.0(5.0), 0.0(5.0), 0.0(5.0), 0.0(5.0), 0.0(5.0), 0.0(5.0), 0.0(5.0), 0.3(3.0), 0.7(3.0), -0.5(3.0), 0.0(5.0), 0.0(5.0), 0.0(5.0), 0.0(5.0), 0.0(5.0), 0.0(5.0), 0.0(5.0), 0.0(5.0), 0.0(5.0), 0.0(5.0), 0.0(1.0), 0.0(1.0), 0.0(1.0), 0.0(1.0), 0.0(1.0), 0.0(1.0), 0.0(1.0), 0.0(1.0), 0.0(1.0), 0.0(1.0), 0.0(1.0), 0.0(1.0), 0.0(1.0), 0.0(1.0), 0.0(1.0), 0.0(1.0), 0.0(1.0), 0.0(1.0), 0.0(1.0), 0.0(1.0), 0(0), 0(0), 0(0), inf(0), 197.327(0), 1157.0(7.2), 134.80(30), 494.20(30), 1115.6830(60), 1193.154(27), 1384.57(39), 1318.28(11), 1533.40(34), 1672(29), 938(29), array([561.9(5.0), 493.9(4.0), 516.9(4.1), 544.9(4.4), 558.2(4.5),\n",
      "       576.9(4.6), 494.1(3.6), 507.3(3.7), 530.1(3.9), 544.7(4.0),\n",
      "       561.6(4.1), 508.1(3.4), 507.3(3.4), 530.4(3.5), 529.8(3.5),\n",
      "       542.4(3.6), 560.2(3.7)], dtype=object)])\n",
      "Partial % Errors:\n",
      "                          proton\n",
      "--------------------------------\n",
      "         m_{lambda,0}:      0.00\n",
      "          m_{sigma,0}:      0.00\n",
      "       m_{sigma_st,0}:      0.00\n",
      "             m_{xi,0}:      0.00\n",
      "          m_{xi_st,0}:      0.00\n",
      "         d_{lambda,a}:      0.00\n",
      "          d_{sigma,a}:      0.00\n",
      "       d_{sigma_st,a}:      0.00\n",
      "             d_{xi,a}:      0.00\n",
      "          d_{xi_st,a}:      0.00\n",
      "        d_{lambda,aa}:      0.00\n",
      "        d_{lambda,al}:      0.00\n",
      "         d_{sigma,aa}:      0.00\n",
      "         d_{sigma,al}:      0.00\n",
      "      d_{sigma_st,aa}:      0.00\n",
      "      d_{sigma_st,al}:      0.00\n",
      "            d_{xi,aa}:      0.00\n",
      "            d_{xi,al}:      0.00\n",
      "         d_{xi_st,aa}:      0.00\n",
      "         d_{xi_st,al}:      0.00\n",
      "           s_{lambda}:      0.00\n",
      "            s_{sigma}:      0.00\n",
      "        s_{sigma,bar}:      0.00\n",
      "               s_{xi}:      0.00\n",
      "           s_{xi,bar}:      0.00\n",
      "     g_{lambda,sigma}:      0.00\n",
      "  g_{lambda,sigma_st}:      0.00\n",
      "      g_{sigma,sigma}:      0.00\n",
      "   g_{sigma_st,sigma}:      0.00\n",
      "g_{sigma_st,sigma_st}:      0.00\n",
      "            g_{xi,xi}:      0.00\n",
      "         g_{xi_st,xi}:      0.00\n",
      "      g_{xi_st,xi_st}:      0.00\n",
      "         b_{lambda,4}:      0.00\n",
      "          b_{sigma,4}:      0.00\n",
      "       b_{sigma_st,4}:      0.00\n",
      "             b_{xi,4}:      0.00\n",
      "          b_{xi_st,4}:      0.00\n",
      "         a_{lambda,4}:      0.00\n",
      "          a_{sigma,4}:      0.00\n",
      "       a_{sigma_st,4}:      0.00\n",
      "             a_{xi,4}:      0.00\n",
      "          a_{xi_st,4}:      0.00\n",
      "         d_{lambda,s}:      0.00\n",
      "          d_{sigma,s}:      0.00\n",
      "       d_{sigma_st,s}:      0.00\n",
      "             d_{xi,s}:      0.00\n",
      "          d_{xi_st,s}:      0.00\n",
      "        d_{lambda,as}:      0.00\n",
      "        d_{lambda,ls}:      0.00\n",
      "        d_{lambda,ss}:      0.00\n",
      "         d_{sigma,as}:      0.00\n",
      "         d_{sigma,ls}:      0.00\n",
      "         d_{sigma,ss}:      0.00\n",
      "      d_{sigma_st,as}:      0.00\n",
      "      d_{sigma_st,ls}:      0.00\n",
      "      d_{sigma_st,ss}:      0.00\n",
      "            d_{xi,as}:      0.00\n",
      "            d_{xi,ls}:      0.00\n",
      "            d_{xi,ss}:      0.00\n",
      "         d_{xi_st,as}:      0.00\n",
      "         d_{xi_st,ls}:      0.00\n",
      "         d_{xi_st,ss}:      0.00\n",
      "               eps2_a:      0.00\n",
      "                    a:      0.00\n",
      "              alpha_s:      0.00\n",
      "                    L:      0.00\n",
      "                hbarc:      0.00\n",
      "              lam_chi:      0.02\n",
      "                 m_pi:      0.02\n",
      "                  m_k:      0.00\n",
      "             m_lambda:      0.00\n",
      "              m_sigma:      0.00\n",
      "           m_sigma_st:      0.00\n",
      "                 m_xi:      0.00\n",
      "              m_xi_st:      0.00\n",
      "              m_omega:      0.00\n",
      "             m_proton:      0.00\n",
      "             x [stat]:      0.37\n",
      "--------------------------------\n",
      "                total:      0.38\n",
      "\n",
      "{'disc': -0.0, 'pp': -0.0, 'stat': -0.0, 'chiral': -0.0}\n",
      "None\n",
      "/Users/grantdb/LQCD/hyperon-xpt-master/xpt/fit_analysis.py:145: UserWarning: proton partial error 3.550816090276777  !=  total error 3.603157611389335\n",
      "  print(gv.fmt_errorbudget(outputs=extrapolated_mass, inputs=inputs, verify=True))\n"
     ]
    }
   ],
   "source": [
    "from importlib import reload\n",
    "reload(fa)\n",
    "fit_analysis = fa.fit_analysis(phys_point_data=phys_point_data, data=data,model_info=model_info, prior=prior)\n",
    "hi = fit_analysis.error_budget\n",
    "print(hi)"
   ]
  },
  {
   "cell_type": "code",
   "execution_count": 16,
   "metadata": {},
   "outputs": [
    {
     "output_type": "stream",
     "name": "stdout",
     "text": [
      "dict_values([1000(1000), 1200(1000), 1400(1000), 1000(1000), 1300(1000), 0.0(1.0), 0.0(1.0), 0.0(1.0), 0.0(1.0), 0.0(1.0), 0.0(1.0), 0.0(1.0), 0.0(1.0), 0.0(1.0), 0.0(1.0), 0.0(1.0), 0.0(1.0), 0.0(1.0), 0.0(1.0), 0.0(1.0), 0.0(5.0), 0.0(5.0), 0.0(5.0), 0.0(5.0), 0.0(5.0), 0.0(5.0), 0.0(5.0), 0.0(5.0), 0.0(5.0), 0.0(5.0), 0.3(3.0), 0.7(3.0), -0.5(3.0), 0.0(5.0), 0.0(5.0), 0.0(5.0), 0.0(5.0), 0.0(5.0), 0.0(5.0), 0.0(5.0), 0.0(5.0), 0.0(5.0), 0.0(5.0), 0.0(1.0), 0.0(1.0), 0.0(1.0), 0.0(1.0), 0.0(1.0), 0.0(1.0), 0.0(1.0), 0.0(1.0), 0.0(1.0), 0.0(1.0), 0.0(1.0), 0.0(1.0), 0.0(1.0), 0.0(1.0), 0.0(1.0), 0.0(1.0), 0.0(1.0), 0.0(1.0), 0.0(1.0), 0.0(1.0), 0(0), 0(0), 0(0), inf(0), 197.327(0), 1157.0(7.2), 134.80(30), 494.20(30), 1115.6830(60), 1193.154(27), 1384.57(39), 1318.28(11), 1533.40(34), 1672(29), 938(29), array([561.9(5.0), 493.9(4.0), 516.9(4.1), 544.9(4.4), 558.2(4.5),\n       576.9(4.6), 494.1(3.6), 507.3(3.7), 530.1(3.9), 544.7(4.0),\n       561.6(4.1), 508.1(3.4), 507.3(3.4), 530.4(3.5), 529.8(3.5),\n       542.4(3.6), 560.2(3.7)], dtype=object)])\nPartial % Errors:\n                          proton\n--------------------------------\n         m_{lambda,0}:      0.00\n          m_{sigma,0}:      0.00\n       m_{sigma_st,0}:      0.00\n             m_{xi,0}:      0.00\n          m_{xi_st,0}:      0.00\n         d_{lambda,a}:      0.00\n          d_{sigma,a}:      0.00\n       d_{sigma_st,a}:      0.00\n             d_{xi,a}:      0.00\n          d_{xi_st,a}:      0.00\n        d_{lambda,aa}:      0.00\n        d_{lambda,al}:      0.00\n         d_{sigma,aa}:      0.00\n         d_{sigma,al}:      0.00\n      d_{sigma_st,aa}:      0.00\n      d_{sigma_st,al}:      0.00\n            d_{xi,aa}:      0.00\n            d_{xi,al}:      0.00\n         d_{xi_st,aa}:      0.00\n         d_{xi_st,al}:      0.00\n           s_{lambda}:      0.00\n            s_{sigma}:      0.00\n        s_{sigma,bar}:      0.00\n               s_{xi}:      0.00\n           s_{xi,bar}:      0.00\n     g_{lambda,sigma}:      0.00\n  g_{lambda,sigma_st}:      0.00\n      g_{sigma,sigma}:      0.00\n   g_{sigma_st,sigma}:      0.00\ng_{sigma_st,sigma_st}:      0.00\n            g_{xi,xi}:      0.00\n         g_{xi_st,xi}:      0.00\n      g_{xi_st,xi_st}:      0.00\n         b_{lambda,4}:      0.00\n          b_{sigma,4}:      0.00\n       b_{sigma_st,4}:      0.00\n             b_{xi,4}:      0.00\n          b_{xi_st,4}:      0.00\n         a_{lambda,4}:      0.00\n          a_{sigma,4}:      0.00\n       a_{sigma_st,4}:      0.00\n             a_{xi,4}:      0.00\n          a_{xi_st,4}:      0.00\n         d_{lambda,s}:      0.00\n          d_{sigma,s}:      0.00\n       d_{sigma_st,s}:      0.00\n             d_{xi,s}:      0.00\n          d_{xi_st,s}:      0.00\n        d_{lambda,as}:      0.00\n        d_{lambda,ls}:      0.00\n        d_{lambda,ss}:      0.00\n         d_{sigma,as}:      0.00\n         d_{sigma,ls}:      0.00\n         d_{sigma,ss}:      0.00\n      d_{sigma_st,as}:      0.00\n      d_{sigma_st,ls}:      0.00\n      d_{sigma_st,ss}:      0.00\n            d_{xi,as}:      0.00\n            d_{xi,ls}:      0.00\n            d_{xi,ss}:      0.00\n         d_{xi_st,as}:      0.00\n         d_{xi_st,ls}:      0.00\n         d_{xi_st,ss}:      0.00\n               eps2_a:      0.00\n                    a:      0.00\n              alpha_s:      0.00\n                    L:      0.00\n                hbarc:      0.00\n              lam_chi:      0.02\n                 m_pi:      0.02\n                  m_k:      0.00\n             m_lambda:      0.00\n              m_sigma:      0.00\n           m_sigma_st:      0.00\n                 m_xi:      0.00\n              m_xi_st:      0.00\n              m_omega:      0.00\n             m_proton:      0.00\n             x [stat]:      0.37\n--------------------------------\n                total:      0.38\n\n{'disc': -0.0, 'pp': -0.0, 'stat': -0.0, 'chiral': -0.0}\nNone\n"
     ]
    }
   ],
   "source": [
    "hi = fit_analysis.error_budget\n",
    "print(hi)"
   ]
  },
  {
   "cell_type": "code",
   "execution_count": 17,
   "metadata": {},
   "outputs": [
    {
     "output_type": "error",
     "ename": "AttributeError",
     "evalue": "'NoneType' object has no attribute 'items'",
     "traceback": [
      "\u001b[0;31m---------------------------------------------------------------------------\u001b[0m",
      "\u001b[0;31mAttributeError\u001b[0m                            Traceback (most recent call last)",
      "\u001b[0;32m<ipython-input-17-20365b264596>\u001b[0m in \u001b[0;36m<module>\u001b[0;34m\u001b[0m\n\u001b[0;32m----> 1\u001b[0;31m \u001b[0msorted\u001b[0m\u001b[0;34m(\u001b[0m\u001b[0mhi\u001b[0m\u001b[0;34m.\u001b[0m\u001b[0mitems\u001b[0m\u001b[0;34m(\u001b[0m\u001b[0;34m)\u001b[0m\u001b[0;34m)\u001b[0m\u001b[0;34m\u001b[0m\u001b[0;34m\u001b[0m\u001b[0m\n\u001b[0m",
      "\u001b[0;31mAttributeError\u001b[0m: 'NoneType' object has no attribute 'items'"
     ]
    }
   ],
   "source": [
    "sorted(hi.items())"
   ]
  },
  {
   "cell_type": "code",
   "execution_count": null,
   "metadata": {},
   "outputs": [],
   "source": [
    "for j, ens_j in enumerate(fit_analysis.ensembles):\n",
    "    print(j,ens_j)"
   ]
  },
  {
   "cell_type": "code",
   "execution_count": 29,
   "metadata": {},
   "outputs": [
    {
     "output_type": "stream",
     "name": "stdout",
     "text": [
      "134.80(30)\n35.56(16)\n"
     ]
    }
   ],
   "source": [
    "reload(io)\n",
    "m_proton = fit_analysis.fitfcn(p=p,data=phys_point_data,particle='proton')\n",
    "m_pi = phys_point_data['m_pi']\n",
    "print(m_pi)\n",
    "#m_proton = assistant.extrapolate('proton')\n",
    "#sigma = gv.gvar(m_pi)**2 *gv.deriv(gv.gvar(m_proton), gv.gvar(m_pi)**2)\n",
    "sigma = m_pi**2 *gv.deriv(m_proton, m_pi**2)\n",
    "print(sigma)"
   ]
  },
  {
   "cell_type": "code",
   "execution_count": null,
   "metadata": {},
   "outputs": [],
   "source": []
  },
  {
   "cell_type": "code",
   "execution_count": 17,
   "metadata": {},
   "outputs": [
    {
     "output_type": "stream",
     "name": "stdout",
     "text": [
      "{'m_{xi,0}': 1000(1000), 'm_{xi_st,0}': 1300(1000), 'm_{lambda,0}': 1000(1000), 'm_{sigma,0}': 1200(1000), 'm_{sigma_st,0}': 1400(1000), 'm_{omega,0}': 1650(1000), 'm_{proton,0}': 910(10), 'm_{delta,0}': 1229(747), 's_{xi}': 0.01(5.00), 's_{xi,bar}': 0.01(5.00), 's_{lambda}': 0.01(5.00), 's_{sigma,bar}': 0.01(5.00), 's_{sigma}': 0.01(5.00), 's_{omega,bar}': 0.01(5.00), 'g_{xi,xi}': 0.3(3.0), 'g_{xi_st,xi}': 0.7(3.0), 'g_{xi_st,xi_st}': -0.5(3.0), 'g_{lambda,sigma}': 0.01(5.00), 'g_{lambda,sigma_st}': 0.01(5.00), 'g_{sigma,sigma}': 0.01(5.00), 'g_{sigma_st,sigma}': 0.01(5.00), 'g_{sigma_st,sigma_st}': 0.01(5.00), 'g_{proton,delta}': -5e-11 +- 5, 'g_{proton,proton}': 2e-13 +- 5, 'g_{delta,delta}': 0.01(5.00), 'a_{xi,4}': 0.01(5.00), 'a_{xi_st,4}': 0.01(5.00), 'b_{xi,4}': 0.01(5.00), 'b_{xi_st,4}': 0.01(5.00), 'a_{sigma,4}': 0.01(5.00), 'a_{sigma_st,4}': 0.01(5.00), 'b_{sigma,4}': 0.01(5.00), 'b_{sigma_st,4}': 0.01(5.00), 'a_{lambda,4}': 0.01(5.00), 'b_{lambda,4}': 0.01(5.00), 'a_{omega,4}': 0.01(5.00), 'b_{omega,4}': 0.01(5.00), 'a_{omega,6}': 0.01(5.00), 'b_{omega,6}': 0.01(5.00), 'a_{proton,4}': -0.8(4.2), 'b_{proton,4}': 0.05(1.54), 'b_{proton,2}': 2.20(82), 'y_{delta,4}': 0.01(5.00), 'y_{proton,4}': -7.3(4.9), 't_{omega,A}': 4e-11 +- 2, 'd_{xi,a}': -3e-14 +- 1, 'd_{xi_st,a}': 5e-14 +- 1, 'd_{xi,s}': -3e-14 +- 1, 'd_{xi_st,s}': -1e-13 +- 1, 'd_{lambda,s}': -2e-14 +- 1, 'd_{lambda,a}': -1e-13 +- 1, 'd_{sigma_st,a}': 2e-14 +- 1, 'd_{sigma_st,s}': -2e-14 +- 1, 'd_{sigma,s}': 1e-13 +- 1, 'd_{sigma,a}': 6e-14 +- 1, 'd_{omega,s}': -1e-13 +- 1, 'd_{omega,a}': 8e-14 +- 1, 'd_{xi,aa}': -2e-14 +- 1, 'd_{xi,al}': 3e-14 +- 1, 'd_{xi,as}': 7e-14 +- 1, 'd_{xi,ls}': 8e-15 +- 1, 'd_{xi,ss}': -5e-14 +- 1, 'd_{xi_st,aa}': 9e-14 +- 1, 'd_{xi_st,al}': 1e-13 +- 1, 'd_{xi_st,as}': 1e-14 +- 1, 'd_{xi_st,ls}': -5e-14 +- 1, 'd_{xi_st,ss}': 4e-14 +- 1, 'd_{lambda,aa}': 6e-14 +- 1, 'd_{lambda,al}': 2e-14 +- 1, 'd_{lambda,as}': -4e-14 +- 1, 'd_{lambda,ls}': -3e-18 +- 1, 'd_{lambda,ss}': -3e-14 +- 1, 'd_{sigma,aa}': 3e-14 +- 1, 'd_{sigma,al}': -5e-14 +- 1, 'd_{sigma,as}': -2e-14 +- 1, 'd_{sigma,ls}': -3e-14 +- 1, 'd_{sigma,ss}': 2e-14 +- 1, 'd_{sigma_st,aa}': -4e-14 +- 1, 'd_{sigma_st,al}': 1e-13 +- 1, 'd_{sigma_st,as}': 1e-14 +- 1, 'd_{sigma_st,ls}': -7e-14 +- 1, 'd_{sigma_st,ss}': 9e-15 +- 1, 'd_{omega,aa}': -4e-14 +- 1, 'd_{omega,al}': -1e-13 +- 1, 'd_{omega,as}': -2e-14 +- 1, 'd_{omega,ls}': 2e-13 +- 1, 'd_{omega,ss}': 3e-13 +- 1, 'm_pi': array([318.11(85), 132.43(54), 225.52(82), 309.64(83), 344.0(1.1),\n       395.8(1.4), 134.34(54), 219.59(71), 310.60(81), 348.92(94),\n       400.4(1.6), 134.07(54), 218.10(70), 311.05(95), 314.98(87),\n       359.04(90), 404.8(1.8)], dtype=object), 'm_k': array([545.1(1.5), 486.7(2.0), 526.8(1.9), 530.4(1.4), 538.1(1.7),\n       557.6(2.0), 499.5(2.0), 508.3(1.6), 533.5(1.4), 543.1(1.5),\n       564.8(2.3), 504.8(2.0), 510.4(1.6), 533.2(1.6), 543.7(1.5),\n       561.1(1.4), 571.1(2.6)], dtype=object), 'lam_chi': array([1283.7(3.4), 1141.6(4.6), 1240.2(4.5), 1258.8(3.4), 1276.9(4.1),\n       1327.9(4.8), 1184.3(4.8), 1210.8(3.9), 1269.7(3.3), 1290.8(3.5),\n       1343.1(5.4), 1167.2(4.7), 1206.3(3.9), 1246.9(3.8), 1284.0(3.5),\n       1310.6(3.3), 1333.3(6.0)], dtype=object), 'eps2_a': array([0.029618(41), 0.065325(70), 0.066506(83), 0.06877(16), 0.06998(19),\n       0.07160(20), 0.123786(95), 0.12594(12), 0.13008(23), 0.13214(20),\n       0.13446(16), 0.19514(12), 0.19737(28), 0.20368(32), 0.20416(25),\n       0.20706(48), 0.21168(56)], dtype=object), 'm_delta': array([1306.6(3.6), 1361.6(5.5), 1352.4(5.0), 1400.9(3.9), 1441.9(4.6),\n       1503.8(5.5), 1383.5(5.6), 1404.3(4.5), 1445.9(3.8), 1452.5(3.9),\n       1506.3(6.1), 1441.4(5.8), 1411.8(4.5), 1446.6(4.4), 1479.3(4.1),\n       1457.2(3.7), 1516.6(6.8)], dtype=object)}\n"
     ]
    }
   ],
   "source": [
    "print(fit_analysis.posterior)"
   ]
  },
  {
   "cell_type": "code",
   "execution_count": 20,
   "metadata": {},
   "outputs": [
    {
     "output_type": "error",
     "ename": "IndexError",
     "evalue": "index 17 is out of bounds for axis 0 with size 17",
     "traceback": [
      "\u001b[0;31m---------------------------------------------------------------------------\u001b[0m",
      "\u001b[0;31mIndexError\u001b[0m                                Traceback (most recent call last)",
      "\u001b[0;32m<ipython-input-20-1f96a8b98bc7>\u001b[0m in \u001b[0;36m<module>\u001b[0;34m\u001b[0m\n\u001b[0;32m----> 1\u001b[0;31m \u001b[0mprint\u001b[0m\u001b[0;34m(\u001b[0m\u001b[0mfit_analysis\u001b[0m\u001b[0;34m.\u001b[0m\u001b[0m_extrapolate_to_ens\u001b[0m\u001b[0;34m(\u001b[0m\u001b[0mens\u001b[0m\u001b[0;34m=\u001b[0m\u001b[0;32mNone\u001b[0m\u001b[0;34m,\u001b[0m\u001b[0mphys_params\u001b[0m\u001b[0;34m=\u001b[0m\u001b[0;32mNone\u001b[0m\u001b[0;34m)\u001b[0m\u001b[0;34m)\u001b[0m\u001b[0;34m\u001b[0m\u001b[0;34m\u001b[0m\u001b[0m\n\u001b[0m",
      "\u001b[0;32m~/LQCD/hyperon-xpt-master/xpt/fit_analysis.py\u001b[0m in \u001b[0;36m_extrapolate_to_ens\u001b[0;34m(self, ens, phys_params)\u001b[0m\n\u001b[1;32m    281\u001b[0m                         \u001b[0mposterior\u001b[0m\u001b[0;34m[\u001b[0m\u001b[0mparam\u001b[0m\u001b[0;34m]\u001b[0m \u001b[0;34m=\u001b[0m \u001b[0mself\u001b[0m\u001b[0;34m.\u001b[0m\u001b[0mfitter\u001b[0m\u001b[0;34m.\u001b[0m\u001b[0mfit\u001b[0m\u001b[0;34m.\u001b[0m\u001b[0mp\u001b[0m\u001b[0;34m[\u001b[0m\u001b[0mparam\u001b[0m\u001b[0;34m]\u001b[0m\u001b[0;34m\u001b[0m\u001b[0;34m\u001b[0m\u001b[0m\n\u001b[1;32m    282\u001b[0m                     \u001b[0;32melse\u001b[0m\u001b[0;34m:\u001b[0m\u001b[0;34m\u001b[0m\u001b[0;34m\u001b[0m\u001b[0m\n\u001b[0;32m--> 283\u001b[0;31m                         \u001b[0mposterior\u001b[0m\u001b[0;34m[\u001b[0m\u001b[0mparam\u001b[0m\u001b[0;34m]\u001b[0m \u001b[0;34m=\u001b[0m \u001b[0mself\u001b[0m\u001b[0;34m.\u001b[0m\u001b[0mfitter\u001b[0m\u001b[0;34m.\u001b[0m\u001b[0mfit\u001b[0m\u001b[0;34m.\u001b[0m\u001b[0mp\u001b[0m\u001b[0;34m[\u001b[0m\u001b[0mparam\u001b[0m\u001b[0;34m]\u001b[0m\u001b[0;34m[\u001b[0m\u001b[0mj\u001b[0m\u001b[0;34m]\u001b[0m\u001b[0;34m\u001b[0m\u001b[0;34m\u001b[0m\u001b[0m\n\u001b[0m\u001b[1;32m    284\u001b[0m \u001b[0;34m\u001b[0m\u001b[0m\n\u001b[1;32m    285\u001b[0m                 \u001b[0;32mif\u001b[0m \u001b[0;34m'alpha_s'\u001b[0m \u001b[0;32min\u001b[0m \u001b[0mphys_params\u001b[0m\u001b[0;34m:\u001b[0m\u001b[0;34m\u001b[0m\u001b[0;34m\u001b[0m\u001b[0m\n",
      "\u001b[0;31mIndexError\u001b[0m: index 17 is out of bounds for axis 0 with size 17"
     ]
    }
   ],
   "source": [
    "print(fit_analysis._extrapolate_to_ens(ens=None,phys_params=None))"
   ]
  },
  {
   "cell_type": "code",
   "execution_count": null,
   "metadata": {},
   "outputs": [],
   "source": [
    "m_pi = i_o.data_phys_point['m_pi']\n",
    "m_proton = assistant.extrapolate('proton')\n",
    "sigma = m_pi**2 *gv.deriv(m_proton, m_pi**2)"
   ]
  },
  {
   "cell_type": "code",
   "execution_count": 24,
   "metadata": {},
   "outputs": [
    {
     "output_type": "stream",
     "name": "stdout",
     "text": [
      "{'xi': array([1282(12), 1318(11), 1370(11), 1388(11), 1411(12), 1271.5(9.6),\n       1283(10), 1318.6(9.9), 1336(10), 1358(10), 1258.0(8.6),\n       1257.6(8.5), 1294.3(8.7), 1288.1(9.1), 1302.1(9.7), 1327.5(9.8)],\n      dtype=object), 'xi_st': array([1527(16), 1563(19), 1620(21), 1631(27), 1671(15), 1535(13),\n       1555(12), 1581(13), 1599(14), 1622(13), 1528(11), 1518(13),\n       1557(10), 1554(11), 1555(13), 1584(13)], dtype=object), 'sigma': array([1201(10), 1215(13), 1291(11), 1312(12), 1347(12), 1186.3(9.6),\n       1208.7(9.2), 1248.0(9.6), 1275.2(9.7), 1298(10), 1206(10),\n       1194.5(8.9), 1236.8(8.3), 1229.1(9.2), 1237.6(9.5), 1280.5(9.0)],\n      dtype=object), 'sigma_st': array([1423(23), 1461(23), 1541(26), 1573(22), 1601(17), 1462(14),\n       1480(12), 1507(17), 1536(16), 1558(17), 1485(13), 1447(23),\n       1499(10), 1499(11), 1490(21), 1537(13)], dtype=object), 'lambda': array([1062(26), 1142(11), 1229(10), 1260(10), 1304(11), 1090(11),\n       1123.8(9.5), 1187.4(9.1), 1213.6(9.9), 1252.6(9.7), 1065(10),\n       1103.0(7.9), 1162.8(8.9), 1156.7(8.7), 1180.1(8.9), 1228.1(8.7)],\n      dtype=object)}\n"
     ]
    }
   ],
   "source": [
    "x = fit_analysis.fitter.y\n",
    "print(x)\n"
   ]
  }
 ],
 "metadata": {
  "language_info": {
   "codemirror_mode": {
    "name": "ipython",
    "version": 3
   },
   "file_extension": ".py",
   "mimetype": "text/x-python",
   "name": "python",
   "nbconvert_exporter": "python",
   "pygments_lexer": "ipython3",
   "version": "3.7.1-final"
  },
  "orig_nbformat": 2,
  "kernelspec": {
   "name": "python3",
   "display_name": "Python 3"
  }
 },
 "nbformat": 4,
 "nbformat_minor": 2
}
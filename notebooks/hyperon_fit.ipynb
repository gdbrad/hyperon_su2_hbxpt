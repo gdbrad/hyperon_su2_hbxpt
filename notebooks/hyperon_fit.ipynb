{
 "cells": [
  {
   "cell_type": "code",
   "execution_count": 1,
   "metadata": {
    "tags": []
   },
   "outputs": [],
   "source": [
    "import numpy as np\n",
    "import gvar as gv\n",
    "import sys\n",
    "sys.path.append('../')\n",
    "from h5glance import H5Glance \n",
    "import os\n",
    "import lsqfit\n",
    "import io\n",
    "import yaml\n",
    "import warnings  \n",
    "warnings.simplefilter(action=\"default\")\n",
    "warnings.filterwarnings('ignore') "
   ]
  },
  {
   "cell_type": "code",
   "execution_count": 2,
   "metadata": {},
   "outputs": [],
   "source": [
    "os.chdir('../../hyperon-xpt-master/xpt')"
   ]
  },
  {
   "cell_type": "code",
   "execution_count": 3,
   "metadata": {},
   "outputs": [],
   "source": [
    "import fit_analysis as fa \n",
    "import fit_routine as fit\n",
    "import i_o\n",
    "import priors"
   ]
  },
  {
   "cell_type": "code",
   "execution_count": 4,
   "metadata": {},
   "outputs": [],
   "source": [
    "import tests\n",
    "import importlib\n",
    "importlib.reload(tests)\n",
    "importlib.reload(fit)\n",
    "verbose_fitfcn = tests.VerboseFitfcn(force_gvars=True)\n",
    "#print(verbose_fitfcn)"
   ]
  },
  {
   "cell_type": "code",
   "execution_count": 5,
   "metadata": {
    "tags": []
   },
   "outputs": [
    {
     "data": {
      "text/plain": [
       "<module 'fit_routine' from '/home/gmoney/lqcd/hyperon-xpt-master/xpt/fit_routine.py'>"
      ]
     },
     "execution_count": 5,
     "metadata": {},
     "output_type": "execute_result"
    }
   ],
   "source": [
    "from importlib import reload\n",
    "reload(i_o)\n",
    "reload(fa)\n",
    "reload(fit)"
   ]
  },
  {
   "cell_type": "code",
   "execution_count": 6,
   "metadata": {
    "tags": []
   },
   "outputs": [],
   "source": [
    "from priors import prior\n",
    "prior = prior\n",
    "#print(prior)"
   ]
  },
  {
   "cell_type": "code",
   "execution_count": 7,
   "metadata": {},
   "outputs": [],
   "source": [
    "f = open('models.yaml', 'r')\n",
    "models = yaml.load(f,Loader=yaml.FullLoader)\n",
    "    #print(keys)\n",
    "model_info = {}\n",
    "for item in models.values():\n",
    "        model_info = item['proton:s_n2lo:d_n4lo:x_n2lo:l_n4lo:lc_f']\n",
    "        model_info_sigma = item['proton:s_n2lo:d_n4lo:x_n2lo:l_n4lo:lc_f:sigma_t']\n",
    "        model_info_div_lam = item['proton:s_n2lo:d_n4lo:x_n2lo:l_n4lo:lc_t']\n",
    "#print(model_info)"
   ]
  },
  {
   "cell_type": "code",
   "execution_count": 8,
   "metadata": {},
   "outputs": [],
   "source": [
    "input_output = i_o.InputOutput()\n",
    "data,ensembles = input_output.get_data(scheme='w0_imp',units='Fpi')\n",
    "data_div, ensembles = input_output.get_data(scheme='w0_imp',units='Fpi')\n",
    "prior = input_output.make_prior(data,prior)\n",
    "phys_point_data = input_output.get_data_phys_point()"
   ]
  },
  {
   "cell_type": "code",
   "execution_count": 9,
   "metadata": {},
   "outputs": [
    {
     "data": {
      "text/plain": [
       "{'m_proton': array([1121(10), 958.4(7.7), 984.4(7.9), 1110.7(8.9), 1158.1(9.3),\n",
       "        1211.3(9.7), 934.1(6.8), 998.3(7.3), 1074.4(7.8), 1124.0(8.2),\n",
       "        1168.4(8.5), 950.8(6.3), 993.1(6.6), 1078.1(7.2), 1057.1(7.0),\n",
       "        1092.9(7.3), 1158.1(7.7)], dtype=object),\n",
       " 'm_delta': array([1347(12), 1382(11), 1327(11), 1439(12), 1496(12), 1556(12),\n",
       "        1369(10), 1402(10), 1437(10), 1457(11), 1498(11), 1450.9(9.6),\n",
       "        1403.2(9.3), 1439.1(9.6), 1441.6(9.6), 1408.8(9.4), 1487.6(9.9)],\n",
       "       dtype=object),\n",
       " 'm_lambda': array([1255(11), 1057.3(8.5), 1140.4(9.1), 1228.6(9.9), 1260(10),\n",
       "        1303(10), 1090.8(8.0), 1123.1(8.2), 1187.4(8.7), 1213.4(8.8),\n",
       "        1252.5(9.1), 1064.5(7.1), 1102.9(7.3), 1162.3(7.7), 1156.3(7.7),\n",
       "        1179.9(7.8), 1227.9(8.2)], dtype=object),\n",
       " 'm_sigma': array([1311(12), 1201.4(9.6), 1213.5(9.7), 1291(10), 1312(11), 1346(11),\n",
       "        1186.3(8.7), 1208.7(8.8), 1247.9(9.1), 1275.2(9.3), 1297.8(9.5),\n",
       "        1205.9(8.0), 1194.3(7.9), 1236.8(8.2), 1228.8(8.2), 1237.3(8.2),\n",
       "        1280.5(8.5)], dtype=object),\n",
       " 'm_sigma_st': array([1501(13), 1422(11), 1454(12), 1534(12), 1571(13), 1601(13),\n",
       "        1462(11), 1480(11), 1506(11), 1535(11), 1556(11), 1484.7(9.9),\n",
       "        1442.7(9.6), 1499(10), 1499(10), 1486.7(9.9), 1536(10)],\n",
       "       dtype=object),\n",
       " 'm_xi': array([1410(13), 1282(10), 1318(11), 1370(11), 1388(11), 1411(11),\n",
       "        1271.4(9.3), 1282.5(9.4), 1318.5(9.6), 1335.6(9.7), 1357.7(9.9),\n",
       "        1258.0(8.4), 1257.5(8.4), 1294.3(8.6), 1287.9(8.6), 1301.7(8.6),\n",
       "        1327.1(8.8)], dtype=object),\n",
       " 'm_xi_st': array([1642(15), 1526(12), 1560(13), 1616(13), 1625(13), 1671(13),\n",
       "        1535(11), 1555(11), 1580(12), 1598(12), 1622(12), 1527(10),\n",
       "        1517(10), 1557(10), 1554(10), 1554(10), 1583(11)], dtype=object),\n",
       " 'm_omega': array([1757(16), 1637(13), 1667(13), 1705(14), 1709(14), 1744(14),\n",
       "        1603(12), 1626(12), 1654(12), 1658(12), 1681(12), 1584(11),\n",
       "        1582(11), 1614(11), 1611(11), 1617(11), 1631(11)], dtype=object),\n",
       " 'm_pi': array([327.9(2.9), 134.4(1.1), 221.3(1.8), 318.1(2.6), 356.8(2.9),\n",
       "        409.5(3.3), 132.89(97), 219.2(1.6), 308.6(2.3), 349.9(2.6),\n",
       "        398.2(2.9), 134.95(90), 216.8(1.4), 309.4(2.1), 306.9(2.0),\n",
       "        347.1(2.3), 397.0(2.6)], dtype=object),\n",
       " 'm_k': array([561.9(5.0), 493.9(4.0), 516.9(4.1), 544.9(4.4), 558.2(4.5),\n",
       "        576.9(4.6), 494.1(3.6), 507.3(3.7), 530.1(3.9), 544.7(4.0),\n",
       "        561.6(4.1), 508.1(3.4), 507.3(3.4), 530.4(3.5), 529.8(3.5),\n",
       "        542.4(3.6), 560.2(3.7)], dtype=object),\n",
       " 'lam_chi': array([1323(12), 1158.5(9.3), 1216.9(9.8), 1293(10), 1325(11), 1374(11),\n",
       "        1171.6(8.5), 1208.5(8.8), 1261.5(9.2), 1294.5(9.4), 1335.5(9.7),\n",
       "        1174.9(7.8), 1199.0(8.0), 1240.5(8.2), 1251.3(8.3), 1267.0(8.4),\n",
       "        1307.8(8.7)], dtype=object),\n",
       " 'eps2_a': array([0.029618(41), 0.065325(70), 0.066506(83), 0.06877(16), 0.06998(19),\n",
       "        0.07160(20), 0.123786(95), 0.12594(12), 0.13008(23), 0.13214(20),\n",
       "        0.13446(16), 0.19514(12), 0.19737(28), 0.20368(32), 0.20416(25),\n",
       "        0.20706(48), 0.21168(56)], dtype=object)}"
      ]
     },
     "execution_count": 9,
     "metadata": {},
     "output_type": "execute_result"
    }
   ],
   "source": [
    "data"
   ]
  },
  {
   "cell_type": "code",
   "execution_count": 10,
   "metadata": {},
   "outputs": [
    {
     "name": "stdout",
     "output_type": "stream",
     "text": [
      "Least Square Fit:\n",
      "  chi2/dof [dof] = 7.8 [17]    Q = 4.8e-20    logGBF = -129.58\n",
      "\n",
      "Parameters:\n",
      "     m_{proton,0}     890.3 (5.0)      [     900 (400) ]  \n",
      "     b_{proton,2}      4e-16 +- 5      [     0.0 (5.0) ]  \n",
      "     b_{proton,4}      3e-15 +- 5      [     0.0 (5.0) ]  \n",
      "     b_{proton,6}   0.004 (5.000)      [     0.0 (5.0) ]  \n",
      "     d_{proton,a}     -1e-15 +- 5      [     0.0 (5.0) ]  \n",
      "    d_{proton,aa}     -6e-15 +- 5      [     0.0 (5.0) ]  \n",
      "    d_{proton,al}      3e-16 +- 5      [     0.0 (5.0) ]  \n",
      "   d_{proton,all}    -0.02 (5.00)      [     0.0 (5.0) ]  \n",
      "   d_{proton,aal}      -0.3 (5.0)      [     0.0 (5.0) ]  \n",
      "     d_{proton,s}    -0.09 (5.00)      [     0.0 (5.0) ]  \n",
      "    d_{proton,as}       0.2 (5.0)      [     0.0 (5.0) ]  \n",
      "    d_{proton,ls}    -0.03 (5.00)      [     0.0 (5.0) ]  \n",
      "    d_{proton,ss}     0.04 (5.00)      [     0.0 (5.0) ]  \n",
      "g_{proton,proton}       0.8 (5.0)      [     1.3 (5.0) ]  \n",
      " g_{proton,delta}      14.4 (3.1)      [     0.9 (5.0) ]  **\n",
      "      m_{delta,0}      3828 (773)      [   1232 (1000) ]  **\n",
      "     a_{proton,4}     -3e-15 +- 5      [     0.0 (5.0) ]  \n",
      "     g_{proton,4}       0.1 (5.0)      [     0.0 (5.0) ]  \n",
      "            m_k 0     543.9 (1.0)      [   561.9 (5.0) ]  ***\n",
      "                1     485.4 (1.7)      [   493.9 (4.0) ]  **\n",
      "                2     525.9 (1.2)      [   516.9 (4.1) ]  **\n",
      "                3     533.1 (1.0)      [   544.9 (4.4) ]  **\n",
      "                4     540.1 (1.2)      [   558.2 (4.5) ]  ****\n",
      "                5     552.6 (1.5)      [   576.9 (4.6) ]  *****\n",
      "                6     495.9 (1.8)      [   494.1 (3.6) ]  \n",
      "                7     510.3 (1.1)      [   507.3 (3.7) ]  \n",
      "                8     534.3 (1.0)      [   530.1 (3.9) ]  *\n",
      "                9     542.7 (1.2)      [   544.7 (4.0) ]  \n",
      "               10     556.5 (1.5)      [   561.6 (4.1) ]  *\n",
      "               11     502.1 (1.8)      [   508.1 (3.4) ]  *\n",
      "               12     512.9 (1.1)      [   507.3 (3.4) ]  *\n",
      "               13     538.2 (1.1)      [   530.4 (3.5) ]  **\n",
      "               14     542.2 (1.0)      [   529.8 (3.5) ]  ***\n",
      "               15     557.2 (1.2)      [   542.4 (3.6) ]  ****\n",
      "               16     565.3 (1.5)      [   560.2 (3.7) ]  *\n",
      "           m_pi 0     317.40 (60)      [   327.9 (2.9) ]  ***\n",
      "                1     132.10 (47)      [   134.4 (1.1) ]  **\n",
      "                2     225.14 (50)      [   221.3 (1.8) ]  **\n",
      "                3     311.19 (60)      [   318.1 (2.6) ]  **\n",
      "                4     345.26 (76)      [   356.8 (2.9) ]  ****\n",
      "                5     392.2 (1.0)      [   409.5 (3.3) ]  *****\n",
      "                6     133.36 (49)      [   132.89 (97) ]  \n",
      "                7     220.48 (47)      [   219.2 (1.6) ]  \n",
      "                8     311.05 (59)      [   308.6 (2.3) ]  *\n",
      "                9     348.64 (76)      [   349.9 (2.6) ]  \n",
      "               10     394.6 (1.0)      [   398.2 (2.9) ]  *\n",
      "               11     133.36 (48)      [   134.95 (90) ]  *\n",
      "               12     219.16 (47)      [   216.8 (1.4) ]  *\n",
      "               13     313.98 (62)      [   309.4 (2.1) ]  **\n",
      "               14     314.13 (59)      [   306.9 (2.0) ]  ***\n",
      "               15     356.56 (79)      [   347.1 (2.3) ]  ****\n",
      "               16     400.7 (1.1)      [   397.0 (2.6) ]  *\n",
      "        lam_chi 0    1280.8 (2.4)      [     1323 (12) ]  ***\n",
      "                1    1138.7 (4.0)      [  1158.5 (9.3) ]  **\n",
      "                2    1238.1 (2.7)      [  1216.9 (9.8) ]  **\n",
      "                3    1265.1 (2.4)      [     1293 (10) ]  **\n",
      "                4    1281.7 (2.8)      [     1325 (11) ]  ****\n",
      "                5    1315.9 (3.5)      [     1374 (11) ]  *****\n",
      "                6    1175.7 (4.4)      [  1171.6 (8.5) ]  \n",
      "                7    1215.7 (2.6)      [  1208.5 (8.8) ]  \n",
      "                8    1271.6 (2.4)      [  1261.5 (9.2) ]  *\n",
      "                9    1289.8 (2.8)      [  1294.5 (9.4) ]  \n",
      "               10    1323.4 (3.5)      [  1335.5 (9.7) ]  *\n",
      "               11    1161.0 (4.2)      [  1174.9 (7.8) ]  *\n",
      "               12    1212.2 (2.6)      [  1199.0 (8.0) ]  *\n",
      "               13    1258.7 (2.5)      [  1240.5 (8.2) ]  **\n",
      "               14    1280.5 (2.4)      [  1251.3 (8.3) ]  ***\n",
      "               15    1301.5 (2.9)      [  1267.0 (8.4) ]  ****\n",
      "               16    1319.9 (3.6)      [  1307.8 (8.7) ]  *\n",
      "         eps2_a 0   0.029618 (41)      [ 0.029618 (41) ]  \n",
      "                1   0.065325 (70)      [ 0.065325 (70) ]  \n",
      "                2   0.066506 (83)      [ 0.066506 (83) ]  \n",
      "                3    0.06877 (16)      [  0.06877 (16) ]  \n",
      "                4    0.06998 (19)      [  0.06998 (19) ]  \n",
      "                5    0.07160 (20)      [  0.07160 (20) ]  \n",
      "                6   0.123786 (95)      [ 0.123786 (95) ]  \n",
      "                7    0.12594 (12)      [  0.12594 (12) ]  \n",
      "                8    0.13008 (23)      [  0.13008 (23) ]  \n",
      "                9    0.13214 (20)      [  0.13214 (20) ]  \n",
      "               10    0.13446 (16)      [  0.13446 (16) ]  \n",
      "               11    0.19514 (12)      [  0.19514 (12) ]  \n",
      "               12    0.19737 (28)      [  0.19737 (28) ]  \n",
      "               13    0.20368 (32)      [  0.20368 (32) ]  \n",
      "               14    0.20416 (25)      [  0.20416 (25) ]  \n",
      "               15    0.20706 (48)      [  0.20706 (48) ]  \n",
      "               16    0.21168 (56)      [  0.21168 (56) ]  \n",
      "\n",
      "Settings:\n",
      "  svdcut/n = 1e-12/0    tol = (1e-08*,1e-10,1e-10)    (itns/time = 352/0.6)\n",
      "\n"
     ]
    }
   ],
   "source": [
    "fit_div_lam = fit.fit_routine(prior=prior, data=data_div, model_info=model_info_div_lam)\n",
    "fit_div_lam_out = fit_div_lam.fit\n",
    "print(fit_div_lam_out)\n"
   ]
  },
  {
   "cell_type": "code",
   "execution_count": 11,
   "metadata": {},
   "outputs": [
    {
     "name": "stdout",
     "output_type": "stream",
     "text": [
      "{\n",
      "    'proton':\n",
      "    array([1121(10), 958.4(7.7), 984.4(7.9), 1110.7(8.9), 1158.1(9.3),\n",
      "           1211.3(9.7), 934.1(6.8), 998.3(7.3), 1074.4(7.8), 1124.0(8.2),\n",
      "           1168.4(8.5), 950.8(6.3), 993.1(6.6), 1078.1(7.2), 1057.1(7.0),\n",
      "           1092.9(7.3), 1158.1(7.7)], dtype=object),\n",
      "}\n"
     ]
    }
   ],
   "source": [
    "fit_sigma = fit.fit_routine(prior=prior, data=data, model_info=model_info_sigma)\n",
    "fit_sigma_out = fit_sigma.fit\n",
    "print(fit_sigma_out.y)"
   ]
  },
  {
   "cell_type": "code",
   "execution_count": 12,
   "metadata": {},
   "outputs": [
    {
     "name": "stdout",
     "output_type": "stream",
     "text": [
      "Least Square Fit:\n",
      "  chi2/dof [dof] = 2.1 [17]    Q = 0.0047    logGBF = -86.939\n",
      "\n",
      "Parameters:\n",
      "     m_{proton,0}     931.1 (5.7)      [     900 (400) ]  \n",
      "     b_{proton,2}     -1e-15 +- 5      [     0.0 (5.0) ]  \n",
      "     b_{proton,4}     -3e-16 +- 5      [     0.0 (5.0) ]  \n",
      "     b_{proton,6}      -1.2 (5.0)      [     0.0 (5.0) ]  \n",
      "     d_{proton,a}      2e-16 +- 5      [     0.0 (5.0) ]  \n",
      "    d_{proton,aa}      4e-16 +- 5      [     0.0 (5.0) ]  \n",
      "    d_{proton,al}      9e-16 +- 5      [     0.0 (5.0) ]  \n",
      "   d_{proton,all}      -1.1 (4.9)      [     0.0 (5.0) ]  \n",
      "   d_{proton,aal}       1.99 (78)      [     0.0 (5.0) ]  \n",
      "     d_{proton,s}      -2.30 (43)      [     0.0 (5.0) ]  \n",
      "    d_{proton,as}       8.5 (1.6)      [     0.0 (5.0) ]  *\n",
      "    d_{proton,ls}       1.4 (4.7)      [     0.0 (5.0) ]  \n",
      "    d_{proton,ss}      -3.6 (3.8)      [     0.0 (5.0) ]  \n",
      "g_{proton,proton}       0.3 (2.4)      [     1.3 (5.0) ]  \n",
      " g_{proton,delta}       0.1 (4.8)      [     0.9 (5.0) ]  \n",
      "      m_{delta,0}       931 (137)      [   1232 (1000) ]  \n",
      "     a_{proton,4}     -2e-17 +- 5      [     0.0 (5.0) ]  \n",
      "     g_{proton,4}      -7.9 (4.8)      [     0.0 (5.0) ]  *\n",
      "            m_k 0     557.9 (3.0)      [   561.9 (5.0) ]  \n",
      "                1     484.3 (2.7)      [   493.9 (4.0) ]  **\n",
      "                2     524.5 (2.1)      [   516.9 (4.1) ]  *\n",
      "                3     539.3 (2.1)      [   544.9 (4.4) ]  *\n",
      "                4     552.2 (2.2)      [   558.2 (4.5) ]  *\n",
      "                5     580.7 (3.5)      [   576.9 (4.6) ]  \n",
      "                6     503.1 (2.1)      [   494.1 (3.6) ]  **\n",
      "                7     507.8 (1.8)      [   507.3 (3.7) ]  \n",
      "                8     530.9 (1.8)      [   530.1 (3.9) ]  \n",
      "                9     542.1 (2.0)      [   544.7 (4.0) ]  \n",
      "               10     566.4 (2.7)      [   561.6 (4.1) ]  *\n",
      "               11     507.5 (3.0)      [   508.1 (3.4) ]  \n",
      "               12     507.7 (2.3)      [   507.3 (3.4) ]  \n",
      "               13     522.5 (2.0)      [   530.4 (3.5) ]  **\n",
      "               14     531.6 (2.0)      [   529.8 (3.5) ]  \n",
      "               15     547.1 (2.0)      [   542.4 (3.6) ]  *\n",
      "               16     558.6 (2.8)      [   560.2 (3.7) ]  \n",
      "           m_pi 0     325.6 (1.7)      [   327.9 (2.9) ]  \n",
      "                1     131.78 (73)      [   134.4 (1.1) ]  **\n",
      "                2     224.51 (88)      [   221.3 (1.8) ]  *\n",
      "                3     314.8 (1.2)      [   318.1 (2.6) ]  *\n",
      "                4     352.9 (1.4)      [   356.8 (2.9) ]  *\n",
      "                5     412.2 (2.5)      [   409.5 (3.3) ]  \n",
      "                6     135.32 (56)      [   132.89 (97) ]  **\n",
      "                7     219.39 (79)      [   219.2 (1.6) ]  \n",
      "                8     309.0 (1.0)      [   308.6 (2.3) ]  \n",
      "                9     348.2 (1.3)      [   349.9 (2.6) ]  \n",
      "               10     401.6 (1.9)      [   398.2 (2.9) ]  *\n",
      "               11     134.79 (81)      [   134.95 (90) ]  \n",
      "               12     216.94 (98)      [   216.8 (1.4) ]  \n",
      "               13     304.8 (1.2)      [   309.4 (2.1) ]  **\n",
      "               14     308.0 (1.2)      [   306.9 (2.0) ]  \n",
      "               15     350.1 (1.3)      [   347.1 (2.3) ]  *\n",
      "               16     395.9 (2.0)      [   397.0 (2.6) ]  \n",
      "        lam_chi 0    1313.8 (7.0)      [     1323 (12) ]  \n",
      "                1    1136.0 (6.3)      [  1158.5 (9.3) ]  **\n",
      "                2    1234.7 (4.8)      [  1216.9 (9.8) ]  *\n",
      "                3    1279.7 (4.9)      [     1293 (10) ]  *\n",
      "                4    1310.2 (5.2)      [     1325 (11) ]  *\n",
      "                5    1383.0 (8.4)      [     1374 (11) ]  \n",
      "                6    1193.0 (4.9)      [  1171.6 (8.5) ]  **\n",
      "                7    1209.7 (4.3)      [  1208.5 (8.8) ]  \n",
      "                8    1263.3 (4.2)      [  1261.5 (9.2) ]  \n",
      "                9    1288.3 (4.8)      [  1294.5 (9.4) ]  \n",
      "               10    1346.9 (6.3)      [  1335.5 (9.7) ]  *\n",
      "               11    1173.5 (7.0)      [  1174.9 (7.8) ]  \n",
      "               12    1199.9 (5.4)      [  1199.0 (8.0) ]  \n",
      "               13    1222.0 (4.8)      [  1240.5 (8.2) ]  **\n",
      "               14    1255.5 (4.8)      [  1251.3 (8.3) ]  \n",
      "               15    1278.0 (4.6)      [  1267.0 (8.4) ]  *\n",
      "               16    1304.3 (6.6)      [  1307.8 (8.7) ]  \n",
      "         eps2_a 0   0.029618 (41)      [ 0.029618 (41) ]  \n",
      "                1   0.065325 (70)      [ 0.065325 (70) ]  \n",
      "                2   0.066506 (83)      [ 0.066506 (83) ]  \n",
      "                3    0.06877 (16)      [  0.06877 (16) ]  \n",
      "                4    0.06998 (19)      [  0.06998 (19) ]  \n",
      "                5    0.07160 (20)      [  0.07160 (20) ]  \n",
      "                6   0.123785 (95)      [ 0.123786 (95) ]  \n",
      "                7    0.12594 (12)      [  0.12594 (12) ]  \n",
      "                8    0.13008 (23)      [  0.13008 (23) ]  \n",
      "                9    0.13214 (20)      [  0.13214 (20) ]  \n",
      "               10    0.13446 (16)      [  0.13446 (16) ]  \n",
      "               11    0.19514 (12)      [  0.19514 (12) ]  \n",
      "               12    0.19737 (28)      [  0.19737 (28) ]  \n",
      "               13    0.20367 (32)      [  0.20368 (32) ]  \n",
      "               14    0.20416 (25)      [  0.20416 (25) ]  \n",
      "               15    0.20707 (48)      [  0.20706 (48) ]  \n",
      "               16    0.21168 (56)      [  0.21168 (56) ]  \n",
      "\n",
      "Fit:\n",
      "         key          y[key]       f(p)[key]\n",
      "--------------------------------------------\n",
      "    proton 0       1121 (10)    1113.6 (5.9)  \n",
      "           1     958.4 (7.7)     939.8 (5.2)  **\n",
      "           2     984.4 (7.9)     998.8 (3.9)  *\n",
      "           3    1110.7 (8.9)    1099.2 (4.2)  *\n",
      "           4    1158.1 (9.3)    1145.6 (4.6)  *\n",
      "           5    1211.3 (9.7)    1219.3 (7.4)  \n",
      "           6     934.1 (6.8)     951.1 (3.9)  **\n",
      "           7     998.3 (7.3)     999.3 (3.6)  \n",
      "           8    1074.4 (7.8)    1075.9 (3.6)  \n",
      "           9    1124.0 (8.2)    1118.6 (4.2)  \n",
      "          10    1168.4 (8.5)    1178.4 (5.5)  *\n",
      "          11     950.8 (6.3)     949.7 (5.7)  \n",
      "          12     993.1 (6.6)     993.9 (4.5)  \n",
      "          13    1078.1 (7.2)    1062.0 (4.1)  **\n",
      "          14    1057.1 (7.0)    1060.6 (4.1)  \n",
      "          15    1092.9 (7.3)    1102.3 (4.0)  *\n",
      "          16    1158.1 (7.7)    1155.0 (5.8)  \n",
      "\n",
      "Settings:\n",
      "  svdcut/n = 1e-12/0    tol = (1e-08*,1e-10,1e-10)    (itns/time = 112/0.2)\n",
      "\n"
     ]
    }
   ],
   "source": [
    " fit_test = fit.fit_routine(prior=prior, data=data, model_info=model_info)\n",
    " fit_out = fit_test.fit\n",
    " print(fit_out.format(maxline=True))"
   ]
  },
  {
   "cell_type": "code",
   "execution_count": 13,
   "metadata": {
    "tags": []
   },
   "outputs": [
    {
     "name": "stdout",
     "output_type": "stream",
     "text": [
      "{'proton': 937(11)}\n",
      "{'proton': 945.9(4.9)}\n"
     ]
    }
   ],
   "source": [
    "from importlib import reload\n",
    "reload(fa)\n",
    "fit_analysis = fa.fit_analysis(phys_point_data=phys_point_data, data=data,model_info=model_info, prior=prior)\n",
    "fit_analysis_sigma = fa.fit_analysis(phys_point_data=phys_point_data, data=data,model_info=model_info_sigma, prior=prior)\n",
    "extrap_mass = fit_analysis.extrapolated_mass\n",
    "extrap_mass_deriv = fit_analysis_sigma.extrapolated_mass\n",
    "m_proton = extrap_mass['proton']\n",
    "m_proton_deriv =  extrap_mass_deriv['proton']"
   ]
  },
  {
   "cell_type": "code",
   "execution_count": 14,
   "metadata": {},
   "outputs": [
    {
     "name": "stdout",
     "output_type": "stream",
     "text": [
      "sigma w/ gv.deriv: 39.94(18)\n",
      "sigma analytic: 48.58(30)\n"
     ]
    }
   ],
   "source": [
    "reload(io)\n",
    "m_pi = phys_point_data['m_pi']\n",
    "lam_chi = phys_point_data['lam_chi']\n",
    "e_pi = m_pi / lam_chi\n",
    "sigma = m_pi**2 *gv.deriv(m_proton, m_pi**2)\n",
    "l3 = gv.gvar('3.53(26)')\n",
    "l4 = gv.gvar('4.73(10)')\n",
    "sigma_analytic = e_pi/2 * (1 + e_pi**2*(5/2 - l3/2 - 2*l4 )) *m_proton_deriv\n",
    "print('sigma w/ gv.deriv:',sigma)\n",
    "print('sigma analytic:' ,sigma_analytic)\n"
   ]
  },
  {
   "cell_type": "code",
   "execution_count": 15,
   "metadata": {},
   "outputs": [
    {
     "ename": "KeyError",
     "evalue": "'m_{proton,0}'",
     "output_type": "error",
     "traceback": [
      "\u001b[0;31m---------------------------------------------------------------------------\u001b[0m",
      "\u001b[0;31mKeyError\u001b[0m                                  Traceback (most recent call last)",
      "Cell \u001b[0;32mIn[15], line 1\u001b[0m\n\u001b[0;32m----> 1\u001b[0m \u001b[39mprint\u001b[39m(fit_analysis\u001b[39m.\u001b[39;49merror_budget)\n",
      "File \u001b[0;32m~/lqcd/hyperon-xpt-master/xpt/fit_analysis.py:76\u001b[0m, in \u001b[0;36mfit_analysis.error_budget\u001b[0;34m(self)\u001b[0m\n\u001b[1;32m     73\u001b[0m output \u001b[39m=\u001b[39m \u001b[39m'\u001b[39m\u001b[39m'\u001b[39m\n\u001b[1;32m     75\u001b[0m output \u001b[39m+\u001b[39m\u001b[39m=\u001b[39m \u001b[39m'\u001b[39m\u001b[39m\\n\u001b[39;00m\u001b[39m'\u001b[39m\n\u001b[0;32m---> 76\u001b[0m output \u001b[39m+\u001b[39m\u001b[39m=\u001b[39m \u001b[39mstr\u001b[39m(\u001b[39mself\u001b[39;49m\u001b[39m.\u001b[39;49m_get_error_budget(particle\u001b[39m=\u001b[39;49m\u001b[39m'\u001b[39;49m\u001b[39mproton\u001b[39;49m\u001b[39m'\u001b[39;49m))\n\u001b[1;32m     77\u001b[0m \u001b[39mreturn\u001b[39;00m output\n",
      "File \u001b[0;32m~/lqcd/hyperon-xpt-master/xpt/fit_analysis.py:130\u001b[0m, in \u001b[0;36mfit_analysis._get_error_budget\u001b[0;34m(self, **kwargs)\u001b[0m\n\u001b[1;32m    125\u001b[0m \u001b[39m# if verbose:\u001b[39;00m\n\u001b[1;32m    126\u001b[0m \u001b[39m#     if output is None:\u001b[39;00m\n\u001b[1;32m    127\u001b[0m \u001b[39m#         output = ''\u001b[39;00m\n\u001b[1;32m    129\u001b[0m result \u001b[39m=\u001b[39m {}\n\u001b[0;32m--> 130\u001b[0m result[\u001b[39m'\u001b[39m\u001b[39mdisc\u001b[39m\u001b[39m'\u001b[39m] \u001b[39m=\u001b[39m mdls\u001b[39m.\u001b[39;49mfit\u001b[39m.\u001b[39mp\u001b[39m.\u001b[39mpartialsdev(\n\u001b[1;32m    131\u001b[0m     [\u001b[39mself\u001b[39m\u001b[39m.\u001b[39mprior[key] \u001b[39mfor\u001b[39;00m key \u001b[39min\u001b[39;00m disc_keys \u001b[39mif\u001b[39;00m key \u001b[39min\u001b[39;00m \u001b[39mself\u001b[39m\u001b[39m.\u001b[39mprior]\n\u001b[1;32m    132\u001b[0m )\n\u001b[1;32m    133\u001b[0m result[\u001b[39m'\u001b[39m\u001b[39mchiral\u001b[39m\u001b[39m'\u001b[39m] \u001b[39m=\u001b[39m mdls\u001b[39m.\u001b[39mfit\u001b[39m.\u001b[39mp\u001b[39m.\u001b[39mpartialsdev(\n\u001b[1;32m    134\u001b[0m     [\u001b[39mself\u001b[39m\u001b[39m.\u001b[39mprior[key] \u001b[39mfor\u001b[39;00m key \u001b[39min\u001b[39;00m chiral_keys \u001b[39mif\u001b[39;00m key \u001b[39min\u001b[39;00m \u001b[39mself\u001b[39m\u001b[39m.\u001b[39mprior]\n\u001b[1;32m    135\u001b[0m )\n\u001b[1;32m    136\u001b[0m result[\u001b[39m'\u001b[39m\u001b[39mstrange\u001b[39m\u001b[39m'\u001b[39m] \u001b[39m=\u001b[39m mdls\u001b[39m.\u001b[39mfit\u001b[39m.\u001b[39mp\u001b[39m.\u001b[39mpartialsdev(\n\u001b[1;32m    137\u001b[0m     [\u001b[39mself\u001b[39m\u001b[39m.\u001b[39mprior[key] \u001b[39mfor\u001b[39;00m key \u001b[39min\u001b[39;00m strange_keys \u001b[39mif\u001b[39;00m key \u001b[39min\u001b[39;00m \u001b[39mself\u001b[39m\u001b[39m.\u001b[39mprior]\n\u001b[1;32m    138\u001b[0m )\n",
      "File \u001b[0;32m~/lqcd/hyperon-xpt-master/xpt/fit_routine.py:34\u001b[0m, in \u001b[0;36mfit_routine.fit\u001b[0;34m(self)\u001b[0m\n\u001b[1;32m     32\u001b[0m \u001b[39mif\u001b[39;00m \u001b[39mself\u001b[39m\u001b[39m.\u001b[39m_fit \u001b[39mis\u001b[39;00m \u001b[39mNone\u001b[39;00m:\n\u001b[1;32m     33\u001b[0m     models \u001b[39m=\u001b[39m \u001b[39mself\u001b[39m\u001b[39m.\u001b[39m_make_models()\n\u001b[0;32m---> 34\u001b[0m     prior \u001b[39m=\u001b[39m \u001b[39mself\u001b[39;49m\u001b[39m.\u001b[39;49m_make_prior()\n\u001b[1;32m     35\u001b[0m     data \u001b[39m=\u001b[39m \u001b[39mself\u001b[39m\u001b[39m.\u001b[39my\n\u001b[1;32m     37\u001b[0m     fitter \u001b[39m=\u001b[39m lsqfit\u001b[39m.\u001b[39mMultiFitter(models\u001b[39m=\u001b[39mmodels)\n",
      "File \u001b[0;32m~/lqcd/hyperon-xpt-master/xpt/fit_routine.py:195\u001b[0m, in \u001b[0;36mfit_routine._make_prior\u001b[0;34m(self, data)\u001b[0m\n\u001b[1;32m    193\u001b[0m             keys\u001b[39m.\u001b[39mextend(\u001b[39mself\u001b[39m\u001b[39m.\u001b[39m_get_prior_keys(particle\u001b[39m=\u001b[39mp, order\u001b[39m=\u001b[39mo, lec_type \u001b[39m=\u001b[39m l))\n\u001b[1;32m    194\u001b[0m \u001b[39mfor\u001b[39;00m key \u001b[39min\u001b[39;00m keys:\n\u001b[0;32m--> 195\u001b[0m     new_prior[key] \u001b[39m=\u001b[39m prior[key]\n\u001b[1;32m    197\u001b[0m \u001b[39mif\u001b[39;00m \u001b[39mself\u001b[39m\u001b[39m.\u001b[39mmodel_info[\u001b[39m'\u001b[39m\u001b[39morder_strange\u001b[39m\u001b[39m'\u001b[39m] \u001b[39mis\u001b[39;00m \u001b[39mnot\u001b[39;00m \u001b[39mNone\u001b[39;00m:\n\u001b[1;32m    198\u001b[0m     new_prior[\u001b[39m'\u001b[39m\u001b[39mm_k\u001b[39m\u001b[39m'\u001b[39m] \u001b[39m=\u001b[39m data[\u001b[39m'\u001b[39m\u001b[39mm_k\u001b[39m\u001b[39m'\u001b[39m]\n",
      "\u001b[0;31mKeyError\u001b[0m: 'm_{proton,0}'"
     ]
    }
   ],
   "source": [
    "print(fit_analysis.error_budget)"
   ]
  }
 ],
 "metadata": {
  "kernelspec": {
   "display_name": "Python 3.10.9 64-bit",
   "language": "python",
   "name": "python3"
  },
  "language_info": {
   "codemirror_mode": {
    "name": "ipython",
    "version": 3
   },
   "file_extension": ".py",
   "mimetype": "text/x-python",
   "name": "python",
   "nbconvert_exporter": "python",
   "pygments_lexer": "ipython3",
   "version": "3.10.9"
  },
  "orig_nbformat": 2,
  "vscode": {
   "interpreter": {
    "hash": "767d51c1340bd893661ea55ea3124f6de3c7a262a8b4abca0554b478b1e2ff90"
   }
  }
 },
 "nbformat": 4,
 "nbformat_minor": 2
}

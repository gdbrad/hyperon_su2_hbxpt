{
 "cells": [
  {
   "cell_type": "code",
   "execution_count": 1,
   "metadata": {
    "tags": []
   },
   "outputs": [],
   "source": [
    "import numpy as np\n",
    "import gvar as gv\n",
    "import sys\n",
    "\n",
    "#import warnings  \n",
    "#warnings.simplefilter(action=\"default\")\n",
    "\n",
    "sys.path.append('../')\n",
    "\n",
    "from h5glance import H5Glance \n",
    "import os\n",
    "import lsqfit"
   ]
  },
  {
   "cell_type": "code",
   "execution_count": 2,
   "metadata": {},
   "outputs": [],
   "source": [
    "os.chdir('../../hyperon-xpt-master/xpt')"
   ]
  },
  {
   "cell_type": "code",
   "execution_count": 3,
   "metadata": {},
   "outputs": [],
   "source": [
    "#import fit_analysis as fa \n",
    "import fit_routine as fit\n",
    "import i_o "
   ]
  },
  {
   "cell_type": "code",
   "execution_count": 4,
   "metadata": {
    "tags": []
   },
   "outputs": [
    {
     "output_type": "execute_result",
     "data": {
      "text/plain": [
       "<module 'fit_routine' from '/Users/grantdb/hyperon-xpt-master/xpt/fit_routine.py'>"
      ]
     },
     "metadata": {},
     "execution_count": 4
    }
   ],
   "source": [
    "from importlib import reload\n",
    "reload(i_o)\n",
    "#reload(fa)\n",
    "reload(fit)"
   ]
  },
  {
   "cell_type": "code",
   "execution_count": 5,
   "metadata": {},
   "outputs": [],
   "source": [
    "file = '../data/hyperon_data.h5'\n",
    "#H5Glance(file)"
   ]
  },
  {
   "cell_type": "code",
   "execution_count": 6,
   "metadata": {},
   "outputs": [],
   "source": [
    "file2 = '../data/input_data.h5'\n",
    "#H5Glance(file2)"
   ]
  },
  {
   "cell_type": "code",
   "execution_count": 7,
   "metadata": {
    "tags": []
   },
   "outputs": [
    {
     "output_type": "stream",
     "name": "stderr",
     "text": [
      "/Users/grantdb/hyperon-xpt-master/xpt/i_o.py:101: UserWarning: sample sizes differ for different entries: 5000 5001\n  gv_data[ens] = gv.dataset.avg_data(gv_data[ens], bstrap=True)\n"
     ]
    }
   ],
   "source": [
    "input_output = i_o.InputOutput()\n",
    "data,ensembles = input_output.get_data(scheme='w0_imp')\n",
    "\n",
    "#for j,ens in enumerate(ensembles):\n",
    "    #print(ens, data['m_xi'][j])"
   ]
  },
  {
   "cell_type": "code",
   "execution_count": 8,
   "metadata": {},
   "outputs": [],
   "source": [
    "prior = {}\n",
    "\n",
    "# not-even leading order \n",
    "prior['m_{xi,0}'] = gv.gvar(1000, 1000) # MeV\n",
    "prior['m_{xi_st,0}'] = gv.gvar(1100, 1000) # MeV\n",
    "\n",
    "# lo\n",
    "prior['s_{xi}'] = gv.gvar(0, 5)\n",
    "prior['s_{xi,bar}'] = gv.gvar(0, 5)\n",
    "\n",
    "# nlo\n",
    "prior['g_{xi,xi}'] = gv.gvar(0.25, 0.25)\n",
    "prior['g_{xi_st,xi}'] = gv.gvar(0.25, 0.25)\n",
    "prior['g_{xi_st,xi_st}'] = gv.gvar(0, 3)\n",
    "\n",
    "# n2lo\n",
    "prior['b_{xi,4}'] = gv.gvar(0, 5)\n",
    "prior['b_{xi_st,4}'] = gv.gvar(0, 5)\n",
    "prior['a_{xi,4}'] = gv.gvar(0, 5)\n",
    "prior['a_{xi_st,4}'] = gv.gvar(0, 5)\n",
    "# note: no lo terms for taylor \n",
    "\n",
    "# latt/strange nlo\n",
    "prior['d_{xi,a}'] = gv.gvar(0, 1)\n",
    "prior['d_{xi_st,a}'] = gv.gvar(0, 1) \n",
    "prior['d_{xi,s}'] = gv.gvar(0, 3)\n",
    "prior['d_{xi_st,s}'] = gv.gvar(0, 3) \n",
    "\n",
    "# latt n2lo\n",
    "prior['d_{xi,aa}'] = gv.gvar(0, 3)\n",
    "prior['d_{xi,al}'] = gv.gvar(0, 6)\n",
    "prior['d_{xi,as}'] = gv.gvar(0, 3)\n",
    "prior['d_{xi,ls}'] = gv.gvar(0, 3)\n",
    "prior['d_{xi,ss}'] = gv.gvar(0, 3)\n",
    "\n",
    "prior['d_{xi_st,aa}'] = gv.gvar(0, 3)\n",
    "prior['d_{xi_st,al}'] = gv.gvar(0, 3) \n",
    "prior['d_{xi_st,as}'] = gv.gvar(0, 3)\n",
    "prior['d_{xi_st,ls}'] = gv.gvar(0, 3) \n",
    "prior['d_{xi_st,ss}'] = gv.gvar(0, 3)"
   ]
  },
  {
   "cell_type": "code",
   "execution_count": 9,
   "metadata": {},
   "outputs": [],
   "source": [
    "model_info = {}\n",
    "model_info['particles'] = ['xi', 'xi_st']\n",
    "#model_info['name'] = 'test'\n",
    "model_info['order_chiral']  = 'n2lo'\n",
    "model_info['order_disc'] = 'n2lo'\n",
    "model_info['order_strange'] = 'n2lo'\n",
    "model_info['include_log'] = True\n",
    "model_info['xpt'] = True"
   ]
  },
  {
   "cell_type": "code",
   "execution_count": 10,
   "metadata": {},
   "outputs": [],
   "source": [
    "def _make_prior(data,prior):\n",
    "    \n",
    "    new_prior = {}\n",
    "    for key in prior:\n",
    "        new_prior[key] = prior[key]\n",
    "    for key in ['m_pi', 'm_k', 'lam_chi', 'a/w', 'm_delta']:\n",
    "        new_prior[key] = data[key]\n",
    "    return new_prior"
   ]
  },
  {
   "cell_type": "code",
   "execution_count": 11,
   "metadata": {},
   "outputs": [],
   "source": [
    "\n",
    "data,ensembles = input_output.get_data(scheme='w0_imp')\n",
    "#model_info = model_info\n",
    "prior = _make_prior(data,prior)\n",
    "phys_point_data = input_output.get_phys_point_data"
   ]
  },
  {
   "cell_type": "code",
   "execution_count": 12,
   "metadata": {},
   "outputs": [],
   "source": [
    "#run this until it works... \n",
    "fit_test = fit.fit_routine(prior=prior, data=data, model_info=model_info)"
   ]
  },
  {
   "cell_type": "code",
   "execution_count": 13,
   "metadata": {},
   "outputs": [
    {
     "output_type": "stream",
     "name": "stdout",
     "text": [
      "Least Square Fit:\n  chi2/dof [dof] = 0.58 [30]    Q = 0.97    logGBF = -149.97\n\nParameters:\n       m_{xi,0}        1313 (24)       [  1000 (1000) ]  \n    m_{xi_st,0}        1523 (30)       [  1100 (1000) ]  \n         s_{xi}        0.75 (40)       [    0.0 (5.0) ]  \n     s_{xi,bar}     -0.05 (5.00)       [    0.0 (5.0) ]  \n      g_{xi,xi}        0.31 (25)       [    0.25 (25) ]  \n   g_{xi_st,xi}        0.19 (25)       [    0.25 (25) ]  \ng_{xi_st,xi_st}   -0.006 (2.992)       [    0.0 (3.0) ]  \n       b_{xi,4}      0.0060 (80)       [    0.0 (5.0) ]  \n    b_{xi_st,4}     -0.0021 (54)       [    0.0 (5.0) ]  \n       a_{xi,4}        1.3 (3.5)       [    0.0 (5.0) ]  \n    a_{xi_st,4}       -6.4 (3.9)       [    0.0 (5.0) ]  *\n       d_{xi,a}       -0.50 (23)       [    0.0 (1.0) ]  \n    d_{xi_st,a}        0.16 (28)       [    0.0 (1.0) ]  \n       d_{xi,s}      0.01 (3.00)       [    0.0 (3.0) ]  \n    d_{xi_st,s}      0.08 (3.00)       [    0.0 (3.0) ]  \n      d_{xi,aa}        1.14 (83)       [    0.0 (3.0) ]  \n      d_{xi,al}       -3.1 (1.1)       [    0.0 (6.0) ]  \n      d_{xi,as}    0.008 (3.000)       [    0.0 (3.0) ]  \n      d_{xi,ls}      -2e-05 +- 3       [    0.0 (3.0) ]  \n      d_{xi,ss}      0.02 (3.00)       [    0.0 (3.0) ]  \n   d_{xi_st,aa}       -0.87 (99)       [    0.0 (3.0) ]  \n   d_{xi_st,al}       -3.6 (1.2)       [    0.0 (3.0) ]  *\n   d_{xi_st,as}    0.003 (3.000)       [    0.0 (3.0) ]  \n   d_{xi_st,ls}       4e-05 +- 3       [    0.0 (3.0) ]  \n   d_{xi_st,ss}      0.01 (3.00)       [    0.0 (3.0) ]  \n         m_pi 0      135.42 (83)       [  134.4 (1.1) ]  \n              1      221.3 (1.1)       [  221.3 (1.8) ]  \n              2      315.2 (1.4)       [  318.1 (2.6) ]  *\n              3      354.4 (1.6)       [  356.8 (2.9) ]  \n              4      409.4 (2.4)       [  409.5 (3.3) ]  \n              5      132.65 (70)       [  132.9 (1.0) ]  \n              6      219.25 (90)       [  219.2 (1.6) ]  \n              7      308.7 (1.3)       [  308.6 (2.3) ]  \n              8      350.5 (1.4)       [  349.9 (2.6) ]  \n              9      400.0 (1.9)       [  398.2 (2.9) ]  \n             10      134.33 (73)       [  134.96 (90) ]  \n             11      218.08 (96)       [  216.8 (1.5) ]  \n             12      308.2 (1.3)       [  309.5 (2.1) ]  \n             13      347.8 (1.6)       [  347.1 (2.3) ]  \n             14      396.9 (2.2)       [  397.0 (2.7) ]  \n          m_k 0      497.6 (3.0)       [  493.9 (4.0) ]  \n              1      516.9 (2.6)       [  517.0 (4.2) ]  \n              2      540.0 (2.4)       [  544.9 (4.4) ]  *\n              3      554.4 (2.5)       [  558.2 (4.5) ]  \n              4      576.8 (3.4)       [  576.9 (4.6) ]  \n              5      493.1 (2.4)       [  494.1 (3.6) ]  \n              6      507.5 (2.0)       [  507.3 (3.7) ]  \n              7      530.2 (2.2)       [  530.1 (3.9) ]  \n              8      545.6 (2.1)       [  544.7 (4.0) ]  \n              9      564.2 (2.7)       [  561.6 (4.1) ]  \n             10      505.8 (2.7)       [  508.1 (3.4) ]  \n             11      510.4 (2.2)       [  507.3 (3.4) ]  \n             12      528.2 (2.1)       [  530.5 (3.5) ]  \n             13      543.5 (2.4)       [  542.4 (3.6) ]  \n             14      559.9 (3.1)       [  560.2 (3.7) ]  \n      lam_chi 0     1167.1 (7.5)       [ 1158.4 (9.7) ]  \n              1     1217.0 (6.5)       [    1217 (10) ]  \n              2     1281.4 (5.9)       [    1293 (11) ]  *\n              3     1315.5 (6.3)       [    1325 (11) ]  \n              4     1373.5 (8.4)       [    1374 (11) ]  \n              5     1169.1 (6.1)       [ 1171.6 (8.8) ]  \n              6     1209.1 (5.5)       [ 1208.7 (9.2) ]  \n              7     1261.8 (5.5)       [ 1261.5 (9.5) ]  \n              8     1296.7 (5.8)       [ 1294.5 (9.9) ]  \n              9     1341.6 (6.7)       [    1336 (10) ]  \n             10     1169.4 (6.6)       [ 1174.9 (8.0) ]  \n             11     1206.2 (5.3)       [ 1199.0 (8.1) ]  \n             12     1235.5 (5.0)       [ 1240.7 (8.4) ]  \n             13     1269.7 (5.8)       [ 1267.0 (8.6) ]  \n             14     1307.4 (7.4)       [ 1307.9 (8.9) ]  \n          a/w 0     0.51050 (30)       [ 0.51050 (30) ]  \n              1     0.51050 (30)       [ 0.51050 (30) ]  \n              2     0.51050 (30)       [ 0.51050 (30) ]  \n              3     0.51050 (30)       [ 0.51050 (30) ]  \n              4     0.51050 (30)       [ 0.51050 (30) ]  \n              5     0.70360 (50)       [ 0.70360 (50) ]  \n              6     0.70361 (50)       [ 0.70360 (50) ]  \n              7     0.70360 (50)       [ 0.70360 (50) ]  \n              8     0.70360 (50)       [ 0.70360 (50) ]  \n              9     0.70360 (50)       [ 0.70360 (50) ]  \n             10     0.88040 (30)       [ 0.88040 (30) ]  \n             11     0.88040 (30)       [ 0.88040 (30) ]  \n             12     0.88040 (30)       [ 0.88040 (30) ]  \n             13     0.88040 (30)       [ 0.88040 (30) ]  \n             14     0.88040 (30)       [ 0.88040 (30) ]  \n      m_delta 0        1391 (15)       [    1382 (17) ]  \n              1        1346 (62)       [    1346 (66) ]  \n              2        1473 (63)       [    1464 (69) ]  \n              3        1489 (16)       [    1497 (19) ]  \n              4        1554 (11)       [    1556 (14) ]  \n              5        1368 (20)       [    1370 (21) ]  \n              6     1399.2 (6.6)       [    1402 (11) ]  \n              7        1451 (24)       [    1441 (30) ]  \n              8        1462 (20)       [    1459 (23) ]  \n              9        1506 (11)       [    1498 (15) ]  \n             10        1444 (18)       [    1450 (19) ]  \n             11        1412 (12)       [    1404 (14) ]  \n             12     1432.9 (6.0)       [ 1439.2 (9.9) ]  \n             13        1422 (30)       [    1414 (34) ]  \n             14        1488 (12)       [    1488 (13) ]  \n\nSettings:\n  svdcut/n = 1e-12/0    tol = (1e-08,1e-10,1e-10)    (itns/time = 1000*/7.0)\n  fitter = scipy_least_squares    method = trf\n\n"
     ]
    }
   ],
   "source": [
    "print(fit_test.fit)"
   ]
  },
  {
   "cell_type": "code",
   "execution_count": 14,
   "metadata": {},
   "outputs": [
    {
     "output_type": "error",
     "ename": "NameError",
     "evalue": "name 'fa' is not defined",
     "traceback": [
      "\u001b[0;31m---------------------------------------------------------------------------\u001b[0m",
      "\u001b[0;31mNameError\u001b[0m                                 Traceback (most recent call last)",
      "\u001b[0;32m<ipython-input-14-1dde22a469be>\u001b[0m in \u001b[0;36m<module>\u001b[0;34m\u001b[0m\n\u001b[0;32m----> 1\u001b[0;31m fit_analysis = fa.fit_analysis(\n\u001b[0m\u001b[1;32m      2\u001b[0m     \u001b[0mphys_point_data\u001b[0m\u001b[0;34m=\u001b[0m\u001b[0mphys_point_data\u001b[0m\u001b[0;34m,\u001b[0m\u001b[0;34m\u001b[0m\u001b[0;34m\u001b[0m\u001b[0m\n\u001b[1;32m      3\u001b[0m     \u001b[0mdata\u001b[0m\u001b[0;34m=\u001b[0m\u001b[0mdata\u001b[0m\u001b[0;34m,\u001b[0m\u001b[0;34m\u001b[0m\u001b[0;34m\u001b[0m\u001b[0m\n\u001b[1;32m      4\u001b[0m     \u001b[0mmodel_info\u001b[0m\u001b[0;34m=\u001b[0m\u001b[0mmodel_info\u001b[0m\u001b[0;34m,\u001b[0m\u001b[0;34m\u001b[0m\u001b[0;34m\u001b[0m\u001b[0m\n\u001b[1;32m      5\u001b[0m     prior=prior)\n",
      "\u001b[0;31mNameError\u001b[0m: name 'fa' is not defined"
     ]
    }
   ],
   "source": [
    "fit_analysis = fa.fit_analysis(\n",
    "    phys_point_data=phys_point_data, \n",
    "    data=data, \n",
    "    model_info=model_info,\n",
    "    prior=prior)"
   ]
  },
  {
   "cell_type": "code",
   "execution_count": 114,
   "metadata": {},
   "outputs": [
    {
     "output_type": "stream",
     "name": "stdout",
     "text": [
      "<fit_analysis.fit_analysis object at 0x7fc0fee52320>\n"
     ]
    }
   ],
   "source": [
    "print(fit_analysis)"
   ]
  },
  {
   "cell_type": "code",
   "execution_count": null,
   "metadata": {},
   "outputs": [],
   "source": []
  }
 ],
 "metadata": {
  "language_info": {
   "codemirror_mode": {
    "name": "ipython",
    "version": 3
   },
   "file_extension": ".py",
   "mimetype": "text/x-python",
   "name": "python",
   "nbconvert_exporter": "python",
   "pygments_lexer": "ipython3",
   "version": "3.7.1-final"
  },
  "orig_nbformat": 2,
  "kernelspec": {
   "name": "python3",
   "display_name": "Python 3",
   "language": "python"
  }
 },
 "nbformat": 4,
 "nbformat_minor": 2
}
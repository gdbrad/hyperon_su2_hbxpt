{
 "cells": [
  {
   "cell_type": "code",
   "execution_count": 1,
   "metadata": {
    "tags": []
   },
   "outputs": [],
   "source": [
    "import numpy as np\n",
    "import gvar as gv\n",
    "import sys\n",
    "sys.path.append('../')\n",
    "from h5glance import H5Glance \n",
    "import os\n",
    "import lsqfit\n",
    "import io\n",
    "import yaml\n",
    "import warnings  \n",
    "warnings.simplefilter(action=\"default\")\n",
    "warnings.filterwarnings('ignore') "
   ]
  },
  {
   "cell_type": "code",
   "execution_count": 2,
   "metadata": {},
   "outputs": [],
   "source": [
    "os.chdir('../../hyperon-xpt-master/xpt')"
   ]
  },
  {
   "cell_type": "code",
   "execution_count": 3,
   "metadata": {},
   "outputs": [],
   "source": [
    "import fit_analysis as fa \n",
    "import fit_routine as fit\n",
    "import i_o\n",
    "import priors"
   ]
  },
  {
   "cell_type": "code",
   "execution_count": 4,
   "metadata": {},
   "outputs": [],
   "source": [
    "import tests\n",
    "import importlib\n",
    "importlib.reload(tests)\n",
    "importlib.reload(fit)\n",
    "verbose_fitfcn = tests.VerboseFitfcn(force_gvars=True)\n",
    "#print(verbose_fitfcn)"
   ]
  },
  {
   "cell_type": "code",
   "execution_count": 5,
   "metadata": {
    "tags": []
   },
   "outputs": [
    {
     "output_type": "execute_result",
     "data": {
      "text/plain": [
       "<module 'fit_routine' from '/home/gmoney/lqcd/hyperon-xpt-master/xpt/fit_routine.py'>"
      ]
     },
     "metadata": {},
     "execution_count": 5
    }
   ],
   "source": [
    "from importlib import reload\n",
    "reload(i_o)\n",
    "reload(fa)\n",
    "reload(fit)"
   ]
  },
  {
   "cell_type": "code",
   "execution_count": 6,
   "metadata": {
    "tags": []
   },
   "outputs": [],
   "source": [
    "from priors import prior\n",
    "prior = prior\n",
    "#print(prior)"
   ]
  },
  {
   "cell_type": "code",
   "execution_count": 7,
   "metadata": {},
   "outputs": [],
   "source": [
    "f = open('models.yaml', 'r')\n",
    "models = yaml.load(f,Loader=yaml.FullLoader)\n",
    "    #print(keys)\n",
    "model_info = {}\n",
    "for item in models.values():\n",
    "        model_info = item['proton:s_n2lo:d_n4lo:x_n2lo:l_n4lo:lc_f']\n",
    "        model_info_sigma = item['proton:s_n2lo:d_n4lo:x_n2lo:l_n4lo:lc_f:sigma_t']\n",
    "        model_info_div_lam = item['proton:s_n2lo:d_n4lo:x_n2lo:l_n4lo:lc_t']\n",
    "#print(model_info)"
   ]
  },
  {
   "cell_type": "code",
   "execution_count": 8,
   "metadata": {},
   "outputs": [],
   "source": [
    "input_output = i_o.InputOutput()\n",
    "data,ensembles = input_output.get_data(scheme='w0_imp',units='Fpi',div_lam_chi=False)\n",
    "data_div, ensembles = input_output.get_data(scheme='w0_imp',units='Fpi', div_lam_chi=True)\n",
    "prior = input_output.make_prior(data,prior)\n",
    "phys_point_data = input_output.get_data_phys_point()"
   ]
  },
  {
   "cell_type": "code",
   "execution_count": 9,
   "metadata": {},
   "outputs": [
    {
     "output_type": "stream",
     "name": "stdout",
     "text": [
      "Least Square Fit:\n  chi2/dof [dof] = 7.8 [17]    Q = 4.7e-20    logGBF = -129.59\n\nParameters:\n     m_{proton,0}     890.3 (5.0)      [     930 (400) ]  \n     b_{proton,2}      4e-15 +- 5      [     0.0 (5.0) ]  \n     b_{proton,4}     -8e-16 +- 5      [     0.0 (5.0) ]  \n     b_{proton,6}   0.004 (5.000)      [     0.0 (5.0) ]  \n     d_{proton,a}      5e-16 +- 5      [     0.0 (5.0) ]  \n    d_{proton,aa}      4e-15 +- 5      [     0.0 (5.0) ]  \n    d_{proton,al}     -3e-15 +- 5      [     0.0 (5.0) ]  \n   d_{proton,all}    -0.02 (5.00)      [     0.0 (5.0) ]  \n   d_{proton,aal}      -0.3 (5.0)      [     0.0 (5.0) ]  \n     d_{proton,s}    -0.09 (5.00)      [     0.0 (5.0) ]  \n    d_{proton,as}       0.2 (5.0)      [     0.0 (5.0) ]  \n    d_{proton,ls}    -0.03 (5.00)      [     0.0 (5.0) ]  \n    d_{proton,ss}     0.04 (5.00)      [     0.0 (5.0) ]  \ng_{proton,proton}       0.8 (5.0)      [     1.3 (5.0) ]  \n g_{proton,delta}      14.4 (3.1)      [     0.9 (5.0) ]  **\n      m_{delta,0}      3828 (773)      [   1232 (1000) ]  **\n     a_{proton,4}     -6e-15 +- 5      [     0.0 (5.0) ]  \n     g_{proton,4}       0.1 (5.0)      [     0.0 (5.0) ]  \n            m_k 0     543.9 (1.0)      [   561.9 (5.0) ]  ***\n                1     485.4 (1.7)      [   493.9 (4.0) ]  **\n                2     525.9 (1.2)      [   516.9 (4.1) ]  **\n                3     533.1 (1.0)      [   544.9 (4.4) ]  **\n                4     540.1 (1.2)      [   558.2 (4.5) ]  ****\n                5     552.6 (1.5)      [   576.9 (4.6) ]  *****\n                6     495.9 (1.8)      [   494.1 (3.6) ]  \n                7     510.3 (1.1)      [   507.3 (3.7) ]  \n                8     534.3 (1.0)      [   530.1 (3.9) ]  *\n                9     542.7 (1.2)      [   544.7 (4.0) ]  \n               10     556.5 (1.5)      [   561.6 (4.1) ]  *\n               11     502.1 (1.8)      [   508.1 (3.4) ]  *\n               12     512.9 (1.1)      [   507.3 (3.4) ]  *\n               13     538.2 (1.1)      [   530.4 (3.5) ]  **\n               14     542.2 (1.0)      [   529.8 (3.5) ]  ***\n               15     557.2 (1.2)      [   542.4 (3.6) ]  ****\n               16     565.3 (1.5)      [   560.2 (3.7) ]  *\n           m_pi 0     317.40 (60)      [   327.9 (2.9) ]  ***\n                1     132.10 (47)      [   134.4 (1.1) ]  **\n                2     225.14 (50)      [   221.3 (1.8) ]  **\n                3     311.19 (60)      [   318.1 (2.6) ]  **\n                4     345.26 (76)      [   356.8 (2.9) ]  ****\n                5     392.2 (1.0)      [   409.5 (3.3) ]  *****\n                6     133.36 (49)      [   132.89 (97) ]  \n                7     220.48 (47)      [   219.2 (1.6) ]  \n                8     311.05 (59)      [   308.6 (2.3) ]  *\n                9     348.64 (76)      [   349.9 (2.6) ]  \n               10     394.6 (1.0)      [   398.2 (2.9) ]  *\n               11     133.36 (48)      [   134.95 (90) ]  *\n               12     219.16 (47)      [   216.8 (1.4) ]  *\n               13     313.98 (62)      [   309.4 (2.1) ]  **\n               14     314.13 (59)      [   306.9 (2.0) ]  ***\n               15     356.56 (79)      [   347.1 (2.3) ]  ****\n               16     400.7 (1.1)      [   397.0 (2.6) ]  *\n        lam_chi 0    1280.8 (2.4)      [     1323 (12) ]  ***\n                1    1138.7 (4.0)      [  1158.5 (9.3) ]  **\n                2    1238.1 (2.7)      [  1216.9 (9.8) ]  **\n                3    1265.1 (2.4)      [     1293 (10) ]  **\n                4    1281.7 (2.8)      [     1325 (11) ]  ****\n                5    1315.9 (3.5)      [     1374 (11) ]  *****\n                6    1175.7 (4.4)      [  1171.6 (8.5) ]  \n                7    1215.7 (2.6)      [  1208.5 (8.8) ]  \n                8    1271.6 (2.4)      [  1261.5 (9.2) ]  *\n                9    1289.8 (2.8)      [  1294.5 (9.4) ]  \n               10    1323.4 (3.5)      [  1335.5 (9.7) ]  *\n               11    1161.0 (4.2)      [  1174.9 (7.8) ]  *\n               12    1212.2 (2.6)      [  1199.0 (8.0) ]  *\n               13    1258.7 (2.5)      [  1240.5 (8.2) ]  **\n               14    1280.5 (2.4)      [  1251.3 (8.3) ]  ***\n               15    1301.5 (2.9)      [  1267.0 (8.4) ]  ****\n               16    1319.9 (3.6)      [  1307.8 (8.7) ]  *\n         eps2_a 0   0.029618 (41)      [ 0.029618 (41) ]  \n                1   0.065325 (70)      [ 0.065325 (70) ]  \n                2   0.066506 (83)      [ 0.066506 (83) ]  \n                3    0.06877 (16)      [  0.06877 (16) ]  \n                4    0.06998 (19)      [  0.06998 (19) ]  \n                5    0.07160 (20)      [  0.07160 (20) ]  \n                6   0.123786 (95)      [ 0.123786 (95) ]  \n                7    0.12594 (12)      [  0.12594 (12) ]  \n                8    0.13008 (23)      [  0.13008 (23) ]  \n                9    0.13214 (20)      [  0.13214 (20) ]  \n               10    0.13446 (16)      [  0.13446 (16) ]  \n               11    0.19514 (12)      [  0.19514 (12) ]  \n               12    0.19737 (28)      [  0.19737 (28) ]  \n               13    0.20368 (32)      [  0.20368 (32) ]  \n               14    0.20416 (25)      [  0.20416 (25) ]  \n               15    0.20706 (48)      [  0.20706 (48) ]  \n               16    0.21168 (56)      [  0.21168 (56) ]  \n\nSettings:\n  svdcut/n = 1e-12/0    tol = (1e-08*,1e-10,1e-10)    (itns/time = 325/0.6)\n\n"
     ]
    }
   ],
   "source": [
    "fit_div_lam = fit.fit_routine(prior=prior, data=data, model_info=model_info_div_lam)\n",
    "fit_div_lam_out = fit_div_lam.fit\n",
    "print(fit_div_lam_out)\n"
   ]
  },
  {
   "cell_type": "code",
   "execution_count": 10,
   "metadata": {},
   "outputs": [
    {
     "output_type": "stream",
     "name": "stdout",
     "text": [
      "Least Square Fit:\n  chi2/dof [dof] = 1.2 [17]    Q = 0.25    logGBF = -86.088\n\nParameters:\n     m_{proton,0}        913 (12)      [     930 (400) ]  \n     b_{proton,2}     -3e-17 +- 5      [     0.0 (5.0) ]  \n     b_{proton,4}     -2e-15 +- 5      [     0.0 (5.0) ]  \n     b_{proton,6}     -3e-16 +- 5      [     0.0 (5.0) ]  \n     d_{proton,a}     -2e-15 +- 5      [     0.0 (5.0) ]  \n    d_{proton,aa}      2e-16 +- 5      [     0.0 (5.0) ]  \n    d_{proton,al}     -3e-16 +- 5      [     0.0 (5.0) ]  \n   d_{proton,all}      7e-17 +- 5      [     0.0 (5.0) ]  \n   d_{proton,aal}     -4e-15 +- 5      [     0.0 (5.0) ]  \n     d_{proton,s}      -0.94 (65)      [     0.0 (5.0) ]  \n    d_{proton,as}       9.5 (2.6)      [     0.0 (5.0) ]  *\n    d_{proton,ls}      -1.2 (4.9)      [     0.0 (5.0) ]  \n    d_{proton,ss}       2.1 (4.4)      [     0.0 (5.0) ]  \ng_{proton,proton}     0.07 (4.90)      [     1.3 (5.0) ]  \n g_{proton,delta}       1.01 (50)      [     0.9 (5.0) ]  \n      m_{delta,0}      1563 (236)      [   1232 (1000) ]  \n     a_{proton,4}      4e-16 +- 5      [     0.0 (5.0) ]  \n     g_{proton,4}       1.7 (1.9)      [     0.0 (5.0) ]  \n            m_k 0     558.3 (2.9)      [   561.9 (5.0) ]  \n                1     488.0 (2.0)      [   493.9 (4.0) ]  *\n                2     527.2 (2.0)      [   516.9 (4.1) ]  **\n                3     542.6 (2.1)      [   544.9 (4.4) ]  \n                4     554.4 (2.1)      [   558.2 (4.5) ]  \n                5     573.9 (2.9)      [   576.9 (4.6) ]  \n                6     497.7 (2.8)      [   494.1 (3.6) ]  \n                7     506.8 (1.9)      [   507.3 (3.7) ]  \n                8     533.2 (1.5)      [   530.1 (3.9) ]  \n                9     545.2 (1.5)      [   544.7 (4.0) ]  \n               10     563.8 (2.4)      [   561.6 (4.1) ]  \n               11     508.5 (3.0)      [   508.1 (3.4) ]  \n               12     502.9 (1.7)      [   507.3 (3.4) ]  *\n               13     528.2 (2.2)      [   530.4 (3.5) ]  \n               14     529.0 (2.0)      [   529.8 (3.5) ]  \n               15     547.4 (2.0)      [   542.4 (3.6) ]  *\n               16     559.7 (2.8)      [   560.2 (3.7) ]  \n           m_pi 0     325.8 (1.7)      [   327.9 (2.9) ]  \n                1     132.78 (55)      [   134.4 (1.1) ]  *\n                2     225.68 (86)      [   221.3 (1.8) ]  **\n                3     316.7 (1.2)      [   318.1 (2.6) ]  \n                4     354.4 (1.3)      [   356.8 (2.9) ]  \n                5     407.3 (2.1)      [   409.5 (3.3) ]  \n                6     133.84 (74)      [   132.89 (97) ]  \n                7     218.94 (84)      [   219.2 (1.6) ]  \n                8     310.38 (90)      [   308.6 (2.3) ]  \n                9     350.23 (97)      [   349.9 (2.6) ]  \n               10     399.7 (1.7)      [   398.2 (2.9) ]  \n               11     135.05 (79)      [   134.95 (90) ]  \n               12     214.92 (74)      [   216.8 (1.4) ]  *\n               13     308.1 (1.3)      [   309.4 (2.1) ]  \n               14     306.5 (1.1)      [   306.9 (2.0) ]  \n               15     350.3 (1.3)      [   347.1 (2.3) ]  *\n               16     396.7 (2.0)      [   397.0 (2.6) ]  \n        lam_chi 0    1314.5 (6.9)      [     1323 (12) ]  \n                1    1144.6 (4.7)      [  1158.5 (9.3) ]  *\n                2    1241.1 (4.7)      [  1216.9 (9.8) ]  **\n                3    1287.6 (4.9)      [     1293 (10) ]  \n                4    1315.5 (4.9)      [     1325 (11) ]  \n                5    1366.6 (7.0)      [     1374 (11) ]  \n                6    1180.0 (6.6)      [  1171.6 (8.5) ]  \n                7    1207.3 (4.6)      [  1208.5 (8.8) ]  \n                8    1268.8 (3.7)      [  1261.5 (9.2) ]  \n                9    1295.7 (3.6)      [  1294.5 (9.4) ]  \n               10    1340.6 (5.8)      [  1335.5 (9.7) ]  \n               11    1175.7 (6.9)      [  1174.9 (7.8) ]  \n               12    1188.7 (4.1)      [  1199.0 (8.0) ]  *\n               13    1235.3 (5.2)      [  1240.5 (8.2) ]  \n               14    1249.4 (4.6)      [  1251.3 (8.3) ]  \n               15    1278.8 (4.6)      [  1267.0 (8.4) ]  *\n               16    1306.7 (6.5)      [  1307.8 (8.7) ]  \n         eps2_a 0   0.029618 (41)      [ 0.029618 (41) ]  \n                1   0.065325 (70)      [ 0.065325 (70) ]  \n                2   0.066506 (83)      [ 0.066506 (83) ]  \n                3    0.06877 (16)      [  0.06877 (16) ]  \n                4    0.06998 (19)      [  0.06998 (19) ]  \n                5    0.07160 (20)      [  0.07160 (20) ]  \n                6   0.123786 (95)      [ 0.123786 (95) ]  \n                7    0.12594 (12)      [  0.12594 (12) ]  \n                8    0.13009 (23)      [  0.13008 (23) ]  \n                9    0.13214 (20)      [  0.13214 (20) ]  \n               10    0.13446 (16)      [  0.13446 (16) ]  \n               11    0.19514 (12)      [  0.19514 (12) ]  \n               12    0.19737 (28)      [  0.19737 (28) ]  \n               13    0.20367 (32)      [  0.20368 (32) ]  \n               14    0.20416 (25)      [  0.20416 (25) ]  \n               15    0.20708 (48)      [  0.20706 (48) ]  \n               16    0.21168 (56)      [  0.21168 (56) ]  \n\nSettings:\n  svdcut/n = 1e-12/0    tol = (1e-08,1e-10,1e-10)    (itns/time = 1000*/2.1)\n\n"
     ]
    }
   ],
   "source": [
    "fit_sigma = fit.fit_routine(prior=prior, data=data, model_info=model_info_sigma)\n",
    "fit_sigma_out = fit_sigma.fit\n",
    "print(fit_sigma_out)"
   ]
  },
  {
   "cell_type": "code",
   "execution_count": 11,
   "metadata": {},
   "outputs": [
    {
     "output_type": "stream",
     "name": "stdout",
     "text": [
      "Least Square Fit:\n  chi2/dof [dof] = 2.1 [17]    Q = 0.0057    logGBF = -85.539\n\nParameters:\n     m_{proton,0}     931.2 (5.6)      [     930 (400) ]  \n     b_{proton,2}     -1e-15 +- 5      [     0.0 (5.0) ]  \n     b_{proton,4}     -3e-16 +- 5      [     0.0 (5.0) ]  \n     b_{proton,6}      -1.2 (5.0)      [     0.0 (5.0) ]  \n     d_{proton,a}     -1e-16 +- 5      [     0.0 (5.0) ]  \n    d_{proton,aa}      5e-16 +- 5      [     0.0 (5.0) ]  \n    d_{proton,al}     -2e-16 +- 5      [     0.0 (5.0) ]  \n   d_{proton,all}      -1.0 (4.9)      [     0.0 (5.0) ]  \n   d_{proton,aal}       1.91 (78)      [     0.0 (5.0) ]  \n     d_{proton,s}      -2.27 (43)      [     0.0 (5.0) ]  \n    d_{proton,as}       8.6 (1.5)      [     0.0 (5.0) ]  *\n    d_{proton,ls}       1.9 (4.5)      [     0.0 (5.0) ]  \n    d_{proton,ss}      -4.1 (3.7)      [     0.0 (5.0) ]  \ng_{proton,proton}   0.007 (4.995)      [     1.3 (5.0) ]  \n g_{proton,delta}   0.007 (4.996)      [     0.9 (5.0) ]  \n      m_{delta,0}        931 (89)      [   1232 (1000) ]  \n     a_{proton,4}      1e-16 +- 5      [     0.0 (5.0) ]  \n     g_{proton,4}      -7.4 (3.9)      [     0.0 (5.0) ]  *\n            m_k 0     558.7 (3.0)      [   561.9 (5.0) ]  \n                1     484.6 (2.7)      [   493.9 (4.0) ]  **\n                2     525.0 (2.0)      [   516.9 (4.1) ]  *\n                3     539.6 (1.9)      [   544.9 (4.4) ]  *\n                4     552.4 (2.1)      [   558.2 (4.5) ]  *\n                5     580.8 (3.3)      [   576.9 (4.6) ]  \n                6     503.2 (2.1)      [   494.1 (3.6) ]  **\n                7     507.9 (1.8)      [   507.3 (3.7) ]  \n                8     530.8 (1.7)      [   530.1 (3.9) ]  \n                9     542.0 (1.7)      [   544.7 (4.0) ]  \n               10     566.1 (2.6)      [   561.6 (4.1) ]  *\n               11     507.7 (3.0)      [   508.1 (3.4) ]  \n               12     507.6 (2.2)      [   507.3 (3.4) ]  \n               13     522.7 (1.8)      [   530.4 (3.5) ]  **\n               14     531.4 (2.0)      [   529.8 (3.5) ]  \n               15     547.3 (2.0)      [   542.4 (3.6) ]  *\n               16     558.6 (2.8)      [   560.2 (3.7) ]  \n           m_pi 0     326.0 (1.7)      [   327.9 (2.9) ]  \n                1     131.87 (73)      [   134.4 (1.1) ]  **\n                2     224.75 (86)      [   221.3 (1.8) ]  *\n                3     315.0 (1.1)      [   318.1 (2.6) ]  *\n                4     353.1 (1.3)      [   356.8 (2.9) ]  *\n                5     412.2 (2.3)      [   409.5 (3.3) ]  \n                6     135.34 (55)      [   132.89 (97) ]  **\n                7     219.40 (78)      [   219.2 (1.6) ]  \n                8     309.03 (96)      [   308.6 (2.3) ]  \n                9     348.2 (1.1)      [   349.9 (2.6) ]  \n               10     401.4 (1.9)      [   398.2 (2.9) ]  *\n               11     134.85 (80)      [   134.95 (90) ]  \n               12     216.90 (94)      [   216.8 (1.4) ]  \n               13     304.9 (1.1)      [   309.4 (2.1) ]  **\n               14     307.9 (1.2)      [   306.9 (2.0) ]  \n               15     350.2 (1.3)      [   347.1 (2.3) ]  *\n               16     395.9 (2.0)      [   397.0 (2.6) ]  \n        lam_chi 0    1315.7 (7.0)      [     1323 (12) ]  \n                1    1136.7 (6.3)      [  1158.5 (9.3) ]  **\n                2    1235.9 (4.7)      [  1216.9 (9.8) ]  *\n                3    1280.5 (4.5)      [     1293 (10) ]  *\n                4    1310.8 (4.9)      [     1325 (11) ]  *\n                5    1383.1 (7.8)      [     1374 (11) ]  \n                6    1193.1 (4.9)      [  1171.6 (8.5) ]  **\n                7    1209.8 (4.3)      [  1208.5 (8.8) ]  \n                8    1263.3 (3.9)      [  1261.5 (9.2) ]  \n                9    1288.1 (4.1)      [  1294.5 (9.4) ]  \n               10    1346.2 (6.2)      [  1335.5 (9.7) ]  *\n               11    1174.0 (7.0)      [  1174.9 (7.8) ]  \n               12    1199.7 (5.2)      [  1199.0 (8.0) ]  \n               13    1222.4 (4.3)      [  1240.5 (8.2) ]  **\n               14    1255.0 (4.8)      [  1251.3 (8.3) ]  \n               15    1278.5 (4.6)      [  1267.0 (8.4) ]  *\n               16    1304.3 (6.6)      [  1307.8 (8.7) ]  \n         eps2_a 0   0.029618 (41)      [ 0.029618 (41) ]  \n                1   0.065325 (70)      [ 0.065325 (70) ]  \n                2   0.066506 (83)      [ 0.066506 (83) ]  \n                3    0.06877 (16)      [  0.06877 (16) ]  \n                4    0.06998 (19)      [  0.06998 (19) ]  \n                5    0.07160 (20)      [  0.07160 (20) ]  \n                6   0.123785 (95)      [ 0.123786 (95) ]  \n                7    0.12594 (12)      [  0.12594 (12) ]  \n                8    0.13008 (23)      [  0.13008 (23) ]  \n                9    0.13214 (20)      [  0.13214 (20) ]  \n               10    0.13446 (16)      [  0.13446 (16) ]  \n               11    0.19514 (12)      [  0.19514 (12) ]  \n               12    0.19737 (28)      [  0.19737 (28) ]  \n               13    0.20367 (32)      [  0.20368 (32) ]  \n               14    0.20416 (25)      [  0.20416 (25) ]  \n               15    0.20707 (48)      [  0.20706 (48) ]  \n               16    0.21168 (56)      [  0.21168 (56) ]  \n\nSettings:\n  svdcut/n = 1e-12/0    tol = (1e-08*,1e-10,1e-10)    (itns/time = 296/0.6)\n\n"
     ]
    }
   ],
   "source": [
    " fit_test = fit.fit_routine(prior=prior, data=data, model_info=model_info)\n",
    " fit_out = fit_test.fit\n",
    " print(fit_out)"
   ]
  },
  {
   "cell_type": "code",
   "execution_count": 12,
   "metadata": {
    "tags": []
   },
   "outputs": [
    {
     "output_type": "stream",
     "name": "stdout",
     "text": [
      "{'proton': 938(11)}\n",
      "{'proton': 945.9(4.9)}\n"
     ]
    }
   ],
   "source": [
    "from importlib import reload\n",
    "reload(fa)\n",
    "fit_analysis = fa.fit_analysis(phys_point_data=phys_point_data, data=data,model_info=model_info, prior=prior)\n",
    "fit_analysis_sigma = fa.fit_analysis(phys_point_data=phys_point_data, data=data,model_info=model_info_sigma, prior=prior)\n",
    "extrap_mass = fit_analysis.extrapolated_mass\n",
    "extrap_mass_deriv = fit_analysis_sigma.extrapolated_mass\n",
    "m_proton = extrap_mass['proton']\n",
    "m_proton_deriv =  extrap_mass_deriv['proton']"
   ]
  },
  {
   "cell_type": "code",
   "execution_count": 13,
   "metadata": {},
   "outputs": [
    {
     "output_type": "stream",
     "name": "stdout",
     "text": [
      "sigma w/ gv.deriv: 40.36(18)\nsigma analytic: 48.58(30)\n"
     ]
    }
   ],
   "source": [
    "reload(io)\n",
    "m_pi = phys_point_data['m_pi']\n",
    "lam_chi = phys_point_data['lam_chi']\n",
    "e_pi = m_pi / lam_chi\n",
    "sigma = m_pi**2 *gv.deriv(m_proton, m_pi**2)\n",
    "l3 = gv.gvar('3.53(26)')\n",
    "l4 = gv.gvar('4.73(10)')\n",
    "sigma_analytic = e_pi/2 * (1 + e_pi**2*(5/2 - l3/2 - 2*l4 )) *m_proton_deriv\n",
    "print('sigma w/ gv.deriv:',sigma)\n",
    "print('sigma analytic:' ,sigma_analytic)\n"
   ]
  },
  {
   "cell_type": "code",
   "execution_count": 14,
   "metadata": {},
   "outputs": [
    {
     "output_type": "error",
     "ename": "KeyError",
     "evalue": "'m_{proton,0}'",
     "traceback": [
      "\u001b[0;31m---------------------------------------------------------------------------\u001b[0m",
      "\u001b[0;31mKeyError\u001b[0m                                  Traceback (most recent call last)",
      "\u001b[0;32m<ipython-input-14-71d91e32468a>\u001b[0m in \u001b[0;36m<module>\u001b[0;34m\u001b[0m\n\u001b[0;32m----> 1\u001b[0;31m \u001b[0mprint\u001b[0m\u001b[0;34m(\u001b[0m\u001b[0mfit_analysis\u001b[0m\u001b[0;34m.\u001b[0m\u001b[0merror_budget\u001b[0m\u001b[0;34m)\u001b[0m\u001b[0;34m\u001b[0m\u001b[0;34m\u001b[0m\u001b[0m\n\u001b[0m",
      "\u001b[0;32m~/lqcd/hyperon-xpt-master/xpt/fit_analysis.py\u001b[0m in \u001b[0;36merror_budget\u001b[0;34m(self)\u001b[0m\n\u001b[1;32m     74\u001b[0m \u001b[0;34m\u001b[0m\u001b[0m\n\u001b[1;32m     75\u001b[0m         \u001b[0moutput\u001b[0m \u001b[0;34m+=\u001b[0m \u001b[0;34m'\\n'\u001b[0m\u001b[0;34m\u001b[0m\u001b[0;34m\u001b[0m\u001b[0m\n\u001b[0;32m---> 76\u001b[0;31m         \u001b[0moutput\u001b[0m \u001b[0;34m+=\u001b[0m \u001b[0mstr\u001b[0m\u001b[0;34m(\u001b[0m\u001b[0mself\u001b[0m\u001b[0;34m.\u001b[0m\u001b[0m_get_error_budget\u001b[0m\u001b[0;34m(\u001b[0m\u001b[0mparticle\u001b[0m\u001b[0;34m=\u001b[0m\u001b[0;34m'proton'\u001b[0m\u001b[0;34m)\u001b[0m\u001b[0;34m)\u001b[0m\u001b[0;34m\u001b[0m\u001b[0;34m\u001b[0m\u001b[0m\n\u001b[0m\u001b[1;32m     77\u001b[0m         \u001b[0;32mreturn\u001b[0m \u001b[0moutput\u001b[0m\u001b[0;34m\u001b[0m\u001b[0;34m\u001b[0m\u001b[0m\n\u001b[1;32m     78\u001b[0m \u001b[0;34m\u001b[0m\u001b[0m\n",
      "\u001b[0;32m~/lqcd/hyperon-xpt-master/xpt/fit_analysis.py\u001b[0m in \u001b[0;36m_get_error_budget\u001b[0;34m(self, **kwargs)\u001b[0m\n\u001b[1;32m    128\u001b[0m \u001b[0;34m\u001b[0m\u001b[0m\n\u001b[1;32m    129\u001b[0m         \u001b[0mresult\u001b[0m \u001b[0;34m=\u001b[0m \u001b[0;34m{\u001b[0m\u001b[0;34m}\u001b[0m\u001b[0;34m\u001b[0m\u001b[0;34m\u001b[0m\u001b[0m\n\u001b[0;32m--> 130\u001b[0;31m         result['disc'] = mdls.fit.p.partialsdev(\n\u001b[0m\u001b[1;32m    131\u001b[0m             \u001b[0;34m[\u001b[0m\u001b[0mself\u001b[0m\u001b[0;34m.\u001b[0m\u001b[0mprior\u001b[0m\u001b[0;34m[\u001b[0m\u001b[0mkey\u001b[0m\u001b[0;34m]\u001b[0m \u001b[0;32mfor\u001b[0m \u001b[0mkey\u001b[0m \u001b[0;32min\u001b[0m \u001b[0mdisc_keys\u001b[0m \u001b[0;32mif\u001b[0m \u001b[0mkey\u001b[0m \u001b[0;32min\u001b[0m \u001b[0mself\u001b[0m\u001b[0;34m.\u001b[0m\u001b[0mprior\u001b[0m\u001b[0;34m]\u001b[0m\u001b[0;34m\u001b[0m\u001b[0;34m\u001b[0m\u001b[0m\n\u001b[1;32m    132\u001b[0m         )\n",
      "\u001b[0;32m~/lqcd/hyperon-xpt-master/xpt/fit_routine.py\u001b[0m in \u001b[0;36mfit\u001b[0;34m(self)\u001b[0m\n\u001b[1;32m     32\u001b[0m         \u001b[0;32mif\u001b[0m \u001b[0mself\u001b[0m\u001b[0;34m.\u001b[0m\u001b[0m_fit\u001b[0m \u001b[0;32mis\u001b[0m \u001b[0;32mNone\u001b[0m\u001b[0;34m:\u001b[0m\u001b[0;34m\u001b[0m\u001b[0;34m\u001b[0m\u001b[0m\n\u001b[1;32m     33\u001b[0m             \u001b[0mmodels\u001b[0m \u001b[0;34m=\u001b[0m \u001b[0mself\u001b[0m\u001b[0;34m.\u001b[0m\u001b[0m_make_models\u001b[0m\u001b[0;34m(\u001b[0m\u001b[0;34m)\u001b[0m\u001b[0;34m\u001b[0m\u001b[0;34m\u001b[0m\u001b[0m\n\u001b[0;32m---> 34\u001b[0;31m             \u001b[0mprior\u001b[0m \u001b[0;34m=\u001b[0m \u001b[0mself\u001b[0m\u001b[0;34m.\u001b[0m\u001b[0m_make_prior\u001b[0m\u001b[0;34m(\u001b[0m\u001b[0;34m)\u001b[0m\u001b[0;34m\u001b[0m\u001b[0;34m\u001b[0m\u001b[0m\n\u001b[0m\u001b[1;32m     35\u001b[0m             \u001b[0mdata\u001b[0m \u001b[0;34m=\u001b[0m \u001b[0mself\u001b[0m\u001b[0;34m.\u001b[0m\u001b[0my\u001b[0m\u001b[0;34m\u001b[0m\u001b[0;34m\u001b[0m\u001b[0m\n\u001b[1;32m     36\u001b[0m \u001b[0;34m\u001b[0m\u001b[0m\n",
      "\u001b[0;32m~/lqcd/hyperon-xpt-master/xpt/fit_routine.py\u001b[0m in \u001b[0;36m_make_prior\u001b[0;34m(self, data)\u001b[0m\n\u001b[1;32m    193\u001b[0m                     \u001b[0mkeys\u001b[0m\u001b[0;34m.\u001b[0m\u001b[0mextend\u001b[0m\u001b[0;34m(\u001b[0m\u001b[0mself\u001b[0m\u001b[0;34m.\u001b[0m\u001b[0m_get_prior_keys\u001b[0m\u001b[0;34m(\u001b[0m\u001b[0mparticle\u001b[0m\u001b[0;34m=\u001b[0m\u001b[0mp\u001b[0m\u001b[0;34m,\u001b[0m \u001b[0morder\u001b[0m\u001b[0;34m=\u001b[0m\u001b[0mo\u001b[0m\u001b[0;34m,\u001b[0m \u001b[0mlec_type\u001b[0m \u001b[0;34m=\u001b[0m \u001b[0ml\u001b[0m\u001b[0;34m)\u001b[0m\u001b[0;34m)\u001b[0m\u001b[0;34m\u001b[0m\u001b[0;34m\u001b[0m\u001b[0m\n\u001b[1;32m    194\u001b[0m         \u001b[0;32mfor\u001b[0m \u001b[0mkey\u001b[0m \u001b[0;32min\u001b[0m \u001b[0mkeys\u001b[0m\u001b[0;34m:\u001b[0m\u001b[0;34m\u001b[0m\u001b[0;34m\u001b[0m\u001b[0m\n\u001b[0;32m--> 195\u001b[0;31m             \u001b[0mnew_prior\u001b[0m\u001b[0;34m[\u001b[0m\u001b[0mkey\u001b[0m\u001b[0;34m]\u001b[0m \u001b[0;34m=\u001b[0m \u001b[0mprior\u001b[0m\u001b[0;34m[\u001b[0m\u001b[0mkey\u001b[0m\u001b[0;34m]\u001b[0m\u001b[0;34m\u001b[0m\u001b[0;34m\u001b[0m\u001b[0m\n\u001b[0m\u001b[1;32m    196\u001b[0m \u001b[0;34m\u001b[0m\u001b[0m\n\u001b[1;32m    197\u001b[0m         \u001b[0;32mif\u001b[0m \u001b[0mself\u001b[0m\u001b[0;34m.\u001b[0m\u001b[0mmodel_info\u001b[0m\u001b[0;34m[\u001b[0m\u001b[0;34m'order_strange'\u001b[0m\u001b[0;34m]\u001b[0m \u001b[0;32mis\u001b[0m \u001b[0;32mnot\u001b[0m \u001b[0;32mNone\u001b[0m\u001b[0;34m:\u001b[0m\u001b[0;34m\u001b[0m\u001b[0;34m\u001b[0m\u001b[0m\n",
      "\u001b[0;31mKeyError\u001b[0m: 'm_{proton,0}'"
     ]
    }
   ],
   "source": [
    "print(fit_analysis.error_budget)"
   ]
  }
 ],
 "metadata": {
  "language_info": {
   "codemirror_mode": {
    "name": "ipython",
    "version": 3
   },
   "file_extension": ".py",
   "mimetype": "text/x-python",
   "name": "python",
   "nbconvert_exporter": "python",
   "pygments_lexer": "ipython3",
   "version": "3.9.6-final"
  },
  "orig_nbformat": 2,
  "kernelspec": {
   "name": "python39264bit88959d025eb44449afffd5bfaa79fe92",
   "display_name": "Python 3.9.2 64-bit"
  }
 },
 "nbformat": 4,
 "nbformat_minor": 2
}
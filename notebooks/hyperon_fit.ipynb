{
 "cells": [
  {
   "cell_type": "code",
   "execution_count": 5,
   "source": [
    "import numpy as np\n",
    "import gvar as gv\n",
    "import sys\n",
    "sys.path.append('../')\n",
    "#from h5glance import H5Glance \n",
    "import os\n",
    "import lsqfit\n",
    "import io\n",
    "import yaml\n",
    "import warnings  \n",
    "warnings.simplefilter(action=\"default\")"
   ],
   "outputs": [],
   "metadata": {
    "tags": []
   }
  },
  {
   "cell_type": "code",
   "execution_count": 6,
   "source": [
    "os.chdir('../../hyperon-xpt-master/xpt')"
   ],
   "outputs": [],
   "metadata": {}
  },
  {
   "cell_type": "code",
   "execution_count": 7,
   "source": [
    "import fit_analysis as fa \n",
    "import fit_routine as fit\n",
    "import i_o\n",
    "import priors"
   ],
   "outputs": [
    {
     "output_type": "stream",
     "name": "stderr",
     "text": [
      "/Users/grantdb/anaconda3/lib/python3.7/importlib/_bootstrap.py:219: ImportWarning: can't resolve package from __spec__ or __package__, falling back on __name__ and __path__\n  return f(*args, **kwds)\n/Users/grantdb/anaconda3/lib/python3.7/importlib/_bootstrap.py:219: RuntimeWarning: numpy.ndarray size changed, may indicate binary incompatibility. Expected 88, got 80\n  return f(*args, **kwds)\n/Users/grantdb/anaconda3/lib/python3.7/site-packages/h5py/_hl/base.py:19: DeprecationWarning: Using or importing the ABCs from 'collections' instead of from 'collections.abc' is deprecated, and in 3.8 it will stop working\n  from collections import (Mapping, MutableMapping, KeysView,\n"
     ]
    }
   ],
   "metadata": {}
  },
  {
   "cell_type": "code",
   "execution_count": 8,
   "source": [
    "import tests\n",
    "import importlib\n",
    "importlib.reload(tests)\n",
    "importlib.reload(fit)\n",
    "verbose_fitfcn = tests.VerboseFitfcn(force_gvars=True)\n",
    "#print(verbose_fitfcn)"
   ],
   "outputs": [
    {
     "output_type": "stream",
     "name": "stderr",
     "text": [
      "/Users/grantdb/anaconda3/lib/python3.7/site-packages/yaml/constructor.py:126: DeprecationWarning: Using or importing the ABCs from 'collections' instead of from 'collections.abc' is deprecated, and in 3.8 it will stop working\n  if not isinstance(key, collections.Hashable):\n"
     ]
    }
   ],
   "metadata": {}
  },
  {
   "cell_type": "code",
   "execution_count": 9,
   "source": [
    "from importlib import reload\n",
    "reload(i_o)\n",
    "reload(fa)\n",
    "reload(fit)"
   ],
   "outputs": [
    {
     "output_type": "execute_result",
     "data": {
      "text/plain": [
       "<module 'fit_routine' from '/Users/grantdb/LQCD/hyperon-xpt-master/xpt/fit_routine.py'>"
      ]
     },
     "metadata": {},
     "execution_count": 9
    }
   ],
   "metadata": {
    "tags": []
   }
  },
  {
   "cell_type": "code",
   "execution_count": 10,
   "source": [
    "# a_fm = gv.load('a_fm_results.p')\n",
    "# a_fm_out = gv.evalcorr([v for k,v in a_fm.items()])\n",
    "# #print(a_fm_out)"
   ],
   "outputs": [],
   "metadata": {}
  },
  {
   "cell_type": "code",
   "execution_count": 11,
   "source": [
    "# w0_a = gv.load('w0_a_results.p')\n",
    "# w0_a_out = gv.evalcorr([v for k,v in w0_a.items()])\n",
    "# print(w0_a_out)"
   ],
   "outputs": [],
   "metadata": {}
  },
  {
   "cell_type": "code",
   "execution_count": 12,
   "source": [
    "fpi = gv.load('../data/scale_setting.p')\n",
    "fpi_out = gv.evalcorr([v for k,v in fpi.items()])\n",
    "#print(fpi_out)"
   ],
   "outputs": [],
   "metadata": {}
  },
  {
   "cell_type": "code",
   "execution_count": 13,
   "source": [
    "from priors import prior\n",
    "prior = prior\n",
    "#print(prior)"
   ],
   "outputs": [],
   "metadata": {
    "tags": []
   }
  },
  {
   "cell_type": "code",
   "execution_count": 14,
   "source": [
    "f = open('models.yaml', 'r')\n",
    "models = yaml.load(f)\n",
    "    #print(keys)\n",
    "model_info = {}\n",
    "for item in models.values():\n",
    "        model_info = item['proton:s_n2lo:d_n4lo:x_n2lo:l_n4lo:lc_f']\n",
    "        #model_info = item['proton:s_n2lo:d_n4lo:x_n2lo:l_n4lo:lc_t']\n",
    "\n",
    "#print(model_info)"
   ],
   "outputs": [],
   "metadata": {}
  },
  {
   "cell_type": "code",
   "execution_count": 15,
   "source": [
    "input_output = i_o.InputOutput()\n",
    "data,ensembles = input_output.get_data(scheme='w0_imp',units='Fpi')\n",
    "#prior = input_output.make_prior(data,prior)\n",
    "phys_point_data = input_output.get_data_phys_point()"
   ],
   "outputs": [],
   "metadata": {}
  },
  {
   "cell_type": "code",
   "execution_count": 16,
   "source": [
    " fit_test = fit.fit_routine(prior=prior, data=data, model_info=model_info)"
   ],
   "outputs": [],
   "metadata": {}
  },
  {
   "cell_type": "code",
   "execution_count": 17,
   "source": [
    "print(fit_test.fit)"
   ],
   "outputs": [
    {
     "output_type": "stream",
     "name": "stdout",
     "text": [
      "Least Square Fit:\n  chi2/dof [dof] = 1.4 [17]    Q = 0.14    logGBF = -87.197\n\nParameters:\n     m_{proton,0}        903 (11)      [    938 (1000) ]  \n     b_{proton,2}      3e-13 +- 5      [     0.0 (5.0) ]  \n     b_{proton,4}      5e-12 +- 5      [     0.0 (5.0) ]  \n     b_{proton,6}       0.5 (5.0)      [     0.0 (5.0) ]  \n     d_{proton,a}      9e-13 +- 5      [     0.0 (5.0) ]  \n    d_{proton,aa}      2e-12 +- 5      [     0.0 (5.0) ]  \n    d_{proton,al}     -1e-12 +- 5      [     0.0 (5.0) ]  \n   d_{proton,all}      -1.2 (4.9)      [     0.0 (5.0) ]  \n   d_{proton,aal}       0.4 (1.1)      [     0.0 (5.0) ]  \n     d_{proton,s}      -0.90 (74)      [     0.0 (5.0) ]  \n    d_{proton,as}       9.1 (2.1)      [     0.0 (5.0) ]  *\n    d_{proton,ls}      -3.1 (4.9)      [     0.0 (5.0) ]  \n    d_{proton,ss}       3.2 (4.4)      [     0.0 (5.0) ]  \ng_{proton,proton}     0.01 (5.00)      [     1.3 (5.0) ]  \n g_{proton,delta}      -1.26 (37)      [     0.9 (5.0) ]  \n      m_{delta,0}      1742 (163)      [   1232 (1000) ]  \n     a_{proton,4}      3e-12 +- 5      [     0.0 (5.0) ]  \n     g_{proton,4}       7.4 (4.6)      [     0.0 (5.0) ]  *\n            m_k 0     558.0 (2.8)      [   561.9 (5.0) ]  \n                1     486.7 (2.9)      [   493.9 (4.0) ]  *\n                2     527.3 (2.2)      [   516.9 (4.1) ]  **\n                3     542.3 (2.0)      [   544.9 (4.4) ]  \n                4     554.0 (2.0)      [   558.2 (4.5) ]  \n                5     574.6 (3.1)      [   576.9 (4.6) ]  \n                6     497.1 (2.7)      [   494.1 (3.6) ]  \n                7     507.3 (1.9)      [   507.3 (3.7) ]  \n                8     533.3 (1.6)      [   530.1 (3.9) ]  \n                9     545.0 (1.6)      [   544.7 (4.0) ]  \n               10     564.1 (2.4)      [   561.6 (4.1) ]  \n               11     508.7 (3.1)      [   508.1 (3.4) ]  \n               12     504.4 (2.2)      [   507.3 (3.4) ]  \n               13     527.7 (2.1)      [   530.4 (3.5) ]  \n               14     529.9 (1.9)      [   529.8 (3.5) ]  \n               15     546.9 (1.9)      [   542.4 (3.6) ]  *\n               16     558.5 (2.6)      [   560.2 (3.7) ]  \n           m_pi 0     325.6 (1.6)      [   327.9 (2.9) ]  \n                1     132.46 (79)      [   134.4 (1.1) ]  *\n                2     225.70 (96)      [   221.3 (1.8) ]  **\n                3     316.6 (1.1)      [   318.1 (2.6) ]  \n                4     354.1 (1.3)      [   356.8 (2.9) ]  \n                5     407.8 (2.2)      [   409.5 (3.3) ]  \n                6     133.68 (73)      [   132.89 (97) ]  \n                7     219.19 (81)      [   219.2 (1.6) ]  \n                8     310.48 (95)      [   308.6 (2.3) ]  \n                9     350.1 (1.0)      [   349.9 (2.6) ]  \n               10     399.9 (1.7)      [   398.2 (2.9) ]  \n               11     135.10 (82)      [   134.95 (90) ]  \n               12     215.55 (96)      [   216.8 (1.4) ]  \n               13     307.8 (1.2)      [   309.4 (2.1) ]  \n               14     307.0 (1.1)      [   306.9 (2.0) ]  \n               15     350.0 (1.2)      [   347.1 (2.3) ]  *\n               16     395.9 (1.9)      [   397.0 (2.6) ]  \n        lam_chi 0    1314.0 (6.6)      [     1323 (12) ]  \n                1    1141.8 (6.8)      [  1158.5 (9.3) ]  *\n                2    1241.2 (5.3)      [  1216.9 (9.8) ]  **\n                3    1286.9 (4.7)      [     1293 (10) ]  \n                4    1314.6 (4.7)      [     1325 (11) ]  \n                5    1368.3 (7.3)      [     1374 (11) ]  \n                6    1178.5 (6.4)      [  1171.6 (8.5) ]  \n                7    1208.6 (4.5)      [  1208.5 (8.8) ]  \n                8    1269.2 (3.9)      [  1261.5 (9.2) ]  \n                9    1295.2 (3.8)      [  1294.5 (9.4) ]  \n               10    1341.4 (5.7)      [  1335.5 (9.7) ]  \n               11    1176.2 (7.2)      [  1174.9 (7.8) ]  \n               12    1192.2 (5.3)      [  1199.0 (8.0) ]  \n               13    1234.0 (4.8)      [  1240.5 (8.2) ]  \n               14    1251.4 (4.4)      [  1251.3 (8.3) ]  \n               15    1277.6 (4.5)      [  1267.0 (8.4) ]  *\n               16    1304.0 (6.2)      [  1307.8 (8.7) ]  \n         eps2_a 0   0.029618 (41)      [ 0.029618 (41) ]  \n                1   0.065325 (70)      [ 0.065325 (70) ]  \n                2   0.066506 (83)      [ 0.066506 (83) ]  \n                3    0.06877 (16)      [  0.06877 (16) ]  \n                4    0.06998 (19)      [  0.06998 (19) ]  \n                5    0.07160 (20)      [  0.07160 (20) ]  \n                6   0.123786 (95)      [ 0.123786 (95) ]  \n                7    0.12594 (12)      [  0.12594 (12) ]  \n                8    0.13009 (23)      [  0.13008 (23) ]  \n                9    0.13214 (20)      [  0.13214 (20) ]  \n               10    0.13446 (16)      [  0.13446 (16) ]  \n               11    0.19514 (12)      [  0.19514 (12) ]  \n               12    0.19737 (28)      [  0.19737 (28) ]  \n               13    0.20367 (32)      [  0.20368 (32) ]  \n               14    0.20416 (25)      [  0.20416 (25) ]  \n               15    0.20707 (48)      [  0.20706 (48) ]  \n               16    0.21167 (56)      [  0.21168 (56) ]  \n\nSettings:\n  svdcut/n = 1e-12/0    tol = (1e-08,1e-10,1e-10)    (itns/time = 1000*/2.7)\n  fitter = scipy_least_squares    method = trf\n\n"
     ]
    }
   ],
   "metadata": {}
  },
  {
   "cell_type": "code",
   "execution_count": 18,
   "source": [
    "p = input_output.get_posterior(fit_test=fit_test,prior=prior,param='all')\n",
    "fit_post = fit.fit_routine(prior=p, data=phys_point_data,model_info=model_info)\n",
    "#print(fit_post.fit)\n",
    "#print(p)"
   ],
   "outputs": [
    {
     "output_type": "stream",
     "name": "stderr",
     "text": [
      "/Users/grantdb/anaconda3/lib/python3.7/site-packages/lsqfit/__init__.py:912: DeprecationWarning: `np.float` is a deprecated alias for the builtin `float`. To silence this warning, use `float` by itself. Doing this will not modify any behavior and is safe. If you specifically wanted the numpy scalar type, use `np.float64` here.\nDeprecated in NumPy 1.20; for more details and guidance: https://numpy.org/devdocs/release/1.20.0-notes.html#deprecations\n  D[:, i] = chivw_i.mdotder(self.cov)\n"
     ]
    }
   ],
   "metadata": {}
  },
  {
   "cell_type": "code",
   "execution_count": 19,
   "source": [
    "from importlib import reload\n",
    "reload(fa)\n",
    "fit_analysis = fa.fit_analysis(phys_point_data=phys_point_data, data=data,model_info=model_info, prior=prior)\n",
    "hi = fit_analysis.error_budget\n",
    "print(hi)"
   ],
   "outputs": [
    {
     "output_type": "stream",
     "name": "stdout",
     "text": [
      "dict_values([1000(1000), 1200(1000), 1400(1000), 1000(1000), 1300(1000), 0.0(1.0), 0.0(1.0), 0.0(1.0), 0.0(1.0), 0.0(1.0), 0.0(1.0), 0.0(1.0), 0.0(1.0), 0.0(1.0), 0.0(1.0), 0.0(1.0), 0.0(1.0), 0.0(1.0), 0.0(1.0), 0.0(1.0), 0.0(5.0), 0.0(5.0), 0.0(5.0), 0.0(5.0), 0.0(5.0), 0.0(5.0), 0.0(5.0), 0.0(5.0), 0.0(5.0), 0.0(5.0), 0.3(3.0), 0.7(3.0), -0.5(3.0), 0.0(5.0), 0.0(5.0), 0.0(5.0), 0.0(5.0), 0.0(5.0), 0.0(5.0), 0.0(5.0), 0.0(5.0), 0.0(5.0), 0.0(5.0), 0.0(1.0), 0.0(1.0), 0.0(1.0), 0.0(1.0), 0.0(1.0), 0.0(1.0), 0.0(1.0), 0.0(1.0), 0.0(1.0), 0.0(1.0), 0.0(1.0), 0.0(1.0), 0.0(1.0), 0.0(1.0), 0.0(1.0), 0.0(1.0), 0.0(1.0), 0.0(1.0), 0.0(1.0), 0.0(1.0), 0(0), 0(0), 0(0), inf(0), 197.327(0), 1157.0(7.2), 134.80(30), 494.20(30), 1115.6830(60), 1193.154(27), 1384.57(39), 1318.28(11), 1533.40(34), 1672(29), 938.2720000(58)])\n",
      "Partial % Errors:\n",
      "                          proton\n",
      "--------------------------------\n",
      "         m_{lambda,0}:      0.00\n",
      "          m_{sigma,0}:      0.00\n",
      "       m_{sigma_st,0}:      0.00\n",
      "             m_{xi,0}:      0.00\n",
      "          m_{xi_st,0}:      0.00\n",
      "         d_{lambda,a}:      0.00\n",
      "          d_{sigma,a}:      0.00\n",
      "       d_{sigma_st,a}:      0.00\n",
      "             d_{xi,a}:      0.00\n",
      "          d_{xi_st,a}:      0.00\n",
      "        d_{lambda,aa}:      0.00\n",
      "        d_{lambda,al}:      0.00\n",
      "         d_{sigma,aa}:      0.00\n",
      "         d_{sigma,al}:      0.00\n",
      "      d_{sigma_st,aa}:      0.00\n",
      "      d_{sigma_st,al}:      0.00\n",
      "            d_{xi,aa}:      0.00\n",
      "            d_{xi,al}:      0.00\n",
      "         d_{xi_st,aa}:      0.00\n",
      "         d_{xi_st,al}:      0.00\n",
      "           s_{lambda}:      0.00\n",
      "            s_{sigma}:      0.00\n",
      "        s_{sigma,bar}:      0.00\n",
      "               s_{xi}:      0.00\n",
      "           s_{xi,bar}:      0.00\n",
      "     g_{lambda,sigma}:      0.00\n",
      "  g_{lambda,sigma_st}:      0.00\n",
      "      g_{sigma,sigma}:      0.00\n",
      "   g_{sigma_st,sigma}:      0.00\n",
      "g_{sigma_st,sigma_st}:      0.00\n",
      "            g_{xi,xi}:      0.00\n",
      "         g_{xi_st,xi}:      0.00\n",
      "      g_{xi_st,xi_st}:      0.00\n",
      "         b_{lambda,4}:      0.00\n",
      "          b_{sigma,4}:      0.00\n",
      "       b_{sigma_st,4}:      0.00\n",
      "             b_{xi,4}:      0.00\n",
      "          b_{xi_st,4}:      0.00\n",
      "         a_{lambda,4}:      0.00\n",
      "          a_{sigma,4}:      0.00\n",
      "       a_{sigma_st,4}:      0.00\n",
      "             a_{xi,4}:      0.00\n",
      "          a_{xi_st,4}:      0.00\n",
      "         d_{lambda,s}:      0.00\n",
      "          d_{sigma,s}:      0.00\n",
      "       d_{sigma_st,s}:      0.00\n",
      "             d_{xi,s}:      0.00\n",
      "          d_{xi_st,s}:      0.00\n",
      "        d_{lambda,as}:      0.00\n",
      "        d_{lambda,ls}:      0.00\n",
      "        d_{lambda,ss}:      0.00\n",
      "         d_{sigma,as}:      0.00\n",
      "         d_{sigma,ls}:      0.00\n",
      "         d_{sigma,ss}:      0.00\n",
      "      d_{sigma_st,as}:      0.00\n",
      "      d_{sigma_st,ls}:      0.00\n",
      "      d_{sigma_st,ss}:      0.00\n",
      "            d_{xi,as}:      0.00\n",
      "            d_{xi,ls}:      0.00\n",
      "            d_{xi,ss}:      0.00\n",
      "         d_{xi_st,as}:      0.00\n",
      "         d_{xi_st,ls}:      0.00\n",
      "         d_{xi_st,ss}:      0.00\n",
      "               eps2_a:      0.00\n",
      "                    a:      0.00\n",
      "              alpha_s:      0.00\n",
      "                    L:      0.00\n",
      "                hbarc:      0.00\n",
      "              lam_chi:      0.29\n",
      "                 m_pi:      0.03\n",
      "                  m_k:      0.04\n",
      "             m_lambda:      0.00\n",
      "              m_sigma:      0.00\n",
      "           m_sigma_st:      0.00\n",
      "                 m_xi:      0.00\n",
      "              m_xi_st:      0.00\n",
      "              m_omega:      0.00\n",
      "             m_proton:      0.00\n",
      "--------------------------------\n",
      "                total:      0.78\n",
      "\n",
      "{'disc': -0.0, 'pp': -0.0, 'stat': -0.0, 'chiral': -0.0}\n",
      "None\n",
      "/Users/grantdb/LQCD/hyperon-xpt-master/xpt/fit_analysis.py:145: UserWarning: proton partial error 2.753431267623291  !=  total error 7.3619142906278\n",
      "  print(gv.fmt_errorbudget(outputs=extrapolated_mass, inputs=inputs, verify=True))\n"
     ]
    }
   ],
   "metadata": {
    "tags": []
   }
  },
  {
   "cell_type": "code",
   "execution_count": 32,
   "source": [
    "reload(io)\n",
    "m_proton = fit_analysis.fitfcn(p=fit_test.fit.p,data=phys_point_data,particle='proton')\n",
    "m_pi = phys_point_data['m_pi']\n",
    "print(m_pi)\n",
    "#sigma = gv.gvar(m_pi)**2 *gv.deriv(gv.gvar(m_proton), gv.gvar(m_pi)**2)\n",
    "sigma = m_pi**2 *gv.deriv(m_proton, m_pi**2)\n",
    "print(sigma)"
   ],
   "outputs": [
    {
     "output_type": "stream",
     "name": "stdout",
     "text": [
      "134.80(30)\n[53.57(24) 53.57(24) 53.57(24) 53.57(24) 53.57(24) 53.57(24) 53.57(24)\n 53.57(24) 53.57(24) 53.57(24) 53.57(24) 53.57(24) 53.57(24) 53.57(24)\n 53.57(24) 53.57(24) 53.57(24)]\n"
     ]
    }
   ],
   "metadata": {}
  },
  {
   "cell_type": "code",
   "execution_count": 31,
   "source": [
    "l3 = gv.gvar('3.53(26)')\n",
    "l4 = gv.gvar('4.73(10)')\n",
    "lam_chi = phys_point_data['lam_chi']\n",
    "#m_pi = phys_point_data['m_pi']\n",
    "eps_pi = m_pi/lam_chi\n",
    "analytic_sigma = (m_pi/lam_chi*2)*(1+ (m_pi / lam_chi)**2 *(5/2 - l3/2 -2*l4))\n",
    "print(analytic_sigma)"
   ],
   "outputs": [
    {
     "output_type": "stream",
     "name": "stdout",
     "text": [
      "0.2054(12)\n"
     ]
    }
   ],
   "metadata": {}
  },
  {
   "cell_type": "code",
   "execution_count": 30,
   "source": [
    "print(fit_analysis._extrapolate_to_ens(ens=None,phys_params=None))"
   ],
   "outputs": [
    {
     "output_type": "error",
     "ename": "IndexError",
     "evalue": "index 17 is out of bounds for axis 0 with size 17",
     "traceback": [
      "\u001b[0;31m---------------------------------------------------------------------------\u001b[0m",
      "\u001b[0;31mIndexError\u001b[0m                                Traceback (most recent call last)",
      "\u001b[0;32m<ipython-input-30-1f96a8b98bc7>\u001b[0m in \u001b[0;36m<module>\u001b[0;34m\u001b[0m\n\u001b[0;32m----> 1\u001b[0;31m \u001b[0mprint\u001b[0m\u001b[0;34m(\u001b[0m\u001b[0mfit_analysis\u001b[0m\u001b[0;34m.\u001b[0m\u001b[0m_extrapolate_to_ens\u001b[0m\u001b[0;34m(\u001b[0m\u001b[0mens\u001b[0m\u001b[0;34m=\u001b[0m\u001b[0;32mNone\u001b[0m\u001b[0;34m,\u001b[0m\u001b[0mphys_params\u001b[0m\u001b[0;34m=\u001b[0m\u001b[0;32mNone\u001b[0m\u001b[0;34m)\u001b[0m\u001b[0;34m)\u001b[0m\u001b[0;34m\u001b[0m\u001b[0;34m\u001b[0m\u001b[0m\n\u001b[0m",
      "\u001b[0;32m~/LQCD/hyperon-xpt-master/xpt/fit_analysis.py\u001b[0m in \u001b[0;36m_extrapolate_to_ens\u001b[0;34m(self, ens, phys_params)\u001b[0m\n\u001b[1;32m    281\u001b[0m                         \u001b[0mposterior\u001b[0m\u001b[0;34m[\u001b[0m\u001b[0mparam\u001b[0m\u001b[0;34m]\u001b[0m \u001b[0;34m=\u001b[0m \u001b[0mself\u001b[0m\u001b[0;34m.\u001b[0m\u001b[0mfitter\u001b[0m\u001b[0;34m.\u001b[0m\u001b[0mfit\u001b[0m\u001b[0;34m.\u001b[0m\u001b[0mp\u001b[0m\u001b[0;34m[\u001b[0m\u001b[0mparam\u001b[0m\u001b[0;34m]\u001b[0m\u001b[0;34m\u001b[0m\u001b[0;34m\u001b[0m\u001b[0m\n\u001b[1;32m    282\u001b[0m                     \u001b[0;32melse\u001b[0m\u001b[0;34m:\u001b[0m\u001b[0;34m\u001b[0m\u001b[0;34m\u001b[0m\u001b[0m\n\u001b[0;32m--> 283\u001b[0;31m                         \u001b[0mposterior\u001b[0m\u001b[0;34m[\u001b[0m\u001b[0mparam\u001b[0m\u001b[0;34m]\u001b[0m \u001b[0;34m=\u001b[0m \u001b[0mself\u001b[0m\u001b[0;34m.\u001b[0m\u001b[0mfitter\u001b[0m\u001b[0;34m.\u001b[0m\u001b[0mfit\u001b[0m\u001b[0;34m.\u001b[0m\u001b[0mp\u001b[0m\u001b[0;34m[\u001b[0m\u001b[0mparam\u001b[0m\u001b[0;34m]\u001b[0m\u001b[0;34m[\u001b[0m\u001b[0mj\u001b[0m\u001b[0;34m]\u001b[0m\u001b[0;34m\u001b[0m\u001b[0;34m\u001b[0m\u001b[0m\n\u001b[0m\u001b[1;32m    284\u001b[0m \u001b[0;34m\u001b[0m\u001b[0m\n\u001b[1;32m    285\u001b[0m                 \u001b[0;32mif\u001b[0m \u001b[0;34m'alpha_s'\u001b[0m \u001b[0;32min\u001b[0m \u001b[0mphys_params\u001b[0m\u001b[0;34m:\u001b[0m\u001b[0;34m\u001b[0m\u001b[0;34m\u001b[0m\u001b[0m\n",
      "\u001b[0;31mIndexError\u001b[0m: index 17 is out of bounds for axis 0 with size 17"
     ]
    }
   ],
   "metadata": {}
  },
  {
   "cell_type": "code",
   "execution_count": 24,
   "source": [
    "x = fit_analysis.fitter.y\n",
    "print(x)\n"
   ],
   "outputs": [
    {
     "output_type": "stream",
     "name": "stdout",
     "text": [
      "{'xi': array([1282(12), 1318(11), 1370(11), 1388(11), 1411(12), 1271.5(9.6),\n",
      "       1283(10), 1318.6(9.9), 1336(10), 1358(10), 1258.0(8.6),\n",
      "       1257.6(8.5), 1294.3(8.7), 1288.1(9.1), 1302.1(9.7), 1327.5(9.8)],\n",
      "      dtype=object), 'xi_st': array([1527(16), 1563(19), 1620(21), 1631(27), 1671(15), 1535(13),\n",
      "       1555(12), 1581(13), 1599(14), 1622(13), 1528(11), 1518(13),\n",
      "       1557(10), 1554(11), 1555(13), 1584(13)], dtype=object), 'sigma': array([1201(10), 1215(13), 1291(11), 1312(12), 1347(12), 1186.3(9.6),\n",
      "       1208.7(9.2), 1248.0(9.6), 1275.2(9.7), 1298(10), 1206(10),\n",
      "       1194.5(8.9), 1236.8(8.3), 1229.1(9.2), 1237.6(9.5), 1280.5(9.0)],\n",
      "      dtype=object), 'sigma_st': array([1423(23), 1461(23), 1541(26), 1573(22), 1601(17), 1462(14),\n",
      "       1480(12), 1507(17), 1536(16), 1558(17), 1485(13), 1447(23),\n",
      "       1499(10), 1499(11), 1490(21), 1537(13)], dtype=object), 'lambda': array([1062(26), 1142(11), 1229(10), 1260(10), 1304(11), 1090(11),\n",
      "       1123.8(9.5), 1187.4(9.1), 1213.6(9.9), 1252.6(9.7), 1065(10),\n",
      "       1103.0(7.9), 1162.8(8.9), 1156.7(8.7), 1180.1(8.9), 1228.1(8.7)],\n",
      "      dtype=object)}\n"
     ]
    }
   ],
   "metadata": {}
  }
 ],
 "metadata": {
  "language_info": {
   "codemirror_mode": {
    "name": "ipython",
    "version": 3
   },
   "file_extension": ".py",
   "mimetype": "text/x-python",
   "name": "python",
   "nbconvert_exporter": "python",
   "pygments_lexer": "ipython3",
   "version": "3.7.1-final"
  },
  "orig_nbformat": 2,
  "kernelspec": {
   "name": "python37164bitbasecondabd8259ab3f9e47888b613a3f2051f390",
   "display_name": "Python 3.7.1 64-bit ('base': conda)"
  }
 },
 "nbformat": 4,
 "nbformat_minor": 2
}
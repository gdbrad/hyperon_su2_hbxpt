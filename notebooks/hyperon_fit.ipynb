{
 "cells": [
  {
   "cell_type": "code",
   "execution_count": 1,
   "metadata": {
    "tags": []
   },
   "outputs": [],
   "source": [
    "import numpy as np\n",
    "import gvar as gv\n",
    "import sys\n",
    "sys.path.append('../')\n",
    "from h5glance import H5Glance \n",
    "import os\n",
    "import lsqfit\n",
    "import io\n",
    "import yaml\n",
    "import warnings  \n",
    "warnings.simplefilter(action=\"default\")"
   ]
  },
  {
   "cell_type": "code",
   "execution_count": 2,
   "metadata": {},
   "outputs": [
    {
     "output_type": "stream",
     "name": "stderr",
     "text": [
      "/home/gmoney/.local/lib/python3.9/site-packages/ipykernel/ipkernel.py:283: DeprecationWarning: `should_run_async` will not call `transform_cell` automatically in the future. Please pass the result to `transformed_cell` argument and any exception that happen during thetransform in `preprocessing_exc_tuple` in IPython 7.17 and above.\n  and should_run_async(code)\n"
     ]
    }
   ],
   "source": [
    "os.chdir('../../hyperon-xpt-master/xpt')"
   ]
  },
  {
   "cell_type": "code",
   "execution_count": 3,
   "metadata": {},
   "outputs": [],
   "source": [
    "import fit_analysis as fa \n",
    "import fit_routine as fit\n",
    "import i_o\n",
    "import priors"
   ]
  },
  {
   "cell_type": "code",
   "execution_count": 4,
   "metadata": {},
   "outputs": [],
   "source": [
    "import tests\n",
    "import importlib\n",
    "importlib.reload(tests)\n",
    "importlib.reload(fit)\n",
    "verbose_fitfcn = tests.VerboseFitfcn(force_gvars=True)\n",
    "#print(verbose_fitfcn)"
   ]
  },
  {
   "cell_type": "code",
   "execution_count": 5,
   "metadata": {
    "tags": []
   },
   "outputs": [
    {
     "output_type": "execute_result",
     "data": {
      "text/plain": [
       "<module 'fit_routine' from '/home/gmoney/lqcd/hyperon-xpt-master/xpt/fit_routine.py'>"
      ]
     },
     "metadata": {},
     "execution_count": 5
    }
   ],
   "source": [
    "from importlib import reload\n",
    "reload(i_o)\n",
    "reload(fa)\n",
    "reload(fit)"
   ]
  },
  {
   "cell_type": "code",
   "execution_count": 6,
   "metadata": {},
   "outputs": [],
   "source": [
    "# a_fm = gv.load('a_fm_results.p')\n",
    "# a_fm_out = gv.evalcorr([v for k,v in a_fm.items()])\n",
    "# #print(a_fm_out)"
   ]
  },
  {
   "cell_type": "code",
   "execution_count": 7,
   "metadata": {},
   "outputs": [],
   "source": [
    "# w0_a = gv.load('w0_a_results.p')\n",
    "# w0_a_out = gv.evalcorr([v for k,v in w0_a.items()])\n",
    "# print(w0_a_out)"
   ]
  },
  {
   "cell_type": "code",
   "execution_count": 8,
   "metadata": {
    "tags": []
   },
   "outputs": [],
   "source": [
    "from priors import prior\n",
    "prior = prior\n",
    "#print(prior)"
   ]
  },
  {
   "cell_type": "code",
   "execution_count": 9,
   "metadata": {},
   "outputs": [
    {
     "output_type": "stream",
     "name": "stderr",
     "text": [
      "<ipython-input-9-2b848e53858e>:2: YAMLLoadWarning: calling yaml.load() without Loader=... is deprecated, as the default Loader is unsafe. Please read https://msg.pyyaml.org/load for full details.\n  models = yaml.load(f)\n"
     ]
    }
   ],
   "source": [
    "f = open('models.yaml', 'r')\n",
    "models = yaml.load(f)\n",
    "    #print(keys)\n",
    "model_info = {}\n",
    "for item in models.values():\n",
    "        model_info = item['proton:s_n2lo:d_n4lo:x_n4lo:l_n4lo:lc_t']\n",
    "#print(model_info)"
   ]
  },
  {
   "cell_type": "code",
   "execution_count": 10,
   "metadata": {},
   "outputs": [],
   "source": [
    "input_output = i_o.InputOutput()\n",
    "data,ensembles = input_output.get_data(scheme='w0_imp')\n",
    "#prior = input_output.make_prior(data,prior)\n",
    "phys_point_data = input_output.get_data_phys_point()"
   ]
  },
  {
   "cell_type": "code",
   "execution_count": 11,
   "metadata": {},
   "outputs": [],
   "source": [
    " fit_test = fit.fit_routine(prior=prior, data=data, model_info=model_info)"
   ]
  },
  {
   "cell_type": "code",
   "execution_count": 12,
   "metadata": {},
   "outputs": [
    {
     "output_type": "stream",
     "name": "stdout",
     "text": [
      "Least Square Fit:\n  chi2/dof [dof] = 1.5 [17]    Q = 0.087    logGBF = -84\n\nParameters:\n     m_{proton,0}     894.3 (9.4)      [    938 (1000) ]  \n     b_{proton,2}     -2e-15 +- 5      [     0.0 (5.0) ]  \n     b_{proton,4}      2e-15 +- 5      [     0.0 (5.0) ]  \n     b_{proton,6}       1.3 (5.0)      [     0.0 (5.0) ]  \n     d_{proton,a}     -2e-16 +- 5      [     0.0 (5.0) ]  \n    d_{proton,aa}     -2e-15 +- 5      [     0.0 (5.0) ]  \n    d_{proton,al}      1e-17 +- 5      [     0.0 (5.0) ]  \n   d_{proton,all}      -0.2 (4.9)      [     0.0 (5.0) ]  \n   d_{proton,aal}       0.2 (5.0)      [     0.0 (5.0) ]  \n     d_{proton,s}      -0.21 (41)      [     0.0 (5.0) ]  \n    d_{proton,as}       7.6 (1.3)      [     0.0 (5.0) ]  *\n    d_{proton,ls}      -5.6 (4.5)      [     0.0 (5.0) ]  *\n    d_{proton,ss}       5.1 (4.1)      [     0.0 (5.0) ]  *\ng_{proton,proton}   0.007 (4.968)      [     1.3 (5.0) ]  \n g_{proton,delta}       0.76 (35)      [     0.9 (5.0) ]  \n      m_{delta,0}      2355 (651)      [   1232 (1000) ]  *\n     a_{proton,4}      2e-15 +- 5      [     0.0 (5.0) ]  \n     g_{proton,4}      3e-16 +- 5      [     0.0 (5.0) ]  \n            m_k 0     558.8 (2.8)      [   561.9 (5.0) ]  \n                1     486.5 (1.8)      [   493.9 (4.0) ]  *\n                2     528.6 (1.7)      [   516.9 (4.1) ]  **\n                3     542.4 (1.9)      [   544.9 (4.4) ]  \n                4     553.6 (2.0)      [   558.2 (4.5) ]  *\n                5     574.2 (2.9)      [   576.9 (4.6) ]  \n                6     495.3 (2.6)      [   494.1 (3.6) ]  \n                7     507.1 (1.8)      [   507.3 (3.7) ]  \n                8     534.1 (1.5)      [   530.1 (3.9) ]  *\n                9     545.3 (1.5)      [   544.7 (4.0) ]  \n               10     564.3 (2.5)      [   561.6 (4.1) ]  \n               11     509.1 (2.9)      [   508.1 (3.4) ]  \n               12     504.4 (1.6)      [   507.3 (3.4) ]  \n               13     527.7 (2.0)      [   530.4 (3.5) ]  \n               14     531.0 (1.6)      [   529.8 (3.5) ]  \n               15     547.3 (1.9)      [   542.4 (3.6) ]  *\n               16     556.6 (2.5)      [   560.2 (3.7) ]  \n           m_pi 0     326.1 (1.7)      [   327.9 (2.9) ]  \n                1     132.39 (50)      [   134.4 (1.1) ]  *\n                2     226.26 (73)      [   221.3 (1.8) ]  **\n                3     316.6 (1.1)      [   318.1 (2.6) ]  \n                4     353.9 (1.3)      [   356.8 (2.9) ]  *\n                5     407.5 (2.0)      [   409.5 (3.3) ]  \n                6     133.21 (69)      [   132.89 (97) ]  \n                7     219.08 (80)      [   219.2 (1.6) ]  \n                8     310.95 (86)      [   308.6 (2.3) ]  *\n                9     350.33 (94)      [   349.9 (2.6) ]  \n               10     400.1 (1.7)      [   398.2 (2.9) ]  \n               11     135.22 (78)      [   134.95 (90) ]  \n               12     215.53 (67)      [   216.8 (1.4) ]  \n               13     307.9 (1.2)      [   309.4 (2.1) ]  \n               14     307.64 (95)      [   306.9 (2.0) ]  \n               15     350.2 (1.2)      [   347.1 (2.3) ]  *\n               16     394.5 (1.8)      [   397.0 (2.6) ]  \n        lam_chi 0    1315.8 (6.7)      [     1323 (12) ]  \n                1    1141.2 (4.3)      [  1158.5 (9.3) ]  *\n                2    1244.3 (4.0)      [  1216.9 (9.8) ]  **\n                3    1287.1 (4.6)      [     1293 (10) ]  \n                4    1313.7 (4.7)      [     1325 (11) ]  *\n                5    1367.3 (6.8)      [     1374 (11) ]  \n                6    1174.4 (6.1)      [  1171.6 (8.5) ]  \n                7    1208.0 (4.4)      [  1208.5 (8.8) ]  \n                8    1271.1 (3.5)      [  1261.5 (9.2) ]  *\n                9    1296.0 (3.5)      [  1294.5 (9.4) ]  \n               10    1341.8 (5.8)      [  1335.5 (9.7) ]  \n               11    1177.2 (6.8)      [  1174.9 (7.8) ]  \n               12    1192.1 (3.7)      [  1199.0 (8.0) ]  \n               13    1234.1 (4.7)      [  1240.5 (8.2) ]  \n               14    1254.1 (3.9)      [  1251.3 (8.3) ]  \n               15    1278.4 (4.5)      [  1267.0 (8.4) ]  *\n               16    1299.6 (5.9)      [  1307.8 (8.7) ]  \n         eps2_a 0   0.029618 (41)      [ 0.029618 (41) ]  \n                1   0.065325 (70)      [ 0.065325 (70) ]  \n                2   0.066506 (83)      [ 0.066506 (83) ]  \n                3    0.06877 (16)      [  0.06877 (16) ]  \n                4    0.06998 (19)      [  0.06998 (19) ]  \n                5    0.07160 (20)      [  0.07160 (20) ]  \n                6   0.123786 (95)      [ 0.123786 (95) ]  \n                7    0.12594 (12)      [  0.12594 (12) ]  \n                8    0.13009 (23)      [  0.13008 (23) ]  \n                9    0.13214 (20)      [  0.13214 (20) ]  \n               10    0.13446 (16)      [  0.13446 (16) ]  \n               11    0.19514 (12)      [  0.19514 (12) ]  \n               12    0.19737 (28)      [  0.19737 (28) ]  \n               13    0.20367 (32)      [  0.20368 (32) ]  \n               14    0.20416 (25)      [  0.20416 (25) ]  \n               15    0.20708 (48)      [  0.20706 (48) ]  \n               16    0.21166 (56)      [  0.21168 (56) ]  \n\nSettings:\n  svdcut/n = 1e-12/0    tol = (1e-08*,1e-10,1e-10)    (itns/time = 275/0.4)\n\n"
     ]
    }
   ],
   "source": [
    "print(fit_test.fit)"
   ]
  },
  {
   "cell_type": "code",
   "execution_count": 13,
   "metadata": {},
   "outputs": [
    {
     "output_type": "stream",
     "name": "stderr",
     "text": [
      "/home/gmoney/.local/lib/python3.9/site-packages/lsqfit/__init__.py:912: DeprecationWarning: `np.float` is a deprecated alias for the builtin `float`. To silence this warning, use `float` by itself. Doing this will not modify any behavior and is safe. If you specifically wanted the numpy scalar type, use `np.float64` here.\nDeprecated in NumPy 1.20; for more details and guidance: https://numpy.org/devdocs/release/1.20.0-notes.html#deprecations\n  D[:, i] = chivw_i.mdotder(self.cov)\n/home/gmoney/.local/lib/python3.9/site-packages/lsqfit/__init__.py:1891: RuntimeWarning: divide by zero encountered in reciprocal\n  ans, inv_wgts = _gvar.regulate(\n/home/gmoney/.local/lib/python3.9/site-packages/lsqfit/__init__.py:686: RuntimeWarning: invalid value encountered in multiply\n  fit = nonlinear_fit.FITTERS[self.fitter](\n"
     ]
    },
    {
     "output_type": "error",
     "ename": "ValueError",
     "evalue": "non-symmetric covariance matrix:\n[[nan nan nan nan nan nan nan nan nan nan nan nan nan nan nan nan nan nan\n  nan nan nan nan]\n [nan nan nan nan nan nan nan nan nan nan nan nan nan nan nan nan nan nan\n  nan nan nan nan]\n [nan nan nan nan nan nan nan nan nan nan nan nan nan nan nan nan nan nan\n  nan nan nan nan]\n [nan nan nan nan nan nan nan nan nan nan nan nan nan nan nan nan nan nan\n  nan nan nan nan]\n [nan nan nan nan nan nan nan nan nan nan nan nan nan nan nan nan nan nan\n  nan nan nan nan]\n [nan nan nan nan nan nan nan nan nan nan nan nan nan nan nan nan nan nan\n  nan nan nan nan]\n [nan nan nan nan nan nan nan nan nan nan nan nan nan nan nan nan nan nan\n  nan nan nan nan]\n [nan nan nan nan nan nan nan nan nan nan nan nan nan nan nan nan nan nan\n  nan nan nan nan]\n [nan nan nan nan nan nan nan nan nan nan nan nan nan nan nan nan nan nan\n  nan nan nan nan]\n [nan nan nan nan nan nan nan nan nan nan nan nan nan nan nan nan nan nan\n  nan nan nan nan]\n [nan nan nan nan nan nan nan nan nan nan nan nan nan nan nan nan nan nan\n  nan nan nan nan]\n [nan nan nan nan nan nan nan nan nan nan nan nan nan nan nan nan nan nan\n  nan nan nan nan]\n [nan nan nan nan nan nan nan nan nan nan nan nan nan nan nan nan nan nan\n  nan nan nan nan]\n [nan nan nan nan nan nan nan nan nan nan nan nan nan nan nan nan nan nan\n  nan nan nan nan]\n [nan nan nan nan nan nan nan nan nan nan nan nan nan nan nan nan nan nan\n  nan nan nan nan]\n [nan nan nan nan nan nan nan nan nan nan nan nan nan nan nan nan nan nan\n  nan nan nan nan]\n [nan nan nan nan nan nan nan nan nan nan nan nan nan nan nan nan nan nan\n  nan nan nan nan]\n [nan nan nan nan nan nan nan nan nan nan nan nan nan nan nan nan nan nan\n  nan nan nan nan]\n [nan nan nan nan nan nan nan nan nan nan nan nan nan nan nan nan nan nan\n  nan nan nan nan]\n [nan nan nan nan nan nan nan nan nan nan nan nan nan nan nan nan nan nan\n  nan nan nan nan]\n [nan nan nan nan nan nan nan nan nan nan nan nan nan nan nan nan nan nan\n  nan nan nan nan]\n [nan nan nan nan nan nan nan nan nan nan nan nan nan nan nan nan nan nan\n  nan nan nan nan]]",
     "traceback": [
      "\u001b[0;31m---------------------------------------------------------------------------\u001b[0m",
      "\u001b[0;31mValueError\u001b[0m                                Traceback (most recent call last)",
      "\u001b[0;32m<ipython-input-13-2bc76e7edb7d>\u001b[0m in \u001b[0;36m<module>\u001b[0;34m\u001b[0m\n\u001b[1;32m      1\u001b[0m \u001b[0mp\u001b[0m \u001b[0;34m=\u001b[0m \u001b[0minput_output\u001b[0m\u001b[0;34m.\u001b[0m\u001b[0mget_posterior\u001b[0m\u001b[0;34m(\u001b[0m\u001b[0mfit_test\u001b[0m\u001b[0;34m=\u001b[0m\u001b[0mfit_test\u001b[0m\u001b[0;34m,\u001b[0m\u001b[0mprior\u001b[0m\u001b[0;34m=\u001b[0m\u001b[0mprior\u001b[0m\u001b[0;34m,\u001b[0m\u001b[0mparam\u001b[0m\u001b[0;34m=\u001b[0m\u001b[0;32mNone\u001b[0m\u001b[0;34m)\u001b[0m\u001b[0;34m\u001b[0m\u001b[0;34m\u001b[0m\u001b[0m\n\u001b[1;32m      2\u001b[0m \u001b[0mfit_post\u001b[0m \u001b[0;34m=\u001b[0m \u001b[0mfit\u001b[0m\u001b[0;34m.\u001b[0m\u001b[0mfit_routine\u001b[0m\u001b[0;34m(\u001b[0m\u001b[0mprior\u001b[0m\u001b[0;34m=\u001b[0m\u001b[0mp\u001b[0m\u001b[0;34m,\u001b[0m \u001b[0mdata\u001b[0m\u001b[0;34m=\u001b[0m\u001b[0mphys_point_data\u001b[0m\u001b[0;34m,\u001b[0m\u001b[0mmodel_info\u001b[0m\u001b[0;34m=\u001b[0m\u001b[0mmodel_info\u001b[0m\u001b[0;34m)\u001b[0m\u001b[0;34m\u001b[0m\u001b[0;34m\u001b[0m\u001b[0m\n\u001b[0;32m----> 3\u001b[0;31m \u001b[0mprint\u001b[0m\u001b[0;34m(\u001b[0m\u001b[0mfit_post\u001b[0m\u001b[0;34m.\u001b[0m\u001b[0mfit\u001b[0m\u001b[0;34m)\u001b[0m\u001b[0;34m\u001b[0m\u001b[0;34m\u001b[0m\u001b[0m\n\u001b[0m\u001b[1;32m      4\u001b[0m \u001b[0;31m#print(p)\u001b[0m\u001b[0;34m\u001b[0m\u001b[0;34m\u001b[0m\u001b[0;34m\u001b[0m\u001b[0m\n",
      "\u001b[0;32m~/lqcd/hyperon-xpt-master/xpt/fit_routine.py\u001b[0m in \u001b[0;36mfit\u001b[0;34m(self)\u001b[0m\n\u001b[1;32m     36\u001b[0m \u001b[0;34m\u001b[0m\u001b[0m\n\u001b[1;32m     37\u001b[0m             \u001b[0mfitter\u001b[0m \u001b[0;34m=\u001b[0m \u001b[0mlsqfit\u001b[0m\u001b[0;34m.\u001b[0m\u001b[0mMultiFitter\u001b[0m\u001b[0;34m(\u001b[0m\u001b[0mmodels\u001b[0m\u001b[0;34m=\u001b[0m\u001b[0mmodels\u001b[0m\u001b[0;34m)\u001b[0m\u001b[0;34m\u001b[0m\u001b[0;34m\u001b[0m\u001b[0m\n\u001b[0;32m---> 38\u001b[0;31m             \u001b[0mfit\u001b[0m \u001b[0;34m=\u001b[0m \u001b[0mfitter\u001b[0m\u001b[0;34m.\u001b[0m\u001b[0mlsqfit\u001b[0m\u001b[0;34m(\u001b[0m\u001b[0mdata\u001b[0m\u001b[0;34m=\u001b[0m\u001b[0mdata\u001b[0m\u001b[0;34m,\u001b[0m \u001b[0mprior\u001b[0m\u001b[0;34m=\u001b[0m\u001b[0mprior\u001b[0m\u001b[0;34m,\u001b[0m \u001b[0mfast\u001b[0m\u001b[0;34m=\u001b[0m\u001b[0;32mFalse\u001b[0m\u001b[0;34m,\u001b[0m \u001b[0mmopt\u001b[0m\u001b[0;34m=\u001b[0m\u001b[0;32mFalse\u001b[0m\u001b[0;34m)\u001b[0m\u001b[0;34m\u001b[0m\u001b[0;34m\u001b[0m\u001b[0m\n\u001b[0m\u001b[1;32m     39\u001b[0m \u001b[0;34m\u001b[0m\u001b[0m\n\u001b[1;32m     40\u001b[0m             \u001b[0mself\u001b[0m\u001b[0;34m.\u001b[0m\u001b[0m_fit\u001b[0m \u001b[0;34m=\u001b[0m \u001b[0mfit\u001b[0m\u001b[0;34m\u001b[0m\u001b[0;34m\u001b[0m\u001b[0m\n",
      "\u001b[0;32m~/.local/lib/python3.9/site-packages/lsqfit/_extras.py\u001b[0m in \u001b[0;36mlsqfit\u001b[0;34m(self, data, pdata, prior, p0, chained, **kargs)\u001b[0m\n\u001b[1;32m   1196\u001b[0m \u001b[0;34m\u001b[0m\u001b[0m\n\u001b[1;32m   1197\u001b[0m         \u001b[0;31m# fit\u001b[0m\u001b[0;34m\u001b[0m\u001b[0;34m\u001b[0m\u001b[0;34m\u001b[0m\u001b[0m\n\u001b[0;32m-> 1198\u001b[0;31m         self.fit = unchained_nonlinear_fit(\n\u001b[0m\u001b[1;32m   1199\u001b[0m             \u001b[0mfname\u001b[0m\u001b[0;34m=\u001b[0m\u001b[0mfname\u001b[0m\u001b[0;34m,\u001b[0m \u001b[0mfitter_args_kargs\u001b[0m\u001b[0;34m=\u001b[0m\u001b[0mfitter_args_kargs\u001b[0m\u001b[0;34m,\u001b[0m\u001b[0;34m\u001b[0m\u001b[0;34m\u001b[0m\u001b[0m\n\u001b[1;32m   1200\u001b[0m             \u001b[0mdata\u001b[0m\u001b[0;34m=\u001b[0m\u001b[0mfitdata\u001b[0m\u001b[0;34m,\u001b[0m \u001b[0mprior\u001b[0m\u001b[0;34m=\u001b[0m\u001b[0mfitprior\u001b[0m\u001b[0;34m,\u001b[0m \u001b[0mfcn\u001b[0m\u001b[0;34m=\u001b[0m\u001b[0mfitfcn\u001b[0m\u001b[0;34m,\u001b[0m \u001b[0mp0\u001b[0m\u001b[0;34m=\u001b[0m\u001b[0m_p0\u001b[0m\u001b[0;34m,\u001b[0m\u001b[0;34m\u001b[0m\u001b[0;34m\u001b[0m\u001b[0m\n",
      "\u001b[0;32m~/.local/lib/python3.9/site-packages/lsqfit/_extras.py\u001b[0m in \u001b[0;36m__init__\u001b[0;34m(self, fname, fitter_args_kargs, *args, **kargs)\u001b[0m\n\u001b[1;32m    638\u001b[0m \u001b[0;32mclass\u001b[0m \u001b[0munchained_nonlinear_fit\u001b[0m\u001b[0;34m(\u001b[0m\u001b[0mlsqfit\u001b[0m\u001b[0;34m.\u001b[0m\u001b[0mnonlinear_fit\u001b[0m\u001b[0;34m)\u001b[0m\u001b[0;34m:\u001b[0m\u001b[0;34m\u001b[0m\u001b[0;34m\u001b[0m\u001b[0m\n\u001b[1;32m    639\u001b[0m     \u001b[0;32mdef\u001b[0m \u001b[0m__init__\u001b[0m\u001b[0;34m(\u001b[0m\u001b[0mself\u001b[0m\u001b[0;34m,\u001b[0m \u001b[0mfname\u001b[0m\u001b[0;34m,\u001b[0m \u001b[0mfitter_args_kargs\u001b[0m\u001b[0;34m,\u001b[0m \u001b[0;34m*\u001b[0m\u001b[0margs\u001b[0m\u001b[0;34m,\u001b[0m \u001b[0;34m**\u001b[0m\u001b[0mkargs\u001b[0m\u001b[0;34m)\u001b[0m\u001b[0;34m:\u001b[0m\u001b[0;34m\u001b[0m\u001b[0;34m\u001b[0m\u001b[0m\n\u001b[0;32m--> 640\u001b[0;31m         \u001b[0msuper\u001b[0m\u001b[0;34m(\u001b[0m\u001b[0munchained_nonlinear_fit\u001b[0m\u001b[0;34m,\u001b[0m \u001b[0mself\u001b[0m\u001b[0;34m)\u001b[0m\u001b[0;34m.\u001b[0m\u001b[0m__init__\u001b[0m\u001b[0;34m(\u001b[0m\u001b[0;34m*\u001b[0m\u001b[0margs\u001b[0m\u001b[0;34m,\u001b[0m \u001b[0;34m**\u001b[0m\u001b[0mkargs\u001b[0m\u001b[0;34m)\u001b[0m\u001b[0;34m\u001b[0m\u001b[0;34m\u001b[0m\u001b[0m\n\u001b[0m\u001b[1;32m    641\u001b[0m         \u001b[0mself\u001b[0m\u001b[0;34m.\u001b[0m\u001b[0mchained_fits\u001b[0m \u001b[0;34m=\u001b[0m \u001b[0mcollections\u001b[0m\u001b[0;34m.\u001b[0m\u001b[0mOrderedDict\u001b[0m\u001b[0;34m(\u001b[0m\u001b[0;34m[\u001b[0m\u001b[0;34m(\u001b[0m\u001b[0mfname\u001b[0m\u001b[0;34m,\u001b[0m \u001b[0mself\u001b[0m\u001b[0;34m)\u001b[0m\u001b[0;34m]\u001b[0m\u001b[0;34m)\u001b[0m\u001b[0;34m\u001b[0m\u001b[0;34m\u001b[0m\u001b[0m\n\u001b[1;32m    642\u001b[0m         \u001b[0mfitter_args_kargs\u001b[0m\u001b[0;34m[\u001b[0m\u001b[0;36m1\u001b[0m\u001b[0;34m]\u001b[0m\u001b[0;34m[\u001b[0m\u001b[0;34m'p0'\u001b[0m\u001b[0;34m]\u001b[0m \u001b[0;34m=\u001b[0m \u001b[0mself\u001b[0m\u001b[0;34m.\u001b[0m\u001b[0mpmean\u001b[0m\u001b[0;34m\u001b[0m\u001b[0;34m\u001b[0m\u001b[0m\n",
      "\u001b[0;32m~/.local/lib/python3.9/site-packages/lsqfit/__init__.py\u001b[0m in \u001b[0;36m__init__\u001b[0;34m(self, data, fcn, prior, p0, eps, svdcut, debug, tol, maxit, udata, _fdata, noise, add_svdnoise, add_priornoise, linear, fitter, **fitterargs)\u001b[0m\n\u001b[1;32m    700\u001b[0m             \u001b[0mself\u001b[0m\u001b[0;34m.\u001b[0m\u001b[0m_p\u001b[0m \u001b[0;34m=\u001b[0m \u001b[0;32mNone\u001b[0m          \u001b[0;31m# lazy evaluation\u001b[0m\u001b[0;34m\u001b[0m\u001b[0;34m\u001b[0m\u001b[0m\n\u001b[1;32m    701\u001b[0m             self.palt = _reformat(\n\u001b[0;32m--> 702\u001b[0;31m                 \u001b[0mself\u001b[0m\u001b[0;34m.\u001b[0m\u001b[0mp0\u001b[0m\u001b[0;34m,\u001b[0m \u001b[0m_gvar\u001b[0m\u001b[0;34m.\u001b[0m\u001b[0mgvar\u001b[0m\u001b[0;34m(\u001b[0m\u001b[0mfit\u001b[0m\u001b[0;34m.\u001b[0m\u001b[0mx\u001b[0m\u001b[0;34m.\u001b[0m\u001b[0mflat\u001b[0m\u001b[0;34m,\u001b[0m \u001b[0mfit\u001b[0m\u001b[0;34m.\u001b[0m\u001b[0mcov\u001b[0m\u001b[0;34m)\u001b[0m\u001b[0;34m,\u001b[0m\u001b[0;34m\u001b[0m\u001b[0;34m\u001b[0m\u001b[0m\n\u001b[0m\u001b[1;32m    703\u001b[0m                 )\n\u001b[1;32m    704\u001b[0m             \u001b[0mself\u001b[0m\u001b[0;34m.\u001b[0m\u001b[0mpmean\u001b[0m \u001b[0;34m=\u001b[0m \u001b[0m_gvar\u001b[0m\u001b[0;34m.\u001b[0m\u001b[0mmean\u001b[0m\u001b[0;34m(\u001b[0m\u001b[0mself\u001b[0m\u001b[0;34m.\u001b[0m\u001b[0mpalt\u001b[0m\u001b[0;34m)\u001b[0m\u001b[0;34m\u001b[0m\u001b[0;34m\u001b[0m\u001b[0m\n",
      "\u001b[0;32m_gvarcore.pyx\u001b[0m in \u001b[0;36mgvar._gvarcore.GVarFactory.__call__\u001b[0;34m()\u001b[0m\n",
      "\u001b[0;32m_gvarcore.pyx\u001b[0m in \u001b[0;36mgvar._gvarcore.GVarFactory.__call__\u001b[0;34m()\u001b[0m\n",
      "\u001b[0;31mValueError\u001b[0m: non-symmetric covariance matrix:\n[[nan nan nan nan nan nan nan nan nan nan nan nan nan nan nan nan nan nan\n  nan nan nan nan]\n [nan nan nan nan nan nan nan nan nan nan nan nan nan nan nan nan nan nan\n  nan nan nan nan]\n [nan nan nan nan nan nan nan nan nan nan nan nan nan nan nan nan nan nan\n  nan nan nan nan]\n [nan nan nan nan nan nan nan nan nan nan nan nan nan nan nan nan nan nan\n  nan nan nan nan]\n [nan nan nan nan nan nan nan nan nan nan nan nan nan nan nan nan nan nan\n  nan nan nan nan]\n [nan nan nan nan nan nan nan nan nan nan nan nan nan nan nan nan nan nan\n  nan nan nan nan]\n [nan nan nan nan nan nan nan nan nan nan nan nan nan nan nan nan nan nan\n  nan nan nan nan]\n [nan nan nan nan nan nan nan nan nan nan nan nan nan nan nan nan nan nan\n  nan nan nan nan]\n [nan nan nan nan nan nan nan nan nan nan nan nan nan nan nan nan nan nan\n  nan nan nan nan]\n [nan nan nan nan nan nan nan nan nan nan nan nan nan nan nan nan nan nan\n  nan nan nan nan]\n [nan nan nan nan nan nan nan nan nan nan nan nan nan nan nan nan nan nan\n  nan nan nan nan]\n [nan nan nan nan nan nan nan nan nan nan nan nan nan nan nan nan nan nan\n  nan nan nan nan]\n [nan nan nan nan nan nan nan nan nan nan nan nan nan nan nan nan nan nan\n  nan nan nan nan]\n [nan nan nan nan nan nan nan nan nan nan nan nan nan nan nan nan nan nan\n  nan nan nan nan]\n [nan nan nan nan nan nan nan nan nan nan nan nan nan nan nan nan nan nan\n  nan nan nan nan]\n [nan nan nan nan nan nan nan nan nan nan nan nan nan nan nan nan nan nan\n  nan nan nan nan]\n [nan nan nan nan nan nan nan nan nan nan nan nan nan nan nan nan nan nan\n  nan nan nan nan]\n [nan nan nan nan nan nan nan nan nan nan nan nan nan nan nan nan nan nan\n  nan nan nan nan]\n [nan nan nan nan nan nan nan nan nan nan nan nan nan nan nan nan nan nan\n  nan nan nan nan]\n [nan nan nan nan nan nan nan nan nan nan nan nan nan nan nan nan nan nan\n  nan nan nan nan]\n [nan nan nan nan nan nan nan nan nan nan nan nan nan nan nan nan nan nan\n  nan nan nan nan]\n [nan nan nan nan nan nan nan nan nan nan nan nan nan nan nan nan nan nan\n  nan nan nan nan]]"
     ]
    }
   ],
   "source": [
    "p = input_output.get_posterior(fit_test=fit_test,prior=prior,param=None)\n",
    "fit_post = fit.fit_routine(prior=p, data=phys_point_data,model_info=model_info)\n",
    "print(fit_post.fit)\n",
    "#print(p)"
   ]
  },
  {
   "cell_type": "code",
   "execution_count": 15,
   "metadata": {
    "tags": []
   },
   "outputs": [
    {
     "output_type": "stream",
     "name": "stdout",
     "text": [
      "dict_values([1000(1000), 1200(1000), 1400(1000), 1000(1000), 1300(1000), 0.0(1.0), 0.0(1.0), 0.0(1.0), 0.0(1.0), 0.0(1.0), 0.0(1.0), 0.0(1.0), 0.0(1.0), 0.0(1.0), 0.0(1.0), 0.0(1.0), 0.0(1.0), 0.0(1.0), 0.0(1.0), 0.0(1.0), 0.0(5.0), 0.0(5.0), 0.0(5.0), 0.0(5.0), 0.0(5.0), 0.0(5.0), 0.0(5.0), 0.0(5.0), 0.0(5.0), 0.0(5.0), 0.3(3.0), 0.7(3.0), -0.5(3.0), 0.0(5.0), 0.0(5.0), 0.0(5.0), 0.0(5.0), 0.0(5.0), 0.0(5.0), 0.0(5.0), 0.0(5.0), 0.0(5.0), 0.0(5.0), 0.0(1.0), 0.0(1.0), 0.0(1.0), 0.0(1.0), 0.0(1.0), 0.0(1.0), 0.0(1.0), 0.0(1.0), 0.0(1.0), 0.0(1.0), 0.0(1.0), 0.0(1.0), 0.0(1.0), 0.0(1.0), 0.0(1.0), 0.0(1.0), 0.0(1.0), 0.0(1.0), 0.0(1.0), 0.0(1.0), 0(0), 0(0), 0(0), inf(0), 197.327(0), 1157.0(7.2), 134.80(30), 494.20(30), 1115.6830(60), 1193.154(27), 1384.57(39), 1318.28(11), 1533.40(34), 1672(29), 938(29), array([561.9(5.0), 493.9(4.0), 516.9(4.1), 544.9(4.4), 558.2(4.5),\n",
      "       576.9(4.6), 494.1(3.6), 507.3(3.7), 530.1(3.9), 544.7(4.0),\n",
      "       561.6(4.1), 508.1(3.4), 507.3(3.4), 530.4(3.5), 529.8(3.5),\n",
      "       542.4(3.6), 560.2(3.7)], dtype=object)])\n",
      "Partial % Errors:\n",
      "                          proton\n",
      "--------------------------------\n",
      "         m_{lambda,0}:      0.00\n",
      "          m_{sigma,0}:      0.00\n",
      "       m_{sigma_st,0}:      0.00\n",
      "             m_{xi,0}:      0.00\n",
      "          m_{xi_st,0}:      0.00\n",
      "         d_{lambda,a}:      0.00\n",
      "          d_{sigma,a}:      0.00\n",
      "       d_{sigma_st,a}:      0.00\n",
      "             d_{xi,a}:      0.00\n",
      "          d_{xi_st,a}:      0.00\n",
      "        d_{lambda,aa}:      0.00\n",
      "        d_{lambda,al}:      0.00\n",
      "         d_{sigma,aa}:      0.00\n",
      "         d_{sigma,al}:      0.00\n",
      "      d_{sigma_st,aa}:      0.00\n",
      "      d_{sigma_st,al}:      0.00\n",
      "            d_{xi,aa}:      0.00\n",
      "            d_{xi,al}:      0.00\n",
      "         d_{xi_st,aa}:      0.00\n",
      "         d_{xi_st,al}:      0.00\n",
      "           s_{lambda}:      0.00\n",
      "            s_{sigma}:      0.00\n",
      "        s_{sigma,bar}:      0.00\n",
      "               s_{xi}:      0.00\n",
      "           s_{xi,bar}:      0.00\n",
      "     g_{lambda,sigma}:      0.00\n",
      "  g_{lambda,sigma_st}:      0.00\n",
      "      g_{sigma,sigma}:      0.00\n",
      "   g_{sigma_st,sigma}:      0.00\n",
      "g_{sigma_st,sigma_st}:      0.00\n",
      "            g_{xi,xi}:      0.00\n",
      "         g_{xi_st,xi}:      0.00\n",
      "      g_{xi_st,xi_st}:      0.00\n",
      "         b_{lambda,4}:      0.00\n",
      "          b_{sigma,4}:      0.00\n",
      "       b_{sigma_st,4}:      0.00\n",
      "             b_{xi,4}:      0.00\n",
      "          b_{xi_st,4}:      0.00\n",
      "         a_{lambda,4}:      0.00\n",
      "          a_{sigma,4}:      0.00\n",
      "       a_{sigma_st,4}:      0.00\n",
      "             a_{xi,4}:      0.00\n",
      "          a_{xi_st,4}:      0.00\n",
      "         d_{lambda,s}:      0.00\n",
      "          d_{sigma,s}:      0.00\n",
      "       d_{sigma_st,s}:      0.00\n",
      "             d_{xi,s}:      0.00\n",
      "          d_{xi_st,s}:      0.00\n",
      "        d_{lambda,as}:      0.00\n",
      "        d_{lambda,ls}:      0.00\n",
      "        d_{lambda,ss}:      0.00\n",
      "         d_{sigma,as}:      0.00\n",
      "         d_{sigma,ls}:      0.00\n",
      "         d_{sigma,ss}:      0.00\n",
      "      d_{sigma_st,as}:      0.00\n",
      "      d_{sigma_st,ls}:      0.00\n",
      "      d_{sigma_st,ss}:      0.00\n",
      "            d_{xi,as}:      0.00\n",
      "            d_{xi,ls}:      0.00\n",
      "            d_{xi,ss}:      0.00\n",
      "         d_{xi_st,as}:      0.00\n",
      "         d_{xi_st,ls}:      0.00\n",
      "         d_{xi_st,ss}:      0.00\n",
      "               eps2_a:      0.00\n",
      "                    a:      0.00\n",
      "              alpha_s:      0.00\n",
      "                    L:      0.00\n",
      "                hbarc:      0.00\n",
      "              lam_chi:      0.02\n",
      "                 m_pi:      0.02\n",
      "                  m_k:      0.00\n",
      "             m_lambda:      0.00\n",
      "              m_sigma:      0.00\n",
      "           m_sigma_st:      0.00\n",
      "                 m_xi:      0.00\n",
      "              m_xi_st:      0.00\n",
      "              m_omega:      0.00\n",
      "             m_proton:      0.00\n",
      "             x [stat]:      0.37\n",
      "--------------------------------\n",
      "                total:      0.38\n",
      "\n",
      "{'disc': -0.0, 'pp': -0.0, 'stat': -0.0, 'chiral': -0.0}\n",
      "None\n",
      "/Users/grantdb/LQCD/hyperon-xpt-master/xpt/fit_analysis.py:145: UserWarning: proton partial error 3.550816090276777  !=  total error 3.603157611389335\n",
      "  print(gv.fmt_errorbudget(outputs=extrapolated_mass, inputs=inputs, verify=True))\n"
     ]
    }
   ],
   "source": [
    "from importlib import reload\n",
    "reload(fa)\n",
    "fit_analysis = fa.fit_analysis(phys_point_data=phys_point_data, data=data,model_info=model_info, prior=prior)\n",
    "hi = fit_analysis.error_budget\n",
    "print(hi)"
   ]
  },
  {
   "cell_type": "code",
   "execution_count": null,
   "metadata": {},
   "outputs": [],
   "source": [
    "for j, ens_j in enumerate(fit_analysis.ensembles):\n",
    "    print(j,ens_j)"
   ]
  },
  {
   "cell_type": "code",
   "execution_count": 10,
   "metadata": {},
   "outputs": [
    {
     "output_type": "error",
     "ename": "NameError",
     "evalue": "name 'reload' is not defined",
     "traceback": [
      "\u001b[0;31m---------------------------------------------------------------------------\u001b[0m",
      "\u001b[0;31mNameError\u001b[0m                                 Traceback (most recent call last)",
      "\u001b[0;32m<ipython-input-10-c1ff000cc816>\u001b[0m in \u001b[0;36m<module>\u001b[0;34m\u001b[0m\n\u001b[0;32m----> 1\u001b[0;31m \u001b[0mreload\u001b[0m\u001b[0;34m(\u001b[0m\u001b[0mio\u001b[0m\u001b[0;34m)\u001b[0m\u001b[0;34m\u001b[0m\u001b[0;34m\u001b[0m\u001b[0m\n\u001b[0m\u001b[1;32m      2\u001b[0m \u001b[0mm_proton\u001b[0m \u001b[0;34m=\u001b[0m \u001b[0mfit_analysis\u001b[0m\u001b[0;34m.\u001b[0m\u001b[0mfitfcn\u001b[0m\u001b[0;34m(\u001b[0m\u001b[0mp\u001b[0m\u001b[0;34m=\u001b[0m\u001b[0mp\u001b[0m\u001b[0;34m,\u001b[0m\u001b[0mdata\u001b[0m\u001b[0;34m=\u001b[0m\u001b[0mphys_point_data\u001b[0m\u001b[0;34m,\u001b[0m\u001b[0mparticle\u001b[0m\u001b[0;34m=\u001b[0m\u001b[0;34m'proton'\u001b[0m\u001b[0;34m)\u001b[0m\u001b[0;34m\u001b[0m\u001b[0;34m\u001b[0m\u001b[0m\n\u001b[1;32m      3\u001b[0m \u001b[0mm_pi\u001b[0m \u001b[0;34m=\u001b[0m \u001b[0mphys_point_data\u001b[0m\u001b[0;34m[\u001b[0m\u001b[0;34m'm_pi'\u001b[0m\u001b[0;34m]\u001b[0m\u001b[0;34m\u001b[0m\u001b[0;34m\u001b[0m\u001b[0m\n\u001b[1;32m      4\u001b[0m \u001b[0mprint\u001b[0m\u001b[0;34m(\u001b[0m\u001b[0mm_pi\u001b[0m\u001b[0;34m)\u001b[0m\u001b[0;34m\u001b[0m\u001b[0;34m\u001b[0m\u001b[0m\n\u001b[1;32m      5\u001b[0m \u001b[0;31m#m_proton = assistant.extrapolate('proton')\u001b[0m\u001b[0;34m\u001b[0m\u001b[0;34m\u001b[0m\u001b[0;34m\u001b[0m\u001b[0m\n",
      "\u001b[0;31mNameError\u001b[0m: name 'reload' is not defined"
     ]
    }
   ],
   "source": [
    "reload(io)\n",
    "m_proton = fit_analysis.fitfcn(p=p,data=phys_point_data,particle='proton')\n",
    "m_pi = phys_point_data['m_pi']\n",
    "print(m_pi)\n",
    "#m_proton = assistant.extrapolate('proton')\n",
    "#sigma = gv.gvar(m_pi)**2 *gv.deriv(gv.gvar(m_proton), gv.gvar(m_pi)**2)\n",
    "sigma = m_pi**2 *gv.deriv(m_proton, m_pi**2)\n",
    "print(sigma)"
   ]
  },
  {
   "cell_type": "code",
   "execution_count": 11,
   "metadata": {},
   "outputs": [
    {
     "output_type": "error",
     "ename": "NameError",
     "evalue": "name 'phys_point_data' is not defined",
     "traceback": [
      "\u001b[0;31m---------------------------------------------------------------------------\u001b[0m",
      "\u001b[0;31mNameError\u001b[0m                                 Traceback (most recent call last)",
      "\u001b[0;32m<ipython-input-11-26fa51729616>\u001b[0m in \u001b[0;36m<module>\u001b[0;34m\u001b[0m\n\u001b[1;32m      1\u001b[0m \u001b[0ml3\u001b[0m \u001b[0;34m=\u001b[0m \u001b[0mgv\u001b[0m\u001b[0;34m.\u001b[0m\u001b[0mgvar\u001b[0m\u001b[0;34m(\u001b[0m\u001b[0;34m'3.53(26)'\u001b[0m\u001b[0;34m)\u001b[0m\u001b[0;34m\u001b[0m\u001b[0;34m\u001b[0m\u001b[0m\n\u001b[1;32m      2\u001b[0m \u001b[0ml4\u001b[0m \u001b[0;34m=\u001b[0m \u001b[0mgv\u001b[0m\u001b[0;34m.\u001b[0m\u001b[0mgvar\u001b[0m\u001b[0;34m(\u001b[0m\u001b[0;34m'4.73(10)'\u001b[0m\u001b[0;34m)\u001b[0m\u001b[0;34m\u001b[0m\u001b[0;34m\u001b[0m\u001b[0m\n\u001b[0;32m----> 3\u001b[0;31m \u001b[0mlam_chi\u001b[0m \u001b[0;34m=\u001b[0m \u001b[0mphys_point_data\u001b[0m\u001b[0;34m[\u001b[0m\u001b[0;34m'lam_chi'\u001b[0m\u001b[0;34m]\u001b[0m\u001b[0;34m\u001b[0m\u001b[0;34m\u001b[0m\u001b[0m\n\u001b[0m\u001b[1;32m      4\u001b[0m \u001b[0;32mreturn\u001b[0m \u001b[0;34m(\u001b[0m\u001b[0mm_pi\u001b[0m \u001b[0;34m/\u001b[0m \u001b[0mlam_chi\u001b[0m\u001b[0;34m)\u001b[0m\u001b[0;34m**\u001b[0m\u001b[0;36m2\u001b[0m \u001b[0;34m*\u001b[0m\u001b[0;34m(\u001b[0m\u001b[0;36m5\u001b[0m\u001b[0;34m/\u001b[0m\u001b[0;36m2\u001b[0m \u001b[0;34m-\u001b[0m \u001b[0ml3\u001b[0m\u001b[0;34m/\u001b[0m\u001b[0;36m2\u001b[0m \u001b[0;34m-\u001b[0m\u001b[0;36m2\u001b[0m \u001b[0;34m*\u001b[0m\u001b[0ml4\u001b[0m\u001b[0;34m)\u001b[0m\u001b[0;34m\u001b[0m\u001b[0;34m\u001b[0m\u001b[0m\n",
      "\u001b[0;31mNameError\u001b[0m: name 'phys_point_data' is not defined"
     ]
    }
   ],
   "source": [
    "l3 = gv.gvar('3.53(26)')\n",
    "l4 = gv.gvar('4.73(10)')\n",
    "lam_chi = phys_point_data['lam_chi']\n",
    "return (m_pi / lam_chi)**2 *(5/2 - l3/2 -2 *l4)"
   ]
  },
  {
   "cell_type": "code",
   "execution_count": 17,
   "metadata": {},
   "outputs": [
    {
     "output_type": "stream",
     "name": "stdout",
     "text": [
      "{'m_{xi,0}': 1000(1000), 'm_{xi_st,0}': 1300(1000), 'm_{lambda,0}': 1000(1000), 'm_{sigma,0}': 1200(1000), 'm_{sigma_st,0}': 1400(1000), 'm_{omega,0}': 1650(1000), 'm_{proton,0}': 910(10), 'm_{delta,0}': 1229(747), 's_{xi}': 0.01(5.00), 's_{xi,bar}': 0.01(5.00), 's_{lambda}': 0.01(5.00), 's_{sigma,bar}': 0.01(5.00), 's_{sigma}': 0.01(5.00), 's_{omega,bar}': 0.01(5.00), 'g_{xi,xi}': 0.3(3.0), 'g_{xi_st,xi}': 0.7(3.0), 'g_{xi_st,xi_st}': -0.5(3.0), 'g_{lambda,sigma}': 0.01(5.00), 'g_{lambda,sigma_st}': 0.01(5.00), 'g_{sigma,sigma}': 0.01(5.00), 'g_{sigma_st,sigma}': 0.01(5.00), 'g_{sigma_st,sigma_st}': 0.01(5.00), 'g_{proton,delta}': -5e-11 +- 5, 'g_{proton,proton}': 2e-13 +- 5, 'g_{delta,delta}': 0.01(5.00), 'a_{xi,4}': 0.01(5.00), 'a_{xi_st,4}': 0.01(5.00), 'b_{xi,4}': 0.01(5.00), 'b_{xi_st,4}': 0.01(5.00), 'a_{sigma,4}': 0.01(5.00), 'a_{sigma_st,4}': 0.01(5.00), 'b_{sigma,4}': 0.01(5.00), 'b_{sigma_st,4}': 0.01(5.00), 'a_{lambda,4}': 0.01(5.00), 'b_{lambda,4}': 0.01(5.00), 'a_{omega,4}': 0.01(5.00), 'b_{omega,4}': 0.01(5.00), 'a_{omega,6}': 0.01(5.00), 'b_{omega,6}': 0.01(5.00), 'a_{proton,4}': -0.8(4.2), 'b_{proton,4}': 0.05(1.54), 'b_{proton,2}': 2.20(82), 'y_{delta,4}': 0.01(5.00), 'y_{proton,4}': -7.3(4.9), 't_{omega,A}': 4e-11 +- 2, 'd_{xi,a}': -3e-14 +- 1, 'd_{xi_st,a}': 5e-14 +- 1, 'd_{xi,s}': -3e-14 +- 1, 'd_{xi_st,s}': -1e-13 +- 1, 'd_{lambda,s}': -2e-14 +- 1, 'd_{lambda,a}': -1e-13 +- 1, 'd_{sigma_st,a}': 2e-14 +- 1, 'd_{sigma_st,s}': -2e-14 +- 1, 'd_{sigma,s}': 1e-13 +- 1, 'd_{sigma,a}': 6e-14 +- 1, 'd_{omega,s}': -1e-13 +- 1, 'd_{omega,a}': 8e-14 +- 1, 'd_{xi,aa}': -2e-14 +- 1, 'd_{xi,al}': 3e-14 +- 1, 'd_{xi,as}': 7e-14 +- 1, 'd_{xi,ls}': 8e-15 +- 1, 'd_{xi,ss}': -5e-14 +- 1, 'd_{xi_st,aa}': 9e-14 +- 1, 'd_{xi_st,al}': 1e-13 +- 1, 'd_{xi_st,as}': 1e-14 +- 1, 'd_{xi_st,ls}': -5e-14 +- 1, 'd_{xi_st,ss}': 4e-14 +- 1, 'd_{lambda,aa}': 6e-14 +- 1, 'd_{lambda,al}': 2e-14 +- 1, 'd_{lambda,as}': -4e-14 +- 1, 'd_{lambda,ls}': -3e-18 +- 1, 'd_{lambda,ss}': -3e-14 +- 1, 'd_{sigma,aa}': 3e-14 +- 1, 'd_{sigma,al}': -5e-14 +- 1, 'd_{sigma,as}': -2e-14 +- 1, 'd_{sigma,ls}': -3e-14 +- 1, 'd_{sigma,ss}': 2e-14 +- 1, 'd_{sigma_st,aa}': -4e-14 +- 1, 'd_{sigma_st,al}': 1e-13 +- 1, 'd_{sigma_st,as}': 1e-14 +- 1, 'd_{sigma_st,ls}': -7e-14 +- 1, 'd_{sigma_st,ss}': 9e-15 +- 1, 'd_{omega,aa}': -4e-14 +- 1, 'd_{omega,al}': -1e-13 +- 1, 'd_{omega,as}': -2e-14 +- 1, 'd_{omega,ls}': 2e-13 +- 1, 'd_{omega,ss}': 3e-13 +- 1, 'm_pi': array([318.11(85), 132.43(54), 225.52(82), 309.64(83), 344.0(1.1),\n       395.8(1.4), 134.34(54), 219.59(71), 310.60(81), 348.92(94),\n       400.4(1.6), 134.07(54), 218.10(70), 311.05(95), 314.98(87),\n       359.04(90), 404.8(1.8)], dtype=object), 'm_k': array([545.1(1.5), 486.7(2.0), 526.8(1.9), 530.4(1.4), 538.1(1.7),\n       557.6(2.0), 499.5(2.0), 508.3(1.6), 533.5(1.4), 543.1(1.5),\n       564.8(2.3), 504.8(2.0), 510.4(1.6), 533.2(1.6), 543.7(1.5),\n       561.1(1.4), 571.1(2.6)], dtype=object), 'lam_chi': array([1283.7(3.4), 1141.6(4.6), 1240.2(4.5), 1258.8(3.4), 1276.9(4.1),\n       1327.9(4.8), 1184.3(4.8), 1210.8(3.9), 1269.7(3.3), 1290.8(3.5),\n       1343.1(5.4), 1167.2(4.7), 1206.3(3.9), 1246.9(3.8), 1284.0(3.5),\n       1310.6(3.3), 1333.3(6.0)], dtype=object), 'eps2_a': array([0.029618(41), 0.065325(70), 0.066506(83), 0.06877(16), 0.06998(19),\n       0.07160(20), 0.123786(95), 0.12594(12), 0.13008(23), 0.13214(20),\n       0.13446(16), 0.19514(12), 0.19737(28), 0.20368(32), 0.20416(25),\n       0.20706(48), 0.21168(56)], dtype=object), 'm_delta': array([1306.6(3.6), 1361.6(5.5), 1352.4(5.0), 1400.9(3.9), 1441.9(4.6),\n       1503.8(5.5), 1383.5(5.6), 1404.3(4.5), 1445.9(3.8), 1452.5(3.9),\n       1506.3(6.1), 1441.4(5.8), 1411.8(4.5), 1446.6(4.4), 1479.3(4.1),\n       1457.2(3.7), 1516.6(6.8)], dtype=object)}\n"
     ]
    }
   ],
   "source": [
    "print(fit_analysis.posterior)"
   ]
  },
  {
   "cell_type": "code",
   "execution_count": 20,
   "metadata": {},
   "outputs": [
    {
     "output_type": "error",
     "ename": "IndexError",
     "evalue": "index 17 is out of bounds for axis 0 with size 17",
     "traceback": [
      "\u001b[0;31m---------------------------------------------------------------------------\u001b[0m",
      "\u001b[0;31mIndexError\u001b[0m                                Traceback (most recent call last)",
      "\u001b[0;32m<ipython-input-20-1f96a8b98bc7>\u001b[0m in \u001b[0;36m<module>\u001b[0;34m\u001b[0m\n\u001b[0;32m----> 1\u001b[0;31m \u001b[0mprint\u001b[0m\u001b[0;34m(\u001b[0m\u001b[0mfit_analysis\u001b[0m\u001b[0;34m.\u001b[0m\u001b[0m_extrapolate_to_ens\u001b[0m\u001b[0;34m(\u001b[0m\u001b[0mens\u001b[0m\u001b[0;34m=\u001b[0m\u001b[0;32mNone\u001b[0m\u001b[0;34m,\u001b[0m\u001b[0mphys_params\u001b[0m\u001b[0;34m=\u001b[0m\u001b[0;32mNone\u001b[0m\u001b[0;34m)\u001b[0m\u001b[0;34m)\u001b[0m\u001b[0;34m\u001b[0m\u001b[0;34m\u001b[0m\u001b[0m\n\u001b[0m",
      "\u001b[0;32m~/LQCD/hyperon-xpt-master/xpt/fit_analysis.py\u001b[0m in \u001b[0;36m_extrapolate_to_ens\u001b[0;34m(self, ens, phys_params)\u001b[0m\n\u001b[1;32m    281\u001b[0m                         \u001b[0mposterior\u001b[0m\u001b[0;34m[\u001b[0m\u001b[0mparam\u001b[0m\u001b[0;34m]\u001b[0m \u001b[0;34m=\u001b[0m \u001b[0mself\u001b[0m\u001b[0;34m.\u001b[0m\u001b[0mfitter\u001b[0m\u001b[0;34m.\u001b[0m\u001b[0mfit\u001b[0m\u001b[0;34m.\u001b[0m\u001b[0mp\u001b[0m\u001b[0;34m[\u001b[0m\u001b[0mparam\u001b[0m\u001b[0;34m]\u001b[0m\u001b[0;34m\u001b[0m\u001b[0;34m\u001b[0m\u001b[0m\n\u001b[1;32m    282\u001b[0m                     \u001b[0;32melse\u001b[0m\u001b[0;34m:\u001b[0m\u001b[0;34m\u001b[0m\u001b[0;34m\u001b[0m\u001b[0m\n\u001b[0;32m--> 283\u001b[0;31m                         \u001b[0mposterior\u001b[0m\u001b[0;34m[\u001b[0m\u001b[0mparam\u001b[0m\u001b[0;34m]\u001b[0m \u001b[0;34m=\u001b[0m \u001b[0mself\u001b[0m\u001b[0;34m.\u001b[0m\u001b[0mfitter\u001b[0m\u001b[0;34m.\u001b[0m\u001b[0mfit\u001b[0m\u001b[0;34m.\u001b[0m\u001b[0mp\u001b[0m\u001b[0;34m[\u001b[0m\u001b[0mparam\u001b[0m\u001b[0;34m]\u001b[0m\u001b[0;34m[\u001b[0m\u001b[0mj\u001b[0m\u001b[0;34m]\u001b[0m\u001b[0;34m\u001b[0m\u001b[0;34m\u001b[0m\u001b[0m\n\u001b[0m\u001b[1;32m    284\u001b[0m \u001b[0;34m\u001b[0m\u001b[0m\n\u001b[1;32m    285\u001b[0m                 \u001b[0;32mif\u001b[0m \u001b[0;34m'alpha_s'\u001b[0m \u001b[0;32min\u001b[0m \u001b[0mphys_params\u001b[0m\u001b[0;34m:\u001b[0m\u001b[0;34m\u001b[0m\u001b[0;34m\u001b[0m\u001b[0m\n",
      "\u001b[0;31mIndexError\u001b[0m: index 17 is out of bounds for axis 0 with size 17"
     ]
    }
   ],
   "source": [
    "print(fit_analysis._extrapolate_to_ens(ens=None,phys_params=None))"
   ]
  },
  {
   "cell_type": "code",
   "execution_count": null,
   "metadata": {},
   "outputs": [],
   "source": [
    "m_pi = i_o.data_phys_point['m_pi']\n",
    "m_proton = assistant.extrapolate('proton')\n",
    "sigma = m_pi**2 *gv.deriv(m_proton, m_pi**2)"
   ]
  },
  {
   "cell_type": "code",
   "execution_count": 24,
   "metadata": {},
   "outputs": [
    {
     "output_type": "stream",
     "name": "stdout",
     "text": [
      "{'xi': array([1282(12), 1318(11), 1370(11), 1388(11), 1411(12), 1271.5(9.6),\n       1283(10), 1318.6(9.9), 1336(10), 1358(10), 1258.0(8.6),\n       1257.6(8.5), 1294.3(8.7), 1288.1(9.1), 1302.1(9.7), 1327.5(9.8)],\n      dtype=object), 'xi_st': array([1527(16), 1563(19), 1620(21), 1631(27), 1671(15), 1535(13),\n       1555(12), 1581(13), 1599(14), 1622(13), 1528(11), 1518(13),\n       1557(10), 1554(11), 1555(13), 1584(13)], dtype=object), 'sigma': array([1201(10), 1215(13), 1291(11), 1312(12), 1347(12), 1186.3(9.6),\n       1208.7(9.2), 1248.0(9.6), 1275.2(9.7), 1298(10), 1206(10),\n       1194.5(8.9), 1236.8(8.3), 1229.1(9.2), 1237.6(9.5), 1280.5(9.0)],\n      dtype=object), 'sigma_st': array([1423(23), 1461(23), 1541(26), 1573(22), 1601(17), 1462(14),\n       1480(12), 1507(17), 1536(16), 1558(17), 1485(13), 1447(23),\n       1499(10), 1499(11), 1490(21), 1537(13)], dtype=object), 'lambda': array([1062(26), 1142(11), 1229(10), 1260(10), 1304(11), 1090(11),\n       1123.8(9.5), 1187.4(9.1), 1213.6(9.9), 1252.6(9.7), 1065(10),\n       1103.0(7.9), 1162.8(8.9), 1156.7(8.7), 1180.1(8.9), 1228.1(8.7)],\n      dtype=object)}\n"
     ]
    }
   ],
   "source": [
    "x = fit_analysis.fitter.y\n",
    "print(x)\n"
   ]
  }
 ],
 "metadata": {
  "language_info": {
   "codemirror_mode": {
    "name": "ipython",
    "version": 3
   },
   "file_extension": ".py",
   "mimetype": "text/x-python",
   "name": "python",
   "nbconvert_exporter": "python",
   "pygments_lexer": "ipython3",
   "version": "3.9.6-final"
  },
  "orig_nbformat": 2,
  "kernelspec": {
   "name": "python39264bit88959d025eb44449afffd5bfaa79fe92",
   "display_name": "Python 3.9.2 64-bit"
  }
 },
 "nbformat": 4,
 "nbformat_minor": 2
}
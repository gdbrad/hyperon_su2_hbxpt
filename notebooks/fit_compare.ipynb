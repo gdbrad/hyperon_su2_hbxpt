{
 "cells": [
  {
   "cell_type": "code",
   "execution_count": 1,
   "metadata": {},
   "outputs": [],
   "source": [
    "import matplotlib.pyplot as plt\n",
    "import re  \n",
    "import pprint\n",
    "import numpy as np"
   ]
  },
  {
   "cell_type": "code",
   "execution_count": 2,
   "metadata": {},
   "outputs": [
    {
     "ename": "FileNotFoundError",
     "evalue": "[Errno 2] No such file or directory: 'tables.txt'",
     "output_type": "error",
     "traceback": [
      "\u001b[0;31m---------------------------------------------------------------------------\u001b[0m",
      "\u001b[0;31mFileNotFoundError\u001b[0m                         Traceback (most recent call last)",
      "Cell \u001b[0;32mIn[2], line 25\u001b[0m\n\u001b[1;32m     22\u001b[0m     \u001b[38;5;28;01mreturn\u001b[39;00m data\n\u001b[1;32m     24\u001b[0m file_name \u001b[38;5;241m=\u001b[39m \u001b[38;5;124m\"\u001b[39m\u001b[38;5;124mtables.txt\u001b[39m\u001b[38;5;124m\"\u001b[39m\n\u001b[0;32m---> 25\u001b[0m data \u001b[38;5;241m=\u001b[39m \u001b[43mparse_latex_table\u001b[49m\u001b[43m(\u001b[49m\u001b[43mfile_name\u001b[49m\u001b[43m)\u001b[49m\n\u001b[1;32m     26\u001b[0m pprint\u001b[38;5;241m.\u001b[39mpprint(data)\n",
      "Cell \u001b[0;32mIn[2], line 2\u001b[0m, in \u001b[0;36mparse_latex_table\u001b[0;34m(file_name)\u001b[0m\n\u001b[1;32m      1\u001b[0m \u001b[38;5;28;01mdef\u001b[39;00m \u001b[38;5;21mparse_latex_table\u001b[39m(file_name):\n\u001b[0;32m----> 2\u001b[0m     \u001b[38;5;28;01mwith\u001b[39;00m \u001b[38;5;28;43mopen\u001b[39;49m\u001b[43m(\u001b[49m\u001b[43mfile_name\u001b[49m\u001b[43m,\u001b[49m\u001b[43m \u001b[49m\u001b[38;5;124;43m\"\u001b[39;49m\u001b[38;5;124;43mr\u001b[39;49m\u001b[38;5;124;43m\"\u001b[39;49m\u001b[43m)\u001b[49m \u001b[38;5;28;01mas\u001b[39;00m f:\n\u001b[1;32m      3\u001b[0m         content \u001b[38;5;241m=\u001b[39m f\u001b[38;5;241m.\u001b[39mread()\n\u001b[1;32m      5\u001b[0m     \u001b[38;5;66;03m# tables = content.split(\"\\n\\n\")\u001b[39;00m\n",
      "File \u001b[0;32m/usr/local/lib/python3.10/site-packages/IPython/core/interactiveshell.py:282\u001b[0m, in \u001b[0;36m_modified_open\u001b[0;34m(file, *args, **kwargs)\u001b[0m\n\u001b[1;32m    275\u001b[0m \u001b[39mif\u001b[39;00m file \u001b[39min\u001b[39;00m {\u001b[39m0\u001b[39m, \u001b[39m1\u001b[39m, \u001b[39m2\u001b[39m}:\n\u001b[1;32m    276\u001b[0m     \u001b[39mraise\u001b[39;00m \u001b[39mValueError\u001b[39;00m(\n\u001b[1;32m    277\u001b[0m         \u001b[39mf\u001b[39m\u001b[39m\"\u001b[39m\u001b[39mIPython won\u001b[39m\u001b[39m'\u001b[39m\u001b[39mt let you open fd=\u001b[39m\u001b[39m{\u001b[39;00mfile\u001b[39m}\u001b[39;00m\u001b[39m by default \u001b[39m\u001b[39m\"\u001b[39m\n\u001b[1;32m    278\u001b[0m         \u001b[39m\"\u001b[39m\u001b[39mas it is likely to crash IPython. If you know what you are doing, \u001b[39m\u001b[39m\"\u001b[39m\n\u001b[1;32m    279\u001b[0m         \u001b[39m\"\u001b[39m\u001b[39myou can use builtins\u001b[39m\u001b[39m'\u001b[39m\u001b[39m open.\u001b[39m\u001b[39m\"\u001b[39m\n\u001b[1;32m    280\u001b[0m     )\n\u001b[0;32m--> 282\u001b[0m \u001b[39mreturn\u001b[39;00m io_open(file, \u001b[39m*\u001b[39;49margs, \u001b[39m*\u001b[39;49m\u001b[39m*\u001b[39;49mkwargs)\n",
      "\u001b[0;31mFileNotFoundError\u001b[0m: [Errno 2] No such file or directory: 'tables.txt'"
     ]
    }
   ],
   "source": [
    "\n",
    "\n",
    "def parse_latex_table(file_name):\n",
    "    with open(file_name, \"r\") as f:\n",
    "        content = f.read()\n",
    "\n",
    "    # tables = content.split(\"\\n\\n\")\n",
    "    tables = re.split(r'\\\\end{tabular}', content)[:-1]\n",
    "\n",
    "    data = {}\n",
    "    for table in tables:\n",
    "        lines = table.strip().split(\"\\n\")\n",
    "        if len(lines) < 4:  \n",
    "            continue\n",
    "        ensemble = lines[2].split(\"&\")[0].strip().replace('$_','_')\n",
    "        data[ensemble] = {}\n",
    "\n",
    "        for line in lines[3:-1]:  \n",
    "            cols = line.split(\"&\")\n",
    "            person = cols[0].strip()\n",
    "            results = [tuple(map(float, re.findall(r\"([\\d.]+)\", item))) for item in cols[1:]]\n",
    "            data[ensemble][person] = dict(zip([\"N_E0\", \"Xi_EO\", \"Sigma_E0\", \"Lambda_E0\", \"Xi*_E0\", \"Delta_E0\", \"Sigma*_E0\"], results))\n",
    "\n",
    "    return data\n",
    "\n",
    "file_name = \"tables.txt\"\n",
    "data = parse_latex_table(file_name)\n",
    "pprint.pprint(data)\n",
    "\n"
   ]
  },
  {
   "cell_type": "code",
   "execution_count": null,
   "metadata": {},
   "outputs": [],
   "source": [
    "\n",
    "import numpy as np\n",
    "import matplotlib.pyplot as plt\n",
    "from matplotlib.backends.backend_pdf import PdfPages\n",
    "\n",
    "def plot_ensemble(ensemble_data, ensemble_name,pdf):\n",
    "    fig, ax = plt.subplots(figsize=(12, 8))\n",
    "\n",
    "    offset = 0.05\n",
    "\n",
    "    for i, (person, results) in enumerate(ensemble_data.items()):\n",
    "        if person == '\\\\hline':\n",
    "            continue\n",
    "        valid_results = {k: v for k, v in results.items() if len(v) > 0}\n",
    "        x = np.arange(len(valid_results))\n",
    "        y = [result[0] for result in valid_results.values()]\n",
    "        yerr = [result[1] *0.0001 if len(result) > 1 else 0 for result in valid_results.values()]\n",
    "        ax.errorbar(x + i * offset, y, yerr=yerr, fmt=\"o\", capsize=5, label=person)\n",
    "\n",
    "    ax.set_xticks(x + (len(ensemble_data) - 1) * offset / 2)\n",
    "    ax.set_xticklabels(valid_results.keys())\n",
    "    ax.set_xlim(-0.5, len(valid_results) - 0.5 + (len(ensemble_data) - 1) * offset)\n",
    "\n",
    "    ax.legend()\n",
    "    ax.set_xlabel(\"Baryon\")\n",
    "    ax.set_ylabel(\"Fit Result\")\n",
    "    ax.set_title(f\"Fit Results for {ensemble_name}\")\n",
    "\n",
    "    pdf.savefig(fig)\n",
    "    plt.close(fig)\n",
    "\n",
    "with PdfPages(\"output_plots.pdf\") as pdf:\n",
    "    for ensemble_name, ensemble_data in data.items():\n",
    "        plot_ensemble(ensemble_data, ensemble_name, pdf)\n",
    "\n",
    "\n"
   ]
  },
  {
   "cell_type": "code",
   "execution_count": null,
   "metadata": {},
   "outputs": [],
   "source": []
  }
 ],
 "metadata": {
  "kernelspec": {
   "display_name": "Python 3.10.10 64-bit",
   "language": "python",
   "name": "python3"
  },
  "language_info": {
   "codemirror_mode": {
    "name": "ipython",
    "version": 3
   },
   "file_extension": ".py",
   "mimetype": "text/x-python",
   "name": "python",
   "nbconvert_exporter": "python",
   "pygments_lexer": "ipython3",
   "version": "3.10.10"
  },
  "orig_nbformat": 4,
  "vscode": {
   "interpreter": {
    "hash": "aee8b7b246df8f9039afb4144a1f6fd8d2ca17a180786b69acc140d282b71a49"
   }
  }
 },
 "nbformat": 4,
 "nbformat_minor": 2
}

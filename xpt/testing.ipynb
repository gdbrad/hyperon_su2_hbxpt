{
 "metadata": {
  "language_info": {
   "codemirror_mode": {
    "name": "ipython",
    "version": 3
   },
   "file_extension": ".py",
   "mimetype": "text/x-python",
   "name": "python",
   "nbconvert_exporter": "python",
   "pygments_lexer": "ipython3",
   "version": "3.7.1-final"
  },
  "orig_nbformat": 2,
  "kernelspec": {
   "name": "python3",
   "display_name": "Python 3",
   "language": "python"
  }
 },
 "nbformat": 4,
 "nbformat_minor": 2,
 "cells": [
  {
   "cell_type": "code",
   "execution_count": 1,
   "metadata": {},
   "outputs": [],
   "source": [
    "import gvar as gv\n",
    "import numpy as np\n",
    "import scipy.special as ss\n",
    "import i_o \n",
    "\n",
    "# define lecs\n",
    "# leave input as lam_chi, not working as expected \n",
    "\n",
    "\n",
    "### non-analytic functions that arise in extrapolation formulae for hyperon masses\n",
    "\n"
   ]
  },
  {
   "cell_type": "code",
   "execution_count": 2,
   "metadata": {},
   "outputs": [
    {
     "output_type": "execute_result",
     "data": {
      "text/plain": [
       "<i_o.InputOutput at 0x7fbe7a4c7898>"
      ]
     },
     "metadata": {},
     "execution_count": 2
    }
   ],
   "source": [
    "i_o.InputOutput()"
   ]
  },
  {
   "cell_type": "code",
   "execution_count": null,
   "metadata": {},
   "outputs": [],
   "source": []
  },
  {
   "cell_type": "code",
   "execution_count": 16,
   "metadata": {},
   "outputs": [
    {
     "output_type": "stream",
     "name": "stdout",
     "text": [
      "{'a/w': 0(0), 'a': 0(0), 'alpha_s': 0(0), 'L': inf(0), 'hbarc': 197.327(0), 'lam_chi': 1157.0(7.2), 'm_pi': 134.80(30), 'm_k': 494.20(30), 'm_xi': 1318.28(11), 'm_xi_st': 1533.40(34)}\n494.20(30)\n215.11500000000024\n"
     ]
    }
   ],
   "source": [
    "LECs = i_o.InputOutput.get_data_phys_point('lam_chi')\n",
    "print(LECs)\n",
    "lam_chi = LECs['lam_chi']\n",
    "m_pi = LECs['m_pi']\n",
    "m_k = LECs['m_k']\n",
    "m_xi = LECs['m_xi']\n",
    "m_xi_st = LECs['m_xi_st']\n",
    "print(m_k)\n",
    "eps_pi = gv.mean(m_pi) / gv.mean(lam_chi) # set to zero in the chiral limit \n",
    "\n",
    "# for Xi system, delta is mass splitting between Xi* and Xi\n",
    "delta = gv.mean(m_xi_st) - gv.mean(m_xi)\n",
    "print(delta)\n",
    "\n",
    "#eps_pi = gv.mean(m_pi) / gv.mean(lam_chi) # set to zero in the chiral limit \n",
    "eps_delta = delta / gv.mean(lam_chi)"
   ]
  },
  {
   "cell_type": "code",
   "execution_count": 38,
   "metadata": {},
   "outputs": [],
   "source": [
    "def fcn_R(g):\n",
    "    if isinstance(g, gv._gvarcore.GVar):\n",
    "        x = gv.mean(g)\n",
    "        #print(x)\n",
    "\n",
    "        if (x>0 and x<=1):\n",
    "        #a = np.sqrt(1-x)\n",
    "            R = np.sqrt(1-x) * np.log((1-np.sqrt(1-x))/(1+np.sqrt(1-x)))\n",
    "        elif x>1:\n",
    "        #b = np.sqrt(x-1)\n",
    "            R = 2*np.sqrt(x-1)*np.arctan(np.sqrt(x-1))\n",
    "    #not gvar\n",
    "    else:\n",
    "        if (g>0 and g<=1):\n",
    "        #a = np.sqrt(1-x)\n",
    "            R = np.sqrt(1-g) * np.log((1-np.sqrt(1-g))/(1+np.sqrt(1-g)))\n",
    "        elif x>1:\n",
    "        #b = np.sqrt(x-1)\n",
    "            R = 2*np.sqrt(g-1)*np.arctan(np.sqrt(g-1))\n",
    "\n",
    "\n",
    "    return R"
   ]
  },
  {
   "cell_type": "code",
   "execution_count": 39,
   "metadata": {},
   "outputs": [
    {
     "output_type": "execute_result",
     "data": {
      "text/plain": [
       "104.81406793263444"
      ]
     },
     "metadata": {},
     "execution_count": 39
    }
   ],
   "source": [
    "fcn_R(lam_chi)"
   ]
  },
  {
   "cell_type": "code",
   "execution_count": 40,
   "metadata": {},
   "outputs": [
    {
     "output_type": "execute_result",
     "data": {
      "text/plain": [
       "-1.6265784422162188"
      ]
     },
     "metadata": {},
     "execution_count": 40
    }
   ],
   "source": [
    "eps_pi_delta = eps_pi**2 / eps_delta**2\n",
    "fcn_R(eps_pi_delta)\n"
   ]
  },
  {
   "cell_type": "code",
   "execution_count": 41,
   "metadata": {},
   "outputs": [],
   "source": [
    "def fcn_F(eps_pi, eps_delta, mu):\n",
    "\n",
    "    output = -1*eps_delta*(eps_delta**2 - eps_pi**2) * fcn_R(eps_pi**2 / eps_delta**2)\n",
    "    output = output - ((3/2) * eps_pi**2 * eps_delta * np.log(eps_pi**2 * (lam_chi**2)/(mu**2)))\n",
    "    output = output - (eps_delta**3 * np.log((4*eps_delta**2) / (eps_pi**2)))\n",
    "    \n",
    "    return output"
   ]
  },
  {
   "cell_type": "code",
   "execution_count": 42,
   "metadata": {},
   "outputs": [
    {
     "output_type": "execute_result",
     "data": {
      "text/plain": [
       "-0.045698(47)"
      ]
     },
     "metadata": {},
     "execution_count": 42
    }
   ],
   "source": [
    "fcn_F(eps_pi,eps_delta,mu=1)"
   ]
  },
  {
   "cell_type": "code",
   "execution_count": 43,
   "metadata": {},
   "outputs": [],
   "source": [
    "def fcn_J(eps_pi, eps_delta, mu):\n",
    "    out = eps_pi**2 * np.log(eps_pi**2 * (lam_chi**2)/(mu**2))\n",
    "    out = out +  2*eps_delta**2 * np.log((4*eps_delta**2)/ eps_pi**2)\n",
    "    out = out +  2*eps_delta**2 * fcn_R(eps_pi**2/eps_delta**2)\n",
    "\n",
    "    return out"
   ]
  },
  {
   "cell_type": "code",
   "execution_count": 45,
   "metadata": {},
   "outputs": [
    {
     "output_type": "execute_result",
     "data": {
      "text/plain": [
       "0.18115(17)"
      ]
     },
     "metadata": {},
     "execution_count": 45
    }
   ],
   "source": [
    "fcn_J(eps_pi,eps_delta,mu=1)"
   ]
  },
  {
   "cell_type": "code",
   "execution_count": null,
   "metadata": {},
   "outputs": [],
   "source": [
    "def fitfcn_lo_ct(self, p, xi, latt_spacing=None):\n",
    "\n",
    "        if latt_spacing == 'a06':\n",
    "            output = p['c0a06']\n",
    "        elif latt_spacing == 'a09':\n",
    "            output= p['c0a09']\n",
    "        elif latt_spacing == 'a12':\n",
    "            output = p['c0a12']\n",
    "        elif latt_spacing == 'a15':\n",
    "            output = p['c0a15']\n",
    "\n",
    "        else:\n",
    "            output = m_xi['l'] *xi['s'] *0 # returns correct shape\n",
    "            for j, ens in enumerate(self.ens_mapping):\n",
    "                if ens[:3] == 'a06':\n",
    "                    output[j] = p['c0a06']\n",
    "                elif ens[:3] == 'a09':\n",
    "                    output[j] = p['c0a09']\n",
    "                elif ens[:3] == 'a12':\n",
    "                    output[j] = p['c0a12']\n",
    "                elif ens[:3] == 'a15':\n",
    "                    output[j] = p['c0a15']\n",
    "                else:\n",
    "                    output[j] = 0\n",
    "\n",
    "        return output"
   ]
  },
  {
   "cell_type": "code",
   "execution_count": null,
   "metadata": {},
   "outputs": [],
   "source": []
  }
 ]
}